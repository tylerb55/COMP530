{
  "nbformat": 4,
  "nbformat_minor": 0,
  "metadata": {
    "colab": {
      "name": "ChinaCNN.ipynb",
      "provenance": [],
      "authorship_tag": "ABX9TyM6wLPbdllliLMQYm9FTs0x",
      "include_colab_link": true
    },
    "kernelspec": {
      "name": "python3",
      "display_name": "Python 3"
    },
    "language_info": {
      "name": "python"
    }
  },
  "cells": [
    {
      "cell_type": "markdown",
      "metadata": {
        "id": "view-in-github",
        "colab_type": "text"
      },
      "source": [
        "<a href=\"https://colab.research.google.com/github/tylerb55/COMP530/blob/main/ChinaCNN.ipynb\" target=\"_parent\"><img src=\"https://colab.research.google.com/assets/colab-badge.svg\" alt=\"Open In Colab\"/></a>"
      ]
    },
    {
      "cell_type": "code",
      "execution_count": 1,
      "metadata": {
        "colab": {
          "base_uri": "https://localhost:8080/"
        },
        "id": "EadIEr3-Ng-x",
        "outputId": "e74d9f53-3b9e-4945-d5f5-d3d5010e5f35"
      },
      "outputs": [
        {
          "output_type": "stream",
          "name": "stdout",
          "text": [
            "Collecting pydicom\n",
            "  Downloading pydicom-2.2.2-py3-none-any.whl (2.0 MB)\n",
            "\u001b[K     |████████████████████████████████| 2.0 MB 7.3 MB/s \n",
            "\u001b[?25hInstalling collected packages: pydicom\n",
            "Successfully installed pydicom-2.2.2\n"
          ]
        }
      ],
      "source": [
        "!pip install pydicom"
      ]
    },
    {
      "cell_type": "code",
      "source": [
        "! git clone https://github.com/tylerb55/COMP530.git"
      ],
      "metadata": {
        "id": "s7olv-ZwOnvh",
        "colab": {
          "base_uri": "https://localhost:8080/"
        },
        "outputId": "4e3eb4b0-9af6-47cb-88f4-0733d37f9916"
      },
      "execution_count": 2,
      "outputs": [
        {
          "output_type": "stream",
          "name": "stdout",
          "text": [
            "Cloning into 'COMP530'...\n",
            "remote: Enumerating objects: 1230, done.\u001b[K\n",
            "remote: Counting objects: 100% (304/304), done.\u001b[K\n",
            "remote: Compressing objects: 100% (301/301), done.\u001b[K\n",
            "remote: Total 1230 (delta 20), reused 0 (delta 0), pack-reused 926\u001b[K\n",
            "Receiving objects: 100% (1230/1230), 159.90 MiB | 19.80 MiB/s, done.\n",
            "Resolving deltas: 100% (32/32), done.\n",
            "Checking out files: 100% (1157/1157), done.\n"
          ]
        }
      ]
    },
    {
      "cell_type": "code",
      "source": [
        "import pydicom as dicom\n",
        "import matplotlib.pylab as plt\n",
        "import cv2\n",
        "import os "
      ],
      "metadata": {
        "id": "IWAH2YcgN-hh"
      },
      "execution_count": 3,
      "outputs": []
    },
    {
      "cell_type": "code",
      "source": [
        "def DCMtoJPG(folder_path):\n",
        "  images_path = os.listdir(folder_path)\n",
        "  for n, image in enumerate(images_path):\n",
        "    if('.dcm' in image or '.DCM' in image):\n",
        "        file_path=os.path.join(folder_path, image)\n",
        "        ds = dicom.dcmread(file_path)\n",
        "        pixel_array = ds.pixel_array\n",
        "        os.remove(file_path)\n",
        "        image = image.replace('DCM', 'png')\n",
        "        image = image.replace('dcm', 'png')\n",
        "        cv2.imwrite(os.path.join(folder_path, image), pixel_array)"
      ],
      "metadata": {
        "id": "rou8gd8fPtFO"
      },
      "execution_count": 4,
      "outputs": []
    },
    {
      "cell_type": "code",
      "source": [
        "DCMtoJPG(\"COMP530/dataset2\")\n"
      ],
      "metadata": {
        "id": "leG_H-noSq_l"
      },
      "execution_count": 5,
      "outputs": []
    }
  ]
}