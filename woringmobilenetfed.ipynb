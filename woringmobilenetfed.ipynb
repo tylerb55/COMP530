{
  "nbformat": 4,
  "nbformat_minor": 0,
  "metadata": {
    "colab": {
      "name": "AlexNetFed.ipynb",
      "provenance": [],
      "machine_shape": "hm",
      "authorship_tag": "ABX9TyOJBytxomM5VDkLlGLwsVde",
      "include_colab_link": true
    },
    "kernelspec": {
      "name": "python3",
      "display_name": "Python 3"
    },
    "language_info": {
      "name": "python"
    },
    "accelerator": "GPU"
  },
  "cells": [
    {
      "cell_type": "markdown",
      "metadata": {
        "id": "view-in-github",
        "colab_type": "text"
      },
      "source": [
        "<a href=\"https://colab.research.google.com/github/tylerb55/COMP530/blob/main/woringmobilenetfed.ipynb\" target=\"_parent\"><img src=\"https://colab.research.google.com/assets/colab-badge.svg\" alt=\"Open In Colab\"/></a>"
      ]
    },
    {
      "cell_type": "code",
      "execution_count": 2,
      "metadata": {
        "id": "I5A99dQenC2b",
        "outputId": "ae6bae34-2056-4760-bfb1-24e5bef36e81",
        "colab": {
          "base_uri": "https://localhost:8080/"
        }
      },
      "outputs": [
        {
          "output_type": "stream",
          "name": "stdout",
          "text": [
            "Cloning into 'COMP530'...\n",
            "remote: Enumerating objects: 4250, done.\u001b[K\n",
            "remote: Counting objects: 100% (34/34), done.\u001b[K\n",
            "remote: Compressing objects: 100% (34/34), done.\u001b[K\n",
            "remote: Total 4250 (delta 16), reused 0 (delta 0), pack-reused 4216\u001b[K\n",
            "Receiving objects: 100% (4250/4250), 917.09 MiB | 30.44 MiB/s, done.\n",
            "Resolving deltas: 100% (97/97), done.\n"
          ]
        }
      ],
      "source": [
        "! git clone https://github.com/tylerb55/COMP530.git"
      ]
    },
    {
      "cell_type": "code",
      "source": [
        "! pip install --upgrade tensorflow-federated==0.20.0"
      ],
      "metadata": {
        "id": "JnNlX8v9nJsX",
        "colab": {
          "base_uri": "https://localhost:8080/",
          "height": 1000
        },
        "outputId": "590a705c-0ca0-47c3-9fd3-f8044fc1712f"
      },
      "execution_count": 3,
      "outputs": [
        {
          "output_type": "stream",
          "name": "stdout",
          "text": [
            "Collecting tensorflow-federated==0.20.0\n",
            "  Downloading tensorflow_federated-0.20.0-py2.py3-none-any.whl (819 kB)\n",
            "\u001b[?25l\r\u001b[K     |▍                               | 10 kB 30.6 MB/s eta 0:00:01\r\u001b[K     |▉                               | 20 kB 19.1 MB/s eta 0:00:01\r\u001b[K     |█▏                              | 30 kB 14.1 MB/s eta 0:00:01\r\u001b[K     |█▋                              | 40 kB 13.1 MB/s eta 0:00:01\r\u001b[K     |██                              | 51 kB 6.4 MB/s eta 0:00:01\r\u001b[K     |██▍                             | 61 kB 7.6 MB/s eta 0:00:01\r\u001b[K     |██▉                             | 71 kB 8.0 MB/s eta 0:00:01\r\u001b[K     |███▏                            | 81 kB 7.7 MB/s eta 0:00:01\r\u001b[K     |███▋                            | 92 kB 8.6 MB/s eta 0:00:01\r\u001b[K     |████                            | 102 kB 7.0 MB/s eta 0:00:01\r\u001b[K     |████▍                           | 112 kB 7.0 MB/s eta 0:00:01\r\u001b[K     |████▉                           | 122 kB 7.0 MB/s eta 0:00:01\r\u001b[K     |█████▏                          | 133 kB 7.0 MB/s eta 0:00:01\r\u001b[K     |█████▋                          | 143 kB 7.0 MB/s eta 0:00:01\r\u001b[K     |██████                          | 153 kB 7.0 MB/s eta 0:00:01\r\u001b[K     |██████▍                         | 163 kB 7.0 MB/s eta 0:00:01\r\u001b[K     |██████▉                         | 174 kB 7.0 MB/s eta 0:00:01\r\u001b[K     |███████▏                        | 184 kB 7.0 MB/s eta 0:00:01\r\u001b[K     |███████▋                        | 194 kB 7.0 MB/s eta 0:00:01\r\u001b[K     |████████                        | 204 kB 7.0 MB/s eta 0:00:01\r\u001b[K     |████████▍                       | 215 kB 7.0 MB/s eta 0:00:01\r\u001b[K     |████████▉                       | 225 kB 7.0 MB/s eta 0:00:01\r\u001b[K     |█████████▏                      | 235 kB 7.0 MB/s eta 0:00:01\r\u001b[K     |█████████▋                      | 245 kB 7.0 MB/s eta 0:00:01\r\u001b[K     |██████████                      | 256 kB 7.0 MB/s eta 0:00:01\r\u001b[K     |██████████▍                     | 266 kB 7.0 MB/s eta 0:00:01\r\u001b[K     |██████████▉                     | 276 kB 7.0 MB/s eta 0:00:01\r\u001b[K     |███████████▏                    | 286 kB 7.0 MB/s eta 0:00:01\r\u001b[K     |███████████▋                    | 296 kB 7.0 MB/s eta 0:00:01\r\u001b[K     |████████████                    | 307 kB 7.0 MB/s eta 0:00:01\r\u001b[K     |████████████▍                   | 317 kB 7.0 MB/s eta 0:00:01\r\u001b[K     |████████████▉                   | 327 kB 7.0 MB/s eta 0:00:01\r\u001b[K     |█████████████▏                  | 337 kB 7.0 MB/s eta 0:00:01\r\u001b[K     |█████████████▋                  | 348 kB 7.0 MB/s eta 0:00:01\r\u001b[K     |██████████████                  | 358 kB 7.0 MB/s eta 0:00:01\r\u001b[K     |██████████████▍                 | 368 kB 7.0 MB/s eta 0:00:01\r\u001b[K     |██████████████▉                 | 378 kB 7.0 MB/s eta 0:00:01\r\u001b[K     |███████████████▏                | 389 kB 7.0 MB/s eta 0:00:01\r\u001b[K     |███████████████▋                | 399 kB 7.0 MB/s eta 0:00:01\r\u001b[K     |████████████████                | 409 kB 7.0 MB/s eta 0:00:01\r\u001b[K     |████████████████▍               | 419 kB 7.0 MB/s eta 0:00:01\r\u001b[K     |████████████████▉               | 430 kB 7.0 MB/s eta 0:00:01\r\u001b[K     |█████████████████▏              | 440 kB 7.0 MB/s eta 0:00:01\r\u001b[K     |█████████████████▋              | 450 kB 7.0 MB/s eta 0:00:01\r\u001b[K     |██████████████████              | 460 kB 7.0 MB/s eta 0:00:01\r\u001b[K     |██████████████████▍             | 471 kB 7.0 MB/s eta 0:00:01\r\u001b[K     |██████████████████▉             | 481 kB 7.0 MB/s eta 0:00:01\r\u001b[K     |███████████████████▏            | 491 kB 7.0 MB/s eta 0:00:01\r\u001b[K     |███████████████████▋            | 501 kB 7.0 MB/s eta 0:00:01\r\u001b[K     |████████████████████            | 512 kB 7.0 MB/s eta 0:00:01\r\u001b[K     |████████████████████▍           | 522 kB 7.0 MB/s eta 0:00:01\r\u001b[K     |████████████████████▉           | 532 kB 7.0 MB/s eta 0:00:01\r\u001b[K     |█████████████████████▏          | 542 kB 7.0 MB/s eta 0:00:01\r\u001b[K     |█████████████████████▋          | 552 kB 7.0 MB/s eta 0:00:01\r\u001b[K     |██████████████████████          | 563 kB 7.0 MB/s eta 0:00:01\r\u001b[K     |██████████████████████▍         | 573 kB 7.0 MB/s eta 0:00:01\r\u001b[K     |██████████████████████▉         | 583 kB 7.0 MB/s eta 0:00:01\r\u001b[K     |███████████████████████▏        | 593 kB 7.0 MB/s eta 0:00:01\r\u001b[K     |███████████████████████▋        | 604 kB 7.0 MB/s eta 0:00:01\r\u001b[K     |████████████████████████        | 614 kB 7.0 MB/s eta 0:00:01\r\u001b[K     |████████████████████████▍       | 624 kB 7.0 MB/s eta 0:00:01\r\u001b[K     |████████████████████████▉       | 634 kB 7.0 MB/s eta 0:00:01\r\u001b[K     |█████████████████████████▏      | 645 kB 7.0 MB/s eta 0:00:01\r\u001b[K     |█████████████████████████▋      | 655 kB 7.0 MB/s eta 0:00:01\r\u001b[K     |██████████████████████████      | 665 kB 7.0 MB/s eta 0:00:01\r\u001b[K     |██████████████████████████▍     | 675 kB 7.0 MB/s eta 0:00:01\r\u001b[K     |██████████████████████████▊     | 686 kB 7.0 MB/s eta 0:00:01\r\u001b[K     |███████████████████████████▏    | 696 kB 7.0 MB/s eta 0:00:01\r\u001b[K     |███████████████████████████▋    | 706 kB 7.0 MB/s eta 0:00:01\r\u001b[K     |████████████████████████████    | 716 kB 7.0 MB/s eta 0:00:01\r\u001b[K     |████████████████████████████▍   | 727 kB 7.0 MB/s eta 0:00:01\r\u001b[K     |████████████████████████████▊   | 737 kB 7.0 MB/s eta 0:00:01\r\u001b[K     |█████████████████████████████▏  | 747 kB 7.0 MB/s eta 0:00:01\r\u001b[K     |█████████████████████████████▋  | 757 kB 7.0 MB/s eta 0:00:01\r\u001b[K     |██████████████████████████████  | 768 kB 7.0 MB/s eta 0:00:01\r\u001b[K     |██████████████████████████████▍ | 778 kB 7.0 MB/s eta 0:00:01\r\u001b[K     |██████████████████████████████▊ | 788 kB 7.0 MB/s eta 0:00:01\r\u001b[K     |███████████████████████████████▏| 798 kB 7.0 MB/s eta 0:00:01\r\u001b[K     |███████████████████████████████▋| 808 kB 7.0 MB/s eta 0:00:01\r\u001b[K     |████████████████████████████████| 819 kB 7.0 MB/s eta 0:00:01\r\u001b[K     |████████████████████████████████| 819 kB 7.0 MB/s \n",
            "\u001b[?25hCollecting cachetools~=3.1.1\n",
            "  Downloading cachetools-3.1.1-py2.py3-none-any.whl (11 kB)\n",
            "Requirement already satisfied: tensorflow~=2.8.0 in /usr/local/lib/python3.7/dist-packages (from tensorflow-federated==0.20.0) (2.8.0)\n",
            "Collecting grpcio~=1.34.0\n",
            "  Downloading grpcio-1.34.1-cp37-cp37m-manylinux2014_x86_64.whl (4.0 MB)\n",
            "\u001b[K     |████████████████████████████████| 4.0 MB 96.6 MB/s \n",
            "\u001b[?25hCollecting jax~=0.2.27\n",
            "  Downloading jax-0.2.28.tar.gz (887 kB)\n",
            "\u001b[K     |████████████████████████████████| 887 kB 65.2 MB/s \n",
            "\u001b[?25hRequirement already satisfied: dm-tree~=0.1.1 in /usr/local/lib/python3.7/dist-packages (from tensorflow-federated==0.20.0) (0.1.7)\n",
            "Requirement already satisfied: numpy~=1.21.4 in /usr/local/lib/python3.7/dist-packages (from tensorflow-federated==0.20.0) (1.21.6)\n",
            "Requirement already satisfied: absl-py~=1.0.0 in /usr/local/lib/python3.7/dist-packages (from tensorflow-federated==0.20.0) (1.0.0)\n",
            "Requirement already satisfied: portpicker~=1.3.1 in /usr/local/lib/python3.7/dist-packages (from tensorflow-federated==0.20.0) (1.3.9)\n",
            "Collecting attrs~=21.2.0\n",
            "  Downloading attrs-21.2.0-py2.py3-none-any.whl (53 kB)\n",
            "\u001b[K     |████████████████████████████████| 53 kB 2.8 MB/s \n",
            "\u001b[?25hCollecting jaxlib~=0.1.76\n",
            "  Downloading jaxlib-0.1.76-cp37-none-manylinux2010_x86_64.whl (65.1 MB)\n",
            "\u001b[K     |████████████████████████████████| 65.1 MB 151 kB/s \n",
            "\u001b[?25hCollecting tensorflow-model-optimization~=0.7.1\n",
            "  Downloading tensorflow_model_optimization-0.7.2-py2.py3-none-any.whl (237 kB)\n",
            "\u001b[K     |████████████████████████████████| 237 kB 79.0 MB/s \n",
            "\u001b[?25hCollecting tqdm~=4.28.1\n",
            "  Downloading tqdm-4.28.1-py2.py3-none-any.whl (45 kB)\n",
            "\u001b[K     |████████████████████████████████| 45 kB 4.7 MB/s \n",
            "\u001b[?25hCollecting farmhashpy~=0.4.0\n",
            "  Downloading farmhashpy-0.4.0-cp37-cp37m-manylinux2010_x86_64.whl (121 kB)\n",
            "\u001b[K     |████████████████████████████████| 121 kB 95.2 MB/s \n",
            "\u001b[?25hCollecting tensorflow-privacy~=0.7.3\n",
            "  Downloading tensorflow_privacy-0.7.3-py3-none-any.whl (251 kB)\n",
            "\u001b[K     |████████████████████████████████| 251 kB 105.4 MB/s \n",
            "\u001b[?25hCollecting semantic-version~=2.8.5\n",
            "  Downloading semantic_version-2.8.5-py2.py3-none-any.whl (15 kB)\n",
            "Requirement already satisfied: six in /usr/local/lib/python3.7/dist-packages (from absl-py~=1.0.0->tensorflow-federated==0.20.0) (1.15.0)\n",
            "Requirement already satisfied: opt_einsum in /usr/local/lib/python3.7/dist-packages (from jax~=0.2.27->tensorflow-federated==0.20.0) (3.3.0)\n",
            "Requirement already satisfied: scipy>=1.2.1 in /usr/local/lib/python3.7/dist-packages (from jax~=0.2.27->tensorflow-federated==0.20.0) (1.4.1)\n",
            "Requirement already satisfied: typing_extensions in /usr/local/lib/python3.7/dist-packages (from jax~=0.2.27->tensorflow-federated==0.20.0) (4.1.1)\n",
            "Requirement already satisfied: flatbuffers<3.0,>=1.12 in /usr/local/lib/python3.7/dist-packages (from jaxlib~=0.1.76->tensorflow-federated==0.20.0) (2.0)\n",
            "Requirement already satisfied: gast>=0.2.1 in /usr/local/lib/python3.7/dist-packages (from tensorflow~=2.8.0->tensorflow-federated==0.20.0) (0.5.3)\n",
            "Requirement already satisfied: astunparse>=1.6.0 in /usr/local/lib/python3.7/dist-packages (from tensorflow~=2.8.0->tensorflow-federated==0.20.0) (1.6.3)\n",
            "Requirement already satisfied: h5py>=2.9.0 in /usr/local/lib/python3.7/dist-packages (from tensorflow~=2.8.0->tensorflow-federated==0.20.0) (3.1.0)\n",
            "Requirement already satisfied: keras-preprocessing>=1.1.1 in /usr/local/lib/python3.7/dist-packages (from tensorflow~=2.8.0->tensorflow-federated==0.20.0) (1.1.2)\n",
            "Requirement already satisfied: protobuf>=3.9.2 in /usr/local/lib/python3.7/dist-packages (from tensorflow~=2.8.0->tensorflow-federated==0.20.0) (3.17.3)\n",
            "Requirement already satisfied: tensorflow-io-gcs-filesystem>=0.23.1 in /usr/local/lib/python3.7/dist-packages (from tensorflow~=2.8.0->tensorflow-federated==0.20.0) (0.24.0)\n",
            "Requirement already satisfied: google-pasta>=0.1.1 in /usr/local/lib/python3.7/dist-packages (from tensorflow~=2.8.0->tensorflow-federated==0.20.0) (0.2.0)\n",
            "Requirement already satisfied: keras<2.9,>=2.8.0rc0 in /usr/local/lib/python3.7/dist-packages (from tensorflow~=2.8.0->tensorflow-federated==0.20.0) (2.8.0)\n",
            "Requirement already satisfied: wrapt>=1.11.0 in /usr/local/lib/python3.7/dist-packages (from tensorflow~=2.8.0->tensorflow-federated==0.20.0) (1.14.0)\n",
            "Collecting tf-estimator-nightly==2.8.0.dev2021122109\n",
            "  Downloading tf_estimator_nightly-2.8.0.dev2021122109-py2.py3-none-any.whl (462 kB)\n",
            "\u001b[K     |████████████████████████████████| 462 kB 82.9 MB/s \n",
            "\u001b[?25hRequirement already satisfied: tensorboard<2.9,>=2.8 in /usr/local/lib/python3.7/dist-packages (from tensorflow~=2.8.0->tensorflow-federated==0.20.0) (2.8.0)\n",
            "Requirement already satisfied: termcolor>=1.1.0 in /usr/local/lib/python3.7/dist-packages (from tensorflow~=2.8.0->tensorflow-federated==0.20.0) (1.1.0)\n",
            "Requirement already satisfied: libclang>=9.0.1 in /usr/local/lib/python3.7/dist-packages (from tensorflow~=2.8.0->tensorflow-federated==0.20.0) (13.0.0)\n",
            "Requirement already satisfied: setuptools in /usr/local/lib/python3.7/dist-packages (from tensorflow~=2.8.0->tensorflow-federated==0.20.0) (57.4.0)\n",
            "Requirement already satisfied: wheel<1.0,>=0.23.0 in /usr/local/lib/python3.7/dist-packages (from astunparse>=1.6.0->tensorflow~=2.8.0->tensorflow-federated==0.20.0) (0.37.1)\n",
            "Requirement already satisfied: cached-property in /usr/local/lib/python3.7/dist-packages (from h5py>=2.9.0->tensorflow~=2.8.0->tensorflow-federated==0.20.0) (1.5.2)\n",
            "Requirement already satisfied: google-auth-oauthlib<0.5,>=0.4.1 in /usr/local/lib/python3.7/dist-packages (from tensorboard<2.9,>=2.8->tensorflow~=2.8.0->tensorflow-federated==0.20.0) (0.4.6)\n",
            "Requirement already satisfied: google-auth<3,>=1.6.3 in /usr/local/lib/python3.7/dist-packages (from tensorboard<2.9,>=2.8->tensorflow~=2.8.0->tensorflow-federated==0.20.0) (1.35.0)\n",
            "Requirement already satisfied: requests<3,>=2.21.0 in /usr/local/lib/python3.7/dist-packages (from tensorboard<2.9,>=2.8->tensorflow~=2.8.0->tensorflow-federated==0.20.0) (2.23.0)\n",
            "Requirement already satisfied: tensorboard-data-server<0.7.0,>=0.6.0 in /usr/local/lib/python3.7/dist-packages (from tensorboard<2.9,>=2.8->tensorflow~=2.8.0->tensorflow-federated==0.20.0) (0.6.1)\n",
            "Requirement already satisfied: markdown>=2.6.8 in /usr/local/lib/python3.7/dist-packages (from tensorboard<2.9,>=2.8->tensorflow~=2.8.0->tensorflow-federated==0.20.0) (3.3.6)\n",
            "Requirement already satisfied: werkzeug>=0.11.15 in /usr/local/lib/python3.7/dist-packages (from tensorboard<2.9,>=2.8->tensorflow~=2.8.0->tensorflow-federated==0.20.0) (1.0.1)\n",
            "Requirement already satisfied: tensorboard-plugin-wit>=1.6.0 in /usr/local/lib/python3.7/dist-packages (from tensorboard<2.9,>=2.8->tensorflow~=2.8.0->tensorflow-federated==0.20.0) (1.8.1)\n",
            "Requirement already satisfied: rsa<5,>=3.1.4 in /usr/local/lib/python3.7/dist-packages (from google-auth<3,>=1.6.3->tensorboard<2.9,>=2.8->tensorflow~=2.8.0->tensorflow-federated==0.20.0) (4.8)\n",
            "Requirement already satisfied: pyasn1-modules>=0.2.1 in /usr/local/lib/python3.7/dist-packages (from google-auth<3,>=1.6.3->tensorboard<2.9,>=2.8->tensorflow~=2.8.0->tensorflow-federated==0.20.0) (0.2.8)\n",
            "Requirement already satisfied: requests-oauthlib>=0.7.0 in /usr/local/lib/python3.7/dist-packages (from google-auth-oauthlib<0.5,>=0.4.1->tensorboard<2.9,>=2.8->tensorflow~=2.8.0->tensorflow-federated==0.20.0) (1.3.1)\n",
            "Requirement already satisfied: importlib-metadata>=4.4 in /usr/local/lib/python3.7/dist-packages (from markdown>=2.6.8->tensorboard<2.9,>=2.8->tensorflow~=2.8.0->tensorflow-federated==0.20.0) (4.11.3)\n",
            "Requirement already satisfied: zipp>=0.5 in /usr/local/lib/python3.7/dist-packages (from importlib-metadata>=4.4->markdown>=2.6.8->tensorboard<2.9,>=2.8->tensorflow~=2.8.0->tensorflow-federated==0.20.0) (3.8.0)\n",
            "Requirement already satisfied: pyasn1<0.5.0,>=0.4.6 in /usr/local/lib/python3.7/dist-packages (from pyasn1-modules>=0.2.1->google-auth<3,>=1.6.3->tensorboard<2.9,>=2.8->tensorflow~=2.8.0->tensorflow-federated==0.20.0) (0.4.8)\n",
            "Requirement already satisfied: chardet<4,>=3.0.2 in /usr/local/lib/python3.7/dist-packages (from requests<3,>=2.21.0->tensorboard<2.9,>=2.8->tensorflow~=2.8.0->tensorflow-federated==0.20.0) (3.0.4)\n",
            "Requirement already satisfied: certifi>=2017.4.17 in /usr/local/lib/python3.7/dist-packages (from requests<3,>=2.21.0->tensorboard<2.9,>=2.8->tensorflow~=2.8.0->tensorflow-federated==0.20.0) (2021.10.8)\n",
            "Requirement already satisfied: urllib3!=1.25.0,!=1.25.1,<1.26,>=1.21.1 in /usr/local/lib/python3.7/dist-packages (from requests<3,>=2.21.0->tensorboard<2.9,>=2.8->tensorflow~=2.8.0->tensorflow-federated==0.20.0) (1.24.3)\n",
            "Requirement already satisfied: idna<3,>=2.5 in /usr/local/lib/python3.7/dist-packages (from requests<3,>=2.21.0->tensorboard<2.9,>=2.8->tensorflow~=2.8.0->tensorflow-federated==0.20.0) (2.10)\n",
            "Requirement already satisfied: oauthlib>=3.0.0 in /usr/local/lib/python3.7/dist-packages (from requests-oauthlib>=0.7.0->google-auth-oauthlib<0.5,>=0.4.1->tensorboard<2.9,>=2.8->tensorflow~=2.8.0->tensorflow-federated==0.20.0) (3.2.0)\n",
            "Requirement already satisfied: tensorflow-probability>=0.13.0 in /usr/local/lib/python3.7/dist-packages (from tensorflow-privacy~=0.7.3->tensorflow-federated==0.20.0) (0.16.0)\n",
            "Collecting tensorflow-datasets>=4.4.0\n",
            "  Downloading tensorflow_datasets-4.5.2-py3-none-any.whl (4.2 MB)\n",
            "\u001b[K     |████████████████████████████████| 4.2 MB 61.0 MB/s \n",
            "\u001b[?25hRequirement already satisfied: mpmath in /usr/local/lib/python3.7/dist-packages (from tensorflow-privacy~=0.7.3->tensorflow-federated==0.20.0) (1.2.1)\n",
            "Requirement already satisfied: tensorflow-estimator>=2.3.0 in /usr/local/lib/python3.7/dist-packages (from tensorflow-privacy~=0.7.3->tensorflow-federated==0.20.0) (2.8.0)\n",
            "Requirement already satisfied: dill in /usr/local/lib/python3.7/dist-packages (from tensorflow-datasets>=4.4.0->tensorflow-privacy~=0.7.3->tensorflow-federated==0.20.0) (0.3.4)\n",
            "Requirement already satisfied: importlib-resources in /usr/local/lib/python3.7/dist-packages (from tensorflow-datasets>=4.4.0->tensorflow-privacy~=0.7.3->tensorflow-federated==0.20.0) (5.7.0)\n",
            "Requirement already satisfied: promise in /usr/local/lib/python3.7/dist-packages (from tensorflow-datasets>=4.4.0->tensorflow-privacy~=0.7.3->tensorflow-federated==0.20.0) (2.3)\n",
            "Requirement already satisfied: tensorflow-metadata in /usr/local/lib/python3.7/dist-packages (from tensorflow-datasets>=4.4.0->tensorflow-privacy~=0.7.3->tensorflow-federated==0.20.0) (1.7.0)\n",
            "Requirement already satisfied: decorator in /usr/local/lib/python3.7/dist-packages (from tensorflow-probability>=0.13.0->tensorflow-privacy~=0.7.3->tensorflow-federated==0.20.0) (4.4.2)\n",
            "Requirement already satisfied: cloudpickle>=1.3 in /usr/local/lib/python3.7/dist-packages (from tensorflow-probability>=0.13.0->tensorflow-privacy~=0.7.3->tensorflow-federated==0.20.0) (1.3.0)\n",
            "Requirement already satisfied: googleapis-common-protos<2,>=1.52.0 in /usr/local/lib/python3.7/dist-packages (from tensorflow-metadata->tensorflow-datasets>=4.4.0->tensorflow-privacy~=0.7.3->tensorflow-federated==0.20.0) (1.56.0)\n",
            "Building wheels for collected packages: jax\n",
            "  Building wheel for jax (setup.py) ... \u001b[?25l\u001b[?25hdone\n",
            "  Created wheel for jax: filename=jax-0.2.28-py3-none-any.whl size=1028669 sha256=f4ac62269b8461bdfaad5ad0fbebdb73e165ee33a4c4f5a1196500bf5ea8d664\n",
            "  Stored in directory: /root/.cache/pip/wheels/e2/60/4c/0cf931b766116b73950d9b6fca5813a45789d45d412a8d7272\n",
            "Successfully built jax\n",
            "Installing collected packages: cachetools, tqdm, grpcio, tf-estimator-nightly, tensorflow-datasets, attrs, tensorflow-privacy, tensorflow-model-optimization, semantic-version, jaxlib, jax, farmhashpy, tensorflow-federated\n",
            "  Attempting uninstall: cachetools\n",
            "    Found existing installation: cachetools 4.2.4\n",
            "    Uninstalling cachetools-4.2.4:\n",
            "      Successfully uninstalled cachetools-4.2.4\n",
            "  Attempting uninstall: tqdm\n",
            "    Found existing installation: tqdm 4.64.0\n",
            "    Uninstalling tqdm-4.64.0:\n",
            "      Successfully uninstalled tqdm-4.64.0\n",
            "  Attempting uninstall: grpcio\n",
            "    Found existing installation: grpcio 1.44.0\n",
            "    Uninstalling grpcio-1.44.0:\n",
            "      Successfully uninstalled grpcio-1.44.0\n",
            "  Attempting uninstall: tensorflow-datasets\n",
            "    Found existing installation: tensorflow-datasets 4.0.1\n",
            "    Uninstalling tensorflow-datasets-4.0.1:\n",
            "      Successfully uninstalled tensorflow-datasets-4.0.1\n",
            "  Attempting uninstall: attrs\n",
            "    Found existing installation: attrs 21.4.0\n",
            "    Uninstalling attrs-21.4.0:\n",
            "      Successfully uninstalled attrs-21.4.0\n",
            "  Attempting uninstall: jaxlib\n",
            "    Found existing installation: jaxlib 0.3.2+cuda11.cudnn805\n",
            "    Uninstalling jaxlib-0.3.2+cuda11.cudnn805:\n",
            "      Successfully uninstalled jaxlib-0.3.2+cuda11.cudnn805\n",
            "  Attempting uninstall: jax\n",
            "    Found existing installation: jax 0.3.4\n",
            "    Uninstalling jax-0.3.4:\n",
            "      Successfully uninstalled jax-0.3.4\n",
            "\u001b[31mERROR: pip's dependency resolver does not currently take into account all the packages that are installed. This behaviour is the source of the following dependency conflicts.\n",
            "spacy 2.2.4 requires tqdm<5.0.0,>=4.38.0, but you have tqdm 4.28.1 which is incompatible.\n",
            "pymc3 3.11.4 requires cachetools>=4.2.1, but you have cachetools 3.1.1 which is incompatible.\n",
            "panel 0.12.1 requires tqdm>=4.48.0, but you have tqdm 4.28.1 which is incompatible.\n",
            "fbprophet 0.7.1 requires tqdm>=4.36.1, but you have tqdm 4.28.1 which is incompatible.\n",
            "datascience 0.10.6 requires folium==0.2.1, but you have folium 0.8.3 which is incompatible.\u001b[0m\n",
            "Successfully installed attrs-21.2.0 cachetools-3.1.1 farmhashpy-0.4.0 grpcio-1.34.1 jax-0.2.28 jaxlib-0.1.76 semantic-version-2.8.5 tensorflow-datasets-4.5.2 tensorflow-federated-0.20.0 tensorflow-model-optimization-0.7.2 tensorflow-privacy-0.7.3 tf-estimator-nightly-2.8.0.dev2021122109 tqdm-4.28.1\n"
          ]
        },
        {
          "output_type": "display_data",
          "data": {
            "application/vnd.colab-display-data+json": {
              "pip_warning": {
                "packages": [
                  "jax",
                  "jaxlib"
                ]
              }
            }
          },
          "metadata": {}
        }
      ]
    },
    {
      "cell_type": "code",
      "source": [
        "! pip install nest-asyncio"
      ],
      "metadata": {
        "id": "4l3aeZQBnJvO",
        "outputId": "0d37d3ec-4d9d-4e64-f093-9190091fda9c",
        "colab": {
          "base_uri": "https://localhost:8080/"
        }
      },
      "execution_count": null,
      "outputs": [
        {
          "output_type": "stream",
          "name": "stdout",
          "text": [
            "Requirement already satisfied: nest-asyncio in /usr/local/lib/python3.7/dist-packages (1.5.5)\n"
          ]
        }
      ]
    },
    {
      "cell_type": "markdown",
      "source": [
        "Import Necessary Libraries"
      ],
      "metadata": {
        "id": "esT0FSCbn1k3"
      }
    },
    {
      "cell_type": "code",
      "source": [
        "import numpy as np\n",
        "import pandas as pd\n",
        "import collections\n",
        "import matplotlib.image as img\n",
        "import matplotlib.pyplot as plt\n",
        "import tensorflow as tf\n",
        "import tensorflow_federated as tff\n",
        "import tensorflow_datasets as tfds\n",
        "import nest_asyncio as na"
      ],
      "metadata": {
        "id": "saAeLPIGnJyO"
      },
      "execution_count": 1,
      "outputs": []
    },
    {
      "cell_type": "code",
      "source": [
        "#Have a play around with number of clients and batch size and see how they affect the model\n",
        "NUM_CLIENTS=5 \n",
        "NUM_EPOCHS=100\n",
        "BATCH_SIZE=20\n",
        "SHUFFLE_BUFFER=100\n",
        "PREFETCH_BUFFER=10"
      ],
      "metadata": {
        "id": "m1nzB_kJtWvd"
      },
      "execution_count": 2,
      "outputs": []
    },
    {
      "cell_type": "code",
      "source": [
        "def Train_Validation_Test_Set(directory_name):\n",
        "  \"\"\"a function to load the images in a large directory into a tensorflow dataset object\n",
        "  the data is split 80:10:10 in training:validation:test. The dataset is shuffled before splitting\n",
        "  and the images are formatted to 512x512 pixels and grayscale(one color channel and the values range from 0 to 255)\"\"\"\n",
        "  dataset_train=tf.keras.preprocessing.image_dataset_from_directory('/content/COMP530/'+directory_name,\n",
        "                                                                    labels='inferred',\n",
        "                                                                    label_mode='int',\n",
        "                                                                    class_names=['NormalCases','cancercases'],\n",
        "                                                                    color_mode='rgb',\n",
        "                                                                    image_size=(512,512),\n",
        "                                                                    shuffle=True,\n",
        "                                                                    seed=305,\n",
        "                                                                    validation_split=0.2,\n",
        "                                                                    subset='training',\n",
        "                                                                    batch_size=None\n",
        "                                                                    )\n",
        "\n",
        "  dataset_validation=tf.keras.preprocessing.image_dataset_from_directory('/content/COMP530/'+directory_name,\n",
        "                                                                    labels='inferred',\n",
        "                                                                    label_mode='int',\n",
        "                                                                    class_names=['NormalCases','cancercases'],\n",
        "                                                                    color_mode='rgb',\n",
        "                                                                    image_size=(512,512),\n",
        "                                                                    shuffle=True,\n",
        "                                                                    seed=305,\n",
        "                                                                    validation_split=0.2,\n",
        "                                                                    subset='validation',\n",
        "                                                                    batch_size=None\n",
        "                                                                    )\n",
        "  \n",
        "  dataset_test=tf.keras.preprocessing.image_dataset_from_directory('/content/COMP530/'+directory_name,\n",
        "                                                                    labels='inferred',\n",
        "                                                                    label_mode='int',\n",
        "                                                                    class_names=['NormalCases','cancercases'],\n",
        "                                                                    color_mode='rgb',\n",
        "                                                                    image_size=(512,512),\n",
        "                                                                    shuffle=True,\n",
        "                                                                    seed=305,\n",
        "                                                                    validation_split=0.1,\n",
        "                                                                    subset='validation',\n",
        "                                                                    batch_size=None\n",
        "                                                                    )\n",
        "    \n",
        "  dataset_validation=dataset_validation.take(dataset_test.__len__())\n",
        "\n",
        "  return dataset_train,dataset_validation,dataset_test"
      ],
      "metadata": {
        "id": "iywtvxgWnJ0-"
      },
      "execution_count": 3,
      "outputs": []
    },
    {
      "cell_type": "code",
      "source": [
        "def preprocess(dataset):\n",
        "\n",
        "  def format_batch(element):\n",
        "    \"\"\"flatten the pixels in a batch and return the features as an 'OrderedDict'\"\"\"\n",
        "    tf.image.per_image_standardization(element['image'])\n",
        "    return collections.OrderedDict(\n",
        "        x=tf.image.resize(element['image'],(224,224)),\n",
        "        y=tf.reshape(element['label'],[-1,1])\n",
        "    )\n",
        "  return dataset.repeat(NUM_EPOCHS).shuffle(SHUFFLE_BUFFER, seed=1).batch(BATCH_SIZE).map(format_batch).prefetch(PREFETCH_BUFFER)"
      ],
      "metadata": {
        "id": "d_yaRnnRsdyV"
      },
      "execution_count": 4,
      "outputs": []
    },
    {
      "cell_type": "code",
      "source": [
        "def federate_dataset(Dataset,clients):\n",
        "  \"\"\"\n",
        "  args:\n",
        "  Dataset - the dataset object to be passed into the function and separated between the clients in the simulation\n",
        "  clients - the number of clients for the dataset to have come from in the simulated environment\n",
        "  return:\n",
        "  dataset_by_client - the original dataset federated between the number of clients. \n",
        "  each client is labelled by their client id, in a dictionary. each id points to an individual dataset object\n",
        "  \"\"\"\n",
        "  image_count=tf.data.experimental.cardinality(Dataset).numpy()\n",
        "  image_per_set=int(np.floor(image_count/clients))\n",
        "\n",
        "  client_train_dataset=collections.OrderedDict()\n",
        "  Dataset=tfds.as_numpy(Dataset)\n",
        "  count=0\n",
        "  client_num=1\n",
        "  y=[]\n",
        "  x=[]\n",
        "  \"\"\"this code snippet assigns particular training examples to each client. In this example they have been evenly distributed\n",
        "  hetrogeneity of federated data could be explored by randomly assigning a clients to each training example.\n",
        "  This would result in some clients having more than enough training data locally and some  and some suffering from data\n",
        "  paucity locally. A greater reflection of real life struggles when implementing federated learning.\"\"\"\n",
        "  for image in Dataset:\n",
        "    count+=1\n",
        "    y.append(image[1])\n",
        "    x.append(image[0])\n",
        "    if(count==image_per_set):\n",
        "      x=np.asarray(x,dtype=np.float32)\n",
        "      y=np.asarray(y,dtype=np.int32)\n",
        "      data=collections.OrderedDict((('label', y), ('image', x)))\n",
        "      client_train_dataset[\"client_\"+str(client_num)]=data\n",
        "      count=0\n",
        "      client_num+=1\n",
        "      y=[]\n",
        "      x=[]\n",
        "\n",
        "  federated_dataset=tff.simulation.datasets.TestClientData(client_train_dataset)\n",
        "  return federated_dataset"
      ],
      "metadata": {
        "id": "37i3yCalnJ4G"
      },
      "execution_count": 5,
      "outputs": []
    },
    {
      "cell_type": "code",
      "source": [
        "def AlexNet_model():\n",
        "   return tf.keras.models.Sequential([\n",
        "                                      tf.keras.layers.Conv2D(filters=96,kernel_size=(11,11),strides=(4,4),activation='relu',input_shape=(224,224,3)),\n",
        "                                      tf.keras.layers.BatchNormalization(),\n",
        "                                      tf.keras.layers.MaxPool2D(pool_size=(3,3),strides=(2,2)),\n",
        "                                      tf.keras.layers.Conv2D(filters=256,kernel_size=(5,5),strides=(1,1),activation='relu',padding='same'),\n",
        "                                      tf.keras.layers.BatchNormalization(),\n",
        "                                      tf.keras.layers.MaxPool2D(pool_size=(3,3),strides=(2,2)),\n",
        "                                      tf.keras.layers.Conv2D(filters=384,kernel_size=(3,3),strides=(1,1),activation='relu',padding='same'),\n",
        "                                      tf.keras.layers.BatchNormalization(),\n",
        "                                      tf.keras.layers.Conv2D(filters=384,kernel_size=(3,3),strides=(1,1),activation='relu',padding='same'),\n",
        "                                      tf.keras.layers.BatchNormalization(),\n",
        "                                      tf.keras.layers.Conv2D(filters=256,kernel_size=(3,3),strides=(1,1),activation='relu',padding='same'),\n",
        "                                      tf.keras.layers.BatchNormalization(),\n",
        "                                      tf.keras.layers.MaxPool2D(pool_size=(3,3),strides=(2,2)),\n",
        "                                      tf.keras.layers.Flatten(),\n",
        "                                      tf.keras.layers.Dense(4096,activation='relu'),\n",
        "                                      tf.keras.layers.Dropout(0.5),\n",
        "                                      tf.keras.layers.Dense(4096,activation='relu'),\n",
        "                                      tf.keras.layers.Dropout(0.5),\n",
        "                                      tf.keras.layers.Dense(1,activation='softmax')\n",
        "])"
      ],
      "metadata": {
        "id": "eXLOY9sGnJ6-"
      },
      "execution_count": 6,
      "outputs": []
    },
    {
      "cell_type": "code",
      "source": [
        "def MobileNet_model():\n",
        "  base_model=tf.keras.applications.MobileNetV2(weights='imagenet',input_shape=(224,224,3),include_top=True) # use mobilenetv2 as the base for the tl model\n",
        "  base_model.trainable = False # freeze the mobilenetv2 layers\n",
        "\n",
        "  inputs = tf.keras.Input(shape=(224, 224, 3))\n",
        "  # We make sure that the base_model is running in inference mode here,\n",
        "  # by passing `training=False`. This is important for fine-tuning, as you will\n",
        "  # learn in a few paragraphs.\n",
        "  x = base_model(inputs, training=False)\n",
        "  # Convert features of shape `base_model.output_shape[1:]` to vectors\n",
        "  #x = tf.keras.layers.GlobalAveragePooling2D()(x)\n",
        "  # A Dense classifier with a single unit (binary classification)\n",
        "  outputs = tf.keras.layers.Dense(1,activation='sigmoid')(x)\n",
        "  model = tf.keras.Model(inputs, outputs)\n",
        "  return model\n"
      ],
      "metadata": {
        "id": "ELou-iMrkrHA"
      },
      "execution_count": 15,
      "outputs": []
    },
    {
      "cell_type": "code",
      "source": [
        "alexnet=AlexNet_model()\n",
        "alexnet.summary()"
      ],
      "metadata": {
        "colab": {
          "base_uri": "https://localhost:8080/"
        },
        "id": "zbK-KAWQk7zt",
        "outputId": "fbf626ae-fe38-438b-ecda-fb9057cb679f"
      },
      "execution_count": 8,
      "outputs": [
        {
          "output_type": "stream",
          "name": "stdout",
          "text": [
            "Model: \"sequential\"\n",
            "_________________________________________________________________\n",
            " Layer (type)                Output Shape              Param #   \n",
            "=================================================================\n",
            " conv2d (Conv2D)             (None, 54, 54, 96)        34944     \n",
            "                                                                 \n",
            " batch_normalization (BatchN  (None, 54, 54, 96)       384       \n",
            " ormalization)                                                   \n",
            "                                                                 \n",
            " max_pooling2d (MaxPooling2D  (None, 26, 26, 96)       0         \n",
            " )                                                               \n",
            "                                                                 \n",
            " conv2d_1 (Conv2D)           (None, 26, 26, 256)       614656    \n",
            "                                                                 \n",
            " batch_normalization_1 (Batc  (None, 26, 26, 256)      1024      \n",
            " hNormalization)                                                 \n",
            "                                                                 \n",
            " max_pooling2d_1 (MaxPooling  (None, 12, 12, 256)      0         \n",
            " 2D)                                                             \n",
            "                                                                 \n",
            " conv2d_2 (Conv2D)           (None, 12, 12, 384)       885120    \n",
            "                                                                 \n",
            " batch_normalization_2 (Batc  (None, 12, 12, 384)      1536      \n",
            " hNormalization)                                                 \n",
            "                                                                 \n",
            " conv2d_3 (Conv2D)           (None, 12, 12, 384)       1327488   \n",
            "                                                                 \n",
            " batch_normalization_3 (Batc  (None, 12, 12, 384)      1536      \n",
            " hNormalization)                                                 \n",
            "                                                                 \n",
            " conv2d_4 (Conv2D)           (None, 12, 12, 256)       884992    \n",
            "                                                                 \n",
            " batch_normalization_4 (Batc  (None, 12, 12, 256)      1024      \n",
            " hNormalization)                                                 \n",
            "                                                                 \n",
            " max_pooling2d_2 (MaxPooling  (None, 5, 5, 256)        0         \n",
            " 2D)                                                             \n",
            "                                                                 \n",
            " flatten (Flatten)           (None, 6400)              0         \n",
            "                                                                 \n",
            " dense (Dense)               (None, 4096)              26218496  \n",
            "                                                                 \n",
            " dropout (Dropout)           (None, 4096)              0         \n",
            "                                                                 \n",
            " dense_1 (Dense)             (None, 4096)              16781312  \n",
            "                                                                 \n",
            " dropout_1 (Dropout)         (None, 4096)              0         \n",
            "                                                                 \n",
            " dense_2 (Dense)             (None, 1)                 4097      \n",
            "                                                                 \n",
            "=================================================================\n",
            "Total params: 46,756,609\n",
            "Trainable params: 46,753,857\n",
            "Non-trainable params: 2,752\n",
            "_________________________________________________________________\n"
          ]
        }
      ]
    },
    {
      "cell_type": "code",
      "source": [
        "mobilenet=MobileNet_model()\n",
        "mobilenet.summary()"
      ],
      "metadata": {
        "colab": {
          "base_uri": "https://localhost:8080/"
        },
        "id": "LpTaLiX9lGmZ",
        "outputId": "12a5e0ca-61f5-46b9-d889-dea9d82ba5eb"
      },
      "execution_count": 16,
      "outputs": [
        {
          "output_type": "stream",
          "name": "stdout",
          "text": [
            "Model: \"model_1\"\n",
            "_________________________________________________________________\n",
            " Layer (type)                Output Shape              Param #   \n",
            "=================================================================\n",
            " input_4 (InputLayer)        [(None, 224, 224, 3)]     0         \n",
            "                                                                 \n",
            " mobilenetv2_1.00_224 (Funct  (None, 1000)             3538984   \n",
            " ional)                                                          \n",
            "                                                                 \n",
            " dense_4 (Dense)             (None, 1)                 1001      \n",
            "                                                                 \n",
            "=================================================================\n",
            "Total params: 3,539,985\n",
            "Trainable params: 1,001\n",
            "Non-trainable params: 3,538,984\n",
            "_________________________________________________________________\n"
          ]
        }
      ]
    },
    {
      "cell_type": "code",
      "source": [
        "def make_federated_data(client_data,client_ids):\n",
        "  return[\n",
        "         preprocess(client_data.create_tf_dataset_for_client(x))\n",
        "         for x in client_ids         \n",
        "  ]"
      ],
      "metadata": {
        "id": "uw8od7l3pfFm"
      },
      "execution_count": 17,
      "outputs": []
    },
    {
      "cell_type": "code",
      "source": [
        "def federated_model():\n",
        "  AlexNet_Fed=MobileNet_model()\n",
        "  return tff.learning.from_keras_model(\n",
        "      AlexNet_Fed,\n",
        "      input_spec=preprocessed_example_dataset.element_spec,\n",
        "      loss=tf.keras.losses.BinaryCrossentropy(),\n",
        "      metrics=[tf.keras.metrics.BinaryAccuracy(),tf.keras.metrics.Precision(),tf.keras.metrics.Recall(),tf.keras.metrics.TruePositives(),tf.keras.metrics.TrueNegatives(),tf.keras.metrics.FalsePositives(),tf.keras.metrics.FalseNegatives()])"
      ],
      "metadata": {
        "id": "2xrCU3_8pkyF"
      },
      "execution_count": 21,
      "outputs": []
    },
    {
      "cell_type": "code",
      "source": [
        "\"\"\" the original dataset held in keras dataset objects \"\"\"\n",
        "dataset_train, dataset_validation,dataset_test=Train_Validation_Test_Set(\"Dataset1\")\n",
        "\"\"\" the dataset split by the which client the data has come from \"\"\"\n",
        "federated_train_dataset=federate_dataset(dataset_train,NUM_CLIENTS)\n",
        "federated_test_dataset=federate_dataset(dataset_test,NUM_CLIENTS)\n",
        "\"\"\" an example dataset for a single client used to get the input specification for the federated model \"\"\"\n",
        "example_dataset = federated_train_dataset.create_tf_dataset_for_client(federated_train_dataset.client_ids[0])\n",
        "preprocessed_example_dataset=preprocess(example_dataset)\n",
        "\"\"\" the federated dataset that can be passed into the federated environemt to train the network \"\"\"\n",
        "federated_train_data = make_federated_data(federated_train_dataset, federated_train_dataset.client_ids)"
      ],
      "metadata": {
        "id": "jRHseKmntCzt",
        "outputId": "e25f6134-e0f5-41b2-9392-b200b7f4bb13",
        "colab": {
          "base_uri": "https://localhost:8080/"
        }
      },
      "execution_count": 12,
      "outputs": [
        {
          "output_type": "stream",
          "name": "stdout",
          "text": [
            "Found 1097 files belonging to 2 classes.\n",
            "Using 878 files for training.\n",
            "Found 1097 files belonging to 2 classes.\n",
            "Using 219 files for validation.\n",
            "Found 1097 files belonging to 2 classes.\n",
            "Using 109 files for validation.\n"
          ]
        }
      ]
    },
    {
      "cell_type": "code",
      "source": [
        "iterative_process = tff.learning.build_federated_averaging_process(\n",
        "    federated_model,\n",
        "    client_optimizer_fn=lambda: tf.keras.optimizers.SGD(learning_rate=0.0001),#change to 0.01 make optimizer adam\n",
        "    server_optimizer_fn=lambda: tf.keras.optimizers.SGD(learning_rate=1.0))"
      ],
      "metadata": {
        "id": "mKK4uNJfppJm"
      },
      "execution_count": 32,
      "outputs": []
    },
    {
      "cell_type": "code",
      "source": [
        "na.apply()\n",
        "state=iterative_process.initialize()\n",
        "NUM_ROUNDS=10\n",
        "for round_num in range(1, NUM_ROUNDS):\n",
        "  state, metrics = iterative_process.next(state, federated_train_data)\n",
        "  print('round {:2d}, metrics={}'.format(round_num, metrics))"
      ],
      "metadata": {
        "id": "ngNxWFbgps5F",
        "outputId": "ce4f11a4-862e-413a-8980-620ba3821b82",
        "colab": {
          "base_uri": "https://localhost:8080/"
        }
      },
      "execution_count": 33,
      "outputs": [
        {
          "output_type": "stream",
          "name": "stdout",
          "text": [
            "round  1, metrics=OrderedDict([('broadcast', ()), ('aggregation', OrderedDict([('mean_value', ()), ('mean_weight', ())])), ('train', OrderedDict([('binary_accuracy', 0.6194286), ('precision', 0.6194286), ('recall', 1.0), ('true_positives', 54200.0), ('true_negatives', 0.0), ('false_positives', 33300.0), ('false_negatives', 0.0), ('loss', 0.6860712), ('num_examples', 87500), ('num_batches', 4375)]))])\n",
            "round  2, metrics=OrderedDict([('broadcast', ()), ('aggregation', OrderedDict([('mean_value', ()), ('mean_weight', ())])), ('train', OrderedDict([('binary_accuracy', 0.6194286), ('precision', 0.6194286), ('recall', 1.0), ('true_positives', 54200.0), ('true_negatives', 0.0), ('false_positives', 33300.0), ('false_negatives', 0.0), ('loss', 0.86811775), ('num_examples', 87500), ('num_batches', 4375)]))])\n",
            "round  3, metrics=OrderedDict([('broadcast', ()), ('aggregation', OrderedDict([('mean_value', ()), ('mean_weight', ())])), ('train', OrderedDict([('binary_accuracy', 0.6194286), ('precision', 0.6194286), ('recall', 1.0), ('true_positives', 54200.0), ('true_negatives', 0.0), ('false_positives', 33300.0), ('false_negatives', 0.0), ('loss', 0.77455527), ('num_examples', 87500), ('num_batches', 4375)]))])\n",
            "round  4, metrics=OrderedDict([('broadcast', ()), ('aggregation', OrderedDict([('mean_value', ()), ('mean_weight', ())])), ('train', OrderedDict([('binary_accuracy', 0.6194286), ('precision', 0.6194286), ('recall', 1.0), ('true_positives', 54200.0), ('true_negatives', 0.0), ('false_positives', 33300.0), ('false_negatives', 0.0), ('loss', 0.66410017), ('num_examples', 87500), ('num_batches', 4375)]))])\n",
            "round  5, metrics=OrderedDict([('broadcast', ()), ('aggregation', OrderedDict([('mean_value', ()), ('mean_weight', ())])), ('train', OrderedDict([('binary_accuracy', 0.38057142), ('precision', 0.0), ('recall', 0.0), ('true_positives', 0.0), ('true_negatives', 33300.0), ('false_positives', 0.0), ('false_negatives', 54200.0), ('loss', 0.74131036), ('num_examples', 87500), ('num_batches', 4375)]))])\n",
            "round  6, metrics=OrderedDict([('broadcast', ()), ('aggregation', OrderedDict([('mean_value', ()), ('mean_weight', ())])), ('train', OrderedDict([('binary_accuracy', 0.38057142), ('precision', 0.0), ('recall', 0.0), ('true_positives', 0.0), ('true_negatives', 33300.0), ('false_positives', 0.0), ('false_negatives', 54200.0), ('loss', 0.7661484), ('num_examples', 87500), ('num_batches', 4375)]))])\n",
            "round  7, metrics=OrderedDict([('broadcast', ()), ('aggregation', OrderedDict([('mean_value', ()), ('mean_weight', ())])), ('train', OrderedDict([('binary_accuracy', 0.43401143), ('precision', 0.6332953), ('recall', 0.20494466), ('true_positives', 11108.0), ('true_negatives', 26868.0), ('false_positives', 6432.0), ('false_negatives', 43092.0), ('loss', 0.69771016), ('num_examples', 87500), ('num_batches', 4375)]))])\n",
            "round  8, metrics=OrderedDict([('broadcast', ()), ('aggregation', OrderedDict([('mean_value', ()), ('mean_weight', ())])), ('train', OrderedDict([('binary_accuracy', 0.6194286), ('precision', 0.6194286), ('recall', 1.0), ('true_positives', 54200.0), ('true_negatives', 0.0), ('false_positives', 33300.0), ('false_negatives', 0.0), ('loss', 0.66463405), ('num_examples', 87500), ('num_batches', 4375)]))])\n",
            "round  9, metrics=OrderedDict([('broadcast', ()), ('aggregation', OrderedDict([('mean_value', ()), ('mean_weight', ())])), ('train', OrderedDict([('binary_accuracy', 0.6194286), ('precision', 0.6194286), ('recall', 1.0), ('true_positives', 54200.0), ('true_negatives', 0.0), ('false_positives', 33300.0), ('false_negatives', 0.0), ('loss', 0.6997245), ('num_examples', 87500), ('num_batches', 4375)]))])\n"
          ]
        }
      ]
    },
    {
      "cell_type": "markdown",
      "source": [
        "Test the model on the test set and evaluate performance"
      ],
      "metadata": {
        "id": "goO0YmzVtaAM"
      }
    },
    {
      "cell_type": "code",
      "source": [
        ""
      ],
      "metadata": {
        "id": "8YJKDzBGtjhc"
      },
      "execution_count": null,
      "outputs": []
    },
    {
      "cell_type": "markdown",
      "source": [
        "Produce graphs and visualisations for evalutation data"
      ],
      "metadata": {
        "id": "R8R2ChbMtj28"
      }
    },
    {
      "cell_type": "code",
      "source": [
        ""
      ],
      "metadata": {
        "id": "4wE6RZ-HtkNk"
      },
      "execution_count": null,
      "outputs": []
    }
  ]
}