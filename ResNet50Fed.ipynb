{
  "nbformat": 4,
  "nbformat_minor": 0,
  "metadata": {
    "colab": {
      "name": "ResNet50Fed.ipynb",
      "provenance": [],
      "machine_shape": "hm",
      "authorship_tag": "ABX9TyPeQOch6ahChqiPNQqaJV/j",
      "include_colab_link": true
    },
    "kernelspec": {
      "name": "python3",
      "display_name": "Python 3"
    },
    "language_info": {
      "name": "python"
    },
    "accelerator": "GPU"
  },
  "cells": [
    {
      "cell_type": "markdown",
      "metadata": {
        "id": "view-in-github",
        "colab_type": "text"
      },
      "source": [
        "<a href=\"https://colab.research.google.com/github/tylerb55/COMP530/blob/main/ResNet50Fed.ipynb\" target=\"_parent\"><img src=\"https://colab.research.google.com/assets/colab-badge.svg\" alt=\"Open In Colab\"/></a>"
      ]
    },
    {
      "cell_type": "markdown",
      "source": [
        "# **Load the dataset into colab**"
      ],
      "metadata": {
        "id": "SrO1mrHsQ68b"
      }
    },
    {
      "cell_type": "code",
      "execution_count": 10,
      "metadata": {
        "id": "I5A99dQenC2b",
        "outputId": "368ee493-cf09-4ed3-b161-830cf2ab4b20",
        "colab": {
          "base_uri": "https://localhost:8080/"
        }
      },
      "outputs": [
        {
          "output_type": "stream",
          "name": "stdout",
          "text": [
            "Cloning into 'COMP530'...\n",
            "remote: Enumerating objects: 7317, done.\u001b[K\n",
            "remote: Counting objects: 100% (224/224), done.\u001b[K\n",
            "remote: Compressing objects: 100% (217/217), done.\u001b[K\n",
            "remote: Total 7317 (delta 15), reused 209 (delta 7), pack-reused 7093\u001b[K\n",
            "Receiving objects: 100% (7317/7317), 1.09 GiB | 12.12 MiB/s, done.\n",
            "Resolving deltas: 100% (240/240), done.\n",
            "Checking out files: 100% (5010/5010), done.\n"
          ]
        }
      ],
      "source": [
        "! git clone https://github.com/tylerb55/COMP530.git"
      ]
    },
    {
      "cell_type": "code",
      "source": [
        "! pip install --upgrade tensorflow-federated==0.20.0"
      ],
      "metadata": {
        "id": "JnNlX8v9nJsX",
        "colab": {
          "base_uri": "https://localhost:8080/",
          "height": 1000
        },
        "outputId": "2f2ecacb-6393-4609-f40f-12fb748cb3f7"
      },
      "execution_count": 11,
      "outputs": [
        {
          "output_type": "stream",
          "name": "stdout",
          "text": [
            "Collecting tensorflow-federated==0.20.0\n",
            "  Downloading tensorflow_federated-0.20.0-py2.py3-none-any.whl (819 kB)\n",
            "\u001b[K     |████████████████████████████████| 819 kB 3.9 MB/s \n",
            "\u001b[?25hCollecting farmhashpy~=0.4.0\n",
            "  Downloading farmhashpy-0.4.0-cp37-cp37m-manylinux2010_x86_64.whl (121 kB)\n",
            "\u001b[K     |████████████████████████████████| 121 kB 76.0 MB/s \n",
            "\u001b[?25hCollecting tensorflow-privacy~=0.7.3\n",
            "  Downloading tensorflow_privacy-0.7.3-py3-none-any.whl (251 kB)\n",
            "\u001b[K     |████████████████████████████████| 251 kB 82.9 MB/s \n",
            "\u001b[?25hCollecting cachetools~=3.1.1\n",
            "  Downloading cachetools-3.1.1-py2.py3-none-any.whl (11 kB)\n",
            "Requirement already satisfied: absl-py~=1.0.0 in /usr/local/lib/python3.7/dist-packages (from tensorflow-federated==0.20.0) (1.0.0)\n",
            "Requirement already satisfied: dm-tree~=0.1.1 in /usr/local/lib/python3.7/dist-packages (from tensorflow-federated==0.20.0) (0.1.7)\n",
            "Collecting jaxlib~=0.1.76\n",
            "  Downloading jaxlib-0.1.76-cp37-none-manylinux2010_x86_64.whl (65.1 MB)\n",
            "\u001b[K     |████████████████████████████████| 65.1 MB 159 kB/s \n",
            "\u001b[?25hCollecting grpcio~=1.34.0\n",
            "  Downloading grpcio-1.34.1-cp37-cp37m-manylinux2014_x86_64.whl (4.0 MB)\n",
            "\u001b[K     |████████████████████████████████| 4.0 MB 40.8 MB/s \n",
            "\u001b[?25hRequirement already satisfied: portpicker~=1.3.1 in /usr/local/lib/python3.7/dist-packages (from tensorflow-federated==0.20.0) (1.3.9)\n",
            "Requirement already satisfied: numpy~=1.21.4 in /usr/local/lib/python3.7/dist-packages (from tensorflow-federated==0.20.0) (1.21.6)\n",
            "Requirement already satisfied: tensorflow~=2.8.0 in /usr/local/lib/python3.7/dist-packages (from tensorflow-federated==0.20.0) (2.8.0)\n",
            "Collecting attrs~=21.2.0\n",
            "  Downloading attrs-21.2.0-py2.py3-none-any.whl (53 kB)\n",
            "\u001b[K     |████████████████████████████████| 53 kB 2.9 MB/s \n",
            "\u001b[?25hCollecting tqdm~=4.28.1\n",
            "  Downloading tqdm-4.28.1-py2.py3-none-any.whl (45 kB)\n",
            "\u001b[K     |████████████████████████████████| 45 kB 4.5 MB/s \n",
            "\u001b[?25hCollecting jax~=0.2.27\n",
            "  Downloading jax-0.2.28.tar.gz (887 kB)\n",
            "\u001b[K     |████████████████████████████████| 887 kB 56.2 MB/s \n",
            "\u001b[?25hCollecting semantic-version~=2.8.5\n",
            "  Downloading semantic_version-2.8.5-py2.py3-none-any.whl (15 kB)\n",
            "Collecting tensorflow-model-optimization~=0.7.1\n",
            "  Downloading tensorflow_model_optimization-0.7.2-py2.py3-none-any.whl (237 kB)\n",
            "\u001b[K     |████████████████████████████████| 237 kB 35.3 MB/s \n",
            "\u001b[?25hRequirement already satisfied: six in /usr/local/lib/python3.7/dist-packages (from absl-py~=1.0.0->tensorflow-federated==0.20.0) (1.15.0)\n",
            "Requirement already satisfied: opt_einsum in /usr/local/lib/python3.7/dist-packages (from jax~=0.2.27->tensorflow-federated==0.20.0) (3.3.0)\n",
            "Requirement already satisfied: scipy>=1.2.1 in /usr/local/lib/python3.7/dist-packages (from jax~=0.2.27->tensorflow-federated==0.20.0) (1.4.1)\n",
            "Requirement already satisfied: typing_extensions in /usr/local/lib/python3.7/dist-packages (from jax~=0.2.27->tensorflow-federated==0.20.0) (4.2.0)\n",
            "Requirement already satisfied: flatbuffers<3.0,>=1.12 in /usr/local/lib/python3.7/dist-packages (from jaxlib~=0.1.76->tensorflow-federated==0.20.0) (2.0)\n",
            "Requirement already satisfied: setuptools in /usr/local/lib/python3.7/dist-packages (from tensorflow~=2.8.0->tensorflow-federated==0.20.0) (57.4.0)\n",
            "Requirement already satisfied: protobuf>=3.9.2 in /usr/local/lib/python3.7/dist-packages (from tensorflow~=2.8.0->tensorflow-federated==0.20.0) (3.17.3)\n",
            "Requirement already satisfied: tensorboard<2.9,>=2.8 in /usr/local/lib/python3.7/dist-packages (from tensorflow~=2.8.0->tensorflow-federated==0.20.0) (2.8.0)\n",
            "Requirement already satisfied: libclang>=9.0.1 in /usr/local/lib/python3.7/dist-packages (from tensorflow~=2.8.0->tensorflow-federated==0.20.0) (14.0.1)\n",
            "Requirement already satisfied: wrapt>=1.11.0 in /usr/local/lib/python3.7/dist-packages (from tensorflow~=2.8.0->tensorflow-federated==0.20.0) (1.14.0)\n",
            "Requirement already satisfied: termcolor>=1.1.0 in /usr/local/lib/python3.7/dist-packages (from tensorflow~=2.8.0->tensorflow-federated==0.20.0) (1.1.0)\n",
            "Collecting tf-estimator-nightly==2.8.0.dev2021122109\n",
            "  Downloading tf_estimator_nightly-2.8.0.dev2021122109-py2.py3-none-any.whl (462 kB)\n",
            "\u001b[K     |████████████████████████████████| 462 kB 64.9 MB/s \n",
            "\u001b[?25hRequirement already satisfied: keras-preprocessing>=1.1.1 in /usr/local/lib/python3.7/dist-packages (from tensorflow~=2.8.0->tensorflow-federated==0.20.0) (1.1.2)\n",
            "Requirement already satisfied: tensorflow-io-gcs-filesystem>=0.23.1 in /usr/local/lib/python3.7/dist-packages (from tensorflow~=2.8.0->tensorflow-federated==0.20.0) (0.25.0)\n",
            "Requirement already satisfied: astunparse>=1.6.0 in /usr/local/lib/python3.7/dist-packages (from tensorflow~=2.8.0->tensorflow-federated==0.20.0) (1.6.3)\n",
            "Requirement already satisfied: google-pasta>=0.1.1 in /usr/local/lib/python3.7/dist-packages (from tensorflow~=2.8.0->tensorflow-federated==0.20.0) (0.2.0)\n",
            "Requirement already satisfied: gast>=0.2.1 in /usr/local/lib/python3.7/dist-packages (from tensorflow~=2.8.0->tensorflow-federated==0.20.0) (0.5.3)\n",
            "Requirement already satisfied: keras<2.9,>=2.8.0rc0 in /usr/local/lib/python3.7/dist-packages (from tensorflow~=2.8.0->tensorflow-federated==0.20.0) (2.8.0)\n",
            "Requirement already satisfied: h5py>=2.9.0 in /usr/local/lib/python3.7/dist-packages (from tensorflow~=2.8.0->tensorflow-federated==0.20.0) (3.1.0)\n",
            "Requirement already satisfied: wheel<1.0,>=0.23.0 in /usr/local/lib/python3.7/dist-packages (from astunparse>=1.6.0->tensorflow~=2.8.0->tensorflow-federated==0.20.0) (0.37.1)\n",
            "Requirement already satisfied: cached-property in /usr/local/lib/python3.7/dist-packages (from h5py>=2.9.0->tensorflow~=2.8.0->tensorflow-federated==0.20.0) (1.5.2)\n",
            "Requirement already satisfied: google-auth<3,>=1.6.3 in /usr/local/lib/python3.7/dist-packages (from tensorboard<2.9,>=2.8->tensorflow~=2.8.0->tensorflow-federated==0.20.0) (1.35.0)\n",
            "Requirement already satisfied: google-auth-oauthlib<0.5,>=0.4.1 in /usr/local/lib/python3.7/dist-packages (from tensorboard<2.9,>=2.8->tensorflow~=2.8.0->tensorflow-federated==0.20.0) (0.4.6)\n",
            "Requirement already satisfied: requests<3,>=2.21.0 in /usr/local/lib/python3.7/dist-packages (from tensorboard<2.9,>=2.8->tensorflow~=2.8.0->tensorflow-federated==0.20.0) (2.23.0)\n",
            "Requirement already satisfied: markdown>=2.6.8 in /usr/local/lib/python3.7/dist-packages (from tensorboard<2.9,>=2.8->tensorflow~=2.8.0->tensorflow-federated==0.20.0) (3.3.6)\n",
            "Requirement already satisfied: tensorboard-data-server<0.7.0,>=0.6.0 in /usr/local/lib/python3.7/dist-packages (from tensorboard<2.9,>=2.8->tensorflow~=2.8.0->tensorflow-federated==0.20.0) (0.6.1)\n",
            "Requirement already satisfied: werkzeug>=0.11.15 in /usr/local/lib/python3.7/dist-packages (from tensorboard<2.9,>=2.8->tensorflow~=2.8.0->tensorflow-federated==0.20.0) (1.0.1)\n",
            "Requirement already satisfied: tensorboard-plugin-wit>=1.6.0 in /usr/local/lib/python3.7/dist-packages (from tensorboard<2.9,>=2.8->tensorflow~=2.8.0->tensorflow-federated==0.20.0) (1.8.1)\n",
            "Requirement already satisfied: rsa<5,>=3.1.4 in /usr/local/lib/python3.7/dist-packages (from google-auth<3,>=1.6.3->tensorboard<2.9,>=2.8->tensorflow~=2.8.0->tensorflow-federated==0.20.0) (4.8)\n",
            "Requirement already satisfied: pyasn1-modules>=0.2.1 in /usr/local/lib/python3.7/dist-packages (from google-auth<3,>=1.6.3->tensorboard<2.9,>=2.8->tensorflow~=2.8.0->tensorflow-federated==0.20.0) (0.2.8)\n",
            "Requirement already satisfied: requests-oauthlib>=0.7.0 in /usr/local/lib/python3.7/dist-packages (from google-auth-oauthlib<0.5,>=0.4.1->tensorboard<2.9,>=2.8->tensorflow~=2.8.0->tensorflow-federated==0.20.0) (1.3.1)\n",
            "Requirement already satisfied: importlib-metadata>=4.4 in /usr/local/lib/python3.7/dist-packages (from markdown>=2.6.8->tensorboard<2.9,>=2.8->tensorflow~=2.8.0->tensorflow-federated==0.20.0) (4.11.3)\n",
            "Requirement already satisfied: zipp>=0.5 in /usr/local/lib/python3.7/dist-packages (from importlib-metadata>=4.4->markdown>=2.6.8->tensorboard<2.9,>=2.8->tensorflow~=2.8.0->tensorflow-federated==0.20.0) (3.8.0)\n",
            "Requirement already satisfied: pyasn1<0.5.0,>=0.4.6 in /usr/local/lib/python3.7/dist-packages (from pyasn1-modules>=0.2.1->google-auth<3,>=1.6.3->tensorboard<2.9,>=2.8->tensorflow~=2.8.0->tensorflow-federated==0.20.0) (0.4.8)\n",
            "Requirement already satisfied: idna<3,>=2.5 in /usr/local/lib/python3.7/dist-packages (from requests<3,>=2.21.0->tensorboard<2.9,>=2.8->tensorflow~=2.8.0->tensorflow-federated==0.20.0) (2.10)\n",
            "Requirement already satisfied: certifi>=2017.4.17 in /usr/local/lib/python3.7/dist-packages (from requests<3,>=2.21.0->tensorboard<2.9,>=2.8->tensorflow~=2.8.0->tensorflow-federated==0.20.0) (2021.10.8)\n",
            "Requirement already satisfied: urllib3!=1.25.0,!=1.25.1,<1.26,>=1.21.1 in /usr/local/lib/python3.7/dist-packages (from requests<3,>=2.21.0->tensorboard<2.9,>=2.8->tensorflow~=2.8.0->tensorflow-federated==0.20.0) (1.24.3)\n",
            "Requirement already satisfied: chardet<4,>=3.0.2 in /usr/local/lib/python3.7/dist-packages (from requests<3,>=2.21.0->tensorboard<2.9,>=2.8->tensorflow~=2.8.0->tensorflow-federated==0.20.0) (3.0.4)\n",
            "Requirement already satisfied: oauthlib>=3.0.0 in /usr/local/lib/python3.7/dist-packages (from requests-oauthlib>=0.7.0->google-auth-oauthlib<0.5,>=0.4.1->tensorboard<2.9,>=2.8->tensorflow~=2.8.0->tensorflow-federated==0.20.0) (3.2.0)\n",
            "Requirement already satisfied: mpmath in /usr/local/lib/python3.7/dist-packages (from tensorflow-privacy~=0.7.3->tensorflow-federated==0.20.0) (1.2.1)\n",
            "Collecting tensorflow-datasets>=4.4.0\n",
            "  Downloading tensorflow_datasets-4.5.2-py3-none-any.whl (4.2 MB)\n",
            "\u001b[K     |████████████████████████████████| 4.2 MB 58.2 MB/s \n",
            "\u001b[?25hRequirement already satisfied: tensorflow-probability>=0.13.0 in /usr/local/lib/python3.7/dist-packages (from tensorflow-privacy~=0.7.3->tensorflow-federated==0.20.0) (0.16.0)\n",
            "Requirement already satisfied: tensorflow-estimator>=2.3.0 in /usr/local/lib/python3.7/dist-packages (from tensorflow-privacy~=0.7.3->tensorflow-federated==0.20.0) (2.8.0)\n",
            "Requirement already satisfied: promise in /usr/local/lib/python3.7/dist-packages (from tensorflow-datasets>=4.4.0->tensorflow-privacy~=0.7.3->tensorflow-federated==0.20.0) (2.3)\n",
            "Requirement already satisfied: dill in /usr/local/lib/python3.7/dist-packages (from tensorflow-datasets>=4.4.0->tensorflow-privacy~=0.7.3->tensorflow-federated==0.20.0) (0.3.4)\n",
            "Requirement already satisfied: tensorflow-metadata in /usr/local/lib/python3.7/dist-packages (from tensorflow-datasets>=4.4.0->tensorflow-privacy~=0.7.3->tensorflow-federated==0.20.0) (1.7.0)\n",
            "Requirement already satisfied: importlib-resources in /usr/local/lib/python3.7/dist-packages (from tensorflow-datasets>=4.4.0->tensorflow-privacy~=0.7.3->tensorflow-federated==0.20.0) (5.7.1)\n",
            "Requirement already satisfied: decorator in /usr/local/lib/python3.7/dist-packages (from tensorflow-probability>=0.13.0->tensorflow-privacy~=0.7.3->tensorflow-federated==0.20.0) (4.4.2)\n",
            "Requirement already satisfied: cloudpickle>=1.3 in /usr/local/lib/python3.7/dist-packages (from tensorflow-probability>=0.13.0->tensorflow-privacy~=0.7.3->tensorflow-federated==0.20.0) (1.3.0)\n",
            "Requirement already satisfied: googleapis-common-protos<2,>=1.52.0 in /usr/local/lib/python3.7/dist-packages (from tensorflow-metadata->tensorflow-datasets>=4.4.0->tensorflow-privacy~=0.7.3->tensorflow-federated==0.20.0) (1.56.0)\n",
            "Building wheels for collected packages: jax\n",
            "  Building wheel for jax (setup.py) ... \u001b[?25l\u001b[?25hdone\n",
            "  Created wheel for jax: filename=jax-0.2.28-py3-none-any.whl size=1028669 sha256=fa80390fa9cce95e8554d4756a0d353dfab04c902c3183b6eb6660c48ea8aad1\n",
            "  Stored in directory: /root/.cache/pip/wheels/e2/60/4c/0cf931b766116b73950d9b6fca5813a45789d45d412a8d7272\n",
            "Successfully built jax\n",
            "Installing collected packages: cachetools, tqdm, grpcio, tf-estimator-nightly, tensorflow-datasets, attrs, tensorflow-privacy, tensorflow-model-optimization, semantic-version, jaxlib, jax, farmhashpy, tensorflow-federated\n",
            "  Attempting uninstall: cachetools\n",
            "    Found existing installation: cachetools 4.2.4\n",
            "    Uninstalling cachetools-4.2.4:\n",
            "      Successfully uninstalled cachetools-4.2.4\n",
            "  Attempting uninstall: tqdm\n",
            "    Found existing installation: tqdm 4.64.0\n",
            "    Uninstalling tqdm-4.64.0:\n",
            "      Successfully uninstalled tqdm-4.64.0\n",
            "  Attempting uninstall: grpcio\n",
            "    Found existing installation: grpcio 1.44.0\n",
            "    Uninstalling grpcio-1.44.0:\n",
            "      Successfully uninstalled grpcio-1.44.0\n",
            "  Attempting uninstall: tensorflow-datasets\n",
            "    Found existing installation: tensorflow-datasets 4.0.1\n",
            "    Uninstalling tensorflow-datasets-4.0.1:\n",
            "      Successfully uninstalled tensorflow-datasets-4.0.1\n",
            "  Attempting uninstall: attrs\n",
            "    Found existing installation: attrs 21.4.0\n",
            "    Uninstalling attrs-21.4.0:\n",
            "      Successfully uninstalled attrs-21.4.0\n",
            "  Attempting uninstall: jaxlib\n",
            "    Found existing installation: jaxlib 0.3.7+cuda11.cudnn805\n",
            "    Uninstalling jaxlib-0.3.7+cuda11.cudnn805:\n",
            "      Successfully uninstalled jaxlib-0.3.7+cuda11.cudnn805\n",
            "  Attempting uninstall: jax\n",
            "    Found existing installation: jax 0.3.8\n",
            "    Uninstalling jax-0.3.8:\n",
            "      Successfully uninstalled jax-0.3.8\n",
            "\u001b[31mERROR: pip's dependency resolver does not currently take into account all the packages that are installed. This behaviour is the source of the following dependency conflicts.\n",
            "spacy 2.2.4 requires tqdm<5.0.0,>=4.38.0, but you have tqdm 4.28.1 which is incompatible.\n",
            "pymc3 3.11.4 requires cachetools>=4.2.1, but you have cachetools 3.1.1 which is incompatible.\n",
            "panel 0.12.1 requires tqdm>=4.48.0, but you have tqdm 4.28.1 which is incompatible.\n",
            "fbprophet 0.7.1 requires tqdm>=4.36.1, but you have tqdm 4.28.1 which is incompatible.\n",
            "datascience 0.10.6 requires folium==0.2.1, but you have folium 0.8.3 which is incompatible.\u001b[0m\n",
            "Successfully installed attrs-21.2.0 cachetools-3.1.1 farmhashpy-0.4.0 grpcio-1.34.1 jax-0.2.28 jaxlib-0.1.76 semantic-version-2.8.5 tensorflow-datasets-4.5.2 tensorflow-federated-0.20.0 tensorflow-model-optimization-0.7.2 tensorflow-privacy-0.7.3 tf-estimator-nightly-2.8.0.dev2021122109 tqdm-4.28.1\n"
          ]
        },
        {
          "output_type": "display_data",
          "data": {
            "application/vnd.colab-display-data+json": {
              "pip_warning": {
                "packages": [
                  "jax",
                  "jaxlib"
                ]
              }
            }
          },
          "metadata": {}
        }
      ]
    },
    {
      "cell_type": "markdown",
      "source": [
        "# **Import Necessary Libraries**"
      ],
      "metadata": {
        "id": "esT0FSCbn1k3"
      }
    },
    {
      "cell_type": "code",
      "source": [
        "import numpy as np\n",
        "import collections\n",
        "import matplotlib.image as img\n",
        "import matplotlib.pyplot as plt\n",
        "import tensorflow as tf\n",
        "import tensorflow_federated as tff\n",
        "import tensorflow_datasets as tfds\n",
        "import nest_asyncio as na\n",
        "import random "
      ],
      "metadata": {
        "id": "saAeLPIGnJyO"
      },
      "execution_count": 1,
      "outputs": []
    },
    {
      "cell_type": "code",
      "source": [
        "NUM_CLIENTS=2 \n",
        "NUM_EPOCHS=10\n",
        "BATCH_SIZE=32\n",
        "SHUFFLE_BUFFER=100\n",
        "PREFETCH_BUFFER=10"
      ],
      "metadata": {
        "id": "m1nzB_kJtWvd"
      },
      "execution_count": 2,
      "outputs": []
    },
    {
      "cell_type": "markdown",
      "source": [
        "# **Load the dataset into the environment and make it a federated dataset**"
      ],
      "metadata": {
        "id": "3gRB1c-rShCR"
      }
    },
    {
      "cell_type": "code",
      "source": [
        "def Train_and_Test_Set(directory_name):\n",
        "  \"\"\"a function to load the images in a large directory into a tensorflow dataset object\n",
        "  the data is split 80:20 in training:test. The dataset is shuffled before splitting\n",
        "  and the images are formatted to 512x512 pixels (pixel values range from 0 to 255)\n",
        "  Images are labelled 0,1 based on the folder they are in. Normalcases are 0 and \n",
        "  cancercases are 1\"\"\"\n",
        "  dataset_train=tf.keras.preprocessing.image_dataset_from_directory('/content/COMP530/'+directory_name,\n",
        "                                                                    labels='inferred',\n",
        "                                                                    label_mode='int',\n",
        "                                                                    class_names=['NormalCases','cancercases'],\n",
        "                                                                    color_mode='rgb',\n",
        "                                                                    image_size=(512,512),\n",
        "                                                                    shuffle=True,\n",
        "                                                                    seed=305,\n",
        "                                                                    validation_split=0.2,\n",
        "                                                                    subset='training',\n",
        "                                                                    batch_size=None\n",
        "                                                                    )\n",
        "  \n",
        "  dataset_test=tf.keras.preprocessing.image_dataset_from_directory('/content/COMP530/'+directory_name,\n",
        "                                                                    labels='inferred',\n",
        "                                                                    label_mode='int',\n",
        "                                                                    class_names=['NormalCases','cancercases'],\n",
        "                                                                    color_mode='rgb',\n",
        "                                                                    image_size=(512,512),\n",
        "                                                                    shuffle=True,\n",
        "                                                                    seed=305,\n",
        "                                                                    validation_split=0.2,\n",
        "                                                                    subset='validation',\n",
        "                                                                    batch_size=None\n",
        "                                                                    )\n",
        "\n",
        "  return dataset_train,dataset_test"
      ],
      "metadata": {
        "id": "iywtvxgWnJ0-"
      },
      "execution_count": 3,
      "outputs": []
    },
    {
      "cell_type": "code",
      "source": [
        "def Train_Test_Set(directory_name):\n",
        "  \"\"\"a function to load the images in a large directory into a tensorflow dataset object\n",
        "  the data is split 80:20 in training:test. The dataset is shuffled before splitting\n",
        "  and the images are formatted to 512x512 pixels (pixel values range from 0 to 255)\n",
        "  Images are labelled 0,1 based on the folder they are in. Normalcases are 0 and \n",
        "  cancercases are 1\"\"\"\n",
        "  dataset_train=tf.keras.preprocessing.image_dataset_from_directory('/content/COMP530/'+directory_name,\n",
        "                                                                    labels='inferred',\n",
        "                                                                    label_mode='int',\n",
        "                                                                    class_names=['Normal','Cancer'],\n",
        "                                                                    color_mode='rgb',\n",
        "                                                                    image_size=(512,512),\n",
        "                                                                    shuffle=True,\n",
        "                                                                    seed=305,\n",
        "                                                                    validation_split=0.2,\n",
        "                                                                    subset='training',\n",
        "                                                                    batch_size=None\n",
        "                                                                    )\n",
        "  \n",
        "  dataset_test=tf.keras.preprocessing.image_dataset_from_directory('/content/COMP530/'+directory_name,\n",
        "                                                                    labels='inferred',\n",
        "                                                                    label_mode='int',\n",
        "                                                                    class_names=['Normal','Cancer'],\n",
        "                                                                    color_mode='rgb',\n",
        "                                                                    image_size=(512,512),\n",
        "                                                                    shuffle=True,\n",
        "                                                                    seed=305,\n",
        "                                                                    validation_split=0.2,\n",
        "                                                                    subset='validation',\n",
        "                                                                    batch_size=None\n",
        "                                                                    )\n",
        "\n",
        "  return dataset_train,dataset_test"
      ],
      "metadata": {
        "id": "mqgcfHD1dfNl"
      },
      "execution_count": 4,
      "outputs": []
    },
    {
      "cell_type": "code",
      "source": [
        "def federate_dataset(Dataset,clients):\n",
        "  \"\"\"\n",
        "  args:\n",
        "  Dataset - the dataset object to be passed into the function and separated between the clients in the simulation\n",
        "  clients - the number of clients for the dataset to have come from in the simulated environment\n",
        "  return:\n",
        "  dataset_by_client - the original dataset federated between the number of clients. \n",
        "  each client is labelled by their client id, in a dictionary. each id points to an individual dataset object\n",
        "  \"\"\"\n",
        "  image_count=tf.data.experimental.cardinality(Dataset).numpy()\n",
        "  image_per_set=int(np.floor(image_count/clients))\n",
        "\n",
        "  client_train_dataset=collections.OrderedDict()\n",
        "  Dataset=tfds.as_numpy(Dataset)\n",
        "  count=0\n",
        "  client_num=1\n",
        "  y=[]\n",
        "  x=[]\n",
        "  \"\"\"this code snippet assigns particular training examples to each client. In this example they have been evenly distributed\n",
        "  hetrogeneity of federated data could be explored by randomly assigning a clients to each training example.\n",
        "  This would result in some clients having more than enough training data locally and some  and some suffering from data\n",
        "  paucity locally. \"\"\"\n",
        "  for image in Dataset:\n",
        "    count+=1\n",
        "    y.append(image[1])\n",
        "    x.append(image[0])\n",
        "    if(count==image_per_set):\n",
        "      x=np.asarray(x,dtype=np.float32)\n",
        "      y=np.asarray(y,dtype=np.int32)\n",
        "      data=collections.OrderedDict((('label', y), ('image', x)))\n",
        "      client_train_dataset[\"client_\"+str(client_num)]=data\n",
        "      count=0\n",
        "      client_num+=1\n",
        "      y=[]\n",
        "      x=[]\n",
        "\n",
        "  federated_dataset=tff.simulation.datasets.TestClientData(client_train_dataset)\n",
        "  return federated_dataset"
      ],
      "metadata": {
        "id": "37i3yCalnJ4G"
      },
      "execution_count": 5,
      "outputs": []
    },
    {
      "cell_type": "code",
      "source": [
        "def preprocess(dataset):\n",
        "\n",
        "  def format_batch(element):\n",
        "    \"\"\"flatten the pixels in a batch and return the features as an 'OrderedDict'\"\"\"\n",
        "    tf.image.per_image_standardization(element['image'])\n",
        "    return collections.OrderedDict(\n",
        "        x=tf.image.resize(element['image'],(224,224)),\n",
        "        y=tf.reshape(element['label'],[-1,1])\n",
        "    )\n",
        "  return dataset.repeat(NUM_EPOCHS).shuffle(SHUFFLE_BUFFER, seed=1).batch(BATCH_SIZE).map(format_batch).prefetch(PREFETCH_BUFFER)"
      ],
      "metadata": {
        "id": "d_yaRnnRsdyV"
      },
      "execution_count": 6,
      "outputs": []
    },
    {
      "cell_type": "code",
      "source": [
        "  data_augmentation = tf.keras.Sequential([\n",
        "  tf.keras.layers.RandomFlip(\"horizontal_and_vertical\"),\n",
        "  tf.keras.layers.RandomRotation(0.2),\n",
        "  ])"
      ],
      "metadata": {
        "id": "QB6B8v18LYE3"
      },
      "execution_count": 7,
      "outputs": []
    },
    {
      "cell_type": "code",
      "source": [
        "def make_federated_data(client_data,client_ids,training):\n",
        "  \"\"\" the federated dataset that can be passed into the federated environemt to train or test the network \"\"\"\n",
        "  data_augmentation = tf.keras.Sequential([\n",
        "  tf.keras.layers.RandomFlip(\"horizontal_and_vertical\"),\n",
        "  tf.keras.layers.RandomRotation(0.2),\n",
        "  ])\n",
        "  if training:\n",
        "    client_ids=random.sample(client_ids,random.randint(1,NUM_CLIENTS))\n",
        "  return[\n",
        "         preprocess(client_data.create_tf_dataset_for_client(x)).map(lambda x: (data_augmentation(x['x']),x['y']))\n",
        "         for x in client_ids         \n",
        "  ]"
      ],
      "metadata": {
        "id": "uw8od7l3pfFm"
      },
      "execution_count": 8,
      "outputs": []
    },
    {
      "cell_type": "code",
      "source": [
        "\"\"\" the original dataset held in keras dataset objects \"\"\"\n",
        "dataset_train, dataset_test=Train_and_Test_Set(\"Dataset1\")\n",
        "#dataset_train, dataset_test=Train_Test_Set(\"IQQ-OTHNCCD+\")\n",
        "\"\"\" the dataset split by the which client the data has come from \"\"\"\n",
        "federated_train_dataset=federate_dataset(dataset_train,NUM_CLIENTS)\n",
        "federated_test_dataset=federate_dataset(dataset_test,NUM_CLIENTS)\n",
        "\"\"\" an example dataset for a single client used to get the input specification for the federated model \"\"\"\n",
        "example_dataset = federated_train_dataset.create_tf_dataset_for_client(federated_train_dataset.client_ids[0])\n",
        "preprocessed_example_dataset=preprocess(example_dataset)"
      ],
      "metadata": {
        "id": "jRHseKmntCzt",
        "outputId": "7fec1045-8ab2-454b-b2ea-a78c61824f91",
        "colab": {
          "base_uri": "https://localhost:8080/"
        }
      },
      "execution_count": 9,
      "outputs": [
        {
          "output_type": "stream",
          "name": "stdout",
          "text": [
            "Found 1097 files belonging to 2 classes.\n",
            "Using 878 files for training.\n",
            "Found 1097 files belonging to 2 classes.\n",
            "Using 219 files for validation.\n"
          ]
        }
      ]
    },
    {
      "cell_type": "markdown",
      "source": [
        "# **Load a pretrained ResNet50 model as the CNN for the environment**"
      ],
      "metadata": {
        "id": "XokSTwlDTiCv"
      }
    },
    {
      "cell_type": "code",
      "source": [
        "def ResNet_model():\n",
        "  base_model=tf.keras.applications.ResNet50(weights='imagenet',input_shape=(224,224,3),include_top=False) # use resnet50 as the base for the tl model\n",
        "  base_model.trainable = False # freeze the resnet50 layers\n",
        "\n",
        "  inputs = tf.keras.Input(shape=(224, 224, 3))\n",
        "  x = base_model(inputs, training=False)# Convert features of shape `base_model.output_shape[1:]` to vectors\n",
        "  x = tf.keras.layers.GlobalAveragePooling2D()(x)\n",
        "  x = tf.keras.layers.Dropout(0.2)(x)\n",
        "  x = tf.keras.layers.Dense(64,activation='relu')(x)\n",
        "  x = tf.keras.layers.Dense(32,activation='relu')(x)\n",
        "  x = tf.keras.layers.Dense(16,activation='relu')(x)\n",
        "  outputs = tf.keras.layers.Dense(1,activation='sigmoid')(x)# A Dense classifier with a single unit (binary classification)\n",
        "  model = tf.keras.Model(inputs, outputs)\n",
        "  return model\n"
      ],
      "metadata": {
        "id": "ELou-iMrkrHA"
      },
      "execution_count": 10,
      "outputs": []
    },
    {
      "cell_type": "code",
      "source": [
        "resnet=ResNet_model()\n",
        "resnet.summary()"
      ],
      "metadata": {
        "id": "LpTaLiX9lGmZ",
        "outputId": "5b2883ef-cade-4c9c-9904-0c3cb33d177b",
        "colab": {
          "base_uri": "https://localhost:8080/"
        }
      },
      "execution_count": 11,
      "outputs": [
        {
          "output_type": "stream",
          "name": "stdout",
          "text": [
            "Model: \"model\"\n",
            "_________________________________________________________________\n",
            " Layer (type)                Output Shape              Param #   \n",
            "=================================================================\n",
            " input_2 (InputLayer)        [(None, 224, 224, 3)]     0         \n",
            "                                                                 \n",
            " resnet50 (Functional)       (None, 7, 7, 2048)        23587712  \n",
            "                                                                 \n",
            " global_average_pooling2d (G  (None, 2048)             0         \n",
            " lobalAveragePooling2D)                                          \n",
            "                                                                 \n",
            " dropout (Dropout)           (None, 2048)              0         \n",
            "                                                                 \n",
            " dense (Dense)               (None, 64)                131136    \n",
            "                                                                 \n",
            " dense_1 (Dense)             (None, 32)                2080      \n",
            "                                                                 \n",
            " dense_2 (Dense)             (None, 16)                528       \n",
            "                                                                 \n",
            " dense_3 (Dense)             (None, 1)                 17        \n",
            "                                                                 \n",
            "=================================================================\n",
            "Total params: 23,721,473\n",
            "Trainable params: 133,761\n",
            "Non-trainable params: 23,587,712\n",
            "_________________________________________________________________\n"
          ]
        }
      ]
    },
    {
      "cell_type": "markdown",
      "source": [
        "# **Create the federated environment based on the ResNet50 model** "
      ],
      "metadata": {
        "id": "PiwJ-W_sQOgC"
      }
    },
    {
      "cell_type": "code",
      "source": [
        "def federated_model():\n",
        "  resnet=ResNet_model()\n",
        "  return tff.learning.from_keras_model(\n",
        "      resnet,\n",
        "      input_spec=preprocessed_example_dataset.element_spec,\n",
        "      loss=tf.keras.losses.BinaryCrossentropy(),\n",
        "      metrics=[tf.keras.metrics.BinaryAccuracy(),tf.keras.metrics.Precision(),tf.keras.metrics.TruePositives(),tf.keras.metrics.TrueNegatives(),tf.keras.metrics.FalsePositives(),tf.keras.metrics.FalseNegatives()])"
      ],
      "metadata": {
        "id": "2xrCU3_8pkyF"
      },
      "execution_count": 12,
      "outputs": []
    },
    {
      "cell_type": "code",
      "source": [
        "iterative_process = tff.learning.build_federated_averaging_process(\n",
        "    federated_model,\n",
        "    client_optimizer_fn=lambda: tf.keras.optimizers.Adam(learning_rate=0.0001),\n",
        "    server_optimizer_fn=lambda: tf.keras.optimizers.Adam(learning_rate=0.001))"
      ],
      "metadata": {
        "id": "mKK4uNJfppJm",
        "outputId": "48f3052b-5fd8-4e2f-c914-c6ca2c919c3c",
        "colab": {
          "base_uri": "https://localhost:8080/"
        }
      },
      "execution_count": 13,
      "outputs": [
        {
          "output_type": "stream",
          "name": "stdout",
          "text": [
            "WARNING:tensorflow:From /usr/local/lib/python3.7/dist-packages/keras/layers/normalization/batch_normalization.py:532: _colocate_with (from tensorflow.python.framework.ops) is deprecated and will be removed in a future version.\n",
            "Instructions for updating:\n",
            "Colocations handled automatically by placer.\n"
          ]
        }
      ]
    },
    {
      "cell_type": "code",
      "source": [
        "%load_ext tensorboard"
      ],
      "metadata": {
        "id": "ltuUUcGtlrGT"
      },
      "execution_count": 14,
      "outputs": []
    },
    {
      "cell_type": "code",
      "source": [
        "%reload_ext tensorboard"
      ],
      "metadata": {
        "id": "AxXdwfJ4AseC"
      },
      "execution_count": 15,
      "outputs": []
    },
    {
      "cell_type": "code",
      "source": [
        "na.apply()\n",
        "logdir = \"/tmp/logs/scalars/training/\"\n",
        "summary_writer = tf.summary.create_file_writer(logdir)\n",
        "state=iterative_process.initialize()\n",
        "NUM_ROUNDS=101\n",
        "with summary_writer.as_default():\n",
        "  for round_num in range(1, NUM_ROUNDS):\n",
        "    federated_train_data = make_federated_data(federated_train_dataset, federated_train_dataset.client_ids,training=True)\n",
        "    state, metrics = iterative_process.next(state, federated_train_data)\n",
        "    train=metrics['train']\n",
        "    specificity=train['true_negatives']/(train['true_negatives']+train['false_positives'])\n",
        "    sensitivity=train['true_positives']/(train['true_positives']+train['false_negatives'])\n",
        "    tf.summary.scalar('Specificity', specificity, step=round_num)\n",
        "    tf.summary.scalar('Sensitivity', sensitivity, step=round_num)\n",
        "    print('round {:2d}, metrics={}'.format(round_num, metrics['train']),'(Specificity,',specificity,') (Sensitivity,',sensitivity,')')\n",
        "    for name, value in metrics['train'].items():\n",
        "        tf.summary.scalar(name, value, step=round_num)\n",
        "        if(name=='recall'):\n",
        "          break"
      ],
      "metadata": {
        "id": "ngNxWFbgps5F",
        "outputId": "d6193417-53ba-4252-be13-c3ff57c8b58c",
        "colab": {
          "base_uri": "https://localhost:8080/"
        }
      },
      "execution_count": 16,
      "outputs": [
        {
          "output_type": "stream",
          "name": "stdout",
          "text": [
            "round  1, metrics=OrderedDict([('binary_accuracy', 0.57448745), ('precision', 0.6260665), ('true_positives', 4256.0), ('true_negatives', 788.0), ('false_positives', 2542.0), ('false_negatives', 1194.0), ('loss', 0.7339189), ('num_examples', 8780), ('num_batches', 276)]) (Specificity, 0.23663664 ) (Sensitivity, 0.7809174 )\n",
            "round  2, metrics=OrderedDict([('binary_accuracy', 0.58974946), ('precision', 0.622807), ('true_positives', 4686.0), ('true_negatives', 492.0), ('false_positives', 2838.0), ('false_negatives', 764.0), ('loss', 0.6913163), ('num_examples', 8780), ('num_batches', 276)]) (Specificity, 0.14774776 ) (Sensitivity, 0.8598165 )\n",
            "round  3, metrics=OrderedDict([('binary_accuracy', 0.6193622), ('precision', 0.6389372), ('true_positives', 2573.0), ('true_negatives', 146.0), ('false_positives', 1454.0), ('false_negatives', 217.0), ('loss', 0.67522204), ('num_examples', 4390), ('num_batches', 138)]) (Specificity, 0.09125 ) (Sensitivity, 0.9222222 )\n",
            "round  4, metrics=OrderedDict([('binary_accuracy', 0.60136676), ('precision', 0.6227341), ('true_positives', 4947.0), ('true_negatives', 333.0), ('false_positives', 2997.0), ('false_negatives', 503.0), ('loss', 0.67879635), ('num_examples', 8780), ('num_batches', 276)]) (Specificity, 0.1 ) (Sensitivity, 0.90770644 )\n",
            "round  5, metrics=OrderedDict([('binary_accuracy', 0.6144647), ('precision', 0.62589926), ('true_positives', 5133.0), ('true_negatives', 262.0), ('false_positives', 3068.0), ('false_negatives', 317.0), ('loss', 0.67002076), ('num_examples', 8780), ('num_batches', 276)]) (Specificity, 0.078678675 ) (Sensitivity, 0.94183487 )\n",
            "round  6, metrics=OrderedDict([('binary_accuracy', 0.60523915), ('precision', 0.6203299), ('true_positives', 5114.0), ('true_negatives', 200.0), ('false_positives', 3130.0), ('false_negatives', 336.0), ('loss', 0.67208356), ('num_examples', 8780), ('num_batches', 276)]) (Specificity, 0.06006006 ) (Sensitivity, 0.93834865 )\n",
            "round  7, metrics=OrderedDict([('binary_accuracy', 0.6271071), ('precision', 0.63580686), ('true_positives', 2699.0), ('true_negatives', 54.0), ('false_positives', 1546.0), ('false_negatives', 91.0), ('loss', 0.65944874), ('num_examples', 4390), ('num_batches', 138)]) (Specificity, 0.03375 ) (Sensitivity, 0.9673835 )\n",
            "round  8, metrics=OrderedDict([('binary_accuracy', 0.6302961), ('precision', 0.6373264), ('true_positives', 2708.0), ('true_negatives', 59.0), ('false_positives', 1541.0), ('false_negatives', 82.0), ('loss', 0.65947956), ('num_examples', 4390), ('num_batches', 138)]) (Specificity, 0.036875 ) (Sensitivity, 0.9706093 )\n",
            "round  9, metrics=OrderedDict([('binary_accuracy', 0.632574), ('precision', 0.64062124), ('true_positives', 2681.0), ('true_negatives', 96.0), ('false_positives', 1504.0), ('false_negatives', 109.0), ('loss', 0.6559443), ('num_examples', 4390), ('num_batches', 138)]) (Specificity, 0.06 ) (Sensitivity, 0.9609319 )\n",
            "round 10, metrics=OrderedDict([('binary_accuracy', 0.61047834), ('precision', 0.6201923), ('true_positives', 2451.0), ('true_negatives', 229.0), ('false_positives', 1501.0), ('false_negatives', 209.0), ('loss', 0.661452), ('num_examples', 4390), ('num_batches', 138)]) (Specificity, 0.13236994 ) (Sensitivity, 0.92142856 )\n",
            "round 11, metrics=OrderedDict([('binary_accuracy', 0.62209564), ('precision', 0.630286), ('true_positives', 5157.0), ('true_negatives', 305.0), ('false_positives', 3025.0), ('false_negatives', 293.0), ('loss', 0.6548594), ('num_examples', 8780), ('num_batches', 276)]) (Specificity, 0.09159159 ) (Sensitivity, 0.9462385 )\n",
            "round 12, metrics=OrderedDict([('binary_accuracy', 0.61321187), ('precision', 0.62164897), ('true_positives', 2458.0), ('true_negatives', 234.0), ('false_positives', 1496.0), ('false_negatives', 202.0), ('loss', 0.65719235), ('num_examples', 4390), ('num_batches', 138)]) (Specificity, 0.13526012 ) (Sensitivity, 0.92406017 )\n",
            "round 13, metrics=OrderedDict([('binary_accuracy', 0.6111617), ('precision', 0.6197537), ('true_positives', 2466.0), ('true_negatives', 217.0), ('false_positives', 1513.0), ('false_negatives', 194.0), ('loss', 0.6560088), ('num_examples', 4390), ('num_batches', 138)]) (Specificity, 0.12543352 ) (Sensitivity, 0.9270677 )\n",
            "round 14, metrics=OrderedDict([('binary_accuracy', 0.6284738), ('precision', 0.63443106), ('true_positives', 5163.0), ('true_negatives', 355.0), ('false_positives', 2975.0), ('false_negatives', 287.0), ('loss', 0.6481453), ('num_examples', 8780), ('num_batches', 276)]) (Specificity, 0.10660661 ) (Sensitivity, 0.9473395 )\n",
            "round 15, metrics=OrderedDict([('binary_accuracy', 0.64578587), ('precision', 0.65086734), ('true_positives', 2664.0), ('true_negatives', 171.0), ('false_positives', 1429.0), ('false_negatives', 126.0), ('loss', 0.63630325), ('num_examples', 4390), ('num_batches', 138)]) (Specificity, 0.106875 ) (Sensitivity, 0.9548387 )\n",
            "round 16, metrics=OrderedDict([('binary_accuracy', 0.6399772), ('precision', 0.6469003), ('true_positives', 5040.0), ('true_negatives', 579.0), ('false_positives', 2751.0), ('false_negatives', 410.0), ('loss', 0.63785636), ('num_examples', 8780), ('num_batches', 276)]) (Specificity, 0.17387387 ) (Sensitivity, 0.92477065 )\n",
            "round 17, metrics=OrderedDict([('binary_accuracy', 0.65125287), ('precision', 0.65631986), ('true_positives', 2643.0), ('true_negatives', 216.0), ('false_positives', 1384.0), ('false_negatives', 147.0), ('loss', 0.6300698), ('num_examples', 4390), ('num_batches', 138)]) (Specificity, 0.135 ) (Sensitivity, 0.9473118 )\n",
            "round 18, metrics=OrderedDict([('binary_accuracy', 0.6431663), ('precision', 0.6469618), ('true_positives', 5100.0), ('true_negatives', 547.0), ('false_positives', 2783.0), ('false_negatives', 350.0), ('loss', 0.633228), ('num_examples', 8780), ('num_batches', 276)]) (Specificity, 0.16426426 ) (Sensitivity, 0.9357798 )\n",
            "round 19, metrics=OrderedDict([('binary_accuracy', 0.6439636), ('precision', 0.6493573), ('true_positives', 5052.0), ('true_negatives', 602.0), ('false_positives', 2728.0), ('false_negatives', 398.0), ('loss', 0.62830657), ('num_examples', 8780), ('num_batches', 276)]) (Specificity, 0.18078078 ) (Sensitivity, 0.92697245 )\n",
            "round 20, metrics=OrderedDict([('binary_accuracy', 0.6515945), ('precision', 0.6548776), ('true_positives', 5055.0), ('true_negatives', 666.0), ('false_positives', 2664.0), ('false_negatives', 395.0), ('loss', 0.6249011), ('num_examples', 8780), ('num_batches', 276)]) (Specificity, 0.2 ) (Sensitivity, 0.92752296 )\n",
            "round 21, metrics=OrderedDict([('binary_accuracy', 0.663098), ('precision', 0.6657396), ('true_positives', 2633.0), ('true_negatives', 278.0), ('false_positives', 1322.0), ('false_negatives', 157.0), ('loss', 0.61268264), ('num_examples', 4390), ('num_batches', 138)]) (Specificity, 0.17375 ) (Sensitivity, 0.9437276 )\n",
            "round 22, metrics=OrderedDict([('binary_accuracy', 0.6578588), ('precision', 0.6613031), ('true_positives', 5014.0), ('true_negatives', 762.0), ('false_positives', 2568.0), ('false_negatives', 436.0), ('loss', 0.61665726), ('num_examples', 8780), ('num_batches', 276)]) (Specificity, 0.22882883 ) (Sensitivity, 0.92 )\n",
            "round 23, metrics=OrderedDict([('binary_accuracy', 0.6645786), ('precision', 0.6701073), ('true_positives', 4934.0), ('true_negatives', 901.0), ('false_positives', 2429.0), ('false_negatives', 516.0), ('loss', 0.61169094), ('num_examples', 8780), ('num_batches', 276)]) (Specificity, 0.27057058 ) (Sensitivity, 0.9053211 )\n",
            "round 24, metrics=OrderedDict([('binary_accuracy', 0.6612756), ('precision', 0.6698217), ('true_positives', 4883.0), ('true_negatives', 923.0), ('false_positives', 2407.0), ('false_negatives', 567.0), ('loss', 0.61100537), ('num_examples', 8780), ('num_batches', 276)]) (Specificity, 0.27717718 ) (Sensitivity, 0.8959633 )\n",
            "round 25, metrics=OrderedDict([('binary_accuracy', 0.6712984), ('precision', 0.68061143), ('true_positives', 2538.0), ('true_negatives', 409.0), ('false_positives', 1191.0), ('false_negatives', 252.0), ('loss', 0.60206664), ('num_examples', 4390), ('num_batches', 138)]) (Specificity, 0.255625 ) (Sensitivity, 0.90967745 )\n",
            "round 26, metrics=OrderedDict([('binary_accuracy', 0.67220956), ('precision', 0.68192834), ('true_positives', 2532.0), ('true_negatives', 419.0), ('false_positives', 1181.0), ('false_negatives', 258.0), ('loss', 0.5992737), ('num_examples', 4390), ('num_batches', 138)]) (Specificity, 0.261875 ) (Sensitivity, 0.9075269 )\n",
            "round 27, metrics=OrderedDict([('binary_accuracy', 0.6747153), ('precision', 0.6818182), ('true_positives', 2310.0), ('true_negatives', 652.0), ('false_positives', 1078.0), ('false_negatives', 350.0), ('loss', 0.6023209), ('num_examples', 4390), ('num_batches', 138)]) (Specificity, 0.37687862 ) (Sensitivity, 0.8684211 )\n",
            "round 28, metrics=OrderedDict([('binary_accuracy', 0.67938495), ('precision', 0.6903077), ('true_positives', 4779.0), ('true_negatives', 1186.0), ('false_positives', 2144.0), ('false_negatives', 671.0), ('loss', 0.59214777), ('num_examples', 8780), ('num_batches', 276)]) (Specificity, 0.35615617 ) (Sensitivity, 0.8768807 )\n",
            "round 29, metrics=OrderedDict([('binary_accuracy', 0.67015946), ('precision', 0.6799287), ('true_positives', 2290.0), ('true_negatives', 652.0), ('false_positives', 1078.0), ('false_negatives', 370.0), ('loss', 0.6023748), ('num_examples', 4390), ('num_batches', 138)]) (Specificity, 0.37687862 ) (Sensitivity, 0.86090225 )\n",
            "round 30, metrics=OrderedDict([('binary_accuracy', 0.69225514), ('precision', 0.7099504), ('true_positives', 2433.0), ('true_negatives', 606.0), ('false_positives', 994.0), ('false_negatives', 357.0), ('loss', 0.5780762), ('num_examples', 4390), ('num_batches', 138)]) (Specificity, 0.37875 ) (Sensitivity, 0.872043 )\n",
            "round 31, metrics=OrderedDict([('binary_accuracy', 0.68917996), ('precision', 0.7022447), ('true_positives', 4724.0), ('true_negatives', 1327.0), ('false_positives', 2003.0), ('false_negatives', 726.0), ('loss', 0.5812182), ('num_examples', 8780), ('num_batches', 276)]) (Specificity, 0.3984985 ) (Sensitivity, 0.866789 )\n",
            "round 32, metrics=OrderedDict([('binary_accuracy', 0.68667424), ('precision', 0.697671), ('true_positives', 4763.0), ('true_negatives', 1266.0), ('false_positives', 2064.0), ('false_negatives', 687.0), ('loss', 0.58222073), ('num_examples', 8780), ('num_batches', 276)]) (Specificity, 0.38018018 ) (Sensitivity, 0.87394494 )\n",
            "round 33, metrics=OrderedDict([('binary_accuracy', 0.6813212), ('precision', 0.69394034), ('true_positives', 2256.0), ('true_negatives', 735.0), ('false_positives', 995.0), ('false_negatives', 404.0), ('loss', 0.58547103), ('num_examples', 4390), ('num_batches', 138)]) (Specificity, 0.4248555 ) (Sensitivity, 0.8481203 )\n",
            "round 34, metrics=OrderedDict([('binary_accuracy', 0.6863326), ('precision', 0.7006569), ('true_positives', 2240.0), ('true_negatives', 773.0), ('false_positives', 957.0), ('false_negatives', 420.0), ('loss', 0.5778432), ('num_examples', 4390), ('num_batches', 138)]) (Specificity, 0.4468208 ) (Sensitivity, 0.84210527 )\n",
            "round 35, metrics=OrderedDict([('binary_accuracy', 0.6937358), ('precision', 0.70907164), ('true_positives', 4682.0), ('true_negatives', 1409.0), ('false_positives', 1921.0), ('false_negatives', 768.0), ('loss', 0.56940943), ('num_examples', 8780), ('num_batches', 276)]) (Specificity, 0.42312312 ) (Sensitivity, 0.8590826 )\n",
            "round 36, metrics=OrderedDict([('binary_accuracy', 0.7031891), ('precision', 0.71763086), ('true_positives', 4689.0), ('true_negatives', 1485.0), ('false_positives', 1845.0), ('false_negatives', 761.0), ('loss', 0.563469), ('num_examples', 8780), ('num_batches', 276)]) (Specificity, 0.44594595 ) (Sensitivity, 0.860367 )\n",
            "round 37, metrics=OrderedDict([('binary_accuracy', 0.7014806), ('precision', 0.71791714), ('true_positives', 4660.0), ('true_negatives', 1499.0), ('false_positives', 1831.0), ('false_negatives', 790.0), ('loss', 0.5656567), ('num_examples', 8780), ('num_batches', 276)]) (Specificity, 0.45015016 ) (Sensitivity, 0.85504586 )\n",
            "round 38, metrics=OrderedDict([('binary_accuracy', 0.7126424), ('precision', 0.72272104), ('true_positives', 4749.0), ('true_negatives', 1508.0), ('false_positives', 1822.0), ('false_negatives', 701.0), ('loss', 0.5558639), ('num_examples', 8780), ('num_batches', 276)]) (Specificity, 0.45285285 ) (Sensitivity, 0.87137616 )\n",
            "round 39, metrics=OrderedDict([('binary_accuracy', 0.7052392), ('precision', 0.7236411), ('true_positives', 2210.0), ('true_negatives', 886.0), ('false_positives', 844.0), ('false_negatives', 450.0), ('loss', 0.56542605), ('num_examples', 4390), ('num_batches', 138)]) (Specificity, 0.5121387 ) (Sensitivity, 0.83082706 )\n",
            "round 40, metrics=OrderedDict([('binary_accuracy', 0.71321183), ('precision', 0.72686476), ('true_positives', 4697.0), ('true_negatives', 1565.0), ('false_positives', 1765.0), ('false_negatives', 753.0), ('loss', 0.5560075), ('num_examples', 8780), ('num_batches', 276)]) (Specificity, 0.46996996 ) (Sensitivity, 0.8618349 )\n",
            "round 41, metrics=OrderedDict([('binary_accuracy', 0.6990888), ('precision', 0.7126072), ('true_positives', 2244.0), ('true_negatives', 825.0), ('false_positives', 905.0), ('false_negatives', 416.0), ('loss', 0.56798184), ('num_examples', 4390), ('num_batches', 138)]) (Specificity, 0.4768786 ) (Sensitivity, 0.84360904 )\n",
            "round 42, metrics=OrderedDict([('binary_accuracy', 0.7120729), ('precision', 0.7276582), ('true_positives', 2231.0), ('true_negatives', 895.0), ('false_positives', 835.0), ('false_negatives', 429.0), ('loss', 0.550726), ('num_examples', 4390), ('num_batches', 138)]) (Specificity, 0.517341 ) (Sensitivity, 0.8387218 )\n",
            "round 43, metrics=OrderedDict([('binary_accuracy', 0.71252847), ('precision', 0.7262136), ('true_positives', 2244.0), ('true_negatives', 884.0), ('false_positives', 846.0), ('false_negatives', 416.0), ('loss', 0.5549445), ('num_examples', 4390), ('num_batches', 138)]) (Specificity, 0.51098263 ) (Sensitivity, 0.84360904 )\n",
            "round 44, metrics=OrderedDict([('binary_accuracy', 0.72300684), ('precision', 0.73793757), ('true_positives', 4680.0), ('true_negatives', 1668.0), ('false_positives', 1662.0), ('false_negatives', 770.0), ('loss', 0.54729396), ('num_examples', 8780), ('num_batches', 276)]) (Specificity, 0.5009009 ) (Sensitivity, 0.8587156 )\n",
            "round 45, metrics=OrderedDict([('binary_accuracy', 0.72289294), ('precision', 0.7374469), ('true_positives', 4685.0), ('true_negatives', 1662.0), ('false_positives', 1668.0), ('false_negatives', 765.0), ('loss', 0.5439867), ('num_examples', 8780), ('num_batches', 276)]) (Specificity, 0.4990991 ) (Sensitivity, 0.859633 )\n",
            "round 46, metrics=OrderedDict([('binary_accuracy', 0.7191344), ('precision', 0.734665), ('true_positives', 4671.0), ('true_negatives', 1643.0), ('false_positives', 1687.0), ('false_negatives', 779.0), ('loss', 0.5488597), ('num_examples', 8780), ('num_batches', 276)]) (Specificity, 0.4933934 ) (Sensitivity, 0.85706425 )\n",
            "round 47, metrics=OrderedDict([('binary_accuracy', 0.72539866), ('precision', 0.7407701), ('true_positives', 4675.0), ('true_negatives', 1694.0), ('false_positives', 1636.0), ('false_negatives', 775.0), ('loss', 0.54052967), ('num_examples', 8780), ('num_batches', 276)]) (Specificity, 0.5087087 ) (Sensitivity, 0.85779816 )\n",
            "round 48, metrics=OrderedDict([('binary_accuracy', 0.72004557), ('precision', 0.744441), ('true_positives', 2377.0), ('true_negatives', 784.0), ('false_positives', 816.0), ('false_negatives', 413.0), ('loss', 0.5420845), ('num_examples', 4390), ('num_batches', 138)]) (Specificity, 0.49 ) (Sensitivity, 0.8519713 )\n",
            "round 49, metrics=OrderedDict([('binary_accuracy', 0.72710705), ('precision', 0.7451043), ('true_positives', 4642.0), ('true_negatives', 1742.0), ('false_positives', 1588.0), ('false_negatives', 808.0), ('loss', 0.53856754), ('num_examples', 8780), ('num_batches', 276)]) (Specificity, 0.52312315 ) (Sensitivity, 0.8517431 )\n",
            "round 50, metrics=OrderedDict([('binary_accuracy', 0.7238041), ('precision', 0.7420387), ('true_positives', 4637.0), ('true_negatives', 1718.0), ('false_positives', 1612.0), ('false_negatives', 813.0), ('loss', 0.5393879), ('num_examples', 8780), ('num_batches', 276)]) (Specificity, 0.51591593 ) (Sensitivity, 0.85082567 )\n",
            "round 51, metrics=OrderedDict([('binary_accuracy', 0.7223235), ('precision', 0.7344614), ('true_positives', 2257.0), ('true_negatives', 914.0), ('false_positives', 816.0), ('false_negatives', 403.0), ('loss', 0.54981405), ('num_examples', 4390), ('num_batches', 138)]) (Specificity, 0.5283237 ) (Sensitivity, 0.84849626 )\n",
            "round 52, metrics=OrderedDict([('binary_accuracy', 0.72835994), ('precision', 0.7473769), ('true_positives', 4630.0), ('true_negatives', 1765.0), ('false_positives', 1565.0), ('false_negatives', 820.0), ('loss', 0.5372675), ('num_examples', 8780), ('num_batches', 276)]) (Specificity, 0.53003 ) (Sensitivity, 0.8495413 )\n",
            "round 53, metrics=OrderedDict([('binary_accuracy', 0.72471523), ('precision', 0.7467057), ('true_positives', 4590.0), ('true_negatives', 1773.0), ('false_positives', 1557.0), ('false_negatives', 860.0), ('loss', 0.53955233), ('num_examples', 8780), ('num_batches', 276)]) (Specificity, 0.53243244 ) (Sensitivity, 0.8422018 )\n",
            "round 54, metrics=OrderedDict([('binary_accuracy', 0.72961277), ('precision', 0.748385), ('true_positives', 4634.0), ('true_negatives', 1772.0), ('false_positives', 1558.0), ('false_negatives', 816.0), ('loss', 0.53300536), ('num_examples', 8780), ('num_batches', 276)]) (Specificity, 0.53213215 ) (Sensitivity, 0.8502752 )\n",
            "round 55, metrics=OrderedDict([('binary_accuracy', 0.7317768), ('precision', 0.7506885), ('true_positives', 4634.0), ('true_negatives', 1791.0), ('false_positives', 1539.0), ('false_negatives', 816.0), ('loss', 0.53220975), ('num_examples', 8780), ('num_batches', 276)]) (Specificity, 0.53783786 ) (Sensitivity, 0.8502752 )\n",
            "round 56, metrics=OrderedDict([('binary_accuracy', 0.7321184), ('precision', 0.7520338), ('true_positives', 4622.0), ('true_negatives', 1806.0), ('false_positives', 1524.0), ('false_negatives', 828.0), ('loss', 0.52931654), ('num_examples', 8780), ('num_batches', 276)]) (Specificity, 0.54234236 ) (Sensitivity, 0.8480734 )\n",
            "round 57, metrics=OrderedDict([('binary_accuracy', 0.73223233), ('precision', 0.7502018), ('true_positives', 4646.0), ('true_negatives', 1783.0), ('false_positives', 1547.0), ('false_negatives', 804.0), ('loss', 0.5329074), ('num_examples', 8780), ('num_batches', 276)]) (Specificity, 0.53543544 ) (Sensitivity, 0.8524771 )\n",
            "round 58, metrics=OrderedDict([('binary_accuracy', 0.7382688), ('precision', 0.7551814), ('true_positives', 4664.0), ('true_negatives', 1818.0), ('false_positives', 1512.0), ('false_negatives', 786.0), ('loss', 0.5270826), ('num_examples', 8780), ('num_batches', 276)]) (Specificity, 0.54594594 ) (Sensitivity, 0.8557798 )\n",
            "round 59, metrics=OrderedDict([('binary_accuracy', 0.7280182), ('precision', 0.74781483), ('true_positives', 4620.0), ('true_negatives', 1772.0), ('false_positives', 1558.0), ('false_negatives', 830.0), ('loss', 0.5334784), ('num_examples', 8780), ('num_batches', 276)]) (Specificity, 0.53213215 ) (Sensitivity, 0.84770644 )\n",
            "round 60, metrics=OrderedDict([('binary_accuracy', 0.7362187), ('precision', 0.7531502), ('true_positives', 4662.0), ('true_negatives', 1802.0), ('false_positives', 1528.0), ('false_negatives', 788.0), ('loss', 0.5281617), ('num_examples', 8780), ('num_batches', 276)]) (Specificity, 0.54114115 ) (Sensitivity, 0.85541284 )\n",
            "round 61, metrics=OrderedDict([('binary_accuracy', 0.7373576), ('precision', 0.753958), ('true_positives', 4667.0), ('true_negatives', 1807.0), ('false_positives', 1523.0), ('false_negatives', 783.0), ('loss', 0.52417046), ('num_examples', 8780), ('num_batches', 276)]) (Specificity, 0.54264265 ) (Sensitivity, 0.8563303 )\n",
            "round 62, metrics=OrderedDict([('binary_accuracy', 0.7341686), ('precision', 0.74694014), ('true_positives', 2258.0), ('true_negatives', 965.0), ('false_positives', 765.0), ('false_negatives', 402.0), ('loss', 0.53110105), ('num_examples', 4390), ('num_batches', 138)]) (Specificity, 0.55780345 ) (Sensitivity, 0.8488722 )\n",
            "round 63, metrics=OrderedDict([('binary_accuracy', 0.73644644), ('precision', 0.7597836), ('true_positives', 2388.0), ('true_negatives', 845.0), ('false_positives', 755.0), ('false_negatives', 402.0), ('loss', 0.5222798), ('num_examples', 4390), ('num_batches', 138)]) (Specificity, 0.528125 ) (Sensitivity, 0.855914 )\n",
            "round 64, metrics=OrderedDict([('binary_accuracy', 0.7334852), ('precision', 0.756167), ('true_positives', 2391.0), ('true_negatives', 829.0), ('false_positives', 771.0), ('false_negatives', 399.0), ('loss', 0.51858073), ('num_examples', 4390), ('num_batches', 138)]) (Specificity, 0.518125 ) (Sensitivity, 0.85698926 )\n",
            "round 65, metrics=OrderedDict([('binary_accuracy', 0.7372437), ('precision', 0.75474143), ('true_positives', 4656.0), ('true_negatives', 1817.0), ('false_positives', 1513.0), ('false_negatives', 794.0), ('loss', 0.5251164), ('num_examples', 8780), ('num_batches', 276)]) (Specificity, 0.54564565 ) (Sensitivity, 0.85431194 )\n",
            "round 66, metrics=OrderedDict([('binary_accuracy', 0.7394077), ('precision', 0.7626037), ('true_positives', 2390.0), ('true_negatives', 856.0), ('false_positives', 744.0), ('false_negatives', 400.0), ('loss', 0.51423407), ('num_examples', 4390), ('num_batches', 138)]) (Specificity, 0.535 ) (Sensitivity, 0.8566308 )\n",
            "round 67, metrics=OrderedDict([('binary_accuracy', 0.74009115), ('precision', 0.76199555), ('true_positives', 2398.0), ('true_negatives', 851.0), ('false_positives', 749.0), ('false_negatives', 392.0), ('loss', 0.52433544), ('num_examples', 4390), ('num_batches', 138)]) (Specificity, 0.531875 ) (Sensitivity, 0.8594982 )\n",
            "round 68, metrics=OrderedDict([('binary_accuracy', 0.73667425), ('precision', 0.7498339), ('true_positives', 2257.0), ('true_negatives', 977.0), ('false_positives', 753.0), ('false_negatives', 403.0), ('loss', 0.5329939), ('num_examples', 4390), ('num_batches', 138)]) (Specificity, 0.5647399 ) (Sensitivity, 0.84849626 )\n",
            "round 69, metrics=OrderedDict([('binary_accuracy', 0.7341686), ('precision', 0.75143147), ('true_positives', 2231.0), ('true_negatives', 992.0), ('false_positives', 738.0), ('false_negatives', 429.0), ('loss', 0.5310137), ('num_examples', 4390), ('num_batches', 138)]) (Specificity, 0.5734104 ) (Sensitivity, 0.8387218 )\n",
            "round 70, metrics=OrderedDict([('binary_accuracy', 0.7404328), ('precision', 0.75742817), ('true_positives', 4665.0), ('true_negatives', 1836.0), ('false_positives', 1494.0), ('false_negatives', 785.0), ('loss', 0.5186622), ('num_examples', 8780), ('num_batches', 276)]) (Specificity, 0.55135137 ) (Sensitivity, 0.8559633 )\n",
            "round 71, metrics=OrderedDict([('binary_accuracy', 0.7457859), ('precision', 0.76145595), ('true_positives', 4686.0), ('true_negatives', 1862.0), ('false_positives', 1468.0), ('false_negatives', 764.0), ('loss', 0.51486415), ('num_examples', 8780), ('num_batches', 276)]) (Specificity, 0.55915916 ) (Sensitivity, 0.8598165 )\n",
            "round 72, metrics=OrderedDict([('binary_accuracy', 0.7429385), ('precision', 0.76082337), ('true_positives', 4657.0), ('true_negatives', 1866.0), ('false_positives', 1464.0), ('false_negatives', 793.0), ('loss', 0.5146183), ('num_examples', 8780), ('num_batches', 276)]) (Specificity, 0.5603604 ) (Sensitivity, 0.8544954 )\n",
            "round 73, metrics=OrderedDict([('binary_accuracy', 0.73473805), ('precision', 0.7530404), ('true_positives', 4644.0), ('true_negatives', 1807.0), ('false_positives', 1523.0), ('false_negatives', 806.0), ('loss', 0.5212451), ('num_examples', 8780), ('num_batches', 276)]) (Specificity, 0.54264265 ) (Sensitivity, 0.8521101 )\n",
            "round 74, metrics=OrderedDict([('binary_accuracy', 0.74441916), ('precision', 0.7615862), ('true_positives', 4667.0), ('true_negatives', 1869.0), ('false_positives', 1461.0), ('false_negatives', 783.0), ('loss', 0.51303613), ('num_examples', 8780), ('num_batches', 276)]) (Specificity, 0.56126124 ) (Sensitivity, 0.8563303 )\n",
            "round 75, metrics=OrderedDict([('binary_accuracy', 0.7471526), ('precision', 0.7598927), ('true_positives', 2266.0), ('true_negatives', 1014.0), ('false_positives', 716.0), ('false_negatives', 394.0), ('loss', 0.51625264), ('num_examples', 4390), ('num_batches', 138)]) (Specificity, 0.58612716 ) (Sensitivity, 0.8518797 )\n",
            "round 76, metrics=OrderedDict([('binary_accuracy', 0.7424829), ('precision', 0.76007175), ('true_positives', 4660.0), ('true_negatives', 1859.0), ('false_positives', 1471.0), ('false_negatives', 790.0), ('loss', 0.51289195), ('num_examples', 8780), ('num_batches', 276)]) (Specificity, 0.55825824 ) (Sensitivity, 0.85504586 )\n",
            "round 77, metrics=OrderedDict([('binary_accuracy', 0.7405467), ('precision', 0.7633174), ('true_positives', 2393.0), ('true_negatives', 858.0), ('false_positives', 742.0), ('false_negatives', 397.0), ('loss', 0.50570434), ('num_examples', 4390), ('num_batches', 138)]) (Specificity, 0.53625 ) (Sensitivity, 0.85770607 )\n",
            "round 78, metrics=OrderedDict([('binary_accuracy', 0.7457859), ('precision', 0.7587131), ('true_positives', 2264.0), ('true_negatives', 1010.0), ('false_positives', 720.0), ('false_negatives', 396.0), ('loss', 0.51756525), ('num_examples', 4390), ('num_batches', 138)]) (Specificity, 0.58381504 ) (Sensitivity, 0.8511278 )\n",
            "round 79, metrics=OrderedDict([('binary_accuracy', 0.7596811), ('precision', 0.7774224), ('true_positives', 2431.0), ('true_negatives', 904.0), ('false_positives', 696.0), ('false_negatives', 359.0), ('loss', 0.4976548), ('num_examples', 4390), ('num_batches', 138)]) (Specificity, 0.565 ) (Sensitivity, 0.87132615 )\n",
            "round 80, metrics=OrderedDict([('binary_accuracy', 0.7687927), ('precision', 0.7841819), ('true_positives', 2449.0), ('true_negatives', 926.0), ('false_positives', 674.0), ('false_negatives', 341.0), ('loss', 0.48920637), ('num_examples', 4390), ('num_batches', 138)]) (Specificity, 0.57875 ) (Sensitivity, 0.87777776 )\n",
            "round 81, metrics=OrderedDict([('binary_accuracy', 0.74601364), ('precision', 0.76266575), ('true_positives', 2243.0), ('true_negatives', 1032.0), ('false_positives', 698.0), ('false_negatives', 417.0), ('loss', 0.51387006), ('num_examples', 4390), ('num_batches', 138)]) (Specificity, 0.5965318 ) (Sensitivity, 0.8432331 )\n",
            "round 82, metrics=OrderedDict([('binary_accuracy', 0.7471526), ('precision', 0.76527596), ('true_positives', 4659.0), ('true_negatives', 1901.0), ('false_positives', 1429.0), ('false_negatives', 791.0), ('loss', 0.5128764), ('num_examples', 8780), ('num_batches', 276)]) (Specificity, 0.5708709 ) (Sensitivity, 0.8548624 )\n",
            "round 83, metrics=OrderedDict([('binary_accuracy', 0.7545558), ('precision', 0.7701262), ('true_positives', 4697.0), ('true_negatives', 1928.0), ('false_positives', 1402.0), ('false_negatives', 753.0), ('loss', 0.503677), ('num_examples', 8780), ('num_batches', 276)]) (Specificity, 0.57897896 ) (Sensitivity, 0.8618349 )\n",
            "round 84, metrics=OrderedDict([('binary_accuracy', 0.7448747), ('precision', 0.7648515), ('true_positives', 4635.0), ('true_negatives', 1905.0), ('false_positives', 1425.0), ('false_negatives', 815.0), ('loss', 0.5091908), ('num_examples', 8780), ('num_batches', 276)]) (Specificity, 0.5720721 ) (Sensitivity, 0.85045874 )\n",
            "round 85, metrics=OrderedDict([('binary_accuracy', 0.7496583), ('precision', 0.7679631), ('true_positives', 4660.0), ('true_negatives', 1922.0), ('false_positives', 1408.0), ('false_negatives', 790.0), ('loss', 0.50425583), ('num_examples', 8780), ('num_batches', 276)]) (Specificity, 0.57717717 ) (Sensitivity, 0.85504586 )\n",
            "round 86, metrics=OrderedDict([('binary_accuracy', 0.7498861), ('precision', 0.76278603), ('true_positives', 2267.0), ('true_negatives', 1025.0), ('false_positives', 705.0), ('false_negatives', 393.0), ('loss', 0.5095996), ('num_examples', 4390), ('num_batches', 138)]) (Specificity, 0.59248555 ) (Sensitivity, 0.85225564 )\n",
            "round 87, metrics=OrderedDict([('binary_accuracy', 0.74829155), ('precision', 0.76644737), ('true_positives', 4660.0), ('true_negatives', 1910.0), ('false_positives', 1420.0), ('false_negatives', 790.0), ('loss', 0.50470865), ('num_examples', 8780), ('num_batches', 276)]) (Specificity, 0.5735736 ) (Sensitivity, 0.85504586 )\n",
            "round 88, metrics=OrderedDict([('binary_accuracy', 0.74646926), ('precision', 0.7630058), ('true_positives', 2244.0), ('true_negatives', 1033.0), ('false_positives', 697.0), ('false_negatives', 416.0), ('loss', 0.5110413), ('num_examples', 4390), ('num_batches', 138)]) (Specificity, 0.59710985 ) (Sensitivity, 0.84360904 )\n",
            "round 89, metrics=OrderedDict([('binary_accuracy', 0.7520501), ('precision', 0.769649), ('true_positives', 4671.0), ('true_negatives', 1932.0), ('false_positives', 1398.0), ('false_negatives', 779.0), ('loss', 0.50430155), ('num_examples', 8780), ('num_batches', 276)]) (Specificity, 0.58018017 ) (Sensitivity, 0.85706425 )\n",
            "round 90, metrics=OrderedDict([('binary_accuracy', 0.75398636), ('precision', 0.7783203), ('true_positives', 2391.0), ('true_negatives', 919.0), ('false_positives', 681.0), ('false_negatives', 399.0), ('loss', 0.489125), ('num_examples', 4390), ('num_batches', 138)]) (Specificity, 0.574375 ) (Sensitivity, 0.85698926 )\n",
            "round 91, metrics=OrderedDict([('binary_accuracy', 0.7454442), ('precision', 0.7661865), ('true_positives', 4627.0), ('true_negatives', 1918.0), ('false_positives', 1412.0), ('false_negatives', 823.0), ('loss', 0.50551), ('num_examples', 8780), ('num_batches', 276)]) (Specificity, 0.57597595 ) (Sensitivity, 0.8489908 )\n",
            "round 92, metrics=OrderedDict([('binary_accuracy', 0.74829155), ('precision', 0.7736278), ('true_positives', 2382.0), ('true_negatives', 903.0), ('false_positives', 697.0), ('false_negatives', 408.0), ('loss', 0.49981615), ('num_examples', 4390), ('num_batches', 138)]) (Specificity, 0.564375 ) (Sensitivity, 0.85376346 )\n",
            "round 93, metrics=OrderedDict([('binary_accuracy', 0.75), ('precision', 0.76772493), ('true_positives', 4667.0), ('true_negatives', 1918.0), ('false_positives', 1412.0), ('false_negatives', 783.0), ('loss', 0.50677323), ('num_examples', 8780), ('num_batches', 276)]) (Specificity, 0.57597595 ) (Sensitivity, 0.8563303 )\n",
            "round 94, metrics=OrderedDict([('binary_accuracy', 0.76013666), ('precision', 0.7747009), ('true_positives', 2266.0), ('true_negatives', 1071.0), ('false_positives', 659.0), ('false_negatives', 394.0), ('loss', 0.50683016), ('num_examples', 4390), ('num_batches', 138)]) (Specificity, 0.6190751 ) (Sensitivity, 0.8518797 )\n",
            "round 95, metrics=OrderedDict([('binary_accuracy', 0.7595672), ('precision', 0.77654463), ('true_positives', 4688.0), ('true_negatives', 1981.0), ('false_positives', 1349.0), ('false_negatives', 762.0), ('loss', 0.4949182), ('num_examples', 8780), ('num_batches', 276)]) (Specificity, 0.5948949 ) (Sensitivity, 0.8601835 )\n",
            "round 96, metrics=OrderedDict([('binary_accuracy', 0.7626424), ('precision', 0.7858077), ('true_positives', 2403.0), ('true_negatives', 945.0), ('false_positives', 655.0), ('false_negatives', 387.0), ('loss', 0.47946516), ('num_examples', 4390), ('num_batches', 138)]) (Specificity, 0.590625 ) (Sensitivity, 0.86129034 )\n",
            "round 97, metrics=OrderedDict([('binary_accuracy', 0.7594533), ('precision', 0.7835186), ('true_positives', 2396.0), ('true_negatives', 938.0), ('false_positives', 662.0), ('false_negatives', 394.0), ('loss', 0.48363364), ('num_examples', 4390), ('num_batches', 138)]) (Specificity, 0.58625 ) (Sensitivity, 0.85878134 )\n",
            "round 98, metrics=OrderedDict([('binary_accuracy', 0.75569475), ('precision', 0.7751874), ('true_positives', 4655.0), ('true_negatives', 1980.0), ('false_positives', 1350.0), ('false_negatives', 795.0), ('loss', 0.5009552), ('num_examples', 8780), ('num_batches', 276)]) (Specificity, 0.5945946 ) (Sensitivity, 0.8541284 )\n",
            "round 99, metrics=OrderedDict([('binary_accuracy', 0.74624145), ('precision', 0.76346284), ('true_positives', 2240.0), ('true_negatives', 1036.0), ('false_positives', 694.0), ('false_negatives', 420.0), ('loss', 0.50804204), ('num_examples', 4390), ('num_batches', 138)]) (Specificity, 0.59884393 ) (Sensitivity, 0.84210527 )\n",
            "round 100, metrics=OrderedDict([('binary_accuracy', 0.75888383), ('precision', 0.77863234), ('true_positives', 4657.0), ('true_negatives', 2006.0), ('false_positives', 1324.0), ('false_negatives', 793.0), ('loss', 0.49397635), ('num_examples', 8780), ('num_batches', 276)]) (Specificity, 0.6024024 ) (Sensitivity, 0.8544954 )\n"
          ]
        }
      ]
    },
    {
      "cell_type": "markdown",
      "source": [
        "# **Output the results to graph visualisations**"
      ],
      "metadata": {
        "id": "xl0FFZjXLp8J"
      }
    },
    {
      "cell_type": "code",
      "source": [
        "!ls {logdir}\n",
        "%tensorboard --logdir {logdir} --port=0"
      ],
      "metadata": {
        "id": "I3zdVACwlCUf",
        "colab": {
          "base_uri": "https://localhost:8080/",
          "height": 856
        },
        "outputId": "35f5b3eb-6865-45e3-9aef-e18121a80c4a"
      },
      "execution_count": 23,
      "outputs": [
        {
          "output_type": "stream",
          "name": "stdout",
          "text": [
            "events.out.tfevents.1651796547.1fa6b2e232ac.19283.0.v2\n"
          ]
        },
        {
          "output_type": "display_data",
          "data": {
            "text/plain": [
              "Reusing TensorBoard on port 43667 (pid 2001), started 13:36:32 ago. (Use '!kill 2001' to kill it.)"
            ]
          },
          "metadata": {}
        },
        {
          "output_type": "display_data",
          "data": {
            "text/plain": [
              "<IPython.core.display.Javascript object>"
            ],
            "application/javascript": [
              "\n",
              "        (async () => {\n",
              "            const url = new URL(await google.colab.kernel.proxyPort(43667, {'cache': true}));\n",
              "            url.searchParams.set('tensorboardColab', 'true');\n",
              "            const iframe = document.createElement('iframe');\n",
              "            iframe.src = url;\n",
              "            iframe.setAttribute('width', '100%');\n",
              "            iframe.setAttribute('height', '800');\n",
              "            iframe.setAttribute('frameborder', 0);\n",
              "            document.body.appendChild(iframe);\n",
              "        })();\n",
              "    "
            ]
          },
          "metadata": {}
        }
      ]
    },
    {
      "cell_type": "markdown",
      "source": [
        "# **Evaluation on the test set**"
      ],
      "metadata": {
        "id": "goO0YmzVtaAM"
      }
    },
    {
      "cell_type": "code",
      "source": [
        "evaluation=tff.learning.build_federated_evaluation(federated_model)"
      ],
      "metadata": {
        "id": "Ak7ZRu2dBByK"
      },
      "execution_count": 18,
      "outputs": []
    },
    {
      "cell_type": "code",
      "source": [
        "federated_test_data = make_federated_data(federated_test_dataset, federated_test_dataset.client_ids,training=False)"
      ],
      "metadata": {
        "id": "cWqmZZKCoDak"
      },
      "execution_count": 19,
      "outputs": []
    },
    {
      "cell_type": "code",
      "source": [
        "test_metrics = evaluation(state.model, federated_test_data)"
      ],
      "metadata": {
        "id": "Coqmc64BBB9z"
      },
      "execution_count": 20,
      "outputs": []
    },
    {
      "cell_type": "code",
      "source": [
        "test=test_metrics['eval']\n",
        "specificity=test['true_negatives']/(test['true_negatives']+test['false_positives'])\n",
        "sensitivity=test['true_positives']/(test['true_positives']+test['false_negatives'])\n",
        "accuracy=test['binary_accuracy']\n",
        "print('Evaluation Metrics: (Accuracy:)',accuracy,'(Specificity:)',specificity,'(Sensitivity:)',sensitivity)"
      ],
      "metadata": {
        "id": "4wE6RZ-HtkNk",
        "colab": {
          "base_uri": "https://localhost:8080/"
        },
        "outputId": "f648ee3b-47a4-4d10-b2de-c45512c3bf8f"
      },
      "execution_count": 21,
      "outputs": [
        {
          "output_type": "stream",
          "name": "stdout",
          "text": [
            "Evaluation Metrics: (Accuracy:) 0.8165138 (Specificity:) 0.686747 (Sensitivity:) 0.8962963\n"
          ]
        }
      ]
    },
    {
      "cell_type": "code",
      "source": [
        "# Uncomment and run this cell to remove old outputs from the directory so new results can be seen on tensorboard\n",
        "\n",
        "#!rm -R /tmp/logs/scalars/*"
      ],
      "metadata": {
        "id": "NH-7zIZ1WIte"
      },
      "execution_count": 22,
      "outputs": []
    }
  ]
}