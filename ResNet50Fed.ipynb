{
  "nbformat": 4,
  "nbformat_minor": 0,
  "metadata": {
    "colab": {
      "name": "ResNet50Fed.ipynb",
      "provenance": [],
      "machine_shape": "hm",
      "authorship_tag": "ABX9TyM6ObV7mczjtqxhdLFzRtXg",
      "include_colab_link": true
    },
    "kernelspec": {
      "name": "python3",
      "display_name": "Python 3"
    },
    "language_info": {
      "name": "python"
    },
    "accelerator": "GPU"
  },
  "cells": [
    {
      "cell_type": "markdown",
      "metadata": {
        "id": "view-in-github",
        "colab_type": "text"
      },
      "source": [
        "<a href=\"https://colab.research.google.com/github/tylerb55/COMP530/blob/main/ResNet50Fed.ipynb\" target=\"_parent\"><img src=\"https://colab.research.google.com/assets/colab-badge.svg\" alt=\"Open In Colab\"/></a>"
      ]
    },
    {
      "cell_type": "markdown",
      "source": [
        "# **Load the dataset into colab**"
      ],
      "metadata": {
        "id": "SrO1mrHsQ68b"
      }
    },
    {
      "cell_type": "code",
      "execution_count": 2,
      "metadata": {
        "id": "I5A99dQenC2b",
        "outputId": "7b6423b5-f5d2-4901-a0a2-64d30db9edef",
        "colab": {
          "base_uri": "https://localhost:8080/"
        }
      },
      "outputs": [
        {
          "output_type": "stream",
          "name": "stdout",
          "text": [
            "Cloning into 'COMP530'...\n",
            "remote: Enumerating objects: 7323, done.\u001b[K\n",
            "remote: Counting objects: 100% (230/230), done.\u001b[K\n",
            "remote: Compressing objects: 100% (223/223), done.\u001b[K\n",
            "remote: Total 7323 (delta 19), reused 209 (delta 7), pack-reused 7093\u001b[K\n",
            "Receiving objects: 100% (7323/7323), 1.09 GiB | 19.98 MiB/s, done.\n",
            "Resolving deltas: 100% (244/244), done.\n",
            "Checking out files: 100% (5010/5010), done.\n"
          ]
        }
      ],
      "source": [
        "! git clone https://github.com/tylerb55/COMP530.git"
      ]
    },
    {
      "cell_type": "code",
      "source": [
        "! pip install --upgrade tensorflow-federated==0.20.0"
      ],
      "metadata": {
        "id": "JnNlX8v9nJsX",
        "colab": {
          "base_uri": "https://localhost:8080/",
          "height": 1000
        },
        "outputId": "e2b1d7db-2a0e-46a9-8f61-dd689320cb09"
      },
      "execution_count": 3,
      "outputs": [
        {
          "output_type": "stream",
          "name": "stdout",
          "text": [
            "Collecting tensorflow-federated==0.20.0\n",
            "  Downloading tensorflow_federated-0.20.0-py2.py3-none-any.whl (819 kB)\n",
            "\u001b[?25l\r\u001b[K     |▍                               | 10 kB 32.7 MB/s eta 0:00:01\r\u001b[K     |▉                               | 20 kB 8.8 MB/s eta 0:00:01\r\u001b[K     |█▏                              | 30 kB 7.7 MB/s eta 0:00:01\r\u001b[K     |█▋                              | 40 kB 3.5 MB/s eta 0:00:01\r\u001b[K     |██                              | 51 kB 3.7 MB/s eta 0:00:01\r\u001b[K     |██▍                             | 61 kB 4.4 MB/s eta 0:00:01\r\u001b[K     |██▉                             | 71 kB 4.6 MB/s eta 0:00:01\r\u001b[K     |███▏                            | 81 kB 4.8 MB/s eta 0:00:01\r\u001b[K     |███▋                            | 92 kB 5.4 MB/s eta 0:00:01\r\u001b[K     |████                            | 102 kB 4.2 MB/s eta 0:00:01\r\u001b[K     |████▍                           | 112 kB 4.2 MB/s eta 0:00:01\r\u001b[K     |████▉                           | 122 kB 4.2 MB/s eta 0:00:01\r\u001b[K     |█████▏                          | 133 kB 4.2 MB/s eta 0:00:01\r\u001b[K     |█████▋                          | 143 kB 4.2 MB/s eta 0:00:01\r\u001b[K     |██████                          | 153 kB 4.2 MB/s eta 0:00:01\r\u001b[K     |██████▍                         | 163 kB 4.2 MB/s eta 0:00:01\r\u001b[K     |██████▉                         | 174 kB 4.2 MB/s eta 0:00:01\r\u001b[K     |███████▏                        | 184 kB 4.2 MB/s eta 0:00:01\r\u001b[K     |███████▋                        | 194 kB 4.2 MB/s eta 0:00:01\r\u001b[K     |████████                        | 204 kB 4.2 MB/s eta 0:00:01\r\u001b[K     |████████▍                       | 215 kB 4.2 MB/s eta 0:00:01\r\u001b[K     |████████▉                       | 225 kB 4.2 MB/s eta 0:00:01\r\u001b[K     |█████████▏                      | 235 kB 4.2 MB/s eta 0:00:01\r\u001b[K     |█████████▋                      | 245 kB 4.2 MB/s eta 0:00:01\r\u001b[K     |██████████                      | 256 kB 4.2 MB/s eta 0:00:01\r\u001b[K     |██████████▍                     | 266 kB 4.2 MB/s eta 0:00:01\r\u001b[K     |██████████▉                     | 276 kB 4.2 MB/s eta 0:00:01\r\u001b[K     |███████████▏                    | 286 kB 4.2 MB/s eta 0:00:01\r\u001b[K     |███████████▋                    | 296 kB 4.2 MB/s eta 0:00:01\r\u001b[K     |████████████                    | 307 kB 4.2 MB/s eta 0:00:01\r\u001b[K     |████████████▍                   | 317 kB 4.2 MB/s eta 0:00:01\r\u001b[K     |████████████▉                   | 327 kB 4.2 MB/s eta 0:00:01\r\u001b[K     |█████████████▏                  | 337 kB 4.2 MB/s eta 0:00:01\r\u001b[K     |█████████████▋                  | 348 kB 4.2 MB/s eta 0:00:01\r\u001b[K     |██████████████                  | 358 kB 4.2 MB/s eta 0:00:01\r\u001b[K     |██████████████▍                 | 368 kB 4.2 MB/s eta 0:00:01\r\u001b[K     |██████████████▉                 | 378 kB 4.2 MB/s eta 0:00:01\r\u001b[K     |███████████████▏                | 389 kB 4.2 MB/s eta 0:00:01\r\u001b[K     |███████████████▋                | 399 kB 4.2 MB/s eta 0:00:01\r\u001b[K     |████████████████                | 409 kB 4.2 MB/s eta 0:00:01\r\u001b[K     |████████████████▍               | 419 kB 4.2 MB/s eta 0:00:01\r\u001b[K     |████████████████▉               | 430 kB 4.2 MB/s eta 0:00:01\r\u001b[K     |█████████████████▏              | 440 kB 4.2 MB/s eta 0:00:01\r\u001b[K     |█████████████████▋              | 450 kB 4.2 MB/s eta 0:00:01\r\u001b[K     |██████████████████              | 460 kB 4.2 MB/s eta 0:00:01\r\u001b[K     |██████████████████▍             | 471 kB 4.2 MB/s eta 0:00:01\r\u001b[K     |██████████████████▉             | 481 kB 4.2 MB/s eta 0:00:01\r\u001b[K     |███████████████████▏            | 491 kB 4.2 MB/s eta 0:00:01\r\u001b[K     |███████████████████▋            | 501 kB 4.2 MB/s eta 0:00:01\r\u001b[K     |████████████████████            | 512 kB 4.2 MB/s eta 0:00:01\r\u001b[K     |████████████████████▍           | 522 kB 4.2 MB/s eta 0:00:01\r\u001b[K     |████████████████████▉           | 532 kB 4.2 MB/s eta 0:00:01\r\u001b[K     |█████████████████████▏          | 542 kB 4.2 MB/s eta 0:00:01\r\u001b[K     |█████████████████████▋          | 552 kB 4.2 MB/s eta 0:00:01\r\u001b[K     |██████████████████████          | 563 kB 4.2 MB/s eta 0:00:01\r\u001b[K     |██████████████████████▍         | 573 kB 4.2 MB/s eta 0:00:01\r\u001b[K     |██████████████████████▉         | 583 kB 4.2 MB/s eta 0:00:01\r\u001b[K     |███████████████████████▏        | 593 kB 4.2 MB/s eta 0:00:01\r\u001b[K     |███████████████████████▋        | 604 kB 4.2 MB/s eta 0:00:01\r\u001b[K     |████████████████████████        | 614 kB 4.2 MB/s eta 0:00:01\r\u001b[K     |████████████████████████▍       | 624 kB 4.2 MB/s eta 0:00:01\r\u001b[K     |████████████████████████▉       | 634 kB 4.2 MB/s eta 0:00:01\r\u001b[K     |█████████████████████████▏      | 645 kB 4.2 MB/s eta 0:00:01\r\u001b[K     |█████████████████████████▋      | 655 kB 4.2 MB/s eta 0:00:01\r\u001b[K     |██████████████████████████      | 665 kB 4.2 MB/s eta 0:00:01\r\u001b[K     |██████████████████████████▍     | 675 kB 4.2 MB/s eta 0:00:01\r\u001b[K     |██████████████████████████▊     | 686 kB 4.2 MB/s eta 0:00:01\r\u001b[K     |███████████████████████████▏    | 696 kB 4.2 MB/s eta 0:00:01\r\u001b[K     |███████████████████████████▋    | 706 kB 4.2 MB/s eta 0:00:01\r\u001b[K     |████████████████████████████    | 716 kB 4.2 MB/s eta 0:00:01\r\u001b[K     |████████████████████████████▍   | 727 kB 4.2 MB/s eta 0:00:01\r\u001b[K     |████████████████████████████▊   | 737 kB 4.2 MB/s eta 0:00:01\r\u001b[K     |█████████████████████████████▏  | 747 kB 4.2 MB/s eta 0:00:01\r\u001b[K     |█████████████████████████████▋  | 757 kB 4.2 MB/s eta 0:00:01\r\u001b[K     |██████████████████████████████  | 768 kB 4.2 MB/s eta 0:00:01\r\u001b[K     |██████████████████████████████▍ | 778 kB 4.2 MB/s eta 0:00:01\r\u001b[K     |██████████████████████████████▊ | 788 kB 4.2 MB/s eta 0:00:01\r\u001b[K     |███████████████████████████████▏| 798 kB 4.2 MB/s eta 0:00:01\r\u001b[K     |███████████████████████████████▋| 808 kB 4.2 MB/s eta 0:00:01\r\u001b[K     |████████████████████████████████| 819 kB 4.2 MB/s eta 0:00:01\r\u001b[K     |████████████████████████████████| 819 kB 4.2 MB/s \n",
            "\u001b[?25hRequirement already satisfied: absl-py~=1.0.0 in /usr/local/lib/python3.7/dist-packages (from tensorflow-federated==0.20.0) (1.0.0)\n",
            "Collecting tensorflow-privacy~=0.7.3\n",
            "  Downloading tensorflow_privacy-0.7.3-py3-none-any.whl (251 kB)\n",
            "\u001b[K     |████████████████████████████████| 251 kB 81.4 MB/s \n",
            "\u001b[?25hRequirement already satisfied: tensorflow~=2.8.0 in /usr/local/lib/python3.7/dist-packages (from tensorflow-federated==0.20.0) (2.8.0)\n",
            "Collecting cachetools~=3.1.1\n",
            "  Downloading cachetools-3.1.1-py2.py3-none-any.whl (11 kB)\n",
            "Collecting tqdm~=4.28.1\n",
            "  Downloading tqdm-4.28.1-py2.py3-none-any.whl (45 kB)\n",
            "\u001b[K     |████████████████████████████████| 45 kB 4.5 MB/s \n",
            "\u001b[?25hCollecting semantic-version~=2.8.5\n",
            "  Downloading semantic_version-2.8.5-py2.py3-none-any.whl (15 kB)\n",
            "Collecting tensorflow-model-optimization~=0.7.1\n",
            "  Downloading tensorflow_model_optimization-0.7.2-py2.py3-none-any.whl (237 kB)\n",
            "\u001b[K     |████████████████████████████████| 237 kB 70.4 MB/s \n",
            "\u001b[?25hCollecting jaxlib~=0.1.76\n",
            "  Downloading jaxlib-0.1.76-cp37-none-manylinux2010_x86_64.whl (65.1 MB)\n",
            "\u001b[K     |████████████████████████████████| 65.1 MB 1.2 MB/s \n",
            "\u001b[?25hRequirement already satisfied: numpy~=1.21.4 in /usr/local/lib/python3.7/dist-packages (from tensorflow-federated==0.20.0) (1.21.6)\n",
            "Collecting farmhashpy~=0.4.0\n",
            "  Downloading farmhashpy-0.4.0-cp37-cp37m-manylinux2010_x86_64.whl (121 kB)\n",
            "\u001b[K     |████████████████████████████████| 121 kB 71.7 MB/s \n",
            "\u001b[?25hCollecting attrs~=21.2.0\n",
            "  Downloading attrs-21.2.0-py2.py3-none-any.whl (53 kB)\n",
            "\u001b[K     |████████████████████████████████| 53 kB 3.0 MB/s \n",
            "\u001b[?25hCollecting grpcio~=1.34.0\n",
            "  Downloading grpcio-1.34.1-cp37-cp37m-manylinux2014_x86_64.whl (4.0 MB)\n",
            "\u001b[K     |████████████████████████████████| 4.0 MB 82.9 MB/s \n",
            "\u001b[?25hCollecting jax~=0.2.27\n",
            "  Downloading jax-0.2.28.tar.gz (887 kB)\n",
            "\u001b[K     |████████████████████████████████| 887 kB 32.7 MB/s \n",
            "\u001b[?25hRequirement already satisfied: dm-tree~=0.1.1 in /usr/local/lib/python3.7/dist-packages (from tensorflow-federated==0.20.0) (0.1.7)\n",
            "Requirement already satisfied: portpicker~=1.3.1 in /usr/local/lib/python3.7/dist-packages (from tensorflow-federated==0.20.0) (1.3.9)\n",
            "Requirement already satisfied: six in /usr/local/lib/python3.7/dist-packages (from absl-py~=1.0.0->tensorflow-federated==0.20.0) (1.15.0)\n",
            "Requirement already satisfied: opt_einsum in /usr/local/lib/python3.7/dist-packages (from jax~=0.2.27->tensorflow-federated==0.20.0) (3.3.0)\n",
            "Requirement already satisfied: scipy>=1.2.1 in /usr/local/lib/python3.7/dist-packages (from jax~=0.2.27->tensorflow-federated==0.20.0) (1.4.1)\n",
            "Requirement already satisfied: typing_extensions in /usr/local/lib/python3.7/dist-packages (from jax~=0.2.27->tensorflow-federated==0.20.0) (4.2.0)\n",
            "Requirement already satisfied: flatbuffers<3.0,>=1.12 in /usr/local/lib/python3.7/dist-packages (from jaxlib~=0.1.76->tensorflow-federated==0.20.0) (2.0)\n",
            "Requirement already satisfied: wrapt>=1.11.0 in /usr/local/lib/python3.7/dist-packages (from tensorflow~=2.8.0->tensorflow-federated==0.20.0) (1.14.0)\n",
            "Requirement already satisfied: keras<2.9,>=2.8.0rc0 in /usr/local/lib/python3.7/dist-packages (from tensorflow~=2.8.0->tensorflow-federated==0.20.0) (2.8.0)\n",
            "Requirement already satisfied: tensorboard<2.9,>=2.8 in /usr/local/lib/python3.7/dist-packages (from tensorflow~=2.8.0->tensorflow-federated==0.20.0) (2.8.0)\n",
            "Requirement already satisfied: astunparse>=1.6.0 in /usr/local/lib/python3.7/dist-packages (from tensorflow~=2.8.0->tensorflow-federated==0.20.0) (1.6.3)\n",
            "Requirement already satisfied: libclang>=9.0.1 in /usr/local/lib/python3.7/dist-packages (from tensorflow~=2.8.0->tensorflow-federated==0.20.0) (14.0.1)\n",
            "Requirement already satisfied: google-pasta>=0.1.1 in /usr/local/lib/python3.7/dist-packages (from tensorflow~=2.8.0->tensorflow-federated==0.20.0) (0.2.0)\n",
            "Requirement already satisfied: termcolor>=1.1.0 in /usr/local/lib/python3.7/dist-packages (from tensorflow~=2.8.0->tensorflow-federated==0.20.0) (1.1.0)\n",
            "Requirement already satisfied: tensorflow-io-gcs-filesystem>=0.23.1 in /usr/local/lib/python3.7/dist-packages (from tensorflow~=2.8.0->tensorflow-federated==0.20.0) (0.25.0)\n",
            "Requirement already satisfied: h5py>=2.9.0 in /usr/local/lib/python3.7/dist-packages (from tensorflow~=2.8.0->tensorflow-federated==0.20.0) (3.1.0)\n",
            "Requirement already satisfied: keras-preprocessing>=1.1.1 in /usr/local/lib/python3.7/dist-packages (from tensorflow~=2.8.0->tensorflow-federated==0.20.0) (1.1.2)\n",
            "Requirement already satisfied: setuptools in /usr/local/lib/python3.7/dist-packages (from tensorflow~=2.8.0->tensorflow-federated==0.20.0) (57.4.0)\n",
            "Collecting tf-estimator-nightly==2.8.0.dev2021122109\n",
            "  Downloading tf_estimator_nightly-2.8.0.dev2021122109-py2.py3-none-any.whl (462 kB)\n",
            "\u001b[K     |████████████████████████████████| 462 kB 74.5 MB/s \n",
            "\u001b[?25hRequirement already satisfied: gast>=0.2.1 in /usr/local/lib/python3.7/dist-packages (from tensorflow~=2.8.0->tensorflow-federated==0.20.0) (0.5.3)\n",
            "Requirement already satisfied: protobuf>=3.9.2 in /usr/local/lib/python3.7/dist-packages (from tensorflow~=2.8.0->tensorflow-federated==0.20.0) (3.17.3)\n",
            "Requirement already satisfied: wheel<1.0,>=0.23.0 in /usr/local/lib/python3.7/dist-packages (from astunparse>=1.6.0->tensorflow~=2.8.0->tensorflow-federated==0.20.0) (0.37.1)\n",
            "Requirement already satisfied: cached-property in /usr/local/lib/python3.7/dist-packages (from h5py>=2.9.0->tensorflow~=2.8.0->tensorflow-federated==0.20.0) (1.5.2)\n",
            "Requirement already satisfied: requests<3,>=2.21.0 in /usr/local/lib/python3.7/dist-packages (from tensorboard<2.9,>=2.8->tensorflow~=2.8.0->tensorflow-federated==0.20.0) (2.23.0)\n",
            "Requirement already satisfied: google-auth-oauthlib<0.5,>=0.4.1 in /usr/local/lib/python3.7/dist-packages (from tensorboard<2.9,>=2.8->tensorflow~=2.8.0->tensorflow-federated==0.20.0) (0.4.6)\n",
            "Requirement already satisfied: tensorboard-data-server<0.7.0,>=0.6.0 in /usr/local/lib/python3.7/dist-packages (from tensorboard<2.9,>=2.8->tensorflow~=2.8.0->tensorflow-federated==0.20.0) (0.6.1)\n",
            "Requirement already satisfied: tensorboard-plugin-wit>=1.6.0 in /usr/local/lib/python3.7/dist-packages (from tensorboard<2.9,>=2.8->tensorflow~=2.8.0->tensorflow-federated==0.20.0) (1.8.1)\n",
            "Requirement already satisfied: werkzeug>=0.11.15 in /usr/local/lib/python3.7/dist-packages (from tensorboard<2.9,>=2.8->tensorflow~=2.8.0->tensorflow-federated==0.20.0) (1.0.1)\n",
            "Requirement already satisfied: google-auth<3,>=1.6.3 in /usr/local/lib/python3.7/dist-packages (from tensorboard<2.9,>=2.8->tensorflow~=2.8.0->tensorflow-federated==0.20.0) (1.35.0)\n",
            "Requirement already satisfied: markdown>=2.6.8 in /usr/local/lib/python3.7/dist-packages (from tensorboard<2.9,>=2.8->tensorflow~=2.8.0->tensorflow-federated==0.20.0) (3.3.6)\n",
            "Requirement already satisfied: pyasn1-modules>=0.2.1 in /usr/local/lib/python3.7/dist-packages (from google-auth<3,>=1.6.3->tensorboard<2.9,>=2.8->tensorflow~=2.8.0->tensorflow-federated==0.20.0) (0.2.8)\n",
            "Requirement already satisfied: rsa<5,>=3.1.4 in /usr/local/lib/python3.7/dist-packages (from google-auth<3,>=1.6.3->tensorboard<2.9,>=2.8->tensorflow~=2.8.0->tensorflow-federated==0.20.0) (4.8)\n",
            "Requirement already satisfied: requests-oauthlib>=0.7.0 in /usr/local/lib/python3.7/dist-packages (from google-auth-oauthlib<0.5,>=0.4.1->tensorboard<2.9,>=2.8->tensorflow~=2.8.0->tensorflow-federated==0.20.0) (1.3.1)\n",
            "Requirement already satisfied: importlib-metadata>=4.4 in /usr/local/lib/python3.7/dist-packages (from markdown>=2.6.8->tensorboard<2.9,>=2.8->tensorflow~=2.8.0->tensorflow-federated==0.20.0) (4.11.3)\n",
            "Requirement already satisfied: zipp>=0.5 in /usr/local/lib/python3.7/dist-packages (from importlib-metadata>=4.4->markdown>=2.6.8->tensorboard<2.9,>=2.8->tensorflow~=2.8.0->tensorflow-federated==0.20.0) (3.8.0)\n",
            "Requirement already satisfied: pyasn1<0.5.0,>=0.4.6 in /usr/local/lib/python3.7/dist-packages (from pyasn1-modules>=0.2.1->google-auth<3,>=1.6.3->tensorboard<2.9,>=2.8->tensorflow~=2.8.0->tensorflow-federated==0.20.0) (0.4.8)\n",
            "Requirement already satisfied: certifi>=2017.4.17 in /usr/local/lib/python3.7/dist-packages (from requests<3,>=2.21.0->tensorboard<2.9,>=2.8->tensorflow~=2.8.0->tensorflow-federated==0.20.0) (2021.10.8)\n",
            "Requirement already satisfied: urllib3!=1.25.0,!=1.25.1,<1.26,>=1.21.1 in /usr/local/lib/python3.7/dist-packages (from requests<3,>=2.21.0->tensorboard<2.9,>=2.8->tensorflow~=2.8.0->tensorflow-federated==0.20.0) (1.24.3)\n",
            "Requirement already satisfied: idna<3,>=2.5 in /usr/local/lib/python3.7/dist-packages (from requests<3,>=2.21.0->tensorboard<2.9,>=2.8->tensorflow~=2.8.0->tensorflow-federated==0.20.0) (2.10)\n",
            "Requirement already satisfied: chardet<4,>=3.0.2 in /usr/local/lib/python3.7/dist-packages (from requests<3,>=2.21.0->tensorboard<2.9,>=2.8->tensorflow~=2.8.0->tensorflow-federated==0.20.0) (3.0.4)\n",
            "Requirement already satisfied: oauthlib>=3.0.0 in /usr/local/lib/python3.7/dist-packages (from requests-oauthlib>=0.7.0->google-auth-oauthlib<0.5,>=0.4.1->tensorboard<2.9,>=2.8->tensorflow~=2.8.0->tensorflow-federated==0.20.0) (3.2.0)\n",
            "Requirement already satisfied: tensorflow-estimator>=2.3.0 in /usr/local/lib/python3.7/dist-packages (from tensorflow-privacy~=0.7.3->tensorflow-federated==0.20.0) (2.8.0)\n",
            "Requirement already satisfied: tensorflow-probability>=0.13.0 in /usr/local/lib/python3.7/dist-packages (from tensorflow-privacy~=0.7.3->tensorflow-federated==0.20.0) (0.16.0)\n",
            "Requirement already satisfied: mpmath in /usr/local/lib/python3.7/dist-packages (from tensorflow-privacy~=0.7.3->tensorflow-federated==0.20.0) (1.2.1)\n",
            "Collecting tensorflow-datasets>=4.4.0\n",
            "  Downloading tensorflow_datasets-4.5.2-py3-none-any.whl (4.2 MB)\n",
            "\u001b[K     |████████████████████████████████| 4.2 MB 69.3 MB/s \n",
            "\u001b[?25hRequirement already satisfied: importlib-resources in /usr/local/lib/python3.7/dist-packages (from tensorflow-datasets>=4.4.0->tensorflow-privacy~=0.7.3->tensorflow-federated==0.20.0) (5.7.1)\n",
            "Requirement already satisfied: tensorflow-metadata in /usr/local/lib/python3.7/dist-packages (from tensorflow-datasets>=4.4.0->tensorflow-privacy~=0.7.3->tensorflow-federated==0.20.0) (1.7.0)\n",
            "Requirement already satisfied: promise in /usr/local/lib/python3.7/dist-packages (from tensorflow-datasets>=4.4.0->tensorflow-privacy~=0.7.3->tensorflow-federated==0.20.0) (2.3)\n",
            "Requirement already satisfied: dill in /usr/local/lib/python3.7/dist-packages (from tensorflow-datasets>=4.4.0->tensorflow-privacy~=0.7.3->tensorflow-federated==0.20.0) (0.3.4)\n",
            "Requirement already satisfied: cloudpickle>=1.3 in /usr/local/lib/python3.7/dist-packages (from tensorflow-probability>=0.13.0->tensorflow-privacy~=0.7.3->tensorflow-federated==0.20.0) (1.3.0)\n",
            "Requirement already satisfied: decorator in /usr/local/lib/python3.7/dist-packages (from tensorflow-probability>=0.13.0->tensorflow-privacy~=0.7.3->tensorflow-federated==0.20.0) (4.4.2)\n",
            "Requirement already satisfied: googleapis-common-protos<2,>=1.52.0 in /usr/local/lib/python3.7/dist-packages (from tensorflow-metadata->tensorflow-datasets>=4.4.0->tensorflow-privacy~=0.7.3->tensorflow-federated==0.20.0) (1.56.0)\n",
            "Building wheels for collected packages: jax\n",
            "  Building wheel for jax (setup.py) ... \u001b[?25l\u001b[?25hdone\n",
            "  Created wheel for jax: filename=jax-0.2.28-py3-none-any.whl size=1028669 sha256=24e725976ef863cdf1afb24773b2287bedeb4c8b9c29f3c27d540fa960449ec0\n",
            "  Stored in directory: /root/.cache/pip/wheels/e2/60/4c/0cf931b766116b73950d9b6fca5813a45789d45d412a8d7272\n",
            "Successfully built jax\n",
            "Installing collected packages: cachetools, tqdm, grpcio, tf-estimator-nightly, tensorflow-datasets, attrs, tensorflow-privacy, tensorflow-model-optimization, semantic-version, jaxlib, jax, farmhashpy, tensorflow-federated\n",
            "  Attempting uninstall: cachetools\n",
            "    Found existing installation: cachetools 4.2.4\n",
            "    Uninstalling cachetools-4.2.4:\n",
            "      Successfully uninstalled cachetools-4.2.4\n",
            "  Attempting uninstall: tqdm\n",
            "    Found existing installation: tqdm 4.64.0\n",
            "    Uninstalling tqdm-4.64.0:\n",
            "      Successfully uninstalled tqdm-4.64.0\n",
            "  Attempting uninstall: grpcio\n",
            "    Found existing installation: grpcio 1.44.0\n",
            "    Uninstalling grpcio-1.44.0:\n",
            "      Successfully uninstalled grpcio-1.44.0\n",
            "  Attempting uninstall: tensorflow-datasets\n",
            "    Found existing installation: tensorflow-datasets 4.0.1\n",
            "    Uninstalling tensorflow-datasets-4.0.1:\n",
            "      Successfully uninstalled tensorflow-datasets-4.0.1\n",
            "  Attempting uninstall: attrs\n",
            "    Found existing installation: attrs 21.4.0\n",
            "    Uninstalling attrs-21.4.0:\n",
            "      Successfully uninstalled attrs-21.4.0\n",
            "  Attempting uninstall: jaxlib\n",
            "    Found existing installation: jaxlib 0.3.7+cuda11.cudnn805\n",
            "    Uninstalling jaxlib-0.3.7+cuda11.cudnn805:\n",
            "      Successfully uninstalled jaxlib-0.3.7+cuda11.cudnn805\n",
            "  Attempting uninstall: jax\n",
            "    Found existing installation: jax 0.3.8\n",
            "    Uninstalling jax-0.3.8:\n",
            "      Successfully uninstalled jax-0.3.8\n",
            "\u001b[31mERROR: pip's dependency resolver does not currently take into account all the packages that are installed. This behaviour is the source of the following dependency conflicts.\n",
            "spacy 2.2.4 requires tqdm<5.0.0,>=4.38.0, but you have tqdm 4.28.1 which is incompatible.\n",
            "pymc3 3.11.4 requires cachetools>=4.2.1, but you have cachetools 3.1.1 which is incompatible.\n",
            "panel 0.12.1 requires tqdm>=4.48.0, but you have tqdm 4.28.1 which is incompatible.\n",
            "fbprophet 0.7.1 requires tqdm>=4.36.1, but you have tqdm 4.28.1 which is incompatible.\n",
            "datascience 0.10.6 requires folium==0.2.1, but you have folium 0.8.3 which is incompatible.\u001b[0m\n",
            "Successfully installed attrs-21.2.0 cachetools-3.1.1 farmhashpy-0.4.0 grpcio-1.34.1 jax-0.2.28 jaxlib-0.1.76 semantic-version-2.8.5 tensorflow-datasets-4.5.2 tensorflow-federated-0.20.0 tensorflow-model-optimization-0.7.2 tensorflow-privacy-0.7.3 tf-estimator-nightly-2.8.0.dev2021122109 tqdm-4.28.1\n"
          ]
        },
        {
          "output_type": "display_data",
          "data": {
            "application/vnd.colab-display-data+json": {
              "pip_warning": {
                "packages": [
                  "jax",
                  "jaxlib"
                ]
              }
            }
          },
          "metadata": {}
        }
      ]
    },
    {
      "cell_type": "markdown",
      "source": [
        "# **Import Necessary Libraries**"
      ],
      "metadata": {
        "id": "esT0FSCbn1k3"
      }
    },
    {
      "cell_type": "code",
      "source": [
        "import numpy as np\n",
        "import collections\n",
        "import matplotlib.image as img\n",
        "import matplotlib.pyplot as plt\n",
        "import tensorflow as tf\n",
        "import tensorflow_federated as tff\n",
        "import tensorflow_datasets as tfds\n",
        "import nest_asyncio as na\n",
        "import random "
      ],
      "metadata": {
        "id": "saAeLPIGnJyO"
      },
      "execution_count": 96,
      "outputs": []
    },
    {
      "cell_type": "code",
      "source": [
        "NUM_CLIENTS=5 \n",
        "NUM_EPOCHS=10\n",
        "BATCH_SIZE=32\n",
        "SHUFFLE_BUFFER=100\n",
        "PREFETCH_BUFFER=10"
      ],
      "metadata": {
        "id": "m1nzB_kJtWvd"
      },
      "execution_count": 97,
      "outputs": []
    },
    {
      "cell_type": "markdown",
      "source": [
        "# **Load the dataset into the environment and make it a federated dataset**"
      ],
      "metadata": {
        "id": "3gRB1c-rShCR"
      }
    },
    {
      "cell_type": "code",
      "source": [
        "def Train_and_Test_Set(directory_name):\n",
        "  \"\"\"a function to load the images in a large directory into a tensorflow dataset object\n",
        "  the data is split 80:20 in training:test. The dataset is shuffled before splitting\n",
        "  and the images are formatted to 512x512 pixels (pixel values range from 0 to 255)\n",
        "  Images are labelled 0,1 based on the folder they are in. Normalcases are 0 and \n",
        "  cancercases are 1\"\"\"\n",
        "  dataset_train=tf.keras.preprocessing.image_dataset_from_directory('/content/COMP530/'+directory_name,\n",
        "                                                                    labels='inferred',\n",
        "                                                                    label_mode='int',\n",
        "                                                                    class_names=['NormalCases','cancercases'],\n",
        "                                                                    color_mode='rgb',\n",
        "                                                                    image_size=(512,512),\n",
        "                                                                    shuffle=True,\n",
        "                                                                    seed=305,\n",
        "                                                                    validation_split=0.2,\n",
        "                                                                    subset='training',\n",
        "                                                                    batch_size=None\n",
        "                                                                    )\n",
        "  \n",
        "  dataset_test=tf.keras.preprocessing.image_dataset_from_directory('/content/COMP530/'+directory_name,\n",
        "                                                                    labels='inferred',\n",
        "                                                                    label_mode='int',\n",
        "                                                                    class_names=['NormalCases','cancercases'],\n",
        "                                                                    color_mode='rgb',\n",
        "                                                                    image_size=(512,512),\n",
        "                                                                    shuffle=True,\n",
        "                                                                    seed=305,\n",
        "                                                                    validation_split=0.2,\n",
        "                                                                    subset='validation',\n",
        "                                                                    batch_size=None\n",
        "                                                                    )\n",
        "\n",
        "  return dataset_train,dataset_test"
      ],
      "metadata": {
        "id": "iywtvxgWnJ0-"
      },
      "execution_count": 98,
      "outputs": []
    },
    {
      "cell_type": "code",
      "source": [
        "def Train_Test_Set(directory_name):\n",
        "  \"\"\"a function to load the images in a large directory into a tensorflow dataset object\n",
        "  the data is split 80:20 in training:test. The dataset is shuffled before splitting\n",
        "  and the images are formatted to 512x512 pixels (pixel values range from 0 to 255)\n",
        "  Images are labelled 0,1 based on the folder they are in. Normalcases are 0 and \n",
        "  cancercases are 1\"\"\"\n",
        "  dataset_train=tf.keras.preprocessing.image_dataset_from_directory('/content/COMP530/'+directory_name,\n",
        "                                                                    labels='inferred',\n",
        "                                                                    label_mode='int',\n",
        "                                                                    class_names=['Normal','Cancer'],\n",
        "                                                                    color_mode='rgb',\n",
        "                                                                    image_size=(512,512),\n",
        "                                                                    shuffle=True,\n",
        "                                                                    seed=305,\n",
        "                                                                    validation_split=0.2,\n",
        "                                                                    subset='training',\n",
        "                                                                    batch_size=None\n",
        "                                                                    )\n",
        "  \n",
        "  dataset_test=tf.keras.preprocessing.image_dataset_from_directory('/content/COMP530/'+directory_name,\n",
        "                                                                    labels='inferred',\n",
        "                                                                    label_mode='int',\n",
        "                                                                    class_names=['Normal','Cancer'],\n",
        "                                                                    color_mode='rgb',\n",
        "                                                                    image_size=(512,512),\n",
        "                                                                    shuffle=True,\n",
        "                                                                    seed=305,\n",
        "                                                                    validation_split=0.2,\n",
        "                                                                    subset='validation',\n",
        "                                                                    batch_size=None\n",
        "                                                                    )\n",
        "\n",
        "  return dataset_train,dataset_test"
      ],
      "metadata": {
        "id": "mqgcfHD1dfNl"
      },
      "execution_count": 99,
      "outputs": []
    },
    {
      "cell_type": "code",
      "source": [
        "def federate_dataset(Dataset,clients):\n",
        "  \"\"\"\n",
        "  args:\n",
        "  Dataset - the dataset object to be passed into the function and separated between the clients in the simulation\n",
        "  clients - the number of clients for the dataset to have come from in the simulated environment\n",
        "  return:\n",
        "  dataset_by_client - the original dataset federated between the number of clients. \n",
        "  each client is labelled by their client id, in a dictionary. each id points to an individual dataset object\n",
        "  \"\"\"\n",
        "  image_count=tf.data.experimental.cardinality(Dataset).numpy()\n",
        "  image_per_set=int(np.floor(image_count/clients))\n",
        "\n",
        "  client_train_dataset=collections.OrderedDict()\n",
        "  Dataset=tfds.as_numpy(Dataset)\n",
        "  count=0\n",
        "  client_num=1\n",
        "  y=[]\n",
        "  x=[]\n",
        "  \"\"\"this code snippet assigns particular training examples to each client. In this example they have been evenly distributed\n",
        "  hetrogeneity of federated data could be explored by randomly assigning a clients to each training example.\n",
        "  This would result in some clients having more than enough training data locally and some  and some suffering from data\n",
        "  paucity locally. \"\"\"\n",
        "  for image in Dataset:\n",
        "    count+=1\n",
        "    y.append(image[1])\n",
        "    x.append(image[0])\n",
        "    if(count==image_per_set):\n",
        "      x=np.asarray(x,dtype=np.float32)\n",
        "      y=np.asarray(y,dtype=np.int32)\n",
        "      data=collections.OrderedDict((('label', y), ('image', x)))\n",
        "      client_train_dataset[\"client_\"+str(client_num)]=data\n",
        "      count=0\n",
        "      client_num+=1\n",
        "      y=[]\n",
        "      x=[]\n",
        "\n",
        "  federated_dataset=tff.simulation.datasets.TestClientData(client_train_dataset)\n",
        "  return federated_dataset"
      ],
      "metadata": {
        "id": "37i3yCalnJ4G"
      },
      "execution_count": 100,
      "outputs": []
    },
    {
      "cell_type": "code",
      "source": [
        "def preprocess(dataset):\n",
        "\n",
        "  def format_batch(element):\n",
        "    \"\"\"flatten the pixels in a batch and return the features as an 'OrderedDict'\"\"\"\n",
        "    tf.image.per_image_standardization(element['image'])\n",
        "    return collections.OrderedDict(\n",
        "        x=tf.image.resize(element['image'],(224,224)),\n",
        "        y=tf.reshape(element['label'],[-1,1])\n",
        "    )\n",
        "  return dataset.repeat(NUM_EPOCHS).shuffle(SHUFFLE_BUFFER, seed=1).batch(BATCH_SIZE).map(format_batch).prefetch(PREFETCH_BUFFER)"
      ],
      "metadata": {
        "id": "d_yaRnnRsdyV"
      },
      "execution_count": 101,
      "outputs": []
    },
    {
      "cell_type": "code",
      "source": [
        "  data_augmentation = tf.keras.Sequential([\n",
        "  tf.keras.layers.RandomFlip(\"horizontal_and_vertical\"),\n",
        "  tf.keras.layers.RandomRotation(0.2),\n",
        "  ])"
      ],
      "metadata": {
        "id": "QB6B8v18LYE3"
      },
      "execution_count": 102,
      "outputs": []
    },
    {
      "cell_type": "code",
      "source": [
        "def make_federated_data(client_data,client_ids,training):\n",
        "  \"\"\" the federated dataset that can be passed into the federated environemt to train or test the network \"\"\"\n",
        "  data_augmentation = tf.keras.Sequential([\n",
        "  tf.keras.layers.RandomFlip(\"horizontal_and_vertical\"),\n",
        "  tf.keras.layers.RandomRotation(0.2),\n",
        "  ])\n",
        "  if training:\n",
        "    client_ids=random.sample(client_ids,random.randint(1,NUM_CLIENTS))\n",
        "  return[\n",
        "         preprocess(client_data.create_tf_dataset_for_client(x)).map(lambda x: (data_augmentation(x['x']),x['y']))\n",
        "         for x in client_ids         \n",
        "  ]"
      ],
      "metadata": {
        "id": "uw8od7l3pfFm"
      },
      "execution_count": 103,
      "outputs": []
    },
    {
      "cell_type": "code",
      "source": [
        "\"\"\" the original dataset held in keras dataset objects \"\"\"\n",
        "dataset_train, dataset_test=Train_and_Test_Set(\"Dataset1\")\n",
        "#dataset_train, dataset_test=Train_Test_Set(\"IQQ-OTHNCCD+\")\n",
        "\"\"\" the dataset split by the which client the data has come from \"\"\"\n",
        "federated_train_dataset=federate_dataset(dataset_train,NUM_CLIENTS)\n",
        "federated_test_dataset=federate_dataset(dataset_test,NUM_CLIENTS)\n",
        "\"\"\" an example dataset for a single client used to get the input specification for the federated model \"\"\"\n",
        "example_dataset = federated_train_dataset.create_tf_dataset_for_client(federated_train_dataset.client_ids[0])\n",
        "preprocessed_example_dataset=preprocess(example_dataset)"
      ],
      "metadata": {
        "id": "jRHseKmntCzt",
        "outputId": "c66cd18c-642d-4ce9-e20e-06ef780c51fd",
        "colab": {
          "base_uri": "https://localhost:8080/"
        }
      },
      "execution_count": 104,
      "outputs": [
        {
          "output_type": "stream",
          "name": "stdout",
          "text": [
            "Found 1097 files belonging to 2 classes.\n",
            "Using 878 files for training.\n",
            "Found 1097 files belonging to 2 classes.\n",
            "Using 219 files for validation.\n"
          ]
        }
      ]
    },
    {
      "cell_type": "markdown",
      "source": [
        "# **Load a model pretrained on the imagenet dataset as the CNN for the environment**"
      ],
      "metadata": {
        "id": "XokSTwlDTiCv"
      }
    },
    {
      "cell_type": "code",
      "source": [
        "def ResNet_model():\n",
        "  base_model=tf.keras.applications.ResNet50(weights='imagenet',input_shape=(224,224,3),include_top=False) # use resnet50 as the base for the tl model\n",
        "  base_model.trainable = False # freeze the resnet50 layers\n",
        "\n",
        "  inputs = tf.keras.Input(shape=(224, 224, 3))\n",
        "  x = base_model(inputs, training=False)# Convert features of shape `base_model.output_shape[1:]` to vectors\n",
        "  x = tf.keras.layers.GlobalAveragePooling2D()(x)\n",
        "  x = tf.keras.layers.Dropout(0.2)(x)\n",
        "  x = tf.keras.layers.Dense(64,activation='relu')(x)\n",
        "  x = tf.keras.layers.Dense(32,activation='relu')(x)\n",
        "  x = tf.keras.layers.Dense(16,activation='relu')(x)\n",
        "  outputs = tf.keras.layers.Dense(1,activation='sigmoid')(x)# A Dense classifier with a single unit (binary classification)\n",
        "  model = tf.keras.Model(inputs, outputs)\n",
        "  return model\n"
      ],
      "metadata": {
        "id": "ELou-iMrkrHA"
      },
      "execution_count": 105,
      "outputs": []
    },
    {
      "cell_type": "code",
      "source": [
        "def MobileNet_model():\n",
        "  base_model=tf.keras.applications.MobileNetV3Small(weights='imagenet',input_shape=(224,224,3),include_top=False) # use mobilenetv2 as the base for the tl model\n",
        "  base_model.trainable = False # freeze the mobilenetv2 layers\n",
        "\n",
        "  inputs = tf.keras.Input(shape=(224, 224, 3))\n",
        "  x = base_model(inputs, training=False)# Convert features of shape `base_model.output_shape[1:]` to vectors\n",
        "  x = tf.keras.layers.GlobalAveragePooling2D()(x)\n",
        "  x = tf.keras.layers.Dropout(0.2)(x)\n",
        "  x = tf.keras.layers.Dense(64,activation='relu')(x)\n",
        "  x = tf.keras.layers.Dense(32,activation='relu')(x)\n",
        "  x = tf.keras.layers.Dense(16,activation='relu')(x)\n",
        "  outputs = tf.keras.layers.Dense(1,activation='sigmoid')(x)# A Dense classifier with a single unit (binary classification)\n",
        "  model = tf.keras.Model(inputs, outputs)\n",
        "  return model"
      ],
      "metadata": {
        "id": "K3unZ6-fUXbR"
      },
      "execution_count": 106,
      "outputs": []
    },
    {
      "cell_type": "code",
      "source": [
        "def Inception_model():\n",
        "  base_model=tf.keras.applications.InceptionV3(weights='imagenet',input_shape=(224,224,3),include_top=False) # use Inceptionv3 as the base for the tl model\n",
        "  base_model.trainable = False # freeze the inceptionv3 layers\n",
        "\n",
        "  inputs = tf.keras.Input(shape=(224, 224, 3))\n",
        "  x = base_model(inputs, training=False)# Convert features of shape `base_model.output_shape[1:]` to vectors\n",
        "  x = tf.keras.layers.GlobalAveragePooling2D()(x)\n",
        "  x = tf.keras.layers.Dropout(0.2)(x)\n",
        "  x = tf.keras.layers.Dense(64,activation='relu')(x)\n",
        "  x = tf.keras.layers.Dense(32,activation='relu')(x)\n",
        "  x = tf.keras.layers.Dense(16,activation='relu')(x)\n",
        "  outputs = tf.keras.layers.Dense(1,activation='sigmoid')(x)# A Dense classifier with a single unit (binary classification)\n",
        "  model = tf.keras.Model(inputs, outputs)\n",
        "  return model"
      ],
      "metadata": {
        "id": "v5lZteKJcpPZ"
      },
      "execution_count": 107,
      "outputs": []
    },
    {
      "cell_type": "code",
      "source": [
        "#resnet=ResNet_model()\n",
        "#resnet.summary()\n",
        "mobilenet=MobileNet_model()\n",
        "mobilenet.summary()"
      ],
      "metadata": {
        "id": "LpTaLiX9lGmZ",
        "outputId": "2fb255dc-cd2d-4dd7-afb6-90ed0c9f1667",
        "colab": {
          "base_uri": "https://localhost:8080/"
        }
      },
      "execution_count": 108,
      "outputs": [
        {
          "output_type": "stream",
          "name": "stdout",
          "text": [
            "Downloading data from https://storage.googleapis.com/tensorflow/keras-applications/mobilenet_v3/weights_mobilenet_v3_small_224_1.0_float_no_top_v2.h5\n",
            "4341760/4334752 [==============================] - 0s 0us/step\n",
            "4349952/4334752 [==============================] - 0s 0us/step\n",
            "Model: \"model_4\"\n",
            "_________________________________________________________________\n",
            " Layer (type)                Output Shape              Param #   \n",
            "=================================================================\n",
            " input_10 (InputLayer)       [(None, 224, 224, 3)]     0         \n",
            "                                                                 \n",
            " MobilenetV3small (Functiona  (None, 7, 7, 576)        939120    \n",
            " l)                                                              \n",
            "                                                                 \n",
            " global_average_pooling2d_4   (None, 576)              0         \n",
            " (GlobalAveragePooling2D)                                        \n",
            "                                                                 \n",
            " dropout_4 (Dropout)         (None, 576)               0         \n",
            "                                                                 \n",
            " dense_16 (Dense)            (None, 64)                36928     \n",
            "                                                                 \n",
            " dense_17 (Dense)            (None, 32)                2080      \n",
            "                                                                 \n",
            " dense_18 (Dense)            (None, 16)                528       \n",
            "                                                                 \n",
            " dense_19 (Dense)            (None, 1)                 17        \n",
            "                                                                 \n",
            "=================================================================\n",
            "Total params: 978,673\n",
            "Trainable params: 39,553\n",
            "Non-trainable params: 939,120\n",
            "_________________________________________________________________\n"
          ]
        }
      ]
    },
    {
      "cell_type": "markdown",
      "source": [
        "# **Create the federated environment based on the ResNet50 model** "
      ],
      "metadata": {
        "id": "PiwJ-W_sQOgC"
      }
    },
    {
      "cell_type": "code",
      "source": [
        "def federated_model():\n",
        "  #resnet=ResNet_model()\n",
        "  mobilenet=MobileNet_model()\n",
        "  return tff.learning.from_keras_model(\n",
        "      #resnet,\n",
        "      mobilenet,\n",
        "      input_spec=preprocessed_example_dataset.element_spec,\n",
        "      loss=tf.keras.losses.BinaryCrossentropy(),\n",
        "      metrics=[tf.keras.metrics.BinaryAccuracy(),tf.keras.metrics.Precision(),tf.keras.metrics.TruePositives(),tf.keras.metrics.TrueNegatives(),tf.keras.metrics.FalsePositives(),tf.keras.metrics.FalseNegatives()])"
      ],
      "metadata": {
        "id": "2xrCU3_8pkyF"
      },
      "execution_count": 109,
      "outputs": []
    },
    {
      "cell_type": "code",
      "source": [
        "iterative_process = tff.learning.build_federated_averaging_process(\n",
        "    federated_model,\n",
        "    client_optimizer_fn=lambda: tf.keras.optimizers.Adam(learning_rate=0.0001),\n",
        "    server_optimizer_fn=lambda: tf.keras.optimizers.Adam(learning_rate=0.001))"
      ],
      "metadata": {
        "id": "mKK4uNJfppJm"
      },
      "execution_count": 110,
      "outputs": []
    },
    {
      "cell_type": "code",
      "source": [
        "%load_ext tensorboard"
      ],
      "metadata": {
        "id": "ltuUUcGtlrGT",
        "outputId": "48f1f510-9a40-42c8-ce6b-e20088576c0e",
        "colab": {
          "base_uri": "https://localhost:8080/"
        }
      },
      "execution_count": 111,
      "outputs": [
        {
          "output_type": "stream",
          "name": "stdout",
          "text": [
            "The tensorboard extension is already loaded. To reload it, use:\n",
            "  %reload_ext tensorboard\n"
          ]
        }
      ]
    },
    {
      "cell_type": "code",
      "source": [
        "%reload_ext tensorboard"
      ],
      "metadata": {
        "id": "AxXdwfJ4AseC"
      },
      "execution_count": 112,
      "outputs": []
    },
    {
      "cell_type": "code",
      "source": [
        "na.apply()\n",
        "logdir = \"/tmp/logs/scalars/training/\"\n",
        "summary_writer = tf.summary.create_file_writer(logdir)\n",
        "state=iterative_process.initialize()\n",
        "NUM_ROUNDS=101\n",
        "with summary_writer.as_default():\n",
        "  for round_num in range(1, NUM_ROUNDS):\n",
        "    federated_train_data = make_federated_data(federated_train_dataset, federated_train_dataset.client_ids,training=True)\n",
        "    state, metrics = iterative_process.next(state, federated_train_data)\n",
        "    train=metrics['train']\n",
        "    specificity=train['true_negatives']/(train['true_negatives']+train['false_positives'])\n",
        "    sensitivity=train['true_positives']/(train['true_positives']+train['false_negatives'])\n",
        "    tf.summary.scalar('Specificity', specificity, step=round_num)\n",
        "    tf.summary.scalar('Sensitivity', sensitivity, step=round_num)\n",
        "    print('round {:2d}, metrics={}'.format(round_num, metrics['train']),'(Specificity,',specificity,') (Sensitivity,',sensitivity,')')\n",
        "    for name, value in metrics['train'].items():\n",
        "        tf.summary.scalar(name, value, step=round_num)\n",
        "        if(name=='recall'):\n",
        "          break"
      ],
      "metadata": {
        "id": "ngNxWFbgps5F",
        "outputId": "7292e06f-168f-4446-9a50-dd8d4ec8026f",
        "colab": {
          "base_uri": "https://localhost:8080/"
        }
      },
      "execution_count": 113,
      "outputs": [
        {
          "output_type": "stream",
          "name": "stdout",
          "text": [
            "round  1, metrics=OrderedDict([('binary_accuracy', 0.6150857), ('precision', 0.6194412), ('true_positives', 5321.0), ('true_negatives', 61.0), ('false_positives', 3269.0), ('false_negatives', 99.0), ('loss', 0.69165295), ('num_examples', 8750), ('num_batches', 275)]) (Specificity, 0.018318318 ) (Sensitivity, 0.98173434 )\n",
            "round  2, metrics=OrderedDict([('binary_accuracy', 0.64), ('precision', 0.64), ('true_positives', 2240.0), ('true_negatives', 0.0), ('false_positives', 1260.0), ('false_negatives', 0.0), ('loss', 0.68997616), ('num_examples', 3500), ('num_batches', 110)]) (Specificity, 0.0 ) (Sensitivity, 1.0 )\n",
            "round  3, metrics=OrderedDict([('binary_accuracy', 0.64), ('precision', 0.64), ('true_positives', 1120.0), ('true_negatives', 0.0), ('false_positives', 630.0), ('false_negatives', 0.0), ('loss', 0.68911695), ('num_examples', 1750), ('num_batches', 55)]) (Specificity, 0.0 ) (Sensitivity, 1.0 )\n",
            "round  4, metrics=OrderedDict([('binary_accuracy', 0.61904764), ('precision', 0.61904764), ('true_positives', 3250.0), ('true_negatives', 0.0), ('false_positives', 2000.0), ('false_negatives', 0.0), ('loss', 0.68897164), ('num_examples', 5250), ('num_batches', 165)]) (Specificity, 0.0 ) (Sensitivity, 1.0 )\n",
            "round  5, metrics=OrderedDict([('binary_accuracy', 0.64), ('precision', 0.64), ('true_positives', 1120.0), ('true_negatives', 0.0), ('false_positives', 630.0), ('false_negatives', 0.0), ('loss', 0.68717813), ('num_examples', 1750), ('num_batches', 55)]) (Specificity, 0.0 ) (Sensitivity, 1.0 )\n",
            "round  6, metrics=OrderedDict([('binary_accuracy', 0.62), ('precision', 0.62), ('true_positives', 2170.0), ('true_negatives', 0.0), ('false_positives', 1330.0), ('false_negatives', 0.0), ('loss', 0.68722755), ('num_examples', 3500), ('num_batches', 110)]) (Specificity, 0.0 ) (Sensitivity, 1.0 )\n",
            "round  7, metrics=OrderedDict([('binary_accuracy', 0.6142857), ('precision', 0.6142857), ('true_positives', 4300.0), ('true_negatives', 0.0), ('false_positives', 2700.0), ('false_negatives', 0.0), ('loss', 0.68675435), ('num_examples', 7000), ('num_batches', 220)]) (Specificity, 0.0 ) (Sensitivity, 1.0 )\n",
            "round  8, metrics=OrderedDict([('binary_accuracy', 0.64), ('precision', 0.64), ('true_positives', 3360.0), ('true_negatives', 0.0), ('false_positives', 1890.0), ('false_negatives', 0.0), ('loss', 0.68407524), ('num_examples', 5250), ('num_batches', 165)]) (Specificity, 0.0 ) (Sensitivity, 1.0 )\n",
            "round  9, metrics=OrderedDict([('binary_accuracy', 0.6314286), ('precision', 0.6314286), ('true_positives', 4420.0), ('true_negatives', 0.0), ('false_positives', 2580.0), ('false_negatives', 0.0), ('loss', 0.6837296), ('num_examples', 7000), ('num_batches', 220)]) (Specificity, 0.0 ) (Sensitivity, 1.0 )\n",
            "round 10, metrics=OrderedDict([('binary_accuracy', 0.5714286), ('precision', 0.5714286), ('true_positives', 1000.0), ('true_negatives', 0.0), ('false_positives', 750.0), ('false_negatives', 0.0), ('loss', 0.6882111), ('num_examples', 1750), ('num_batches', 55)]) (Specificity, 0.0 ) (Sensitivity, 1.0 )\n",
            "round 11, metrics=OrderedDict([('binary_accuracy', 0.6152381), ('precision', 0.6152381), ('true_positives', 3230.0), ('true_negatives', 0.0), ('false_positives', 2020.0), ('false_negatives', 0.0), ('loss', 0.68337107), ('num_examples', 5250), ('num_batches', 165)]) (Specificity, 0.0 ) (Sensitivity, 1.0 )\n",
            "round 12, metrics=OrderedDict([('binary_accuracy', 0.60571426), ('precision', 0.60571426), ('true_positives', 1060.0), ('true_negatives', 0.0), ('false_positives', 690.0), ('false_negatives', 0.0), ('loss', 0.6836163), ('num_examples', 1750), ('num_batches', 55)]) (Specificity, 0.0 ) (Sensitivity, 1.0 )\n",
            "round 13, metrics=OrderedDict([('binary_accuracy', 0.6194286), ('precision', 0.6194286), ('true_positives', 5420.0), ('true_negatives', 0.0), ('false_positives', 3330.0), ('false_negatives', 0.0), ('loss', 0.6812362), ('num_examples', 8750), ('num_batches', 275)]) (Specificity, 0.0 ) (Sensitivity, 1.0 )\n",
            "round 14, metrics=OrderedDict([('binary_accuracy', 0.6085714), ('precision', 0.6085714), ('true_positives', 2130.0), ('true_negatives', 0.0), ('false_positives', 1370.0), ('false_negatives', 0.0), ('loss', 0.68177694), ('num_examples', 3500), ('num_batches', 110)]) (Specificity, 0.0 ) (Sensitivity, 1.0 )\n",
            "round 15, metrics=OrderedDict([('binary_accuracy', 0.63809526), ('precision', 0.63809526), ('true_positives', 3350.0), ('true_negatives', 0.0), ('false_positives', 1900.0), ('false_negatives', 0.0), ('loss', 0.67689586), ('num_examples', 5250), ('num_batches', 165)]) (Specificity, 0.0 ) (Sensitivity, 1.0 )\n",
            "round 16, metrics=OrderedDict([('binary_accuracy', 0.64), ('precision', 0.64), ('true_positives', 1120.0), ('true_negatives', 0.0), ('false_positives', 630.0), ('false_negatives', 0.0), ('loss', 0.67562264), ('num_examples', 1750), ('num_batches', 55)]) (Specificity, 0.0 ) (Sensitivity, 1.0 )\n",
            "round 17, metrics=OrderedDict([('binary_accuracy', 0.63714284), ('precision', 0.63714284), ('true_positives', 2230.0), ('true_negatives', 0.0), ('false_positives', 1270.0), ('false_negatives', 0.0), ('loss', 0.6748694), ('num_examples', 3500), ('num_batches', 110)]) (Specificity, 0.0 ) (Sensitivity, 1.0 )\n",
            "round 18, metrics=OrderedDict([('binary_accuracy', 0.5885714), ('precision', 0.5885714), ('true_positives', 2060.0), ('true_negatives', 0.0), ('false_positives', 1440.0), ('false_negatives', 0.0), ('loss', 0.6822464), ('num_examples', 3500), ('num_batches', 110)]) (Specificity, 0.0 ) (Sensitivity, 1.0 )\n",
            "round 19, metrics=OrderedDict([('binary_accuracy', 0.6194286), ('precision', 0.6194286), ('true_positives', 5420.0), ('true_negatives', 0.0), ('false_positives', 3330.0), ('false_negatives', 0.0), ('loss', 0.6760672), ('num_examples', 8750), ('num_batches', 275)]) (Specificity, 0.0 ) (Sensitivity, 1.0 )\n",
            "round 20, metrics=OrderedDict([('binary_accuracy', 0.61142856), ('precision', 0.61142856), ('true_positives', 1070.0), ('true_negatives', 0.0), ('false_positives', 680.0), ('false_negatives', 0.0), ('loss', 0.67680013), ('num_examples', 1750), ('num_batches', 55)]) (Specificity, 0.0 ) (Sensitivity, 1.0 )\n",
            "round 21, metrics=OrderedDict([('binary_accuracy', 0.59619045), ('precision', 0.59619045), ('true_positives', 3130.0), ('true_negatives', 0.0), ('false_positives', 2120.0), ('false_negatives', 0.0), ('loss', 0.67922634), ('num_examples', 5250), ('num_batches', 165)]) (Specificity, 0.0 ) (Sensitivity, 1.0 )\n",
            "round 22, metrics=OrderedDict([('binary_accuracy', 0.61142856), ('precision', 0.61142856), ('true_positives', 1070.0), ('true_negatives', 0.0), ('false_positives', 680.0), ('false_negatives', 0.0), ('loss', 0.6754028), ('num_examples', 1750), ('num_batches', 55)]) (Specificity, 0.0 ) (Sensitivity, 1.0 )\n",
            "round 23, metrics=OrderedDict([('binary_accuracy', 0.5914286), ('precision', 0.5914286), ('true_positives', 2070.0), ('true_negatives', 0.0), ('false_positives', 1430.0), ('false_negatives', 0.0), ('loss', 0.6792717), ('num_examples', 3500), ('num_batches', 110)]) (Specificity, 0.0 ) (Sensitivity, 1.0 )\n",
            "round 24, metrics=OrderedDict([('binary_accuracy', 0.59619045), ('precision', 0.59619045), ('true_positives', 3130.0), ('true_negatives', 0.0), ('false_positives', 2120.0), ('false_negatives', 0.0), ('loss', 0.6777463), ('num_examples', 5250), ('num_batches', 165)]) (Specificity, 0.0 ) (Sensitivity, 1.0 )\n",
            "round 25, metrics=OrderedDict([('binary_accuracy', 0.6194286), ('precision', 0.6194286), ('true_positives', 5420.0), ('true_negatives', 0.0), ('false_positives', 3330.0), ('false_negatives', 0.0), ('loss', 0.6714334), ('num_examples', 8750), ('num_batches', 275)]) (Specificity, 0.0 ) (Sensitivity, 1.0 )\n",
            "round 26, metrics=OrderedDict([('binary_accuracy', 0.6142857), ('precision', 0.6142857), ('true_positives', 4300.0), ('true_negatives', 0.0), ('false_positives', 2700.0), ('false_negatives', 0.0), ('loss', 0.67208), ('num_examples', 7000), ('num_batches', 220)]) (Specificity, 0.0 ) (Sensitivity, 1.0 )\n",
            "round 27, metrics=OrderedDict([('binary_accuracy', 0.6194286), ('precision', 0.6194286), ('true_positives', 5420.0), ('true_negatives', 0.0), ('false_positives', 3330.0), ('false_negatives', 0.0), ('loss', 0.67010444), ('num_examples', 8750), ('num_batches', 275)]) (Specificity, 0.0 ) (Sensitivity, 1.0 )\n",
            "round 28, metrics=OrderedDict([('binary_accuracy', 0.60714287), ('precision', 0.60714287), ('true_positives', 4250.0), ('true_negatives', 0.0), ('false_positives', 2750.0), ('false_negatives', 0.0), ('loss', 0.6730909), ('num_examples', 7000), ('num_batches', 220)]) (Specificity, 0.0 ) (Sensitivity, 1.0 )\n",
            "round 29, metrics=OrderedDict([('binary_accuracy', 0.62142855), ('precision', 0.62142855), ('true_positives', 4350.0), ('true_negatives', 0.0), ('false_positives', 2650.0), ('false_negatives', 0.0), ('loss', 0.6682571), ('num_examples', 7000), ('num_batches', 220)]) (Specificity, 0.0 ) (Sensitivity, 1.0 )\n",
            "round 30, metrics=OrderedDict([('binary_accuracy', 0.60571426), ('precision', 0.60571426), ('true_positives', 1060.0), ('true_negatives', 0.0), ('false_positives', 690.0), ('false_negatives', 0.0), ('loss', 0.67279685), ('num_examples', 1750), ('num_batches', 55)]) (Specificity, 0.0 ) (Sensitivity, 1.0 )\n",
            "round 31, metrics=OrderedDict([('binary_accuracy', 0.6152381), ('precision', 0.6152381), ('true_positives', 3230.0), ('true_negatives', 0.0), ('false_positives', 2020.0), ('false_negatives', 0.0), ('loss', 0.6690335), ('num_examples', 5250), ('num_batches', 165)]) (Specificity, 0.0 ) (Sensitivity, 1.0 )\n",
            "round 32, metrics=OrderedDict([('binary_accuracy', 0.60571426), ('precision', 0.60571426), ('true_positives', 3180.0), ('true_negatives', 0.0), ('false_positives', 2070.0), ('false_negatives', 0.0), ('loss', 0.67191285), ('num_examples', 5250), ('num_batches', 165)]) (Specificity, 0.0 ) (Sensitivity, 1.0 )\n",
            "round 33, metrics=OrderedDict([('binary_accuracy', 0.64), ('precision', 0.64), ('true_positives', 1120.0), ('true_negatives', 0.0), ('false_positives', 630.0), ('false_negatives', 0.0), ('loss', 0.6600002), ('num_examples', 1750), ('num_batches', 55)]) (Specificity, 0.0 ) (Sensitivity, 1.0 )\n",
            "round 34, metrics=OrderedDict([('binary_accuracy', 0.6685714), ('precision', 0.6685714), ('true_positives', 1170.0), ('true_negatives', 0.0), ('false_positives', 580.0), ('false_negatives', 0.0), ('loss', 0.6486688), ('num_examples', 1750), ('num_batches', 55)]) (Specificity, 0.0 ) (Sensitivity, 1.0 )\n",
            "round 35, metrics=OrderedDict([('binary_accuracy', 0.6085714), ('precision', 0.6085714), ('true_positives', 2130.0), ('true_negatives', 0.0), ('false_positives', 1370.0), ('false_negatives', 0.0), ('loss', 0.6703594), ('num_examples', 3500), ('num_batches', 110)]) (Specificity, 0.0 ) (Sensitivity, 1.0 )\n",
            "round 36, metrics=OrderedDict([('binary_accuracy', 0.5714286), ('precision', 0.5714286), ('true_positives', 1000.0), ('true_negatives', 0.0), ('false_positives', 750.0), ('false_negatives', 0.0), ('loss', 0.6832878), ('num_examples', 1750), ('num_batches', 55)]) (Specificity, 0.0 ) (Sensitivity, 1.0 )\n",
            "round 37, metrics=OrderedDict([('binary_accuracy', 0.6152381), ('precision', 0.6152381), ('true_positives', 3230.0), ('true_negatives', 0.0), ('false_positives', 2020.0), ('false_negatives', 0.0), ('loss', 0.66679204), ('num_examples', 5250), ('num_batches', 165)]) (Specificity, 0.0 ) (Sensitivity, 1.0 )\n",
            "round 38, metrics=OrderedDict([('binary_accuracy', 0.6194286), ('precision', 0.6194286), ('true_positives', 5420.0), ('true_negatives', 0.0), ('false_positives', 3330.0), ('false_negatives', 0.0), ('loss', 0.66511405), ('num_examples', 8750), ('num_batches', 275)]) (Specificity, 0.0 ) (Sensitivity, 1.0 )\n",
            "round 39, metrics=OrderedDict([('binary_accuracy', 0.60761905), ('precision', 0.60761905), ('true_positives', 3190.0), ('true_negatives', 0.0), ('false_positives', 2060.0), ('false_negatives', 0.0), ('loss', 0.66970426), ('num_examples', 5250), ('num_batches', 165)]) (Specificity, 0.0 ) (Sensitivity, 1.0 )\n",
            "round 40, metrics=OrderedDict([('binary_accuracy', 0.64), ('precision', 0.64), ('true_positives', 1120.0), ('true_negatives', 0.0), ('false_positives', 630.0), ('false_negatives', 0.0), ('loss', 0.6564148), ('num_examples', 1750), ('num_batches', 55)]) (Specificity, 0.0 ) (Sensitivity, 1.0 )\n",
            "round 41, metrics=OrderedDict([('binary_accuracy', 0.64), ('precision', 0.64), ('true_positives', 1120.0), ('true_negatives', 0.0), ('false_positives', 630.0), ('false_negatives', 0.0), ('loss', 0.65606105), ('num_examples', 1750), ('num_batches', 55)]) (Specificity, 0.0 ) (Sensitivity, 1.0 )\n",
            "round 42, metrics=OrderedDict([('binary_accuracy', 0.6314286), ('precision', 0.6314286), ('true_positives', 4420.0), ('true_negatives', 0.0), ('false_positives', 2580.0), ('false_negatives', 0.0), ('loss', 0.6593013), ('num_examples', 7000), ('num_batches', 220)]) (Specificity, 0.0 ) (Sensitivity, 1.0 )\n",
            "round 43, metrics=OrderedDict([('binary_accuracy', 0.6085714), ('precision', 0.6085714), ('true_positives', 2130.0), ('true_negatives', 0.0), ('false_positives', 1370.0), ('false_negatives', 0.0), ('loss', 0.6694279), ('num_examples', 3500), ('num_batches', 110)]) (Specificity, 0.0 ) (Sensitivity, 1.0 )\n",
            "round 44, metrics=OrderedDict([('binary_accuracy', 0.60571426), ('precision', 0.60571426), ('true_positives', 1060.0), ('true_negatives', 0.0), ('false_positives', 690.0), ('false_negatives', 0.0), ('loss', 0.67066616), ('num_examples', 1750), ('num_batches', 55)]) (Specificity, 0.0 ) (Sensitivity, 1.0 )\n",
            "round 45, metrics=OrderedDict([('binary_accuracy', 0.6314286), ('precision', 0.6314286), ('true_positives', 4420.0), ('true_negatives', 0.0), ('false_positives', 2580.0), ('false_negatives', 0.0), ('loss', 0.65868133), ('num_examples', 7000), ('num_batches', 220)]) (Specificity, 0.0 ) (Sensitivity, 1.0 )\n",
            "round 46, metrics=OrderedDict([('binary_accuracy', 0.64), ('precision', 0.64), ('true_positives', 2240.0), ('true_negatives', 0.0), ('false_positives', 1260.0), ('false_negatives', 0.0), ('loss', 0.65433675), ('num_examples', 3500), ('num_batches', 110)]) (Specificity, 0.0 ) (Sensitivity, 1.0 )\n",
            "round 47, metrics=OrderedDict([('binary_accuracy', 0.63714284), ('precision', 0.63714284), ('true_positives', 2230.0), ('true_negatives', 0.0), ('false_positives', 1270.0), ('false_negatives', 0.0), ('loss', 0.6554488), ('num_examples', 3500), ('num_batches', 110)]) (Specificity, 0.0 ) (Sensitivity, 1.0 )\n",
            "round 48, metrics=OrderedDict([('binary_accuracy', 0.6314286), ('precision', 0.6314286), ('true_positives', 4420.0), ('true_negatives', 0.0), ('false_positives', 2580.0), ('false_negatives', 0.0), ('loss', 0.65826917), ('num_examples', 7000), ('num_batches', 220)]) (Specificity, 0.0 ) (Sensitivity, 1.0 )\n",
            "round 49, metrics=OrderedDict([('binary_accuracy', 0.62857145), ('precision', 0.62857145), ('true_positives', 3300.0), ('true_negatives', 0.0), ('false_positives', 1950.0), ('false_negatives', 0.0), ('loss', 0.65949124), ('num_examples', 5250), ('num_batches', 165)]) (Specificity, 0.0 ) (Sensitivity, 1.0 )\n",
            "round 50, metrics=OrderedDict([('binary_accuracy', 0.62285715), ('precision', 0.62285715), ('true_positives', 4360.0), ('true_negatives', 0.0), ('false_positives', 2640.0), ('false_negatives', 0.0), ('loss', 0.66200906), ('num_examples', 7000), ('num_batches', 220)]) (Specificity, 0.0 ) (Sensitivity, 1.0 )\n",
            "round 51, metrics=OrderedDict([('binary_accuracy', 0.60714287), ('precision', 0.60714287), ('true_positives', 4250.0), ('true_negatives', 0.0), ('false_positives', 2750.0), ('false_negatives', 0.0), ('loss', 0.6700992), ('num_examples', 7000), ('num_batches', 220)]) (Specificity, 0.0 ) (Sensitivity, 1.0 )\n",
            "round 52, metrics=OrderedDict([('binary_accuracy', 0.6194286), ('precision', 0.6194286), ('true_positives', 5420.0), ('true_negatives', 0.0), ('false_positives', 3330.0), ('false_negatives', 0.0), ('loss', 0.6638368), ('num_examples', 8750), ('num_batches', 275)]) (Specificity, 0.0 ) (Sensitivity, 1.0 )\n",
            "round 54, metrics=OrderedDict([('binary_accuracy', 0.62), ('precision', 0.62), ('true_positives', 2170.0), ('true_negatives', 0.0), ('false_positives', 1330.0), ('false_negatives', 0.0), ('loss', 0.66293055), ('num_examples', 3500), ('num_batches', 110)]) (Specificity, 0.0 ) (Sensitivity, 1.0 )\n",
            "round 55, metrics=OrderedDict([('binary_accuracy', 0.6194286), ('precision', 0.6194286), ('true_positives', 5420.0), ('true_negatives', 0.0), ('false_positives', 3330.0), ('false_negatives', 0.0), ('loss', 0.6639182), ('num_examples', 8750), ('num_batches', 275)]) (Specificity, 0.0 ) (Sensitivity, 1.0 )\n",
            "round 56, metrics=OrderedDict([('binary_accuracy', 0.5885714), ('precision', 0.5885714), ('true_positives', 2060.0), ('true_negatives', 0.0), ('false_positives', 1440.0), ('false_negatives', 0.0), ('loss', 0.679934), ('num_examples', 3500), ('num_batches', 110)]) (Specificity, 0.0 ) (Sensitivity, 1.0 )\n",
            "round 57, metrics=OrderedDict([('binary_accuracy', 0.61142856), ('precision', 0.61142856), ('true_positives', 1070.0), ('true_negatives', 0.0), ('false_positives', 680.0), ('false_negatives', 0.0), ('loss', 0.66865855), ('num_examples', 1750), ('num_batches', 55)]) (Specificity, 0.0 ) (Sensitivity, 1.0 )\n",
            "round 58, metrics=OrderedDict([('binary_accuracy', 0.6194286), ('precision', 0.6194286), ('true_positives', 5420.0), ('true_negatives', 0.0), ('false_positives', 3330.0), ('false_negatives', 0.0), ('loss', 0.663997), ('num_examples', 8750), ('num_batches', 275)]) (Specificity, 0.0 ) (Sensitivity, 1.0 )\n",
            "round 59, metrics=OrderedDict([('binary_accuracy', 0.6542857), ('precision', 0.6542857), ('true_positives', 2290.0), ('true_negatives', 0.0), ('false_positives', 1210.0), ('false_negatives', 0.0), ('loss', 0.64552915), ('num_examples', 3500), ('num_batches', 110)]) (Specificity, 0.0 ) (Sensitivity, 1.0 )\n",
            "round 60, metrics=OrderedDict([('binary_accuracy', 0.5714286), ('precision', 0.5714286), ('true_positives', 1000.0), ('true_negatives', 0.0), ('false_positives', 750.0), ('false_negatives', 0.0), ('loss', 0.6887491), ('num_examples', 1750), ('num_batches', 55)]) (Specificity, 0.0 ) (Sensitivity, 1.0 )\n",
            "round 61, metrics=OrderedDict([('binary_accuracy', 0.60571426), ('precision', 0.60571426), ('true_positives', 1060.0), ('true_negatives', 0.0), ('false_positives', 690.0), ('false_negatives', 0.0), ('loss', 0.6716679), ('num_examples', 1750), ('num_batches', 55)]) (Specificity, 0.0 ) (Sensitivity, 1.0 )\n",
            "round 62, metrics=OrderedDict([('binary_accuracy', 0.61714286), ('precision', 0.61714286), ('true_positives', 3240.0), ('true_negatives', 0.0), ('false_positives', 2010.0), ('false_negatives', 0.0), ('loss', 0.6649427), ('num_examples', 5250), ('num_batches', 165)]) (Specificity, 0.0 ) (Sensitivity, 1.0 )\n",
            "round 63, metrics=OrderedDict([('binary_accuracy', 0.60761905), ('precision', 0.60761905), ('true_positives', 3190.0), ('true_negatives', 0.0), ('false_positives', 2060.0), ('false_negatives', 0.0), ('loss', 0.6702815), ('num_examples', 5250), ('num_batches', 165)]) (Specificity, 0.0 ) (Sensitivity, 1.0 )\n",
            "round 64, metrics=OrderedDict([('binary_accuracy', 0.64), ('precision', 0.64), ('true_positives', 3360.0), ('true_negatives', 0.0), ('false_positives', 1890.0), ('false_negatives', 0.0), ('loss', 0.6532871), ('num_examples', 5250), ('num_batches', 165)]) (Specificity, 0.0 ) (Sensitivity, 1.0 )\n",
            "round 65, metrics=OrderedDict([('binary_accuracy', 0.5885714), ('precision', 0.5885714), ('true_positives', 2060.0), ('true_negatives', 0.0), ('false_positives', 1440.0), ('false_negatives', 0.0), ('loss', 0.6799311), ('num_examples', 3500), ('num_batches', 110)]) (Specificity, 0.0 ) (Sensitivity, 1.0 )\n",
            "round 66, metrics=OrderedDict([('binary_accuracy', 0.61142856), ('precision', 0.61142856), ('true_positives', 1070.0), ('true_negatives', 0.0), ('false_positives', 680.0), ('false_negatives', 0.0), ('loss', 0.66857177), ('num_examples', 1750), ('num_batches', 55)]) (Specificity, 0.0 ) (Sensitivity, 1.0 )\n",
            "round 67, metrics=OrderedDict([('binary_accuracy', 0.6194286), ('precision', 0.6194286), ('true_positives', 5420.0), ('true_negatives', 0.0), ('false_positives', 3330.0), ('false_negatives', 0.0), ('loss', 0.663902), ('num_examples', 8750), ('num_batches', 275)]) (Specificity, 0.0 ) (Sensitivity, 1.0 )\n",
            "round 68, metrics=OrderedDict([('binary_accuracy', 0.62), ('precision', 0.62), ('true_positives', 2170.0), ('true_negatives', 0.0), ('false_positives', 1330.0), ('false_negatives', 0.0), ('loss', 0.6629281), ('num_examples', 3500), ('num_batches', 110)]) (Specificity, 0.0 ) (Sensitivity, 1.0 )\n",
            "round 69, metrics=OrderedDict([('binary_accuracy', 0.64), ('precision', 0.64), ('true_positives', 1120.0), ('true_negatives', 0.0), ('false_positives', 630.0), ('false_negatives', 0.0), ('loss', 0.6537722), ('num_examples', 1750), ('num_batches', 55)]) (Specificity, 0.0 ) (Sensitivity, 1.0 )\n",
            "round 70, metrics=OrderedDict([('binary_accuracy', 0.6685714), ('precision', 0.6685714), ('true_positives', 1170.0), ('true_negatives', 0.0), ('false_positives', 580.0), ('false_negatives', 0.0), ('loss', 0.6382684), ('num_examples', 1750), ('num_batches', 55)]) (Specificity, 0.0 ) (Sensitivity, 1.0 )\n",
            "round 71, metrics=OrderedDict([('binary_accuracy', 0.61904764), ('precision', 0.61904764), ('true_positives', 3250.0), ('true_negatives', 0.0), ('false_positives', 2000.0), ('false_negatives', 0.0), ('loss', 0.6644766), ('num_examples', 5250), ('num_batches', 165)]) (Specificity, 0.0 ) (Sensitivity, 1.0 )\n",
            "round 72, metrics=OrderedDict([('binary_accuracy', 0.6257143), ('precision', 0.6257143), ('true_positives', 2190.0), ('true_negatives', 0.0), ('false_positives', 1310.0), ('false_negatives', 0.0), ('loss', 0.66110766), ('num_examples', 3500), ('num_batches', 110)]) (Specificity, 0.0 ) (Sensitivity, 1.0 )\n",
            "round 73, metrics=OrderedDict([('binary_accuracy', 0.64), ('precision', 0.64), ('true_positives', 3360.0), ('true_negatives', 0.0), ('false_positives', 1890.0), ('false_negatives', 0.0), ('loss', 0.6535283), ('num_examples', 5250), ('num_batches', 165)]) (Specificity, 0.0 ) (Sensitivity, 1.0 )\n",
            "round 74, metrics=OrderedDict([('binary_accuracy', 0.6194286), ('precision', 0.6194286), ('true_positives', 5420.0), ('true_negatives', 0.0), ('false_positives', 3330.0), ('false_negatives', 0.0), ('loss', 0.6638443), ('num_examples', 8750), ('num_batches', 275)]) (Specificity, 0.0 ) (Sensitivity, 1.0 )\n",
            "round 75, metrics=OrderedDict([('binary_accuracy', 0.6142857), ('precision', 0.6142857), ('true_positives', 4300.0), ('true_negatives', 0.0), ('false_positives', 2700.0), ('false_negatives', 0.0), ('loss', 0.66634214), ('num_examples', 7000), ('num_batches', 220)]) (Specificity, 0.0 ) (Sensitivity, 1.0 )\n",
            "round 76, metrics=OrderedDict([('binary_accuracy', 0.62142855), ('precision', 0.62142855), ('true_positives', 4350.0), ('true_negatives', 0.0), ('false_positives', 2650.0), ('false_negatives', 0.0), ('loss', 0.6627081), ('num_examples', 7000), ('num_batches', 220)]) (Specificity, 0.0 ) (Sensitivity, 1.0 )\n",
            "round 77, metrics=OrderedDict([('binary_accuracy', 0.6314286), ('precision', 0.6314286), ('true_positives', 4420.0), ('true_negatives', 0.0), ('false_positives', 2580.0), ('false_negatives', 0.0), ('loss', 0.6579719), ('num_examples', 7000), ('num_batches', 220)]) (Specificity, 0.0 ) (Sensitivity, 1.0 )\n",
            "round 78, metrics=OrderedDict([('binary_accuracy', 0.6194286), ('precision', 0.6194286), ('true_positives', 5420.0), ('true_negatives', 0.0), ('false_positives', 3330.0), ('false_negatives', 0.0), ('loss', 0.66383475), ('num_examples', 8750), ('num_batches', 275)]) (Specificity, 0.0 ) (Sensitivity, 1.0 )\n",
            "round 79, metrics=OrderedDict([('binary_accuracy', 0.64), ('precision', 0.64), ('true_positives', 2240.0), ('true_negatives', 0.0), ('false_positives', 1260.0), ('false_negatives', 0.0), ('loss', 0.6534282), ('num_examples', 3500), ('num_batches', 110)]) (Specificity, 0.0 ) (Sensitivity, 1.0 )\n",
            "round 80, metrics=OrderedDict([('binary_accuracy', 0.62), ('precision', 0.62), ('true_positives', 2170.0), ('true_negatives', 0.0), ('false_positives', 1330.0), ('false_negatives', 0.0), ('loss', 0.6628753), ('num_examples', 3500), ('num_batches', 110)]) (Specificity, 0.0 ) (Sensitivity, 1.0 )\n",
            "round 81, metrics=OrderedDict([('binary_accuracy', 0.63809526), ('precision', 0.63809526), ('true_positives', 3350.0), ('true_negatives', 0.0), ('false_positives', 1900.0), ('false_negatives', 0.0), ('loss', 0.6545266), ('num_examples', 5250), ('num_batches', 165)]) (Specificity, 0.0 ) (Sensitivity, 1.0 )\n",
            "round 82, metrics=OrderedDict([('binary_accuracy', 0.59619045), ('precision', 0.59619045), ('true_positives', 3130.0), ('true_negatives', 0.0), ('false_positives', 2120.0), ('false_negatives', 0.0), ('loss', 0.67559826), ('num_examples', 5250), ('num_batches', 165)]) (Specificity, 0.0 ) (Sensitivity, 1.0 )\n",
            "round 83, metrics=OrderedDict([('binary_accuracy', 0.6685714), ('precision', 0.6685714), ('true_positives', 1170.0), ('true_negatives', 0.0), ('false_positives', 580.0), ('false_negatives', 0.0), ('loss', 0.6385253), ('num_examples', 1750), ('num_batches', 55)]) (Specificity, 0.0 ) (Sensitivity, 1.0 )\n",
            "round 84, metrics=OrderedDict([('binary_accuracy', 0.60714287), ('precision', 0.60714287), ('true_positives', 4250.0), ('true_negatives', 0.0), ('false_positives', 2750.0), ('false_negatives', 0.0), ('loss', 0.6701746), ('num_examples', 7000), ('num_batches', 220)]) (Specificity, 0.0 ) (Sensitivity, 1.0 )\n",
            "round 85, metrics=OrderedDict([('binary_accuracy', 0.6194286), ('precision', 0.6194286), ('true_positives', 5420.0), ('true_negatives', 0.0), ('false_positives', 3330.0), ('false_negatives', 0.0), ('loss', 0.66383636), ('num_examples', 8750), ('num_batches', 275)]) (Specificity, 0.0 ) (Sensitivity, 1.0 )\n",
            "round 86, metrics=OrderedDict([('binary_accuracy', 0.62142855), ('precision', 0.62142855), ('true_positives', 4350.0), ('true_negatives', 0.0), ('false_positives', 2650.0), ('false_negatives', 0.0), ('loss', 0.6627063), ('num_examples', 7000), ('num_batches', 220)]) (Specificity, 0.0 ) (Sensitivity, 1.0 )\n",
            "round 87, metrics=OrderedDict([('binary_accuracy', 0.60714287), ('precision', 0.60714287), ('true_positives', 4250.0), ('true_negatives', 0.0), ('false_positives', 2750.0), ('false_negatives', 0.0), ('loss', 0.67018086), ('num_examples', 7000), ('num_batches', 220)]) (Specificity, 0.0 ) (Sensitivity, 1.0 )\n",
            "round 88, metrics=OrderedDict([('binary_accuracy', 0.61142856), ('precision', 0.61142856), ('true_positives', 1070.0), ('true_negatives', 0.0), ('false_positives', 680.0), ('false_negatives', 0.0), ('loss', 0.66835093), ('num_examples', 1750), ('num_batches', 55)]) (Specificity, 0.0 ) (Sensitivity, 1.0 )\n",
            "round 89, metrics=OrderedDict([('binary_accuracy', 0.6194286), ('precision', 0.6194286), ('true_positives', 5420.0), ('true_negatives', 0.0), ('false_positives', 3330.0), ('false_negatives', 0.0), ('loss', 0.66383), ('num_examples', 8750), ('num_batches', 275)]) (Specificity, 0.0 ) (Sensitivity, 1.0 )\n",
            "round 90, metrics=OrderedDict([('binary_accuracy', 0.62285715), ('precision', 0.62285715), ('true_positives', 2180.0), ('true_negatives', 0.0), ('false_positives', 1320.0), ('false_negatives', 0.0), ('loss', 0.66253185), ('num_examples', 3500), ('num_batches', 110)]) (Specificity, 0.0 ) (Sensitivity, 1.0 )\n",
            "round 91, metrics=OrderedDict([('binary_accuracy', 0.6085714), ('precision', 0.6085714), ('true_positives', 2130.0), ('true_negatives', 0.0), ('false_positives', 1370.0), ('false_negatives', 0.0), ('loss', 0.66972303), ('num_examples', 3500), ('num_batches', 110)]) (Specificity, 0.0 ) (Sensitivity, 1.0 )\n",
            "round 92, metrics=OrderedDict([('binary_accuracy', 0.6194286), ('precision', 0.6194286), ('true_positives', 5420.0), ('true_negatives', 0.0), ('false_positives', 3330.0), ('false_negatives', 0.0), ('loss', 0.6638184), ('num_examples', 8750), ('num_batches', 275)]) (Specificity, 0.0 ) (Sensitivity, 1.0 )\n",
            "round 93, metrics=OrderedDict([('binary_accuracy', 0.61714286), ('precision', 0.61714286), ('true_positives', 3240.0), ('true_negatives', 0.0), ('false_positives', 2010.0), ('false_negatives', 0.0), ('loss', 0.6646695), ('num_examples', 5250), ('num_batches', 165)]) (Specificity, 0.0 ) (Sensitivity, 1.0 )\n",
            "round 94, metrics=OrderedDict([('binary_accuracy', 0.6685714), ('precision', 0.6685714), ('true_positives', 1170.0), ('true_negatives', 0.0), ('false_positives', 580.0), ('false_negatives', 0.0), ('loss', 0.63888544), ('num_examples', 1750), ('num_batches', 55)]) (Specificity, 0.0 ) (Sensitivity, 1.0 )\n",
            "round 95, metrics=OrderedDict([('binary_accuracy', 0.61142856), ('precision', 0.61142856), ('true_positives', 1070.0), ('true_negatives', 0.0), ('false_positives', 680.0), ('false_negatives', 0.0), ('loss', 0.6682717), ('num_examples', 1750), ('num_batches', 55)]) (Specificity, 0.0 ) (Sensitivity, 1.0 )\n",
            "round 96, metrics=OrderedDict([('binary_accuracy', 0.6142857), ('precision', 0.6142857), ('true_positives', 4300.0), ('true_negatives', 0.0), ('false_positives', 2700.0), ('false_negatives', 0.0), ('loss', 0.66626215), ('num_examples', 7000), ('num_batches', 220)]) (Specificity, 0.0 ) (Sensitivity, 1.0 )\n",
            "round 97, metrics=OrderedDict([('binary_accuracy', 0.63809526), ('precision', 0.63809526), ('true_positives', 3350.0), ('true_negatives', 0.0), ('false_positives', 1900.0), ('false_negatives', 0.0), ('loss', 0.6546587), ('num_examples', 5250), ('num_batches', 165)]) (Specificity, 0.0 ) (Sensitivity, 1.0 )\n",
            "round 98, metrics=OrderedDict([('binary_accuracy', 0.6314286), ('precision', 0.6314286), ('true_positives', 4420.0), ('true_negatives', 0.0), ('false_positives', 2580.0), ('false_negatives', 0.0), ('loss', 0.65805846), ('num_examples', 7000), ('num_batches', 220)]) (Specificity, 0.0 ) (Sensitivity, 1.0 )\n",
            "round 99, metrics=OrderedDict([('binary_accuracy', 0.5885714), ('precision', 0.5885714), ('true_positives', 2060.0), ('true_negatives', 0.0), ('false_positives', 1440.0), ('false_negatives', 0.0), ('loss', 0.678956), ('num_examples', 3500), ('num_batches', 110)]) (Specificity, 0.0 ) (Sensitivity, 1.0 )\n",
            "round 100, metrics=OrderedDict([('binary_accuracy', 0.62142855), ('precision', 0.62142855), ('true_positives', 4350.0), ('true_negatives', 0.0), ('false_positives', 2650.0), ('false_negatives', 0.0), ('loss', 0.66269875), ('num_examples', 7000), ('num_batches', 220)]) (Specificity, 0.0 ) (Sensitivity, 1.0 )\n"
          ]
        }
      ]
    },
    {
      "cell_type": "markdown",
      "source": [
        "# **Output the results to graph visualisations**"
      ],
      "metadata": {
        "id": "xl0FFZjXLp8J"
      }
    },
    {
      "cell_type": "code",
      "source": [
        "!ls {logdir}\n",
        "%tensorboard --logdir {logdir} --port=0"
      ],
      "metadata": {
        "id": "I3zdVACwlCUf",
        "colab": {
          "base_uri": "https://localhost:8080/",
          "height": 926
        },
        "outputId": "11ddf861-33e4-41b5-baf7-c289ddaf2d1a"
      },
      "execution_count": 114,
      "outputs": [
        {
          "output_type": "stream",
          "name": "stdout",
          "text": [
            "events.out.tfevents.1651831952.373e2ff7fdb6.5364.0.v2\n",
            "events.out.tfevents.1651835340.373e2ff7fdb6.5364.1.v2\n",
            "events.out.tfevents.1651840008.373e2ff7fdb6.5364.2.v2\n",
            "events.out.tfevents.1651841478.373e2ff7fdb6.5364.3.v2\n",
            "events.out.tfevents.1651848972.373e2ff7fdb6.5364.4.v2\n"
          ]
        },
        {
          "output_type": "display_data",
          "data": {
            "text/plain": [
              "Reusing TensorBoard on port 40581 (pid 2630), started 6:25:37 ago. (Use '!kill 2630' to kill it.)"
            ]
          },
          "metadata": {}
        },
        {
          "output_type": "display_data",
          "data": {
            "text/plain": [
              "<IPython.core.display.Javascript object>"
            ],
            "application/javascript": [
              "\n",
              "        (async () => {\n",
              "            const url = new URL(await google.colab.kernel.proxyPort(40581, {'cache': true}));\n",
              "            url.searchParams.set('tensorboardColab', 'true');\n",
              "            const iframe = document.createElement('iframe');\n",
              "            iframe.src = url;\n",
              "            iframe.setAttribute('width', '100%');\n",
              "            iframe.setAttribute('height', '800');\n",
              "            iframe.setAttribute('frameborder', 0);\n",
              "            document.body.appendChild(iframe);\n",
              "        })();\n",
              "    "
            ]
          },
          "metadata": {}
        }
      ]
    },
    {
      "cell_type": "markdown",
      "source": [
        "# **Evaluation on the test set**"
      ],
      "metadata": {
        "id": "goO0YmzVtaAM"
      }
    },
    {
      "cell_type": "code",
      "source": [
        "evaluation=tff.learning.build_federated_evaluation(federated_model)"
      ],
      "metadata": {
        "id": "Ak7ZRu2dBByK"
      },
      "execution_count": 115,
      "outputs": []
    },
    {
      "cell_type": "code",
      "source": [
        "federated_test_data = make_federated_data(federated_test_dataset, federated_test_dataset.client_ids,training=False)"
      ],
      "metadata": {
        "id": "cWqmZZKCoDak"
      },
      "execution_count": 116,
      "outputs": []
    },
    {
      "cell_type": "code",
      "source": [
        "test_metrics = evaluation(state.model, federated_test_data)"
      ],
      "metadata": {
        "id": "Coqmc64BBB9z"
      },
      "execution_count": 117,
      "outputs": []
    },
    {
      "cell_type": "code",
      "source": [
        "test=test_metrics['eval']\n",
        "specificity=test['true_negatives']/(test['true_negatives']+test['false_positives'])\n",
        "sensitivity=test['true_positives']/(test['true_positives']+test['false_negatives'])\n",
        "accuracy=test['binary_accuracy']\n",
        "print('Evaluation Metrics: (Accuracy:)',accuracy,'(Specificity:)',specificity,'(Sensitivity:)',sensitivity)"
      ],
      "metadata": {
        "id": "4wE6RZ-HtkNk",
        "colab": {
          "base_uri": "https://localhost:8080/"
        },
        "outputId": "2c2df921-e4c0-419a-9a64-48f3ce09ad49"
      },
      "execution_count": 118,
      "outputs": [
        {
          "output_type": "stream",
          "name": "stdout",
          "text": [
            "Evaluation Metrics: (Accuracy:) 0.61860466 (Specificity:) 0.0 (Sensitivity:) 1.0\n"
          ]
        }
      ]
    },
    {
      "cell_type": "code",
      "source": [
        "# Uncomment and run this cell to remove old outputs from the directory so new results can be seen on tensorboard\n",
        "\n",
        "#!rm -R /tmp/logs/scalars/*"
      ],
      "metadata": {
        "id": "NH-7zIZ1WIte"
      },
      "execution_count": 119,
      "outputs": []
    }
  ]
}