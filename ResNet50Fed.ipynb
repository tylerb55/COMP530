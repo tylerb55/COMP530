{
  "nbformat": 4,
  "nbformat_minor": 0,
  "metadata": {
    "colab": {
      "name": "ResNet50Fed.ipynb",
      "provenance": [],
      "machine_shape": "hm",
      "authorship_tag": "ABX9TyMUan1aW/emUSREQEe5bMIG",
      "include_colab_link": true
    },
    "kernelspec": {
      "name": "python3",
      "display_name": "Python 3"
    },
    "language_info": {
      "name": "python"
    },
    "accelerator": "GPU"
  },
  "cells": [
    {
      "cell_type": "markdown",
      "metadata": {
        "id": "view-in-github",
        "colab_type": "text"
      },
      "source": [
        "<a href=\"https://colab.research.google.com/github/tylerb55/COMP530/blob/main/ResNet50Fed.ipynb\" target=\"_parent\"><img src=\"https://colab.research.google.com/assets/colab-badge.svg\" alt=\"Open In Colab\"/></a>"
      ]
    },
    {
      "cell_type": "markdown",
      "source": [
        "# **Load the dataset into colab**"
      ],
      "metadata": {
        "id": "SrO1mrHsQ68b"
      }
    },
    {
      "cell_type": "code",
      "execution_count": 2,
      "metadata": {
        "id": "I5A99dQenC2b",
        "outputId": "47d47ab2-1857-45e2-98f3-bcc0d58d6593",
        "colab": {
          "base_uri": "https://localhost:8080/"
        }
      },
      "outputs": [
        {
          "output_type": "stream",
          "name": "stdout",
          "text": [
            "Cloning into 'COMP530'...\n",
            "remote: Enumerating objects: 7311, done.\u001b[K\n",
            "remote: Counting objects: 100% (218/218), done.\u001b[K\n",
            "remote: Compressing objects: 100% (211/211), done.\u001b[K\n",
            "remote: Total 7311 (delta 11), reused 209 (delta 7), pack-reused 7093\u001b[K\n",
            "Receiving objects: 100% (7311/7311), 1.09 GiB | 16.67 MiB/s, done.\n",
            "Resolving deltas: 100% (236/236), done.\n",
            "Checking out files: 100% (5010/5010), done.\n"
          ]
        }
      ],
      "source": [
        "! git clone https://github.com/tylerb55/COMP530.git"
      ]
    },
    {
      "cell_type": "code",
      "source": [
        "! pip install --upgrade tensorflow-federated==0.20.0"
      ],
      "metadata": {
        "id": "JnNlX8v9nJsX",
        "colab": {
          "base_uri": "https://localhost:8080/"
        },
        "outputId": "b857e306-15ff-4194-a271-3b31c72d3e98"
      },
      "execution_count": null,
      "outputs": [
        {
          "output_type": "stream",
          "name": "stdout",
          "text": [
            "Collecting tensorflow-federated==0.20.0\n",
            "  Downloading tensorflow_federated-0.20.0-py2.py3-none-any.whl (819 kB)\n",
            "\u001b[?25l\r\u001b[K     |▍                               | 10 kB 27.4 MB/s eta 0:00:01\r\u001b[K     |▉                               | 20 kB 33.0 MB/s eta 0:00:01\r\u001b[K     |█▏                              | 30 kB 36.1 MB/s eta 0:00:01\r\u001b[K     |█▋                              | 40 kB 27.6 MB/s eta 0:00:01\r\u001b[K     |██                              | 51 kB 21.3 MB/s eta 0:00:01\r\u001b[K     |██▍                             | 61 kB 24.4 MB/s eta 0:00:01\r\u001b[K     |██▉                             | 71 kB 25.1 MB/s eta 0:00:01\r\u001b[K     |███▏                            | 81 kB 27.1 MB/s eta 0:00:01\r\u001b[K     |███▋                            | 92 kB 28.9 MB/s eta 0:00:01\r\u001b[K     |████                            | 102 kB 28.6 MB/s eta 0:00:01\r\u001b[K     |████▍                           | 112 kB 28.6 MB/s eta 0:00:01\r\u001b[K     |████▉                           | 122 kB 28.6 MB/s eta 0:00:01\r\u001b[K     |█████▏                          | 133 kB 28.6 MB/s eta 0:00:01\r\u001b[K     |█████▋                          | 143 kB 28.6 MB/s eta 0:00:01\r\u001b[K     |██████                          | 153 kB 28.6 MB/s eta 0:00:01\r\u001b[K     |██████▍                         | 163 kB 28.6 MB/s eta 0:00:01\r\u001b[K     |██████▉                         | 174 kB 28.6 MB/s eta 0:00:01\r\u001b[K     |███████▏                        | 184 kB 28.6 MB/s eta 0:00:01\r\u001b[K     |███████▋                        | 194 kB 28.6 MB/s eta 0:00:01\r\u001b[K     |████████                        | 204 kB 28.6 MB/s eta 0:00:01\r\u001b[K     |████████▍                       | 215 kB 28.6 MB/s eta 0:00:01\r\u001b[K     |████████▉                       | 225 kB 28.6 MB/s eta 0:00:01\r\u001b[K     |█████████▏                      | 235 kB 28.6 MB/s eta 0:00:01\r\u001b[K     |█████████▋                      | 245 kB 28.6 MB/s eta 0:00:01\r\u001b[K     |██████████                      | 256 kB 28.6 MB/s eta 0:00:01\r\u001b[K     |██████████▍                     | 266 kB 28.6 MB/s eta 0:00:01\r\u001b[K     |██████████▉                     | 276 kB 28.6 MB/s eta 0:00:01\r\u001b[K     |███████████▏                    | 286 kB 28.6 MB/s eta 0:00:01\r\u001b[K     |███████████▋                    | 296 kB 28.6 MB/s eta 0:00:01\r\u001b[K     |████████████                    | 307 kB 28.6 MB/s eta 0:00:01\r\u001b[K     |████████████▍                   | 317 kB 28.6 MB/s eta 0:00:01\r\u001b[K     |████████████▉                   | 327 kB 28.6 MB/s eta 0:00:01\r\u001b[K     |█████████████▏                  | 337 kB 28.6 MB/s eta 0:00:01\r\u001b[K     |█████████████▋                  | 348 kB 28.6 MB/s eta 0:00:01\r\u001b[K     |██████████████                  | 358 kB 28.6 MB/s eta 0:00:01\r\u001b[K     |██████████████▍                 | 368 kB 28.6 MB/s eta 0:00:01\r\u001b[K     |██████████████▉                 | 378 kB 28.6 MB/s eta 0:00:01\r\u001b[K     |███████████████▏                | 389 kB 28.6 MB/s eta 0:00:01\r\u001b[K     |███████████████▋                | 399 kB 28.6 MB/s eta 0:00:01\r\u001b[K     |████████████████                | 409 kB 28.6 MB/s eta 0:00:01\r\u001b[K     |████████████████▍               | 419 kB 28.6 MB/s eta 0:00:01\r\u001b[K     |████████████████▉               | 430 kB 28.6 MB/s eta 0:00:01\r\u001b[K     |█████████████████▏              | 440 kB 28.6 MB/s eta 0:00:01\r\u001b[K     |█████████████████▋              | 450 kB 28.6 MB/s eta 0:00:01\r\u001b[K     |██████████████████              | 460 kB 28.6 MB/s eta 0:00:01\r\u001b[K     |██████████████████▍             | 471 kB 28.6 MB/s eta 0:00:01\r\u001b[K     |██████████████████▉             | 481 kB 28.6 MB/s eta 0:00:01\r\u001b[K     |███████████████████▏            | 491 kB 28.6 MB/s eta 0:00:01\r\u001b[K     |███████████████████▋            | 501 kB 28.6 MB/s eta 0:00:01\r\u001b[K     |████████████████████            | 512 kB 28.6 MB/s eta 0:00:01\r\u001b[K     |████████████████████▍           | 522 kB 28.6 MB/s eta 0:00:01\r\u001b[K     |████████████████████▉           | 532 kB 28.6 MB/s eta 0:00:01\r\u001b[K     |█████████████████████▏          | 542 kB 28.6 MB/s eta 0:00:01\r\u001b[K     |█████████████████████▋          | 552 kB 28.6 MB/s eta 0:00:01\r\u001b[K     |██████████████████████          | 563 kB 28.6 MB/s eta 0:00:01\r\u001b[K     |██████████████████████▍         | 573 kB 28.6 MB/s eta 0:00:01\r\u001b[K     |██████████████████████▉         | 583 kB 28.6 MB/s eta 0:00:01\r\u001b[K     |███████████████████████▏        | 593 kB 28.6 MB/s eta 0:00:01\r\u001b[K     |███████████████████████▋        | 604 kB 28.6 MB/s eta 0:00:01\r\u001b[K     |████████████████████████        | 614 kB 28.6 MB/s eta 0:00:01\r\u001b[K     |████████████████████████▍       | 624 kB 28.6 MB/s eta 0:00:01\r\u001b[K     |████████████████████████▉       | 634 kB 28.6 MB/s eta 0:00:01\r\u001b[K     |█████████████████████████▏      | 645 kB 28.6 MB/s eta 0:00:01\r\u001b[K     |█████████████████████████▋      | 655 kB 28.6 MB/s eta 0:00:01\r\u001b[K     |██████████████████████████      | 665 kB 28.6 MB/s eta 0:00:01\r\u001b[K     |██████████████████████████▍     | 675 kB 28.6 MB/s eta 0:00:01\r\u001b[K     |██████████████████████████▊     | 686 kB 28.6 MB/s eta 0:00:01\r\u001b[K     |███████████████████████████▏    | 696 kB 28.6 MB/s eta 0:00:01\r\u001b[K     |███████████████████████████▋    | 706 kB 28.6 MB/s eta 0:00:01\r\u001b[K     |████████████████████████████    | 716 kB 28.6 MB/s eta 0:00:01\r\u001b[K     |████████████████████████████▍   | 727 kB 28.6 MB/s eta 0:00:01\r\u001b[K     |████████████████████████████▊   | 737 kB 28.6 MB/s eta 0:00:01\r\u001b[K     |█████████████████████████████▏  | 747 kB 28.6 MB/s eta 0:00:01\r\u001b[K     |█████████████████████████████▋  | 757 kB 28.6 MB/s eta 0:00:01\r\u001b[K     |██████████████████████████████  | 768 kB 28.6 MB/s eta 0:00:01\r\u001b[K     |██████████████████████████████▍ | 778 kB 28.6 MB/s eta 0:00:01\r\u001b[K     |██████████████████████████████▊ | 788 kB 28.6 MB/s eta 0:00:01\r\u001b[K     |███████████████████████████████▏| 798 kB 28.6 MB/s eta 0:00:01\r\u001b[K     |███████████████████████████████▋| 808 kB 28.6 MB/s eta 0:00:01\r\u001b[K     |████████████████████████████████| 819 kB 28.6 MB/s eta 0:00:01\r\u001b[K     |████████████████████████████████| 819 kB 28.6 MB/s \n",
            "\u001b[?25hCollecting attrs~=21.2.0\n",
            "  Downloading attrs-21.2.0-py2.py3-none-any.whl (53 kB)\n",
            "\u001b[?25l\r\u001b[K     |██████                          | 10 kB 36.8 MB/s eta 0:00:01\r\u001b[K     |████████████▏                   | 20 kB 42.7 MB/s eta 0:00:01\r\u001b[K     |██████████████████▎             | 30 kB 50.6 MB/s eta 0:00:01\r\u001b[K     |████████████████████████▍       | 40 kB 55.0 MB/s eta 0:00:01\r\u001b[K     |██████████████████████████████▌ | 51 kB 53.1 MB/s eta 0:00:01\r\u001b[K     |████████████████████████████████| 53 kB 2.8 MB/s \n",
            "\u001b[?25hRequirement already satisfied: absl-py~=1.0.0 in /usr/local/lib/python3.7/dist-packages (from tensorflow-federated==0.20.0) (1.0.0)\n",
            "Collecting tqdm~=4.28.1\n",
            "  Downloading tqdm-4.28.1-py2.py3-none-any.whl (45 kB)\n",
            "\u001b[K     |████████████████████████████████| 45 kB 4.5 MB/s \n",
            "\u001b[?25hRequirement already satisfied: numpy~=1.21.4 in /usr/local/lib/python3.7/dist-packages (from tensorflow-federated==0.20.0) (1.21.6)\n",
            "Collecting grpcio~=1.34.0\n",
            "  Downloading grpcio-1.34.1-cp37-cp37m-manylinux2014_x86_64.whl (4.0 MB)\n",
            "\u001b[K     |████████████████████████████████| 4.0 MB 88.3 MB/s \n",
            "\u001b[?25hCollecting tensorflow-model-optimization~=0.7.1\n",
            "  Downloading tensorflow_model_optimization-0.7.2-py2.py3-none-any.whl (237 kB)\n",
            "\u001b[K     |████████████████████████████████| 237 kB 7.7 MB/s \n",
            "\u001b[?25hCollecting farmhashpy~=0.4.0\n",
            "  Downloading farmhashpy-0.4.0-cp37-cp37m-manylinux2010_x86_64.whl (121 kB)\n",
            "\u001b[K     |████████████████████████████████| 121 kB 82.4 MB/s \n",
            "\u001b[?25hCollecting semantic-version~=2.8.5\n",
            "  Downloading semantic_version-2.8.5-py2.py3-none-any.whl (15 kB)\n",
            "Requirement already satisfied: portpicker~=1.3.1 in /usr/local/lib/python3.7/dist-packages (from tensorflow-federated==0.20.0) (1.3.9)\n",
            "Collecting cachetools~=3.1.1\n",
            "  Downloading cachetools-3.1.1-py2.py3-none-any.whl (11 kB)\n",
            "Collecting jax~=0.2.27\n",
            "  Downloading jax-0.2.28.tar.gz (887 kB)\n",
            "\u001b[K     |████████████████████████████████| 887 kB 93.8 MB/s \n",
            "\u001b[?25hRequirement already satisfied: dm-tree~=0.1.1 in /usr/local/lib/python3.7/dist-packages (from tensorflow-federated==0.20.0) (0.1.7)\n",
            "Collecting jaxlib~=0.1.76\n",
            "  Downloading jaxlib-0.1.76-cp37-none-manylinux2010_x86_64.whl (65.1 MB)\n",
            "\u001b[K     |████████████████████████████████| 65.1 MB 147 kB/s \n",
            "\u001b[?25hRequirement already satisfied: tensorflow~=2.8.0 in /usr/local/lib/python3.7/dist-packages (from tensorflow-federated==0.20.0) (2.8.0)\n",
            "Collecting tensorflow-privacy~=0.7.3\n",
            "  Downloading tensorflow_privacy-0.7.3-py3-none-any.whl (251 kB)\n",
            "\u001b[K     |████████████████████████████████| 251 kB 81.2 MB/s \n",
            "\u001b[?25hRequirement already satisfied: six in /usr/local/lib/python3.7/dist-packages (from absl-py~=1.0.0->tensorflow-federated==0.20.0) (1.15.0)\n",
            "Requirement already satisfied: opt_einsum in /usr/local/lib/python3.7/dist-packages (from jax~=0.2.27->tensorflow-federated==0.20.0) (3.3.0)\n",
            "Requirement already satisfied: scipy>=1.2.1 in /usr/local/lib/python3.7/dist-packages (from jax~=0.2.27->tensorflow-federated==0.20.0) (1.4.1)\n",
            "Requirement already satisfied: typing_extensions in /usr/local/lib/python3.7/dist-packages (from jax~=0.2.27->tensorflow-federated==0.20.0) (4.2.0)\n",
            "Requirement already satisfied: flatbuffers<3.0,>=1.12 in /usr/local/lib/python3.7/dist-packages (from jaxlib~=0.1.76->tensorflow-federated==0.20.0) (2.0)\n",
            "Requirement already satisfied: setuptools in /usr/local/lib/python3.7/dist-packages (from tensorflow~=2.8.0->tensorflow-federated==0.20.0) (57.4.0)\n",
            "Requirement already satisfied: astunparse>=1.6.0 in /usr/local/lib/python3.7/dist-packages (from tensorflow~=2.8.0->tensorflow-federated==0.20.0) (1.6.3)\n",
            "Requirement already satisfied: google-pasta>=0.1.1 in /usr/local/lib/python3.7/dist-packages (from tensorflow~=2.8.0->tensorflow-federated==0.20.0) (0.2.0)\n",
            "Requirement already satisfied: h5py>=2.9.0 in /usr/local/lib/python3.7/dist-packages (from tensorflow~=2.8.0->tensorflow-federated==0.20.0) (3.1.0)\n",
            "Requirement already satisfied: gast>=0.2.1 in /usr/local/lib/python3.7/dist-packages (from tensorflow~=2.8.0->tensorflow-federated==0.20.0) (0.5.3)\n",
            "Requirement already satisfied: wrapt>=1.11.0 in /usr/local/lib/python3.7/dist-packages (from tensorflow~=2.8.0->tensorflow-federated==0.20.0) (1.14.0)\n",
            "Requirement already satisfied: keras-preprocessing>=1.1.1 in /usr/local/lib/python3.7/dist-packages (from tensorflow~=2.8.0->tensorflow-federated==0.20.0) (1.1.2)\n",
            "Requirement already satisfied: termcolor>=1.1.0 in /usr/local/lib/python3.7/dist-packages (from tensorflow~=2.8.0->tensorflow-federated==0.20.0) (1.1.0)\n",
            "Requirement already satisfied: keras<2.9,>=2.8.0rc0 in /usr/local/lib/python3.7/dist-packages (from tensorflow~=2.8.0->tensorflow-federated==0.20.0) (2.8.0)\n",
            "Requirement already satisfied: protobuf>=3.9.2 in /usr/local/lib/python3.7/dist-packages (from tensorflow~=2.8.0->tensorflow-federated==0.20.0) (3.17.3)\n",
            "Collecting tf-estimator-nightly==2.8.0.dev2021122109\n",
            "  Downloading tf_estimator_nightly-2.8.0.dev2021122109-py2.py3-none-any.whl (462 kB)\n",
            "\u001b[K     |████████████████████████████████| 462 kB 76.2 MB/s \n",
            "\u001b[?25hRequirement already satisfied: tensorboard<2.9,>=2.8 in /usr/local/lib/python3.7/dist-packages (from tensorflow~=2.8.0->tensorflow-federated==0.20.0) (2.8.0)\n",
            "Requirement already satisfied: tensorflow-io-gcs-filesystem>=0.23.1 in /usr/local/lib/python3.7/dist-packages (from tensorflow~=2.8.0->tensorflow-federated==0.20.0) (0.24.0)\n",
            "Requirement already satisfied: libclang>=9.0.1 in /usr/local/lib/python3.7/dist-packages (from tensorflow~=2.8.0->tensorflow-federated==0.20.0) (13.0.0)\n",
            "Requirement already satisfied: wheel<1.0,>=0.23.0 in /usr/local/lib/python3.7/dist-packages (from astunparse>=1.6.0->tensorflow~=2.8.0->tensorflow-federated==0.20.0) (0.37.1)\n",
            "Requirement already satisfied: cached-property in /usr/local/lib/python3.7/dist-packages (from h5py>=2.9.0->tensorflow~=2.8.0->tensorflow-federated==0.20.0) (1.5.2)\n",
            "Requirement already satisfied: tensorboard-plugin-wit>=1.6.0 in /usr/local/lib/python3.7/dist-packages (from tensorboard<2.9,>=2.8->tensorflow~=2.8.0->tensorflow-federated==0.20.0) (1.8.1)\n",
            "Requirement already satisfied: werkzeug>=0.11.15 in /usr/local/lib/python3.7/dist-packages (from tensorboard<2.9,>=2.8->tensorflow~=2.8.0->tensorflow-federated==0.20.0) (1.0.1)\n",
            "Requirement already satisfied: tensorboard-data-server<0.7.0,>=0.6.0 in /usr/local/lib/python3.7/dist-packages (from tensorboard<2.9,>=2.8->tensorflow~=2.8.0->tensorflow-federated==0.20.0) (0.6.1)\n",
            "Requirement already satisfied: google-auth<3,>=1.6.3 in /usr/local/lib/python3.7/dist-packages (from tensorboard<2.9,>=2.8->tensorflow~=2.8.0->tensorflow-federated==0.20.0) (1.35.0)\n",
            "Requirement already satisfied: requests<3,>=2.21.0 in /usr/local/lib/python3.7/dist-packages (from tensorboard<2.9,>=2.8->tensorflow~=2.8.0->tensorflow-federated==0.20.0) (2.23.0)\n",
            "Requirement already satisfied: google-auth-oauthlib<0.5,>=0.4.1 in /usr/local/lib/python3.7/dist-packages (from tensorboard<2.9,>=2.8->tensorflow~=2.8.0->tensorflow-federated==0.20.0) (0.4.6)\n",
            "Requirement already satisfied: markdown>=2.6.8 in /usr/local/lib/python3.7/dist-packages (from tensorboard<2.9,>=2.8->tensorflow~=2.8.0->tensorflow-federated==0.20.0) (3.3.6)\n",
            "Requirement already satisfied: rsa<5,>=3.1.4 in /usr/local/lib/python3.7/dist-packages (from google-auth<3,>=1.6.3->tensorboard<2.9,>=2.8->tensorflow~=2.8.0->tensorflow-federated==0.20.0) (4.8)\n",
            "Requirement already satisfied: pyasn1-modules>=0.2.1 in /usr/local/lib/python3.7/dist-packages (from google-auth<3,>=1.6.3->tensorboard<2.9,>=2.8->tensorflow~=2.8.0->tensorflow-federated==0.20.0) (0.2.8)\n",
            "Requirement already satisfied: requests-oauthlib>=0.7.0 in /usr/local/lib/python3.7/dist-packages (from google-auth-oauthlib<0.5,>=0.4.1->tensorboard<2.9,>=2.8->tensorflow~=2.8.0->tensorflow-federated==0.20.0) (1.3.1)\n",
            "Requirement already satisfied: importlib-metadata>=4.4 in /usr/local/lib/python3.7/dist-packages (from markdown>=2.6.8->tensorboard<2.9,>=2.8->tensorflow~=2.8.0->tensorflow-federated==0.20.0) (4.11.3)\n",
            "Requirement already satisfied: zipp>=0.5 in /usr/local/lib/python3.7/dist-packages (from importlib-metadata>=4.4->markdown>=2.6.8->tensorboard<2.9,>=2.8->tensorflow~=2.8.0->tensorflow-federated==0.20.0) (3.8.0)\n",
            "Requirement already satisfied: pyasn1<0.5.0,>=0.4.6 in /usr/local/lib/python3.7/dist-packages (from pyasn1-modules>=0.2.1->google-auth<3,>=1.6.3->tensorboard<2.9,>=2.8->tensorflow~=2.8.0->tensorflow-federated==0.20.0) (0.4.8)\n",
            "Requirement already satisfied: certifi>=2017.4.17 in /usr/local/lib/python3.7/dist-packages (from requests<3,>=2.21.0->tensorboard<2.9,>=2.8->tensorflow~=2.8.0->tensorflow-federated==0.20.0) (2021.10.8)\n",
            "Requirement already satisfied: chardet<4,>=3.0.2 in /usr/local/lib/python3.7/dist-packages (from requests<3,>=2.21.0->tensorboard<2.9,>=2.8->tensorflow~=2.8.0->tensorflow-federated==0.20.0) (3.0.4)\n",
            "Requirement already satisfied: urllib3!=1.25.0,!=1.25.1,<1.26,>=1.21.1 in /usr/local/lib/python3.7/dist-packages (from requests<3,>=2.21.0->tensorboard<2.9,>=2.8->tensorflow~=2.8.0->tensorflow-federated==0.20.0) (1.24.3)\n",
            "Requirement already satisfied: idna<3,>=2.5 in /usr/local/lib/python3.7/dist-packages (from requests<3,>=2.21.0->tensorboard<2.9,>=2.8->tensorflow~=2.8.0->tensorflow-federated==0.20.0) (2.10)\n",
            "Requirement already satisfied: oauthlib>=3.0.0 in /usr/local/lib/python3.7/dist-packages (from requests-oauthlib>=0.7.0->google-auth-oauthlib<0.5,>=0.4.1->tensorboard<2.9,>=2.8->tensorflow~=2.8.0->tensorflow-federated==0.20.0) (3.2.0)\n",
            "Requirement already satisfied: tensorflow-estimator>=2.3.0 in /usr/local/lib/python3.7/dist-packages (from tensorflow-privacy~=0.7.3->tensorflow-federated==0.20.0) (2.8.0)\n",
            "Collecting tensorflow-datasets>=4.4.0\n",
            "  Downloading tensorflow_datasets-4.5.2-py3-none-any.whl (4.2 MB)\n",
            "\u001b[K     |████████████████████████████████| 4.2 MB 72.4 MB/s \n",
            "\u001b[?25hRequirement already satisfied: mpmath in /usr/local/lib/python3.7/dist-packages (from tensorflow-privacy~=0.7.3->tensorflow-federated==0.20.0) (1.2.1)\n",
            "Requirement already satisfied: tensorflow-probability>=0.13.0 in /usr/local/lib/python3.7/dist-packages (from tensorflow-privacy~=0.7.3->tensorflow-federated==0.20.0) (0.16.0)\n",
            "Requirement already satisfied: importlib-resources in /usr/local/lib/python3.7/dist-packages (from tensorflow-datasets>=4.4.0->tensorflow-privacy~=0.7.3->tensorflow-federated==0.20.0) (5.7.1)\n",
            "Requirement already satisfied: promise in /usr/local/lib/python3.7/dist-packages (from tensorflow-datasets>=4.4.0->tensorflow-privacy~=0.7.3->tensorflow-federated==0.20.0) (2.3)\n",
            "Requirement already satisfied: dill in /usr/local/lib/python3.7/dist-packages (from tensorflow-datasets>=4.4.0->tensorflow-privacy~=0.7.3->tensorflow-federated==0.20.0) (0.3.4)\n",
            "Requirement already satisfied: tensorflow-metadata in /usr/local/lib/python3.7/dist-packages (from tensorflow-datasets>=4.4.0->tensorflow-privacy~=0.7.3->tensorflow-federated==0.20.0) (1.7.0)\n",
            "Requirement already satisfied: decorator in /usr/local/lib/python3.7/dist-packages (from tensorflow-probability>=0.13.0->tensorflow-privacy~=0.7.3->tensorflow-federated==0.20.0) (4.4.2)\n",
            "Requirement already satisfied: cloudpickle>=1.3 in /usr/local/lib/python3.7/dist-packages (from tensorflow-probability>=0.13.0->tensorflow-privacy~=0.7.3->tensorflow-federated==0.20.0) (1.3.0)\n",
            "Requirement already satisfied: googleapis-common-protos<2,>=1.52.0 in /usr/local/lib/python3.7/dist-packages (from tensorflow-metadata->tensorflow-datasets>=4.4.0->tensorflow-privacy~=0.7.3->tensorflow-federated==0.20.0) (1.56.0)\n",
            "Building wheels for collected packages: jax\n",
            "  Building wheel for jax (setup.py) ... \u001b[?25l\u001b[?25hdone\n",
            "  Created wheel for jax: filename=jax-0.2.28-py3-none-any.whl size=1028669 sha256=be770645ffbe1798d9a3948c8c304582e1fa6ac7c7915881ef7bc23564f5dc02\n",
            "  Stored in directory: /root/.cache/pip/wheels/e2/60/4c/0cf931b766116b73950d9b6fca5813a45789d45d412a8d7272\n",
            "Successfully built jax\n",
            "Installing collected packages: cachetools, tqdm, grpcio, tf-estimator-nightly, tensorflow-datasets, attrs, tensorflow-privacy, tensorflow-model-optimization, semantic-version, jaxlib, jax, farmhashpy, tensorflow-federated\n",
            "  Attempting uninstall: cachetools\n",
            "    Found existing installation: cachetools 4.2.4\n",
            "    Uninstalling cachetools-4.2.4:\n",
            "      Successfully uninstalled cachetools-4.2.4\n",
            "  Attempting uninstall: tqdm\n",
            "    Found existing installation: tqdm 4.64.0\n",
            "    Uninstalling tqdm-4.64.0:\n",
            "      Successfully uninstalled tqdm-4.64.0\n",
            "  Attempting uninstall: grpcio\n",
            "    Found existing installation: grpcio 1.44.0\n",
            "    Uninstalling grpcio-1.44.0:\n",
            "      Successfully uninstalled grpcio-1.44.0\n",
            "  Attempting uninstall: tensorflow-datasets\n",
            "    Found existing installation: tensorflow-datasets 4.0.1\n",
            "    Uninstalling tensorflow-datasets-4.0.1:\n",
            "      Successfully uninstalled tensorflow-datasets-4.0.1\n",
            "  Attempting uninstall: attrs\n",
            "    Found existing installation: attrs 21.4.0\n",
            "    Uninstalling attrs-21.4.0:\n",
            "      Successfully uninstalled attrs-21.4.0\n",
            "  Attempting uninstall: jaxlib\n",
            "    Found existing installation: jaxlib 0.3.2+cuda11.cudnn805\n",
            "    Uninstalling jaxlib-0.3.2+cuda11.cudnn805:\n",
            "      Successfully uninstalled jaxlib-0.3.2+cuda11.cudnn805\n",
            "  Attempting uninstall: jax\n",
            "    Found existing installation: jax 0.3.4\n",
            "    Uninstalling jax-0.3.4:\n",
            "      Successfully uninstalled jax-0.3.4\n",
            "\u001b[31mERROR: pip's dependency resolver does not currently take into account all the packages that are installed. This behaviour is the source of the following dependency conflicts.\n",
            "spacy 2.2.4 requires tqdm<5.0.0,>=4.38.0, but you have tqdm 4.28.1 which is incompatible.\n",
            "pymc3 3.11.4 requires cachetools>=4.2.1, but you have cachetools 3.1.1 which is incompatible.\n",
            "panel 0.12.1 requires tqdm>=4.48.0, but you have tqdm 4.28.1 which is incompatible.\n",
            "fbprophet 0.7.1 requires tqdm>=4.36.1, but you have tqdm 4.28.1 which is incompatible.\n",
            "datascience 0.10.6 requires folium==0.2.1, but you have folium 0.8.3 which is incompatible.\u001b[0m\n",
            "Successfully installed attrs-21.2.0 cachetools-3.1.1 farmhashpy-0.4.0 grpcio-1.34.1 jax-0.2.28 jaxlib-0.1.76 semantic-version-2.8.5 tensorflow-datasets-4.5.2 tensorflow-federated-0.20.0 tensorflow-model-optimization-0.7.2 tensorflow-privacy-0.7.3 tf-estimator-nightly-2.8.0.dev2021122109 tqdm-4.28.1\n"
          ]
        }
      ]
    },
    {
      "cell_type": "markdown",
      "source": [
        "# **Import Necessary Libraries**"
      ],
      "metadata": {
        "id": "esT0FSCbn1k3"
      }
    },
    {
      "cell_type": "code",
      "source": [
        "import numpy as np\n",
        "import collections\n",
        "import matplotlib.image as img\n",
        "import matplotlib.pyplot as plt\n",
        "import tensorflow as tf\n",
        "import tensorflow_federated as tff\n",
        "import tensorflow_datasets as tfds\n",
        "import nest_asyncio as na\n",
        "import random "
      ],
      "metadata": {
        "id": "saAeLPIGnJyO"
      },
      "execution_count": 1,
      "outputs": []
    },
    {
      "cell_type": "code",
      "source": [
        "NUM_CLIENTS=5 \n",
        "NUM_EPOCHS=10\n",
        "BATCH_SIZE=1\n",
        "SHUFFLE_BUFFER=100\n",
        "PREFETCH_BUFFER=10"
      ],
      "metadata": {
        "id": "m1nzB_kJtWvd"
      },
      "execution_count": 2,
      "outputs": []
    },
    {
      "cell_type": "markdown",
      "source": [
        "# **Load the dataset into the environment and make it a federated dataset**"
      ],
      "metadata": {
        "id": "3gRB1c-rShCR"
      }
    },
    {
      "cell_type": "code",
      "source": [
        "def Train_and_Test_Set(directory_name):\n",
        "  \"\"\"a function to load the images in a large directory into a tensorflow dataset object\n",
        "  the data is split 80:20 in training:test. The dataset is shuffled before splitting\n",
        "  and the images are formatted to 512x512 pixels (pixel values range from 0 to 255)\n",
        "  Images are labelled 0,1 based on the folder they are in. Normalcases are 0 and \n",
        "  cancercases are 1\"\"\"\n",
        "  dataset_train=tf.keras.preprocessing.image_dataset_from_directory('/content/COMP530/'+directory_name,\n",
        "                                                                    labels='inferred',\n",
        "                                                                    label_mode='int',\n",
        "                                                                    class_names=['NormalCases','cancercases'],\n",
        "                                                                    color_mode='rgb',\n",
        "                                                                    image_size=(512,512),\n",
        "                                                                    shuffle=True,\n",
        "                                                                    seed=305,\n",
        "                                                                    validation_split=0.2,\n",
        "                                                                    subset='training',\n",
        "                                                                    batch_size=None\n",
        "                                                                    )\n",
        "  \n",
        "  dataset_test=tf.keras.preprocessing.image_dataset_from_directory('/content/COMP530/'+directory_name,\n",
        "                                                                    labels='inferred',\n",
        "                                                                    label_mode='int',\n",
        "                                                                    class_names=['NormalCases','cancercases'],\n",
        "                                                                    color_mode='rgb',\n",
        "                                                                    image_size=(512,512),\n",
        "                                                                    shuffle=True,\n",
        "                                                                    seed=305,\n",
        "                                                                    validation_split=0.2,\n",
        "                                                                    subset='validation',\n",
        "                                                                    batch_size=None\n",
        "                                                                    )\n",
        "\n",
        "  return dataset_train,dataset_test"
      ],
      "metadata": {
        "id": "iywtvxgWnJ0-"
      },
      "execution_count": 3,
      "outputs": []
    },
    {
      "cell_type": "code",
      "source": [
        "def Train_Test_Set(directory_name):\n",
        "  \"\"\"a function to load the images in a large directory into a tensorflow dataset object\n",
        "  the data is split 80:20 in training:test. The dataset is shuffled before splitting\n",
        "  and the images are formatted to 512x512 pixels (pixel values range from 0 to 255)\n",
        "  Images are labelled 0,1 based on the folder they are in. Normalcases are 0 and \n",
        "  cancercases are 1\"\"\"\n",
        "  dataset_train=tf.keras.preprocessing.image_dataset_from_directory('/content/COMP530/'+directory_name,\n",
        "                                                                    labels='inferred',\n",
        "                                                                    label_mode='int',\n",
        "                                                                    class_names=['Normal','Cancer'],\n",
        "                                                                    color_mode='rgb',\n",
        "                                                                    image_size=(512,512),\n",
        "                                                                    shuffle=True,\n",
        "                                                                    seed=305,\n",
        "                                                                    validation_split=0.2,\n",
        "                                                                    subset='training',\n",
        "                                                                    batch_size=None\n",
        "                                                                    )\n",
        "  \n",
        "  dataset_test=tf.keras.preprocessing.image_dataset_from_directory('/content/COMP530/'+directory_name,\n",
        "                                                                    labels='inferred',\n",
        "                                                                    label_mode='int',\n",
        "                                                                    class_names=['Normal','Cancer'],\n",
        "                                                                    color_mode='rgb',\n",
        "                                                                    image_size=(512,512),\n",
        "                                                                    shuffle=True,\n",
        "                                                                    seed=305,\n",
        "                                                                    validation_split=0.2,\n",
        "                                                                    subset='validation',\n",
        "                                                                    batch_size=None\n",
        "                                                                    )\n",
        "\n",
        "  return dataset_train,dataset_test"
      ],
      "metadata": {
        "id": "mqgcfHD1dfNl"
      },
      "execution_count": 4,
      "outputs": []
    },
    {
      "cell_type": "code",
      "source": [
        "def federate_dataset(Dataset,clients):\n",
        "  \"\"\"\n",
        "  args:\n",
        "  Dataset - the dataset object to be passed into the function and separated between the clients in the simulation\n",
        "  clients - the number of clients for the dataset to have come from in the simulated environment\n",
        "  return:\n",
        "  dataset_by_client - the original dataset federated between the number of clients. \n",
        "  each client is labelled by their client id, in a dictionary. each id points to an individual dataset object\n",
        "  \"\"\"\n",
        "  image_count=tf.data.experimental.cardinality(Dataset).numpy()\n",
        "  image_per_set=int(np.floor(image_count/clients))\n",
        "\n",
        "  client_train_dataset=collections.OrderedDict()\n",
        "  Dataset=tfds.as_numpy(Dataset)\n",
        "  count=0\n",
        "  client_num=1\n",
        "  y=[]\n",
        "  x=[]\n",
        "  \"\"\"this code snippet assigns particular training examples to each client. In this example they have been evenly distributed\n",
        "  hetrogeneity of federated data could be explored by randomly assigning a clients to each training example.\n",
        "  This would result in some clients having more than enough training data locally and some  and some suffering from data\n",
        "  paucity locally. \"\"\"\n",
        "  for image in Dataset:\n",
        "    count+=1\n",
        "    y.append(image[1])\n",
        "    x.append(image[0])\n",
        "    if(count==image_per_set):\n",
        "      x=np.asarray(x,dtype=np.float32)\n",
        "      y=np.asarray(y,dtype=np.int32)\n",
        "      data=collections.OrderedDict((('label', y), ('image', x)))\n",
        "      client_train_dataset[\"client_\"+str(client_num)]=data\n",
        "      count=0\n",
        "      client_num+=1\n",
        "      y=[]\n",
        "      x=[]\n",
        "\n",
        "  federated_dataset=tff.simulation.datasets.TestClientData(client_train_dataset)\n",
        "  return federated_dataset"
      ],
      "metadata": {
        "id": "37i3yCalnJ4G"
      },
      "execution_count": 5,
      "outputs": []
    },
    {
      "cell_type": "code",
      "source": [
        "def preprocess(dataset):\n",
        "\n",
        "  def format_batch(element):\n",
        "    \"\"\"flatten the pixels in a batch and return the features as an 'OrderedDict'\"\"\"\n",
        "    tf.image.per_image_standardization(element['image'])\n",
        "    return collections.OrderedDict(\n",
        "        x=tf.image.resize(element['image'],(224,224)),\n",
        "        y=tf.reshape(element['label'],[-1,1])\n",
        "    )\n",
        "  return dataset.repeat(NUM_EPOCHS).shuffle(SHUFFLE_BUFFER, seed=1).batch(BATCH_SIZE).map(format_batch).prefetch(PREFETCH_BUFFER)"
      ],
      "metadata": {
        "id": "d_yaRnnRsdyV"
      },
      "execution_count": 6,
      "outputs": []
    },
    {
      "cell_type": "code",
      "source": [
        "def make_federated_data(client_data,client_ids,training):\n",
        "  \"\"\" the federated dataset that can be passed into the federated environemt to train or test the network \"\"\"\n",
        "  if training:\n",
        "    client_ids=random.sample(client_ids,random.randint(2,NUM_CLIENTS))\n",
        "  return[\n",
        "         preprocess(client_data.create_tf_dataset_for_client(x))\n",
        "         for x in client_ids         \n",
        "  ]"
      ],
      "metadata": {
        "id": "uw8od7l3pfFm"
      },
      "execution_count": 7,
      "outputs": []
    },
    {
      "cell_type": "code",
      "source": [
        "\"\"\" the original dataset held in keras dataset objects \"\"\"\n",
        "#dataset_train, dataset_test=Train_and_Test_Set(\"Dataset1\")\n",
        "dataset_train, dataset_test=Train_Test_Set(\"IQQ-OTHNCCD+\")\n",
        "\"\"\" the dataset split by the which client the data has come from \"\"\"\n",
        "federated_train_dataset=federate_dataset(dataset_train,NUM_CLIENTS)\n",
        "federated_test_dataset=federate_dataset(dataset_test,NUM_CLIENTS)\n",
        "\"\"\" an example dataset for a single client used to get the input specification for the federated model \"\"\"\n",
        "example_dataset = federated_train_dataset.create_tf_dataset_for_client(federated_train_dataset.client_ids[0])\n",
        "preprocessed_example_dataset=preprocess(example_dataset)"
      ],
      "metadata": {
        "id": "jRHseKmntCzt",
        "outputId": "1e156db4-3693-4e05-c819-3d3639079b2f",
        "colab": {
          "base_uri": "https://localhost:8080/"
        }
      },
      "execution_count": 8,
      "outputs": [
        {
          "output_type": "stream",
          "name": "stdout",
          "text": [
            "Found 2163 files belonging to 2 classes.\n",
            "Using 1731 files for training.\n",
            "Found 2163 files belonging to 2 classes.\n",
            "Using 432 files for validation.\n"
          ]
        }
      ]
    },
    {
      "cell_type": "markdown",
      "source": [
        "# **Load a pretrained ResNet50 model as the CNN for the environment**"
      ],
      "metadata": {
        "id": "XokSTwlDTiCv"
      }
    },
    {
      "cell_type": "code",
      "source": [
        "def ResNet_model():\n",
        "  base_model=tf.keras.applications.ResNet50(weights='imagenet',input_shape=(224,224,3),include_top=False) # use resnet50 as the base for the tl model\n",
        "  base_model.trainable = False # freeze the resnet50 layers\n",
        "\n",
        "  inputs = tf.keras.Input(shape=(224, 224, 3))\n",
        "  #inputs = tf.keras.layers.RandomFlip(\"horizontal_and_vertical\")(inputs)\n",
        "  #inputs = tf.keras.layers.RandomRotation(0.2)(inputs)\n",
        "  # We make sure that the base_model is running in inference mode here,\n",
        "  # by passing `training=False`.\n",
        "  x = base_model(inputs, training=False)\n",
        "  # Convert features of shape `base_model.output_shape[1:]` to vectors\n",
        "  x = tf.keras.layers.GlobalAveragePooling2D()(x)\n",
        "  x = tf.keras.layers.Dropout(0.2)(x)\n",
        "  # A Dense classifier with a single unit (binary classification)\n",
        "  outputs = tf.keras.layers.Dense(1,activation='sigmoid')(x)\n",
        "  model = tf.keras.Model(inputs, outputs)\n",
        "  return model\n"
      ],
      "metadata": {
        "id": "ELou-iMrkrHA"
      },
      "execution_count": 9,
      "outputs": []
    },
    {
      "cell_type": "code",
      "source": [
        "resnet=ResNet_model()\n",
        "resnet.summary()"
      ],
      "metadata": {
        "id": "LpTaLiX9lGmZ",
        "outputId": "cec614fd-9e99-424e-ec25-522c7999b6c5",
        "colab": {
          "base_uri": "https://localhost:8080/"
        }
      },
      "execution_count": 10,
      "outputs": [
        {
          "output_type": "stream",
          "name": "stdout",
          "text": [
            "Model: \"model\"\n",
            "_________________________________________________________________\n",
            " Layer (type)                Output Shape              Param #   \n",
            "=================================================================\n",
            " input_2 (InputLayer)        [(None, 224, 224, 3)]     0         \n",
            "                                                                 \n",
            " resnet50 (Functional)       (None, 7, 7, 2048)        23587712  \n",
            "                                                                 \n",
            " global_average_pooling2d (G  (None, 2048)             0         \n",
            " lobalAveragePooling2D)                                          \n",
            "                                                                 \n",
            " dropout (Dropout)           (None, 2048)              0         \n",
            "                                                                 \n",
            " dense (Dense)               (None, 1)                 2049      \n",
            "                                                                 \n",
            "=================================================================\n",
            "Total params: 23,589,761\n",
            "Trainable params: 2,049\n",
            "Non-trainable params: 23,587,712\n",
            "_________________________________________________________________\n"
          ]
        }
      ]
    },
    {
      "cell_type": "markdown",
      "source": [
        "# **Create the federated environment based on the ResNet50 model** "
      ],
      "metadata": {
        "id": "PiwJ-W_sQOgC"
      }
    },
    {
      "cell_type": "code",
      "source": [
        "def federated_model():\n",
        "  resnet=ResNet_model()\n",
        "  return tff.learning.from_keras_model(\n",
        "      resnet,\n",
        "      input_spec=preprocessed_example_dataset.element_spec,\n",
        "      loss=tf.keras.losses.BinaryCrossentropy(),\n",
        "      metrics=[tf.keras.metrics.BinaryAccuracy(),tf.keras.metrics.Precision(),tf.keras.metrics.Recall(),tf.keras.metrics.TruePositives(),tf.keras.metrics.TrueNegatives(),tf.keras.metrics.FalsePositives(),tf.keras.metrics.FalseNegatives()])"
      ],
      "metadata": {
        "id": "2xrCU3_8pkyF"
      },
      "execution_count": 11,
      "outputs": []
    },
    {
      "cell_type": "code",
      "source": [
        "iterative_process = tff.learning.build_federated_averaging_process(\n",
        "    federated_model,\n",
        "    client_optimizer_fn=lambda: tf.keras.optimizers.SGD(learning_rate=0.01),\n",
        "    server_optimizer_fn=lambda: tf.keras.optimizers.SGD(learning_rate=0.0001))"
      ],
      "metadata": {
        "id": "mKK4uNJfppJm",
        "outputId": "46e03d54-bd2b-4de8-d820-f8f5bdfd3f94",
        "colab": {
          "base_uri": "https://localhost:8080/"
        }
      },
      "execution_count": 12,
      "outputs": [
        {
          "output_type": "stream",
          "name": "stdout",
          "text": [
            "WARNING:tensorflow:From /usr/local/lib/python3.7/dist-packages/keras/layers/normalization/batch_normalization.py:532: _colocate_with (from tensorflow.python.framework.ops) is deprecated and will be removed in a future version.\n",
            "Instructions for updating:\n",
            "Colocations handled automatically by placer.\n"
          ]
        }
      ]
    },
    {
      "cell_type": "code",
      "source": [
        "%load_ext tensorboard"
      ],
      "metadata": {
        "id": "ltuUUcGtlrGT"
      },
      "execution_count": 13,
      "outputs": []
    },
    {
      "cell_type": "code",
      "source": [
        "%reload_ext tensorboard"
      ],
      "metadata": {
        "id": "AxXdwfJ4AseC"
      },
      "execution_count": 14,
      "outputs": []
    },
    {
      "cell_type": "code",
      "source": [
        "na.apply()\n",
        "logdir = \"/tmp/logs/scalars/training/\"\n",
        "summary_writer = tf.summary.create_file_writer(logdir)\n",
        "state=iterative_process.initialize()\n",
        "NUM_ROUNDS=101\n",
        "with summary_writer.as_default():\n",
        "  for round_num in range(1, NUM_ROUNDS):\n",
        "    federated_train_data = make_federated_data(federated_train_dataset, federated_train_dataset.client_ids,training=True)\n",
        "    state, metrics = iterative_process.next(state, federated_train_data)\n",
        "    train=metrics['train']\n",
        "    specificity=train['true_negatives']/(train['true_negatives']+train['false_positives'])\n",
        "    sensitivity=train['true_positives']/(train['true_positives']+train['false_negatives'])\n",
        "    tf.summary.scalar('Specificity', specificity, step=round_num)\n",
        "    tf.summary.scalar('Sensitivity', sensitivity, step=round_num)\n",
        "    print('round {:2d}, metrics={}'.format(round_num, metrics['train']),'(Specificity,',specificity,') (Sensitivity,',sensitivity,')')\n",
        "    for name, value in metrics['train'].items():\n",
        "        tf.summary.scalar(name, value, step=round_num)\n",
        "        if(name=='recall'):\n",
        "          break"
      ],
      "metadata": {
        "id": "ngNxWFbgps5F",
        "outputId": "0cef70d1-7bef-42d2-9a8d-5e28b196c4c7",
        "colab": {
          "base_uri": "https://localhost:8080/",
          "height": 869
        }
      },
      "execution_count": 16,
      "outputs": [
        {
          "output_type": "stream",
          "name": "stdout",
          "text": [
            "round  1, metrics=OrderedDict([('binary_accuracy', 0.4781792), ('precision', 0.478242), ('recall', 0.9993958), ('true_positives', 3308.0), ('true_negatives', 1.0), ('false_positives', 3609.0), ('false_negatives', 2.0), ('loss', 8.000723), ('num_examples', 6920), ('num_batches', 6920)]) (Specificity, 0.0002770083 ) (Sensitivity, 0.9993958 )\n",
            "round  2, metrics=OrderedDict([('binary_accuracy', 0.49754336), ('precision', 0.49209714), ('recall', 0.75198823), ('true_positives', 5106.0), ('true_negatives', 1780.0), ('false_positives', 5270.0), ('false_negatives', 1684.0), ('loss', 7.71244), ('num_examples', 13840), ('num_batches', 13840)]) (Specificity, 0.25248227 ) (Sensitivity, 0.75198823 )\n",
            "round  3, metrics=OrderedDict([('binary_accuracy', 0.50587666), ('precision', 0.50296456), ('recall', 0.6727273), ('true_positives', 3478.0), ('true_negatives', 1773.0), ('false_positives', 3437.0), ('false_negatives', 1692.0), ('loss', 7.5895486), ('num_examples', 10380), ('num_batches', 10380)]) (Specificity, 0.34030712 ) (Sensitivity, 0.6727273 )\n",
            "round  4, metrics=OrderedDict([('binary_accuracy', 0.5260116), ('precision', 0.53765935), ('recall', 0.5242938), ('true_positives', 1856.0), ('true_negatives', 1784.0), ('false_positives', 1596.0), ('false_negatives', 1684.0), ('loss', 7.2880282), ('num_examples', 6920), ('num_batches', 6920)]) (Specificity, 0.52781063 ) (Sensitivity, 0.5242938 )\n",
            "round  5, metrics=OrderedDict([('binary_accuracy', 0.47427747), ('precision', 0.48582175), ('recall', 0.4742938), ('true_positives', 1679.0), ('true_negatives', 1603.0), ('false_positives', 1777.0), ('false_negatives', 1861.0), ('loss', 8.085383), ('num_examples', 6920), ('num_batches', 6920)]) (Specificity, 0.47426036 ) (Sensitivity, 0.4742938 )\n",
            "round  6, metrics=OrderedDict([('binary_accuracy', 0.49526012), ('precision', 0.49407342), ('recall', 0.39514452), ('true_positives', 3418.0), ('true_negatives', 5150.0), ('false_positives', 3500.0), ('false_negatives', 5232.0), ('loss', 7.7661986), ('num_examples', 17300), ('num_batches', 17300)]) (Specificity, 0.5953757 ) (Sensitivity, 0.39514452 )\n",
            "round  7, metrics=OrderedDict([('binary_accuracy', 0.49718207), ('precision', 0.50520146), ('recall', 0.49046943), ('true_positives', 3448.0), ('true_negatives', 3433.0), ('false_positives', 3377.0), ('false_negatives', 3582.0), ('loss', 7.7327895), ('num_examples', 13840), ('num_batches', 13840)]) (Specificity, 0.5041116 ) (Sensitivity, 0.49046943 )\n",
            "round  8, metrics=OrderedDict([('binary_accuracy', 0.4885838), ('precision', 0.48771623), ('recall', 0.99554896), ('true_positives', 3355.0), ('true_negatives', 26.0), ('false_positives', 3524.0), ('false_negatives', 15.0), ('loss', 7.840673), ('num_examples', 6920), ('num_batches', 6920)]) (Specificity, 0.0073239435 ) (Sensitivity, 0.99554896 )\n",
            "round  9, metrics=OrderedDict([('binary_accuracy', 0.5013006), ('precision', 0.4882914), ('recall', 0.50118697), ('true_positives', 1689.0), ('true_negatives', 1780.0), ('false_positives', 1770.0), ('false_negatives', 1681.0), ('loss', 7.6662865), ('num_examples', 6920), ('num_batches', 6920)]) (Specificity, 0.50140846 ) (Sensitivity, 0.50118697 )\n",
            "round 10, metrics=OrderedDict([('binary_accuracy', 0.5057225), ('precision', 0.5035784), ('recall', 0.80531794), ('true_positives', 6966.0), ('true_negatives', 1783.0), ('false_positives', 6867.0), ('false_negatives', 1684.0), ('loss', 7.585318), ('num_examples', 17300), ('num_batches', 17300)]) (Specificity, 0.20612717 ) (Sensitivity, 0.80531794 )\n",
            "round 11, metrics=OrderedDict([('binary_accuracy', 0.49007708), ('precision', 0.5041203), ('recall', 0.6517757), ('true_positives', 3487.0), ('true_negatives', 1600.0), ('false_positives', 3430.0), ('false_negatives', 1863.0), ('loss', 7.832482), ('num_examples', 10380), ('num_batches', 10380)]) (Specificity, 0.31809145 ) (Sensitivity, 0.6517757 )\n",
            "round 12, metrics=OrderedDict([('binary_accuracy', 0.49797687), ('precision', 0.5200925), ('recall', 0.3362617), ('true_positives', 1799.0), ('true_negatives', 3370.0), ('false_positives', 1660.0), ('false_negatives', 3551.0), ('loss', 7.728158), ('num_examples', 10380), ('num_batches', 10380)]) (Specificity, 0.6699801 ) (Sensitivity, 0.3362617 )\n",
            "round 13, metrics=OrderedDict([('binary_accuracy', 0.4869942), ('precision', 0.0), ('recall', 0.0), ('true_positives', 0.0), ('true_negatives', 3370.0), ('false_positives', 0.0), ('false_negatives', 3550.0), ('loss', 7.9133224), ('num_examples', 6920), ('num_batches', 6920)]) (Specificity, 1.0 ) (Sensitivity, 0.0 )\n",
            "round 14, metrics=OrderedDict([('binary_accuracy', 0.5001445), ('precision', 0.5015562), ('recall', 0.9724138), ('true_positives', 3384.0), ('true_negatives', 77.0), ('false_positives', 3363.0), ('false_negatives', 96.0), ('loss', 7.66569), ('num_examples', 6920), ('num_batches', 6920)]) (Specificity, 0.022383722 ) (Sensitivity, 0.9724138 )\n",
            "round 15, metrics=OrderedDict([('binary_accuracy', 0.5054913), ('precision', 0.5034558), ('recall', 0.8), ('true_positives', 6920.0), ('true_negatives', 1825.0), ('false_positives', 6825.0), ('false_negatives', 1730.0), ('loss', 7.590552), ('num_examples', 17300), ('num_batches', 17300)]) (Specificity, 0.21098267 ) (Sensitivity, 0.8 )\n",
            "round 16, metrics=OrderedDict([('binary_accuracy', 0.4729287), ('precision', 0.478242), ('recall', 0.63984525), ('true_positives', 3308.0), ('true_negatives', 1601.0), ('false_positives', 3609.0), ('false_negatives', 1862.0), ('loss', 8.09588), ('num_examples', 10380), ('num_batches', 10380)]) (Specificity, 0.30729365 ) (Sensitivity, 0.63984525 )\n",
            "round 17, metrics=OrderedDict([('binary_accuracy', 0.49121386), ('precision', 0.49261132), ('recall', 0.5857803), ('true_positives', 5067.0), ('true_negatives', 3431.0), ('false_positives', 5219.0), ('false_negatives', 3583.0), ('loss', 7.8171964), ('num_examples', 17300), ('num_batches', 17300)]) (Specificity, 0.3966474 ) (Sensitivity, 0.5857803 )\n",
            "round 18, metrics=OrderedDict([('binary_accuracy', 0.49501446), ('precision', 0.4949736), ('recall', 0.9991241), ('true_positives', 6844.0), ('true_negatives', 7.0), ('false_positives', 6983.0), ('false_negatives', 6.0), ('loss', 7.7427425), ('num_examples', 13840), ('num_batches', 13840)]) (Specificity, 0.0010014306 ) (Sensitivity, 0.9991241 )\n",
            "round 19, metrics=OrderedDict([('binary_accuracy', 0.47702312), ('precision', 0.4769342), ('recall', 0.99939394), ('true_positives', 3298.0), ('true_negatives', 3.0), ('false_positives', 3617.0), ('false_negatives', 2.0), ('loss', 8.016839), ('num_examples', 6920), ('num_batches', 6920)]) (Specificity, 0.0008287293 ) (Sensitivity, 0.99939394 )\n",
            "round 20, metrics=OrderedDict([('binary_accuracy', 0.5030347), ('precision', 0.50296456), ('recall', 0.9994253), ('true_positives', 3478.0), ('true_negatives', 3.0), ('false_positives', 3437.0), ('false_negatives', 2.0), ('loss', 7.6165123), ('num_examples', 6920), ('num_batches', 6920)]) (Specificity, 0.000872093 ) (Sensitivity, 0.9994253 )\n",
            "round 21, metrics=OrderedDict([('binary_accuracy', 0.50079477), ('precision', 0.49715552), ('recall', 0.75270075), ('true_positives', 5156.0), ('true_negatives', 1775.0), ('false_positives', 5215.0), ('false_negatives', 1694.0), ('loss', 7.663685), ('num_examples', 13840), ('num_batches', 13840)]) (Specificity, 0.2539342 ) (Sensitivity, 0.75270075 )\n",
            "round 22, metrics=OrderedDict([('binary_accuracy', 0.49118498), ('precision', 0.46805435), ('recall', 0.49060607), ('true_positives', 1619.0), ('true_negatives', 1780.0), ('false_positives', 1840.0), ('false_negatives', 1681.0), ('loss', 7.822269), ('num_examples', 6920), ('num_batches', 6920)]) (Specificity, 0.49171272 ) (Sensitivity, 0.49060607 )\n",
            "round 23, metrics=OrderedDict([('binary_accuracy', 0.5130058), ('precision', 0.514681), ('recall', 0.96654207), ('true_positives', 5171.0), ('true_negatives', 154.0), ('false_positives', 4876.0), ('false_negatives', 179.0), ('loss', 7.467941), ('num_examples', 10380), ('num_batches', 10380)]) (Specificity, 0.030616302 ) (Sensitivity, 0.96654207 )\n",
            "round 24, metrics=OrderedDict([('binary_accuracy', 0.4882948), ('precision', 0.0), ('recall', 0.0), ('true_positives', 0.0), ('true_negatives', 3379.0), ('false_positives', 1.0), ('false_negatives', 3540.0), ('loss', 7.891415), ('num_examples', 6920), ('num_batches', 6920)]) (Specificity, 0.9997041 ) (Sensitivity, 0.0 )\n",
            "round 25, metrics=OrderedDict([('binary_accuracy', 0.5267341), ('precision', 0.5286928), ('recall', 0.9691257), ('true_positives', 3547.0), ('true_negatives', 98.0), ('false_positives', 3162.0), ('false_negatives', 113.0), ('loss', 7.2563314), ('num_examples', 6920), ('num_batches', 6920)]) (Specificity, 0.03006135 ) (Sensitivity, 0.9691257 )\n",
            "round 26, metrics=OrderedDict([('binary_accuracy', 0.5047399), ('precision', 0.50296414), ('recall', 0.8042775), ('true_positives', 6957.0), ('true_negatives', 1775.0), ('false_positives', 6875.0), ('false_negatives', 1693.0), ('loss', 7.6016374), ('num_examples', 17300), ('num_batches', 17300)]) (Specificity, 0.20520231 ) (Sensitivity, 0.8042775 )\n"
          ]
        },
        {
          "output_type": "error",
          "ename": "InternalError",
          "evalue": "ignored",
          "traceback": [
            "\u001b[0;31m---------------------------------------------------------------------------\u001b[0m",
            "\u001b[0;31mInternalError\u001b[0m                             Traceback (most recent call last)",
            "\u001b[0;32m<ipython-input-16-bea39f0fc04c>\u001b[0m in \u001b[0;36m<module>\u001b[0;34m()\u001b[0m\n\u001b[1;32m      6\u001b[0m \u001b[0;32mwith\u001b[0m \u001b[0msummary_writer\u001b[0m\u001b[0;34m.\u001b[0m\u001b[0mas_default\u001b[0m\u001b[0;34m(\u001b[0m\u001b[0;34m)\u001b[0m\u001b[0;34m:\u001b[0m\u001b[0;34m\u001b[0m\u001b[0;34m\u001b[0m\u001b[0m\n\u001b[1;32m      7\u001b[0m   \u001b[0;32mfor\u001b[0m \u001b[0mround_num\u001b[0m \u001b[0;32min\u001b[0m \u001b[0mrange\u001b[0m\u001b[0;34m(\u001b[0m\u001b[0;36m1\u001b[0m\u001b[0;34m,\u001b[0m \u001b[0mNUM_ROUNDS\u001b[0m\u001b[0;34m)\u001b[0m\u001b[0;34m:\u001b[0m\u001b[0;34m\u001b[0m\u001b[0;34m\u001b[0m\u001b[0m\n\u001b[0;32m----> 8\u001b[0;31m     \u001b[0mfederated_train_data\u001b[0m \u001b[0;34m=\u001b[0m \u001b[0mmake_federated_data\u001b[0m\u001b[0;34m(\u001b[0m\u001b[0mfederated_train_dataset\u001b[0m\u001b[0;34m,\u001b[0m \u001b[0mfederated_train_dataset\u001b[0m\u001b[0;34m.\u001b[0m\u001b[0mclient_ids\u001b[0m\u001b[0;34m,\u001b[0m\u001b[0mtraining\u001b[0m\u001b[0;34m=\u001b[0m\u001b[0;32mTrue\u001b[0m\u001b[0;34m)\u001b[0m\u001b[0;34m\u001b[0m\u001b[0;34m\u001b[0m\u001b[0m\n\u001b[0m\u001b[1;32m      9\u001b[0m     \u001b[0mstate\u001b[0m\u001b[0;34m,\u001b[0m \u001b[0mmetrics\u001b[0m \u001b[0;34m=\u001b[0m \u001b[0miterative_process\u001b[0m\u001b[0;34m.\u001b[0m\u001b[0mnext\u001b[0m\u001b[0;34m(\u001b[0m\u001b[0mstate\u001b[0m\u001b[0;34m,\u001b[0m \u001b[0mfederated_train_data\u001b[0m\u001b[0;34m)\u001b[0m\u001b[0;34m\u001b[0m\u001b[0;34m\u001b[0m\u001b[0m\n\u001b[1;32m     10\u001b[0m     \u001b[0mtrain\u001b[0m\u001b[0;34m=\u001b[0m\u001b[0mmetrics\u001b[0m\u001b[0;34m[\u001b[0m\u001b[0;34m'train'\u001b[0m\u001b[0;34m]\u001b[0m\u001b[0;34m\u001b[0m\u001b[0;34m\u001b[0m\u001b[0m\n",
            "\u001b[0;32m<ipython-input-7-5a7abc021918>\u001b[0m in \u001b[0;36mmake_federated_data\u001b[0;34m(client_data, client_ids, training)\u001b[0m\n\u001b[1;32m      5\u001b[0m   return[\n\u001b[1;32m      6\u001b[0m          \u001b[0mpreprocess\u001b[0m\u001b[0;34m(\u001b[0m\u001b[0mclient_data\u001b[0m\u001b[0;34m.\u001b[0m\u001b[0mcreate_tf_dataset_for_client\u001b[0m\u001b[0;34m(\u001b[0m\u001b[0mx\u001b[0m\u001b[0;34m)\u001b[0m\u001b[0;34m)\u001b[0m\u001b[0;34m\u001b[0m\u001b[0;34m\u001b[0m\u001b[0m\n\u001b[0;32m----> 7\u001b[0;31m          \u001b[0;32mfor\u001b[0m \u001b[0mx\u001b[0m \u001b[0;32min\u001b[0m \u001b[0mclient_ids\u001b[0m\u001b[0;34m\u001b[0m\u001b[0;34m\u001b[0m\u001b[0m\n\u001b[0m\u001b[1;32m      8\u001b[0m   ]\n",
            "\u001b[0;32m<ipython-input-7-5a7abc021918>\u001b[0m in \u001b[0;36m<listcomp>\u001b[0;34m(.0)\u001b[0m\n\u001b[1;32m      5\u001b[0m   return[\n\u001b[1;32m      6\u001b[0m          \u001b[0mpreprocess\u001b[0m\u001b[0;34m(\u001b[0m\u001b[0mclient_data\u001b[0m\u001b[0;34m.\u001b[0m\u001b[0mcreate_tf_dataset_for_client\u001b[0m\u001b[0;34m(\u001b[0m\u001b[0mx\u001b[0m\u001b[0;34m)\u001b[0m\u001b[0;34m)\u001b[0m\u001b[0;34m\u001b[0m\u001b[0;34m\u001b[0m\u001b[0m\n\u001b[0;32m----> 7\u001b[0;31m          \u001b[0;32mfor\u001b[0m \u001b[0mx\u001b[0m \u001b[0;32min\u001b[0m \u001b[0mclient_ids\u001b[0m\u001b[0;34m\u001b[0m\u001b[0;34m\u001b[0m\u001b[0m\n\u001b[0m\u001b[1;32m      8\u001b[0m   ]\n",
            "\u001b[0;32m/usr/local/lib/python3.7/dist-packages/tensorflow_federated/python/simulation/datasets/from_tensor_slices_client_data.py\u001b[0m in \u001b[0;36mcreate_tf_dataset_for_client\u001b[0;34m(self, client_id)\u001b[0m\n\u001b[1;32m    217\u001b[0m     \u001b[0mtensor_slices\u001b[0m \u001b[0;34m=\u001b[0m \u001b[0mself\u001b[0m\u001b[0;34m.\u001b[0m\u001b[0m_tensor_slices_dict\u001b[0m\u001b[0;34m[\u001b[0m\u001b[0mclient_id\u001b[0m\u001b[0;34m]\u001b[0m\u001b[0;34m\u001b[0m\u001b[0;34m\u001b[0m\u001b[0m\n\u001b[1;32m    218\u001b[0m     \u001b[0;32mif\u001b[0m \u001b[0mtensor_slices\u001b[0m\u001b[0;34m:\u001b[0m\u001b[0;34m\u001b[0m\u001b[0;34m\u001b[0m\u001b[0m\n\u001b[0;32m--> 219\u001b[0;31m       \u001b[0;32mreturn\u001b[0m \u001b[0mtf\u001b[0m\u001b[0;34m.\u001b[0m\u001b[0mdata\u001b[0m\u001b[0;34m.\u001b[0m\u001b[0mDataset\u001b[0m\u001b[0;34m.\u001b[0m\u001b[0mfrom_tensor_slices\u001b[0m\u001b[0;34m(\u001b[0m\u001b[0mtensor_slices\u001b[0m\u001b[0;34m)\u001b[0m\u001b[0;34m\u001b[0m\u001b[0;34m\u001b[0m\u001b[0m\n\u001b[0m\u001b[1;32m    220\u001b[0m     \u001b[0;32melse\u001b[0m\u001b[0;34m:\u001b[0m\u001b[0;34m\u001b[0m\u001b[0;34m\u001b[0m\u001b[0m\n\u001b[1;32m    221\u001b[0m       \u001b[0;32mraise\u001b[0m \u001b[0mValueError\u001b[0m\u001b[0;34m(\u001b[0m\u001b[0;34m'No data found for client {}'\u001b[0m\u001b[0;34m.\u001b[0m\u001b[0mformat\u001b[0m\u001b[0;34m(\u001b[0m\u001b[0mclient_id\u001b[0m\u001b[0;34m)\u001b[0m\u001b[0;34m)\u001b[0m\u001b[0;34m\u001b[0m\u001b[0;34m\u001b[0m\u001b[0m\n",
            "\u001b[0;32m/usr/local/lib/python3.7/dist-packages/tensorflow/python/data/ops/dataset_ops.py\u001b[0m in \u001b[0;36mfrom_tensor_slices\u001b[0;34m(tensors, name)\u001b[0m\n\u001b[1;32m    791\u001b[0m       \u001b[0mDataset\u001b[0m\u001b[0;34m:\u001b[0m \u001b[0mA\u001b[0m\u001b[0;31m \u001b[0m\u001b[0;31m`\u001b[0m\u001b[0mDataset\u001b[0m\u001b[0;31m`\u001b[0m\u001b[0;34m.\u001b[0m\u001b[0;34m\u001b[0m\u001b[0;34m\u001b[0m\u001b[0m\n\u001b[1;32m    792\u001b[0m     \"\"\"\n\u001b[0;32m--> 793\u001b[0;31m     \u001b[0;32mreturn\u001b[0m \u001b[0mTensorSliceDataset\u001b[0m\u001b[0;34m(\u001b[0m\u001b[0mtensors\u001b[0m\u001b[0;34m,\u001b[0m \u001b[0mname\u001b[0m\u001b[0;34m=\u001b[0m\u001b[0mname\u001b[0m\u001b[0;34m)\u001b[0m\u001b[0;34m\u001b[0m\u001b[0;34m\u001b[0m\u001b[0m\n\u001b[0m\u001b[1;32m    794\u001b[0m \u001b[0;34m\u001b[0m\u001b[0m\n\u001b[1;32m    795\u001b[0m   \u001b[0;32mclass\u001b[0m \u001b[0m_GeneratorState\u001b[0m\u001b[0;34m(\u001b[0m\u001b[0mobject\u001b[0m\u001b[0;34m)\u001b[0m\u001b[0;34m:\u001b[0m\u001b[0;34m\u001b[0m\u001b[0;34m\u001b[0m\u001b[0m\n",
            "\u001b[0;32m/usr/local/lib/python3.7/dist-packages/tensorflow/python/data/ops/dataset_ops.py\u001b[0m in \u001b[0;36m__init__\u001b[0;34m(self, element, is_files, name)\u001b[0m\n\u001b[1;32m   4475\u001b[0m   \u001b[0;32mdef\u001b[0m \u001b[0m__init__\u001b[0m\u001b[0;34m(\u001b[0m\u001b[0mself\u001b[0m\u001b[0;34m,\u001b[0m \u001b[0melement\u001b[0m\u001b[0;34m,\u001b[0m \u001b[0mis_files\u001b[0m\u001b[0;34m=\u001b[0m\u001b[0;32mFalse\u001b[0m\u001b[0;34m,\u001b[0m \u001b[0mname\u001b[0m\u001b[0;34m=\u001b[0m\u001b[0;32mNone\u001b[0m\u001b[0;34m)\u001b[0m\u001b[0;34m:\u001b[0m\u001b[0;34m\u001b[0m\u001b[0;34m\u001b[0m\u001b[0m\n\u001b[1;32m   4476\u001b[0m     \u001b[0;34m\"\"\"See `Dataset.from_tensor_slices()` for details.\"\"\"\u001b[0m\u001b[0;34m\u001b[0m\u001b[0;34m\u001b[0m\u001b[0m\n\u001b[0;32m-> 4477\u001b[0;31m     \u001b[0melement\u001b[0m \u001b[0;34m=\u001b[0m \u001b[0mstructure\u001b[0m\u001b[0;34m.\u001b[0m\u001b[0mnormalize_element\u001b[0m\u001b[0;34m(\u001b[0m\u001b[0melement\u001b[0m\u001b[0;34m)\u001b[0m\u001b[0;34m\u001b[0m\u001b[0;34m\u001b[0m\u001b[0m\n\u001b[0m\u001b[1;32m   4478\u001b[0m     \u001b[0mbatched_spec\u001b[0m \u001b[0;34m=\u001b[0m \u001b[0mstructure\u001b[0m\u001b[0;34m.\u001b[0m\u001b[0mtype_spec_from_value\u001b[0m\u001b[0;34m(\u001b[0m\u001b[0melement\u001b[0m\u001b[0;34m)\u001b[0m\u001b[0;34m\u001b[0m\u001b[0;34m\u001b[0m\u001b[0m\n\u001b[1;32m   4479\u001b[0m     \u001b[0mself\u001b[0m\u001b[0;34m.\u001b[0m\u001b[0m_tensors\u001b[0m \u001b[0;34m=\u001b[0m \u001b[0mstructure\u001b[0m\u001b[0;34m.\u001b[0m\u001b[0mto_batched_tensor_list\u001b[0m\u001b[0;34m(\u001b[0m\u001b[0mbatched_spec\u001b[0m\u001b[0;34m,\u001b[0m \u001b[0melement\u001b[0m\u001b[0;34m)\u001b[0m\u001b[0;34m\u001b[0m\u001b[0;34m\u001b[0m\u001b[0m\n",
            "\u001b[0;32m/usr/local/lib/python3.7/dist-packages/tensorflow/python/data/util/structure.py\u001b[0m in \u001b[0;36mnormalize_element\u001b[0;34m(element, element_signature)\u001b[0m\n\u001b[1;32m    123\u001b[0m           \u001b[0mdtype\u001b[0m \u001b[0;34m=\u001b[0m \u001b[0mgetattr\u001b[0m\u001b[0;34m(\u001b[0m\u001b[0mspec\u001b[0m\u001b[0;34m,\u001b[0m \u001b[0;34m\"dtype\"\u001b[0m\u001b[0;34m,\u001b[0m \u001b[0;32mNone\u001b[0m\u001b[0;34m)\u001b[0m\u001b[0;34m\u001b[0m\u001b[0;34m\u001b[0m\u001b[0m\n\u001b[1;32m    124\u001b[0m           normalized_components.append(\n\u001b[0;32m--> 125\u001b[0;31m               ops.convert_to_tensor(t, name=\"component_%d\" % i, dtype=dtype))\n\u001b[0m\u001b[1;32m    126\u001b[0m   \u001b[0;32mreturn\u001b[0m \u001b[0mnest\u001b[0m\u001b[0;34m.\u001b[0m\u001b[0mpack_sequence_as\u001b[0m\u001b[0;34m(\u001b[0m\u001b[0mpack_as\u001b[0m\u001b[0;34m,\u001b[0m \u001b[0mnormalized_components\u001b[0m\u001b[0;34m)\u001b[0m\u001b[0;34m\u001b[0m\u001b[0;34m\u001b[0m\u001b[0m\n\u001b[1;32m    127\u001b[0m \u001b[0;34m\u001b[0m\u001b[0m\n",
            "\u001b[0;32m/usr/local/lib/python3.7/dist-packages/tensorflow/python/profiler/trace.py\u001b[0m in \u001b[0;36mwrapped\u001b[0;34m(*args, **kwargs)\u001b[0m\n\u001b[1;32m    181\u001b[0m         \u001b[0;32mwith\u001b[0m \u001b[0mTrace\u001b[0m\u001b[0;34m(\u001b[0m\u001b[0mtrace_name\u001b[0m\u001b[0;34m,\u001b[0m \u001b[0;34m**\u001b[0m\u001b[0mtrace_kwargs\u001b[0m\u001b[0;34m)\u001b[0m\u001b[0;34m:\u001b[0m\u001b[0;34m\u001b[0m\u001b[0;34m\u001b[0m\u001b[0m\n\u001b[1;32m    182\u001b[0m           \u001b[0;32mreturn\u001b[0m \u001b[0mfunc\u001b[0m\u001b[0;34m(\u001b[0m\u001b[0;34m*\u001b[0m\u001b[0margs\u001b[0m\u001b[0;34m,\u001b[0m \u001b[0;34m**\u001b[0m\u001b[0mkwargs\u001b[0m\u001b[0;34m)\u001b[0m\u001b[0;34m\u001b[0m\u001b[0;34m\u001b[0m\u001b[0m\n\u001b[0;32m--> 183\u001b[0;31m       \u001b[0;32mreturn\u001b[0m \u001b[0mfunc\u001b[0m\u001b[0;34m(\u001b[0m\u001b[0;34m*\u001b[0m\u001b[0margs\u001b[0m\u001b[0;34m,\u001b[0m \u001b[0;34m**\u001b[0m\u001b[0mkwargs\u001b[0m\u001b[0;34m)\u001b[0m\u001b[0;34m\u001b[0m\u001b[0;34m\u001b[0m\u001b[0m\n\u001b[0m\u001b[1;32m    184\u001b[0m \u001b[0;34m\u001b[0m\u001b[0m\n\u001b[1;32m    185\u001b[0m     \u001b[0;32mreturn\u001b[0m \u001b[0mwrapped\u001b[0m\u001b[0;34m\u001b[0m\u001b[0;34m\u001b[0m\u001b[0m\n",
            "\u001b[0;32m/usr/local/lib/python3.7/dist-packages/tensorflow/python/framework/ops.py\u001b[0m in \u001b[0;36mconvert_to_tensor\u001b[0;34m(value, dtype, name, as_ref, preferred_dtype, dtype_hint, ctx, accepted_result_types)\u001b[0m\n\u001b[1;32m   1693\u001b[0m \u001b[0;34m\u001b[0m\u001b[0m\n\u001b[1;32m   1694\u001b[0m     \u001b[0;32mif\u001b[0m \u001b[0mret\u001b[0m \u001b[0;32mis\u001b[0m \u001b[0;32mNone\u001b[0m\u001b[0;34m:\u001b[0m\u001b[0;34m\u001b[0m\u001b[0;34m\u001b[0m\u001b[0m\n\u001b[0;32m-> 1695\u001b[0;31m       \u001b[0mret\u001b[0m \u001b[0;34m=\u001b[0m \u001b[0mconversion_func\u001b[0m\u001b[0;34m(\u001b[0m\u001b[0mvalue\u001b[0m\u001b[0;34m,\u001b[0m \u001b[0mdtype\u001b[0m\u001b[0;34m=\u001b[0m\u001b[0mdtype\u001b[0m\u001b[0;34m,\u001b[0m \u001b[0mname\u001b[0m\u001b[0;34m=\u001b[0m\u001b[0mname\u001b[0m\u001b[0;34m,\u001b[0m \u001b[0mas_ref\u001b[0m\u001b[0;34m=\u001b[0m\u001b[0mas_ref\u001b[0m\u001b[0;34m)\u001b[0m\u001b[0;34m\u001b[0m\u001b[0;34m\u001b[0m\u001b[0m\n\u001b[0m\u001b[1;32m   1696\u001b[0m \u001b[0;34m\u001b[0m\u001b[0m\n\u001b[1;32m   1697\u001b[0m     \u001b[0;32mif\u001b[0m \u001b[0mret\u001b[0m \u001b[0;32mis\u001b[0m \u001b[0mNotImplemented\u001b[0m\u001b[0;34m:\u001b[0m\u001b[0;34m\u001b[0m\u001b[0;34m\u001b[0m\u001b[0m\n",
            "\u001b[0;32m/usr/local/lib/python3.7/dist-packages/tensorflow/python/framework/tensor_conversion_registry.py\u001b[0m in \u001b[0;36m_default_conversion_function\u001b[0;34m(***failed resolving arguments***)\u001b[0m\n\u001b[1;32m     46\u001b[0m \u001b[0;32mdef\u001b[0m \u001b[0m_default_conversion_function\u001b[0m\u001b[0;34m(\u001b[0m\u001b[0mvalue\u001b[0m\u001b[0;34m,\u001b[0m \u001b[0mdtype\u001b[0m\u001b[0;34m,\u001b[0m \u001b[0mname\u001b[0m\u001b[0;34m,\u001b[0m \u001b[0mas_ref\u001b[0m\u001b[0;34m)\u001b[0m\u001b[0;34m:\u001b[0m\u001b[0;34m\u001b[0m\u001b[0;34m\u001b[0m\u001b[0m\n\u001b[1;32m     47\u001b[0m   \u001b[0;32mdel\u001b[0m \u001b[0mas_ref\u001b[0m  \u001b[0;31m# Unused.\u001b[0m\u001b[0;34m\u001b[0m\u001b[0;34m\u001b[0m\u001b[0m\n\u001b[0;32m---> 48\u001b[0;31m   \u001b[0;32mreturn\u001b[0m \u001b[0mconstant_op\u001b[0m\u001b[0;34m.\u001b[0m\u001b[0mconstant\u001b[0m\u001b[0;34m(\u001b[0m\u001b[0mvalue\u001b[0m\u001b[0;34m,\u001b[0m \u001b[0mdtype\u001b[0m\u001b[0;34m,\u001b[0m \u001b[0mname\u001b[0m\u001b[0;34m=\u001b[0m\u001b[0mname\u001b[0m\u001b[0;34m)\u001b[0m\u001b[0;34m\u001b[0m\u001b[0;34m\u001b[0m\u001b[0m\n\u001b[0m\u001b[1;32m     49\u001b[0m \u001b[0;34m\u001b[0m\u001b[0m\n\u001b[1;32m     50\u001b[0m \u001b[0;34m\u001b[0m\u001b[0m\n",
            "\u001b[0;32m/usr/local/lib/python3.7/dist-packages/tensorflow/python/framework/constant_op.py\u001b[0m in \u001b[0;36mconstant\u001b[0;34m(value, dtype, shape, name)\u001b[0m\n\u001b[1;32m    266\u001b[0m   \"\"\"\n\u001b[1;32m    267\u001b[0m   return _constant_impl(value, dtype, shape, name, verify_shape=False,\n\u001b[0;32m--> 268\u001b[0;31m                         allow_broadcast=True)\n\u001b[0m\u001b[1;32m    269\u001b[0m \u001b[0;34m\u001b[0m\u001b[0m\n\u001b[1;32m    270\u001b[0m \u001b[0;34m\u001b[0m\u001b[0m\n",
            "\u001b[0;32m/usr/local/lib/python3.7/dist-packages/tensorflow/python/framework/constant_op.py\u001b[0m in \u001b[0;36m_constant_impl\u001b[0;34m(value, dtype, shape, name, verify_shape, allow_broadcast)\u001b[0m\n\u001b[1;32m    277\u001b[0m       \u001b[0;32mwith\u001b[0m \u001b[0mtrace\u001b[0m\u001b[0;34m.\u001b[0m\u001b[0mTrace\u001b[0m\u001b[0;34m(\u001b[0m\u001b[0;34m\"tf.constant\"\u001b[0m\u001b[0;34m)\u001b[0m\u001b[0;34m:\u001b[0m\u001b[0;34m\u001b[0m\u001b[0;34m\u001b[0m\u001b[0m\n\u001b[1;32m    278\u001b[0m         \u001b[0;32mreturn\u001b[0m \u001b[0m_constant_eager_impl\u001b[0m\u001b[0;34m(\u001b[0m\u001b[0mctx\u001b[0m\u001b[0;34m,\u001b[0m \u001b[0mvalue\u001b[0m\u001b[0;34m,\u001b[0m \u001b[0mdtype\u001b[0m\u001b[0;34m,\u001b[0m \u001b[0mshape\u001b[0m\u001b[0;34m,\u001b[0m \u001b[0mverify_shape\u001b[0m\u001b[0;34m)\u001b[0m\u001b[0;34m\u001b[0m\u001b[0;34m\u001b[0m\u001b[0m\n\u001b[0;32m--> 279\u001b[0;31m     \u001b[0;32mreturn\u001b[0m \u001b[0m_constant_eager_impl\u001b[0m\u001b[0;34m(\u001b[0m\u001b[0mctx\u001b[0m\u001b[0;34m,\u001b[0m \u001b[0mvalue\u001b[0m\u001b[0;34m,\u001b[0m \u001b[0mdtype\u001b[0m\u001b[0;34m,\u001b[0m \u001b[0mshape\u001b[0m\u001b[0;34m,\u001b[0m \u001b[0mverify_shape\u001b[0m\u001b[0;34m)\u001b[0m\u001b[0;34m\u001b[0m\u001b[0;34m\u001b[0m\u001b[0m\n\u001b[0m\u001b[1;32m    280\u001b[0m \u001b[0;34m\u001b[0m\u001b[0m\n\u001b[1;32m    281\u001b[0m   \u001b[0mg\u001b[0m \u001b[0;34m=\u001b[0m \u001b[0mops\u001b[0m\u001b[0;34m.\u001b[0m\u001b[0mget_default_graph\u001b[0m\u001b[0;34m(\u001b[0m\u001b[0;34m)\u001b[0m\u001b[0;34m\u001b[0m\u001b[0;34m\u001b[0m\u001b[0m\n",
            "\u001b[0;32m/usr/local/lib/python3.7/dist-packages/tensorflow/python/framework/constant_op.py\u001b[0m in \u001b[0;36m_constant_eager_impl\u001b[0;34m(ctx, value, dtype, shape, verify_shape)\u001b[0m\n\u001b[1;32m    302\u001b[0m \u001b[0;32mdef\u001b[0m \u001b[0m_constant_eager_impl\u001b[0m\u001b[0;34m(\u001b[0m\u001b[0mctx\u001b[0m\u001b[0;34m,\u001b[0m \u001b[0mvalue\u001b[0m\u001b[0;34m,\u001b[0m \u001b[0mdtype\u001b[0m\u001b[0;34m,\u001b[0m \u001b[0mshape\u001b[0m\u001b[0;34m,\u001b[0m \u001b[0mverify_shape\u001b[0m\u001b[0;34m)\u001b[0m\u001b[0;34m:\u001b[0m\u001b[0;34m\u001b[0m\u001b[0;34m\u001b[0m\u001b[0m\n\u001b[1;32m    303\u001b[0m   \u001b[0;34m\"\"\"Creates a constant on the current device.\"\"\"\u001b[0m\u001b[0;34m\u001b[0m\u001b[0;34m\u001b[0m\u001b[0m\n\u001b[0;32m--> 304\u001b[0;31m   \u001b[0mt\u001b[0m \u001b[0;34m=\u001b[0m \u001b[0mconvert_to_eager_tensor\u001b[0m\u001b[0;34m(\u001b[0m\u001b[0mvalue\u001b[0m\u001b[0;34m,\u001b[0m \u001b[0mctx\u001b[0m\u001b[0;34m,\u001b[0m \u001b[0mdtype\u001b[0m\u001b[0;34m)\u001b[0m\u001b[0;34m\u001b[0m\u001b[0;34m\u001b[0m\u001b[0m\n\u001b[0m\u001b[1;32m    305\u001b[0m   \u001b[0;32mif\u001b[0m \u001b[0mshape\u001b[0m \u001b[0;32mis\u001b[0m \u001b[0;32mNone\u001b[0m\u001b[0;34m:\u001b[0m\u001b[0;34m\u001b[0m\u001b[0;34m\u001b[0m\u001b[0m\n\u001b[1;32m    306\u001b[0m     \u001b[0;32mreturn\u001b[0m \u001b[0mt\u001b[0m\u001b[0;34m\u001b[0m\u001b[0;34m\u001b[0m\u001b[0m\n",
            "\u001b[0;32m/usr/local/lib/python3.7/dist-packages/tensorflow/python/framework/constant_op.py\u001b[0m in \u001b[0;36mconvert_to_eager_tensor\u001b[0;34m(value, ctx, dtype)\u001b[0m\n\u001b[1;32m    100\u001b[0m       \u001b[0mdtype\u001b[0m \u001b[0;34m=\u001b[0m \u001b[0mdtypes\u001b[0m\u001b[0;34m.\u001b[0m\u001b[0mas_dtype\u001b[0m\u001b[0;34m(\u001b[0m\u001b[0mdtype\u001b[0m\u001b[0;34m)\u001b[0m\u001b[0;34m.\u001b[0m\u001b[0mas_datatype_enum\u001b[0m\u001b[0;34m\u001b[0m\u001b[0;34m\u001b[0m\u001b[0m\n\u001b[1;32m    101\u001b[0m   \u001b[0mctx\u001b[0m\u001b[0;34m.\u001b[0m\u001b[0mensure_initialized\u001b[0m\u001b[0;34m(\u001b[0m\u001b[0;34m)\u001b[0m\u001b[0;34m\u001b[0m\u001b[0;34m\u001b[0m\u001b[0m\n\u001b[0;32m--> 102\u001b[0;31m   \u001b[0;32mreturn\u001b[0m \u001b[0mops\u001b[0m\u001b[0;34m.\u001b[0m\u001b[0mEagerTensor\u001b[0m\u001b[0;34m(\u001b[0m\u001b[0mvalue\u001b[0m\u001b[0;34m,\u001b[0m \u001b[0mctx\u001b[0m\u001b[0;34m.\u001b[0m\u001b[0mdevice_name\u001b[0m\u001b[0;34m,\u001b[0m \u001b[0mdtype\u001b[0m\u001b[0;34m)\u001b[0m\u001b[0;34m\u001b[0m\u001b[0;34m\u001b[0m\u001b[0m\n\u001b[0m\u001b[1;32m    103\u001b[0m \u001b[0;34m\u001b[0m\u001b[0m\n\u001b[1;32m    104\u001b[0m \u001b[0;34m\u001b[0m\u001b[0m\n",
            "\u001b[0;31mInternalError\u001b[0m: Failed copying input tensor from /job:localhost/replica:0/task:0/device:CPU:0 to /job:localhost/replica:0/task:0/device:GPU:0 in order to run _EagerConst: Dst tensor is not initialized."
          ]
        }
      ]
    },
    {
      "cell_type": "markdown",
      "source": [
        "# **Finetune the server model for a further 5 rounds**"
      ],
      "metadata": {
        "id": "3ZovuqgfMEgF"
      }
    },
    {
      "cell_type": "markdown",
      "source": [
        "This part will take much longer as the pretrained layers are now unfrozen and are available to be trained"
      ],
      "metadata": {
        "id": "CepKZDrcMUqi"
      }
    },
    {
      "cell_type": "code",
      "source": [
        "model_weights = iterative_process.get_model_weights(state)"
      ],
      "metadata": {
        "id": "qmvQ23xLC8XM"
      },
      "execution_count": null,
      "outputs": []
    },
    {
      "cell_type": "code",
      "source": [
        "def finetune_federated_model(model_weights):\n",
        "  resnet=ResNet_model()\n",
        "  model_weights.assign_weights_to(resnet)\n",
        "  resnet.trainable=True\n",
        "  return tff.learning.from_keras_model(\n",
        "      resnet,\n",
        "      input_spec=preprocessed_example_dataset.element_spec,\n",
        "      loss=tf.keras.losses.BinaryCrossentropy(),\n",
        "      metrics=[tf.keras.metrics.BinaryAccuracy(),tf.keras.metrics.Precision(),tf.keras.metrics.Recall(),tf.keras.metrics.TruePositives(),tf.keras.metrics.TrueNegatives(),tf.keras.metrics.FalsePositives(),tf.keras.metrics.FalseNegatives()])"
      ],
      "metadata": {
        "id": "0vLoYghnFMgw"
      },
      "execution_count": null,
      "outputs": []
    },
    {
      "cell_type": "code",
      "source": [
        "iterative_process = tff.learning.build_federated_averaging_process(\n",
        "    lambda: finetune_federated_model(model_weights),\n",
        "    client_optimizer_fn=lambda: tf.keras.optimizers.SGD(learning_rate=0.0001),\n",
        "    server_optimizer_fn=lambda: tf.keras.optimizers.SGD(learning_rate=0.0001))"
      ],
      "metadata": {
        "id": "Uia0wbDQFksi"
      },
      "execution_count": null,
      "outputs": []
    },
    {
      "cell_type": "code",
      "source": [
        "state=iterative_process.initialize()\n",
        "finetuning_rounds=NUM_ROUNDS+5\n",
        "with summary_writer.as_default():\n",
        "  for round_num in range(NUM_ROUNDS,finetuning_rounds):\n",
        "    federated_train_data = make_federated_data(federated_train_dataset, federated_train_dataset.client_ids,training=True)\n",
        "    state, metrics = iterative_process.next(state, federated_train_data)\n",
        "    train=metrics['train']\n",
        "    specificity=train['true_negatives']/(train['true_negatives']+train['false_positives'])\n",
        "    sensitivity=train['true_positives']/(train['true_positives']+train['false_negatives'])\n",
        "    print('round {:2d}, metrics={}'.format(round_num, metrics['train']),'(Specificity,',specificity,') (Sensitivity,',sensitivity,')')\n",
        "    for name, value in metrics['train'].items():\n",
        "        tf.summary.scalar(name, value, step=round_num)\n",
        "        if(name=='recall'):\n",
        "          break"
      ],
      "metadata": {
        "id": "xIZd_ClJICbx"
      },
      "execution_count": null,
      "outputs": []
    },
    {
      "cell_type": "markdown",
      "source": [
        "# **Output the results to graph visualisations**"
      ],
      "metadata": {
        "id": "xl0FFZjXLp8J"
      }
    },
    {
      "cell_type": "code",
      "source": [
        "!ls {logdir}\n",
        "%tensorboard --logdir {logdir} --port=0"
      ],
      "metadata": {
        "id": "I3zdVACwlCUf"
      },
      "execution_count": null,
      "outputs": []
    },
    {
      "cell_type": "markdown",
      "source": [
        "# **Evaluation on the test set**"
      ],
      "metadata": {
        "id": "goO0YmzVtaAM"
      }
    },
    {
      "cell_type": "code",
      "source": [
        "evaluation=tff.learning.build_federated_evaluation(lambda: finetune_federated_model(model_weights))"
      ],
      "metadata": {
        "id": "Ak7ZRu2dBByK"
      },
      "execution_count": null,
      "outputs": []
    },
    {
      "cell_type": "code",
      "source": [
        "federated_test_data = make_federated_data(federated_test_dataset, federated_test_dataset.client_ids,training=False)"
      ],
      "metadata": {
        "id": "cWqmZZKCoDak"
      },
      "execution_count": null,
      "outputs": []
    },
    {
      "cell_type": "code",
      "source": [
        "test_metrics = evaluation(state.model, federated_test_data)"
      ],
      "metadata": {
        "id": "Coqmc64BBB9z"
      },
      "execution_count": null,
      "outputs": []
    },
    {
      "cell_type": "code",
      "source": [
        "test=test_metrics['eval']\n",
        "specificity=test['true_negatives']/(test['true_negatives']+test['false_positives'])\n",
        "sensitivity=test['true_positives']/(test['true_positives']+test['false_negatives'])\n",
        "accuracy=test['binary_accuracy']\n",
        "print('Evaluation Metrics: (Accuracy:)',accuracy,'(Specificity:)',specificity,'(Sensitivity:)',sensitivity)"
      ],
      "metadata": {
        "id": "4wE6RZ-HtkNk"
      },
      "execution_count": null,
      "outputs": []
    },
    {
      "cell_type": "code",
      "source": [
        "# Uncomment and run this cell to remove old outputs from the directory so new results can be seen on tensorboard\n",
        "\n",
        "# !rm -R /tmp/logs/scalars/*"
      ],
      "metadata": {
        "id": "NH-7zIZ1WIte"
      },
      "execution_count": null,
      "outputs": []
    }
  ]
}