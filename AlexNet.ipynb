{
  "nbformat": 4,
  "nbformat_minor": 0,
  "metadata": {
    "colab": {
      "name": "AlexNet.ipynb",
      "provenance": [],
      "authorship_tag": "ABX9TyOa3br+3V9Y/FFYP7VYMKaP",
      "include_colab_link": true
    },
    "kernelspec": {
      "name": "python3",
      "display_name": "Python 3"
    },
    "language_info": {
      "name": "python"
    },
    "accelerator": "GPU"
  },
  "cells": [
    {
      "cell_type": "markdown",
      "metadata": {
        "id": "view-in-github",
        "colab_type": "text"
      },
      "source": [
        "<a href=\"https://colab.research.google.com/github/tylerb55/COMP530/blob/main/AlexNet.ipynb\" target=\"_parent\"><img src=\"https://colab.research.google.com/assets/colab-badge.svg\" alt=\"Open In Colab\"/></a>"
      ]
    },
    {
      "cell_type": "code",
      "execution_count": 1,
      "metadata": {
        "id": "nsGFBvoCm86V",
        "outputId": "187756d7-ea44-4aa3-9f2f-f1f6eb37b914",
        "colab": {
          "base_uri": "https://localhost:8080/"
        }
      },
      "outputs": [
        {
          "output_type": "stream",
          "name": "stdout",
          "text": [
            "fatal: destination path 'COMP530' already exists and is not an empty directory.\n"
          ]
        }
      ],
      "source": [
        "! git clone https://github.com/tylerb55/COMP530.git"
      ]
    },
    {
      "cell_type": "code",
      "source": [
        "import numpy as np\n",
        "import pandas as pd\n",
        "import collections\n",
        "import matplotlib.image as img\n",
        "import matplotlib.pyplot as plt\n",
        "import tensorflow as tf\n",
        "import tensorflow_datasets as tfds"
      ],
      "metadata": {
        "id": "gXLBlMwpnK7H"
      },
      "execution_count": 2,
      "outputs": []
    },
    {
      "cell_type": "markdown",
      "source": [
        "Split the test and validation set"
      ],
      "metadata": {
        "id": "tFQN5RyMow-F"
      }
    },
    {
      "cell_type": "code",
      "source": [
        "def Train_Validation_Test_Set(directory_name):\n",
        "  \"\"\"a function to load the images in a large directory into a tensorflow dataset object\n",
        "  the data is split 80:10:10 in training:validation:test. The dataset is shuffled before splitting\n",
        "  and the images are formatted to 512x512 pixels and grayscale(one color channel and the values range from 0 to 255)\"\"\"\n",
        "  dataset_train=tf.keras.preprocessing.image_dataset_from_directory('/content/COMP530/'+directory_name,\n",
        "                                                                    labels='inferred',\n",
        "                                                                    label_mode='int',\n",
        "                                                                    class_names=['NormalCases','cancercases'],\n",
        "                                                                    color_mode='grayscale',\n",
        "                                                                    image_size=(512,512),\n",
        "                                                                    shuffle=True,\n",
        "                                                                    seed=305,\n",
        "                                                                    validation_split=0.2,\n",
        "                                                                    subset='training',\n",
        "                                                                    batch_size=None\n",
        "                                                                    )\n",
        "\n",
        "  dataset_validation=tf.keras.preprocessing.image_dataset_from_directory('/content/COMP530/'+directory_name,\n",
        "                                                                    labels='inferred',\n",
        "                                                                    label_mode='int',\n",
        "                                                                    class_names=['NormalCases','cancercases'],\n",
        "                                                                    color_mode='grayscale',\n",
        "                                                                    image_size=(512,512),\n",
        "                                                                    shuffle=True,\n",
        "                                                                    seed=305,\n",
        "                                                                    validation_split=0.2,\n",
        "                                                                    subset='validation',\n",
        "                                                                    batch_size=None\n",
        "                                                                    )\n",
        "  \n",
        "  dataset_test=tf.keras.preprocessing.image_dataset_from_directory('/content/COMP530/'+directory_name,\n",
        "                                                                    labels='inferred',\n",
        "                                                                    label_mode='int',\n",
        "                                                                    class_names=['NormalCases','cancercases'],\n",
        "                                                                    color_mode='grayscale',\n",
        "                                                                    image_size=(512,512),\n",
        "                                                                    shuffle=True,\n",
        "                                                                    seed=305,\n",
        "                                                                    validation_split=0.1,\n",
        "                                                                    subset='validation',\n",
        "                                                                    batch_size=None\n",
        "                                                                    )\n",
        "    \n",
        "  dataset_validation=dataset_validation.take(dataset_test.__len__())\n",
        "\n",
        "  return dataset_train,dataset_validation,dataset_test"
      ],
      "metadata": {
        "id": "0xqnACYcnK92"
      },
      "execution_count": 3,
      "outputs": []
    },
    {
      "cell_type": "code",
      "source": [
        "def AlexNetPreprocess(image,label):\n",
        "  image = tf.image.per_image_standardization(image)\n",
        "  # Resize images from 512x512 to 227x227\n",
        "  image = tf.image.resize(image, (227,227))\n",
        "  return image, label"
      ],
      "metadata": {
        "id": "SSTkz2KVnLAu"
      },
      "execution_count": 4,
      "outputs": []
    },
    {
      "cell_type": "code",
      "source": [
        "BATCH_SIZE=32\n",
        "\n",
        "dataset_train,dataset_validation, dataset_test=Train_Validation_Test_Set(\"Dataset1\")\n",
        "dataset_train=dataset_train.map(AlexNetPreprocess).batch(batch_size=BATCH_SIZE,drop_remainder=True)\n",
        "dataset_validation=dataset_validation.map(AlexNetPreprocess).batch(batch_size=BATCH_SIZE,drop_remainder=True)\n",
        "dataset_test=dataset_test.map(AlexNetPreprocess).batch(batch_size=BATCH_SIZE,drop_remainder=True)"
      ],
      "metadata": {
        "id": "sasC3SMInLDm",
        "colab": {
          "base_uri": "https://localhost:8080/"
        },
        "outputId": "0d6cde24-1fc5-4d3e-afd5-398ce01862aa"
      },
      "execution_count": 5,
      "outputs": [
        {
          "output_type": "stream",
          "name": "stdout",
          "text": [
            "Found 1097 files belonging to 2 classes.\n",
            "Using 878 files for training.\n",
            "Found 1097 files belonging to 2 classes.\n",
            "Using 219 files for validation.\n",
            "Found 1097 files belonging to 2 classes.\n",
            "Using 109 files for validation.\n"
          ]
        }
      ]
    },
    {
      "cell_type": "code",
      "source": [
        "def AlexNet_model():\n",
        "   return tf.keras.models.Sequential([\n",
        "                                      tf.keras.layers.Conv2D(filters=96,kernel_size=(11,11),strides=(4,4),activation='relu',input_shape=(227,227,1)),\n",
        "                                      tf.keras.layers.BatchNormalization(),\n",
        "                                      tf.keras.layers.MaxPool2D(pool_size=(3,3),strides=(2,2)),\n",
        "                                      tf.keras.layers.Conv2D(filters=256,kernel_size=(5,5),strides=(1,1),activation='relu',padding='same'),\n",
        "                                      tf.keras.layers.BatchNormalization(),\n",
        "                                      tf.keras.layers.MaxPool2D(pool_size=(3,3),strides=(2,2)),\n",
        "                                      tf.keras.layers.Conv2D(filters=384,kernel_size=(3,3),strides=(1,1),activation='relu',padding='same'),\n",
        "                                      tf.keras.layers.BatchNormalization(),\n",
        "                                      tf.keras.layers.Conv2D(filters=384,kernel_size=(3,3),strides=(1,1),activation='relu',padding='same'),\n",
        "                                      tf.keras.layers.BatchNormalization(),\n",
        "                                      tf.keras.layers.Conv2D(filters=256,kernel_size=(3,3),strides=(1,1),activation='relu',padding='same'),\n",
        "                                      tf.keras.layers.BatchNormalization(),\n",
        "                                      tf.keras.layers.MaxPool2D(pool_size=(3,3),strides=(2,2)),\n",
        "                                      tf.keras.layers.Flatten(),\n",
        "                                      tf.keras.layers.Dense(4096,activation='relu'),\n",
        "                                      tf.keras.layers.Dropout(0.5),\n",
        "                                      tf.keras.layers.Dense(4096,activation='relu'),\n",
        "                                      tf.keras.layers.Dropout(0.5),\n",
        "                                      tf.keras.layers.Dense(1,activation='softmax')\n",
        "])\n",
        "\n",
        "AlexNet = AlexNet_model()"
      ],
      "metadata": {
        "id": "7TwRNVTNoZo-"
      },
      "execution_count": 6,
      "outputs": []
    },
    {
      "cell_type": "code",
      "source": [
        "AlexNet.compile(loss='binary_crossentropy',optimizer=tf.optimizers.SGD(learning_rate=0.001),metrics=['accuracy'])\n",
        "AlexNet.summary()"
      ],
      "metadata": {
        "id": "R9VwV7croaHm",
        "colab": {
          "base_uri": "https://localhost:8080/"
        },
        "outputId": "f77ab8a5-b71a-45ff-fc88-b84097cdef5d"
      },
      "execution_count": 7,
      "outputs": [
        {
          "output_type": "stream",
          "name": "stdout",
          "text": [
            "Model: \"sequential\"\n",
            "_________________________________________________________________\n",
            " Layer (type)                Output Shape              Param #   \n",
            "=================================================================\n",
            " conv2d (Conv2D)             (None, 55, 55, 96)        11712     \n",
            "                                                                 \n",
            " batch_normalization (BatchN  (None, 55, 55, 96)       384       \n",
            " ormalization)                                                   \n",
            "                                                                 \n",
            " max_pooling2d (MaxPooling2D  (None, 27, 27, 96)       0         \n",
            " )                                                               \n",
            "                                                                 \n",
            " conv2d_1 (Conv2D)           (None, 27, 27, 256)       614656    \n",
            "                                                                 \n",
            " batch_normalization_1 (Batc  (None, 27, 27, 256)      1024      \n",
            " hNormalization)                                                 \n",
            "                                                                 \n",
            " max_pooling2d_1 (MaxPooling  (None, 13, 13, 256)      0         \n",
            " 2D)                                                             \n",
            "                                                                 \n",
            " conv2d_2 (Conv2D)           (None, 13, 13, 384)       885120    \n",
            "                                                                 \n",
            " batch_normalization_2 (Batc  (None, 13, 13, 384)      1536      \n",
            " hNormalization)                                                 \n",
            "                                                                 \n",
            " conv2d_3 (Conv2D)           (None, 13, 13, 384)       1327488   \n",
            "                                                                 \n",
            " batch_normalization_3 (Batc  (None, 13, 13, 384)      1536      \n",
            " hNormalization)                                                 \n",
            "                                                                 \n",
            " conv2d_4 (Conv2D)           (None, 13, 13, 256)       884992    \n",
            "                                                                 \n",
            " batch_normalization_4 (Batc  (None, 13, 13, 256)      1024      \n",
            " hNormalization)                                                 \n",
            "                                                                 \n",
            " max_pooling2d_2 (MaxPooling  (None, 6, 6, 256)        0         \n",
            " 2D)                                                             \n",
            "                                                                 \n",
            " flatten (Flatten)           (None, 9216)              0         \n",
            "                                                                 \n",
            " dense (Dense)               (None, 4096)              37752832  \n",
            "                                                                 \n",
            " dropout (Dropout)           (None, 4096)              0         \n",
            "                                                                 \n",
            " dense_1 (Dense)             (None, 4096)              16781312  \n",
            "                                                                 \n",
            " dropout_1 (Dropout)         (None, 4096)              0         \n",
            "                                                                 \n",
            " dense_2 (Dense)             (None, 1)                 4097      \n",
            "                                                                 \n",
            "=================================================================\n",
            "Total params: 58,267,713\n",
            "Trainable params: 58,264,961\n",
            "Non-trainable params: 2,752\n",
            "_________________________________________________________________\n"
          ]
        }
      ]
    },
    {
      "cell_type": "code",
      "source": [
        "history=AlexNet.fit(dataset_train,epochs=50,validation_data=dataset_validation,validation_freq=1)"
      ],
      "metadata": {
        "id": "rQb5G05JoqEt",
        "colab": {
          "base_uri": "https://localhost:8080/"
        },
        "outputId": "5cc5da90-40d5-4df2-eb8a-e78077aeaf55"
      },
      "execution_count": 8,
      "outputs": [
        {
          "output_type": "stream",
          "name": "stdout",
          "text": [
            "Epoch 1/50\n",
            "27/27 [==============================] - 12s 110ms/step - loss: 1.2768 - accuracy: 0.6215 - val_loss: 0.6832 - val_accuracy: 0.6042\n",
            "Epoch 2/50\n",
            "27/27 [==============================] - 3s 47ms/step - loss: 0.6965 - accuracy: 0.6215 - val_loss: 0.6736 - val_accuracy: 0.5938\n",
            "Epoch 3/50\n",
            "27/27 [==============================] - 3s 47ms/step - loss: 0.6171 - accuracy: 0.6192 - val_loss: 0.6262 - val_accuracy: 0.6875\n",
            "Epoch 4/50\n",
            "27/27 [==============================] - 3s 54ms/step - loss: 0.4544 - accuracy: 0.6192 - val_loss: 0.6940 - val_accuracy: 0.5625\n",
            "Epoch 5/50\n",
            "27/27 [==============================] - 3s 46ms/step - loss: 0.3835 - accuracy: 0.6204 - val_loss: 0.6454 - val_accuracy: 0.6458\n",
            "Epoch 6/50\n",
            "27/27 [==============================] - 3s 55ms/step - loss: 0.2635 - accuracy: 0.6215 - val_loss: 0.6759 - val_accuracy: 0.6354\n",
            "Epoch 7/50\n",
            "27/27 [==============================] - 3s 54ms/step - loss: 0.2259 - accuracy: 0.6227 - val_loss: 0.7023 - val_accuracy: 0.6146\n",
            "Epoch 8/50\n",
            "27/27 [==============================] - 3s 48ms/step - loss: 0.1677 - accuracy: 0.6181 - val_loss: 0.7793 - val_accuracy: 0.5521\n",
            "Epoch 9/50\n",
            "27/27 [==============================] - 3s 53ms/step - loss: 0.1899 - accuracy: 0.6181 - val_loss: 0.6837 - val_accuracy: 0.5938\n",
            "Epoch 10/50\n",
            "27/27 [==============================] - 3s 48ms/step - loss: 0.1406 - accuracy: 0.6181 - val_loss: 0.7729 - val_accuracy: 0.6250\n",
            "Epoch 11/50\n",
            "27/27 [==============================] - 3s 55ms/step - loss: 0.1057 - accuracy: 0.6238 - val_loss: 0.8198 - val_accuracy: 0.5729\n",
            "Epoch 12/50\n",
            "27/27 [==============================] - 3s 46ms/step - loss: 0.0820 - accuracy: 0.6181 - val_loss: 0.7649 - val_accuracy: 0.6146\n",
            "Epoch 13/50\n",
            "27/27 [==============================] - 4s 66ms/step - loss: 0.0898 - accuracy: 0.6227 - val_loss: 0.4689 - val_accuracy: 0.6667\n",
            "Epoch 14/50\n",
            "27/27 [==============================] - 3s 55ms/step - loss: 0.0683 - accuracy: 0.6227 - val_loss: 0.5760 - val_accuracy: 0.5521\n",
            "Epoch 15/50\n",
            "27/27 [==============================] - 3s 54ms/step - loss: 0.0571 - accuracy: 0.6215 - val_loss: 0.3624 - val_accuracy: 0.6354\n",
            "Epoch 16/50\n",
            "27/27 [==============================] - 3s 47ms/step - loss: 0.0558 - accuracy: 0.6204 - val_loss: 0.2427 - val_accuracy: 0.5833\n",
            "Epoch 17/50\n",
            "27/27 [==============================] - 3s 54ms/step - loss: 0.0598 - accuracy: 0.6192 - val_loss: 0.2061 - val_accuracy: 0.5833\n",
            "Epoch 18/50\n",
            "27/27 [==============================] - 3s 49ms/step - loss: 0.0414 - accuracy: 0.6192 - val_loss: 0.1930 - val_accuracy: 0.5312\n",
            "Epoch 19/50\n",
            "27/27 [==============================] - 3s 48ms/step - loss: 0.0379 - accuracy: 0.6227 - val_loss: 0.2695 - val_accuracy: 0.6458\n",
            "Epoch 20/50\n",
            "27/27 [==============================] - 3s 49ms/step - loss: 0.0420 - accuracy: 0.6204 - val_loss: 0.1214 - val_accuracy: 0.6042\n",
            "Epoch 21/50\n",
            "27/27 [==============================] - 3s 54ms/step - loss: 0.0310 - accuracy: 0.6181 - val_loss: 0.0261 - val_accuracy: 0.7083\n",
            "Epoch 22/50\n",
            "27/27 [==============================] - 3s 54ms/step - loss: 0.0274 - accuracy: 0.6192 - val_loss: 0.0285 - val_accuracy: 0.5938\n",
            "Epoch 23/50\n",
            "27/27 [==============================] - 3s 55ms/step - loss: 0.0220 - accuracy: 0.6238 - val_loss: 0.1084 - val_accuracy: 0.6667\n",
            "Epoch 24/50\n",
            "27/27 [==============================] - 3s 55ms/step - loss: 0.0284 - accuracy: 0.6215 - val_loss: 0.1116 - val_accuracy: 0.5938\n",
            "Epoch 25/50\n",
            "27/27 [==============================] - 3s 47ms/step - loss: 0.0242 - accuracy: 0.6192 - val_loss: 0.0812 - val_accuracy: 0.6354\n",
            "Epoch 26/50\n",
            "27/27 [==============================] - 3s 49ms/step - loss: 0.0231 - accuracy: 0.6204 - val_loss: 0.1552 - val_accuracy: 0.6667\n",
            "Epoch 27/50\n",
            "27/27 [==============================] - 3s 55ms/step - loss: 0.0220 - accuracy: 0.6204 - val_loss: 0.0968 - val_accuracy: 0.6458\n",
            "Epoch 28/50\n",
            "27/27 [==============================] - 3s 54ms/step - loss: 0.0153 - accuracy: 0.6157 - val_loss: 0.0509 - val_accuracy: 0.5729\n",
            "Epoch 29/50\n",
            "27/27 [==============================] - 3s 48ms/step - loss: 0.0119 - accuracy: 0.6227 - val_loss: 0.1196 - val_accuracy: 0.6771\n",
            "Epoch 30/50\n",
            "27/27 [==============================] - 3s 47ms/step - loss: 0.0119 - accuracy: 0.6215 - val_loss: 0.1024 - val_accuracy: 0.6146\n",
            "Epoch 31/50\n",
            "27/27 [==============================] - 3s 53ms/step - loss: 0.0138 - accuracy: 0.6215 - val_loss: 0.0469 - val_accuracy: 0.6042\n",
            "Epoch 32/50\n",
            "27/27 [==============================] - 3s 48ms/step - loss: 0.0095 - accuracy: 0.6204 - val_loss: 0.1329 - val_accuracy: 0.6146\n",
            "Epoch 33/50\n",
            "27/27 [==============================] - 3s 48ms/step - loss: 0.0148 - accuracy: 0.6192 - val_loss: 0.0670 - val_accuracy: 0.6042\n",
            "Epoch 34/50\n",
            "27/27 [==============================] - 3s 48ms/step - loss: 0.0130 - accuracy: 0.6192 - val_loss: 0.0814 - val_accuracy: 0.5938\n",
            "Epoch 35/50\n",
            "27/27 [==============================] - 3s 55ms/step - loss: 0.0106 - accuracy: 0.6192 - val_loss: 0.0826 - val_accuracy: 0.6562\n",
            "Epoch 36/50\n",
            "27/27 [==============================] - 3s 54ms/step - loss: 0.0094 - accuracy: 0.6192 - val_loss: 0.0440 - val_accuracy: 0.6875\n",
            "Epoch 37/50\n",
            "27/27 [==============================] - 3s 55ms/step - loss: 0.0109 - accuracy: 0.6181 - val_loss: 0.0573 - val_accuracy: 0.6042\n",
            "Epoch 38/50\n",
            "27/27 [==============================] - 3s 47ms/step - loss: 0.0109 - accuracy: 0.6238 - val_loss: 0.0821 - val_accuracy: 0.6250\n",
            "Epoch 39/50\n",
            "27/27 [==============================] - 3s 54ms/step - loss: 0.0061 - accuracy: 0.6204 - val_loss: 0.0986 - val_accuracy: 0.6146\n",
            "Epoch 40/50\n",
            "27/27 [==============================] - 3s 54ms/step - loss: 0.0107 - accuracy: 0.6192 - val_loss: 0.0753 - val_accuracy: 0.6250\n",
            "Epoch 41/50\n",
            "27/27 [==============================] - 3s 49ms/step - loss: 0.0088 - accuracy: 0.6204 - val_loss: 0.0786 - val_accuracy: 0.6250\n",
            "Epoch 42/50\n",
            "27/27 [==============================] - 3s 54ms/step - loss: 0.0092 - accuracy: 0.6181 - val_loss: 0.0100 - val_accuracy: 0.7292\n",
            "Epoch 43/50\n",
            "27/27 [==============================] - 3s 48ms/step - loss: 0.0057 - accuracy: 0.6204 - val_loss: 0.1708 - val_accuracy: 0.6146\n",
            "Epoch 44/50\n",
            "27/27 [==============================] - 3s 47ms/step - loss: 0.0059 - accuracy: 0.6227 - val_loss: 0.1296 - val_accuracy: 0.6042\n",
            "Epoch 45/50\n",
            "27/27 [==============================] - 3s 47ms/step - loss: 0.0072 - accuracy: 0.6204 - val_loss: 0.0803 - val_accuracy: 0.5729\n",
            "Epoch 46/50\n",
            "27/27 [==============================] - 3s 47ms/step - loss: 0.0065 - accuracy: 0.6204 - val_loss: 0.1021 - val_accuracy: 0.6250\n",
            "Epoch 47/50\n",
            "27/27 [==============================] - 3s 47ms/step - loss: 0.0076 - accuracy: 0.6204 - val_loss: 0.0580 - val_accuracy: 0.6667\n",
            "Epoch 48/50\n",
            "27/27 [==============================] - 3s 48ms/step - loss: 0.0032 - accuracy: 0.6227 - val_loss: 0.0480 - val_accuracy: 0.6562\n",
            "Epoch 49/50\n",
            "27/27 [==============================] - 3s 55ms/step - loss: 0.0051 - accuracy: 0.6227 - val_loss: 0.0516 - val_accuracy: 0.5625\n",
            "Epoch 50/50\n",
            "27/27 [==============================] - 3s 48ms/step - loss: 0.0065 - accuracy: 0.6192 - val_loss: 0.0948 - val_accuracy: 0.6667\n"
          ]
        }
      ]
    },
    {
      "cell_type": "code",
      "source": [
        "# summarize history for accuracy\n",
        "plt.plot(history.history['accuracy'])\n",
        "plt.plot(history.history['val_accuracy'])\n",
        "plt.title('training accuracy')\n",
        "plt.ylabel('accuracy')\n",
        "plt.xlabel('epoch')\n",
        "plt.legend(['train', 'validation'], loc='upper left')\n",
        "plt.show()\n",
        "# summarize history for loss\n",
        "plt.plot(history.history['loss'])\n",
        "plt.plot(history.history['val_loss'])\n",
        "plt.title('training loss')\n",
        "plt.ylabel('loss')\n",
        "plt.xlabel('epoch')\n",
        "plt.legend(['train', 'validation'], loc='upper left')\n",
        "plt.show()"
      ],
      "metadata": {
        "colab": {
          "base_uri": "https://localhost:8080/",
          "height": 573
        },
        "id": "REvrRGlDDI_Y",
        "outputId": "09dcf48a-0f83-42d5-dabc-d01d1dfc1b7c"
      },
      "execution_count": 9,
      "outputs": [
        {
          "output_type": "display_data",
          "data": {
            "text/plain": [
              "<Figure size 432x288 with 1 Axes>"
            ],
            "image/png": "[encoded data removed]"
          },
          "metadata": {
            "needs_background": "light"
          }
        },
        {
          "output_type": "display_data",
          "data": {
            "text/plain": [
              "<Figure size 432x288 with 1 Axes>"
            ],
            "image/png": "[encoded data removed]"
          },
          "metadata": {
            "needs_background": "light"
          }
        }
      ]
    },
    {
      "cell_type": "markdown",
      "source": [
        "Test the model on the test set and evaluate performance"
      ],
      "metadata": {
        "id": "b-lIum5Bo7SO"
      }
    },
    {
      "cell_type": "code",
      "source": [
        "AlexNet.evaluate(dataset_test)"
      ],
      "metadata": {
        "id": "ZUrHIr-3owd1",
        "colab": {
          "base_uri": "https://localhost:8080/"
        },
        "outputId": "e8e9e2c6-f515-4dc8-9c2e-7c0bd217decb"
      },
      "execution_count": 10,
      "outputs": [
        {
          "output_type": "stream",
          "name": "stdout",
          "text": [
            "3/3 [==============================] - 0s 24ms/step - loss: 0.0977 - accuracy: 0.5521\n"
          ]
        },
        {
          "output_type": "execute_result",
          "data": {
            "text/plain": [
              "[0.09770000725984573, 0.5520833134651184]"
            ]
          },
          "metadata": {},
          "execution_count": 10
        }
      ]
    },
    {
      "cell_type": "markdown",
      "source": [
        "Produce graphs and visualisations for test data"
      ],
      "metadata": {
        "id": "Rfm_GSa5pD6l"
      }
    },
    {
      "cell_type": "code",
      "source": [
        "predictions=AlexNet.predict(dataset_test)\n",
        "target=np.array([],'int32')\n",
        "for element in dataset_test.as_numpy_iterator():\n",
        "  target=np.append(target,element[1])\n",
        "\n",
        "epoch_precision=[]\n",
        "epoch_recall=[]\n",
        "epoch_accuracy=[]\n",
        "tp=0\n",
        "tn=0\n",
        "fp=0\n",
        "fn=0\n",
        "for i in range(len(predictions)):\n",
        "  if(np.argmax(predictions[i])==1 and target[i]==1):\n",
        "    tp+=1\n",
        "  elif(np.argmax(predictions[i])==1 and target[i]==0):\n",
        "    fp+=1\n",
        "  elif(np.argmax(predictions[i])==0 and target[i]==0):\n",
        "    tn+=1\n",
        "  elif(np.argmax(predictions[i])==0 and target[i]==1):\n",
        "    fn+=1\n",
        "  if((i+1)%BATCH_SIZE==0):\n",
        "    epoch_accuracy.append((tp+tn)/(tp+fn+tn+fp))\n",
        "    epoch_precision.append((tp/(fp+tp)))\n",
        "    epoch_recall.append((tp/(fn+tp)))\n",
        "print(\"accuracy:\",epoch_accuracy)\n",
        "print(\"recall:\",epoch_recall)\n",
        "print(\"precision:\",epoch_precision)\n"
      ],
      "metadata": {
        "id": "Ft4xFVzzpEQ2",
        "colab": {
          "base_uri": "https://localhost:8080/",
          "height": 235
        },
        "outputId": "f053583e-9db1-448e-8f58-ede5d33aadbd"
      },
      "execution_count": 11,
      "outputs": [
        {
          "output_type": "error",
          "ename": "ZeroDivisionError",
          "evalue": "ignored",
          "traceback": [
            "\u001b[0;31m---------------------------------------------------------------------------\u001b[0m",
            "\u001b[0;31mZeroDivisionError\u001b[0m                         Traceback (most recent call last)",
            "\u001b[0;32m<ipython-input-11-19d66cf924c3>\u001b[0m in \u001b[0;36m<module>\u001b[0;34m()\u001b[0m\n\u001b[1;32m     22\u001b[0m   \u001b[0;32mif\u001b[0m\u001b[0;34m(\u001b[0m\u001b[0;34m(\u001b[0m\u001b[0mi\u001b[0m\u001b[0;34m+\u001b[0m\u001b[0;36m1\u001b[0m\u001b[0;34m)\u001b[0m\u001b[0;34m%\u001b[0m\u001b[0mBATCH_SIZE\u001b[0m\u001b[0;34m==\u001b[0m\u001b[0;36m0\u001b[0m\u001b[0;34m)\u001b[0m\u001b[0;34m:\u001b[0m\u001b[0;34m\u001b[0m\u001b[0;34m\u001b[0m\u001b[0m\n\u001b[1;32m     23\u001b[0m     \u001b[0mepoch_accuracy\u001b[0m\u001b[0;34m.\u001b[0m\u001b[0mappend\u001b[0m\u001b[0;34m(\u001b[0m\u001b[0;34m(\u001b[0m\u001b[0mtp\u001b[0m\u001b[0;34m+\u001b[0m\u001b[0mtn\u001b[0m\u001b[0;34m)\u001b[0m\u001b[0;34m/\u001b[0m\u001b[0;34m(\u001b[0m\u001b[0mtp\u001b[0m\u001b[0;34m+\u001b[0m\u001b[0mfn\u001b[0m\u001b[0;34m+\u001b[0m\u001b[0mtn\u001b[0m\u001b[0;34m+\u001b[0m\u001b[0mfp\u001b[0m\u001b[0;34m)\u001b[0m\u001b[0;34m)\u001b[0m\u001b[0;34m\u001b[0m\u001b[0;34m\u001b[0m\u001b[0m\n\u001b[0;32m---> 24\u001b[0;31m     \u001b[0mepoch_precision\u001b[0m\u001b[0;34m.\u001b[0m\u001b[0mappend\u001b[0m\u001b[0;34m(\u001b[0m\u001b[0;34m(\u001b[0m\u001b[0mtp\u001b[0m\u001b[0;34m/\u001b[0m\u001b[0;34m(\u001b[0m\u001b[0mfp\u001b[0m\u001b[0;34m+\u001b[0m\u001b[0mtp\u001b[0m\u001b[0;34m)\u001b[0m\u001b[0;34m)\u001b[0m\u001b[0;34m)\u001b[0m\u001b[0;34m\u001b[0m\u001b[0;34m\u001b[0m\u001b[0m\n\u001b[0m\u001b[1;32m     25\u001b[0m     \u001b[0mepoch_recall\u001b[0m\u001b[0;34m.\u001b[0m\u001b[0mappend\u001b[0m\u001b[0;34m(\u001b[0m\u001b[0;34m(\u001b[0m\u001b[0mtp\u001b[0m\u001b[0;34m/\u001b[0m\u001b[0;34m(\u001b[0m\u001b[0mfn\u001b[0m\u001b[0;34m+\u001b[0m\u001b[0mtp\u001b[0m\u001b[0;34m)\u001b[0m\u001b[0;34m)\u001b[0m\u001b[0;34m)\u001b[0m\u001b[0;34m\u001b[0m\u001b[0;34m\u001b[0m\u001b[0m\n\u001b[1;32m     26\u001b[0m \u001b[0mprint\u001b[0m\u001b[0;34m(\u001b[0m\u001b[0;34m\"accuracy:\"\u001b[0m\u001b[0;34m,\u001b[0m\u001b[0mepoch_accuracy\u001b[0m\u001b[0;34m)\u001b[0m\u001b[0;34m\u001b[0m\u001b[0;34m\u001b[0m\u001b[0m\n",
            "\u001b[0;31mZeroDivisionError\u001b[0m: division by zero"
          ]
        }
      ]
    }
  ]
}