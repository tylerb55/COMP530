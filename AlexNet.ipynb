{
  "nbformat": 4,
  "nbformat_minor": 0,
  "metadata": {
    "colab": {
      "name": "AlexNet.ipynb",
      "provenance": [],
      "authorship_tag": "ABX9TyM0tV05EynONXccDc0yDyTr",
      "include_colab_link": true
    },
    "kernelspec": {
      "name": "python3",
      "display_name": "Python 3"
    },
    "language_info": {
      "name": "python"
    },
    "accelerator": "GPU"
  },
  "cells": [
    {
      "cell_type": "markdown",
      "metadata": {
        "id": "view-in-github",
        "colab_type": "text"
      },
      "source": [
        "<a href=\"https://colab.research.google.com/github/tylerb55/COMP530/blob/main/AlexNet.ipynb\" target=\"_parent\"><img src=\"https://colab.research.google.com/assets/colab-badge.svg\" alt=\"Open In Colab\"/></a>"
      ]
    },
    {
      "cell_type": "code",
      "execution_count": 17,
      "metadata": {
        "id": "nsGFBvoCm86V",
        "outputId": "49d737c8-7d1f-4b90-a0e1-2ae1ebfb84ce",
        "colab": {
          "base_uri": "https://localhost:8080/"
        }
      },
      "outputs": [
        {
          "output_type": "stream",
          "name": "stdout",
          "text": [
            "fatal: destination path 'COMP530' already exists and is not an empty directory.\n"
          ]
        }
      ],
      "source": [
        "! git clone https://github.com/tylerb55/COMP530.git"
      ]
    },
    {
      "cell_type": "code",
      "source": [
        "import numpy as np\n",
        "import pandas as pd\n",
        "import collections\n",
        "import matplotlib.image as img\n",
        "import matplotlib.pyplot as plt\n",
        "import tensorflow as tf\n",
        "import tensorflow_datasets as tfds"
      ],
      "metadata": {
        "id": "gXLBlMwpnK7H"
      },
      "execution_count": 18,
      "outputs": []
    },
    {
      "cell_type": "markdown",
      "source": [
        "Split the test and validation set"
      ],
      "metadata": {
        "id": "tFQN5RyMow-F"
      }
    },
    {
      "cell_type": "code",
      "source": [
        "def Train_Validation_Test_Set(directory_name):\n",
        "  \"\"\"a function to load the images in a large directory into a tensorflow dataset object\n",
        "  the data is split 80:10:10 in training:validation:test. The dataset is shuffled before splitting\n",
        "  and the images are formatted to 512x512 pixels and grayscale(one color channel and the values range from 0 to 255)\"\"\"\n",
        "  dataset_train=tf.keras.preprocessing.image_dataset_from_directory('/content/COMP530/'+directory_name,\n",
        "                                                                    labels='inferred',\n",
        "                                                                    label_mode='int',\n",
        "                                                                    class_names=['NormalCases','cancercases'],\n",
        "                                                                    color_mode='grayscale',\n",
        "                                                                    image_size=(512,512),\n",
        "                                                                    shuffle=True,\n",
        "                                                                    seed=305,\n",
        "                                                                    validation_split=0.2,\n",
        "                                                                    subset='training',\n",
        "                                                                    batch_size=None\n",
        "                                                                    )\n",
        "\n",
        "  dataset_validation=tf.keras.preprocessing.image_dataset_from_directory('/content/COMP530/'+directory_name,\n",
        "                                                                    labels='inferred',\n",
        "                                                                    label_mode='int',\n",
        "                                                                    class_names=['NormalCases','cancercases'],\n",
        "                                                                    color_mode='grayscale',\n",
        "                                                                    image_size=(512,512),\n",
        "                                                                    shuffle=True,\n",
        "                                                                    seed=305,\n",
        "                                                                    validation_split=0.2,\n",
        "                                                                    subset='validation',\n",
        "                                                                    batch_size=None\n",
        "                                                                    )\n",
        "  \n",
        "  dataset_test=tf.keras.preprocessing.image_dataset_from_directory('/content/COMP530/'+directory_name,\n",
        "                                                                    labels='inferred',\n",
        "                                                                    label_mode='int',\n",
        "                                                                    class_names=['NormalCases','cancercases'],\n",
        "                                                                    color_mode='grayscale',\n",
        "                                                                    image_size=(512,512),\n",
        "                                                                    shuffle=True,\n",
        "                                                                    seed=305,\n",
        "                                                                    validation_split=0.1,\n",
        "                                                                    subset='validation',\n",
        "                                                                    batch_size=None\n",
        "                                                                    )\n",
        "    \n",
        "  dataset_validation=dataset_validation.take(dataset_test.__len__())\n",
        "\n",
        "  return dataset_train,dataset_validation,dataset_test"
      ],
      "metadata": {
        "id": "0xqnACYcnK92"
      },
      "execution_count": 19,
      "outputs": []
    },
    {
      "cell_type": "code",
      "source": [
        "def AlexNetPreprocess(image,label):\n",
        "  image = tf.image.per_image_standardization(image)\n",
        "  # Resize images from 512x512 to 227x227\n",
        "  image = tf.image.resize(image, (227,227))\n",
        "  return image, label"
      ],
      "metadata": {
        "id": "SSTkz2KVnLAu"
      },
      "execution_count": 20,
      "outputs": []
    },
    {
      "cell_type": "code",
      "source": [
        "BATCH_SIZE=32\n",
        "\n",
        "dataset_train,dataset_validation, dataset_test=Train_Validation_Test_Set(\"Dataset1\")\n",
        "dataset_train=dataset_train.map(AlexNetPreprocess).batch(batch_size=BATCH_SIZE,drop_remainder=True)\n",
        "dataset_validation=dataset_validation.map(AlexNetPreprocess).batch(batch_size=BATCH_SIZE,drop_remainder=True)\n",
        "dataset_test=dataset_test.map(AlexNetPreprocess).batch(batch_size=BATCH_SIZE,drop_remainder=True)"
      ],
      "metadata": {
        "id": "sasC3SMInLDm",
        "outputId": "9487aad7-7a5d-4fa4-aea1-99b5f19e5201",
        "colab": {
          "base_uri": "https://localhost:8080/"
        }
      },
      "execution_count": 21,
      "outputs": [
        {
          "output_type": "stream",
          "name": "stdout",
          "text": [
            "Found 1097 files belonging to 2 classes.\n",
            "Using 878 files for training.\n",
            "Found 1097 files belonging to 2 classes.\n",
            "Using 219 files for validation.\n",
            "Found 1097 files belonging to 2 classes.\n",
            "Using 109 files for validation.\n"
          ]
        }
      ]
    },
    {
      "cell_type": "code",
      "source": [
        "def AlexNet_model():\n",
        "   return tf.keras.models.Sequential([\n",
        "                                      tf.keras.layers.Conv2D(filters=96,kernel_size=(11,11),strides=(4,4),activation='relu',input_shape=(227,227,1)),\n",
        "                                      tf.keras.layers.BatchNormalization(),\n",
        "                                      tf.keras.layers.MaxPool2D(pool_size=(3,3),strides=(2,2)),\n",
        "                                      tf.keras.layers.Conv2D(filters=256,kernel_size=(5,5),strides=(1,1),activation='relu',padding='same'),\n",
        "                                      tf.keras.layers.BatchNormalization(),\n",
        "                                      tf.keras.layers.MaxPool2D(pool_size=(3,3),strides=(2,2)),\n",
        "                                      tf.keras.layers.Conv2D(filters=384,kernel_size=(3,3),strides=(1,1),activation='relu',padding='same'),\n",
        "                                      tf.keras.layers.BatchNormalization(),\n",
        "                                      tf.keras.layers.Conv2D(filters=384,kernel_size=(3,3),strides=(1,1),activation='relu',padding='same'),\n",
        "                                      tf.keras.layers.BatchNormalization(),\n",
        "                                      tf.keras.layers.Conv2D(filters=256,kernel_size=(3,3),strides=(1,1),activation='relu',padding='same'),\n",
        "                                      tf.keras.layers.BatchNormalization(),\n",
        "                                      tf.keras.layers.MaxPool2D(pool_size=(3,3),strides=(2,2)),\n",
        "                                      tf.keras.layers.Flatten(),\n",
        "                                      tf.keras.layers.Dense(4096,activation='relu'),\n",
        "                                      tf.keras.layers.Dropout(0.5),\n",
        "                                      tf.keras.layers.Dense(4096,activation='relu'),\n",
        "                                      tf.keras.layers.Dropout(0.5),\n",
        "                                      tf.keras.layers.Dense(2,activation='softmax')\n",
        "])\n",
        "\n",
        "AlexNet = AlexNet_model()"
      ],
      "metadata": {
        "id": "7TwRNVTNoZo-"
      },
      "execution_count": 22,
      "outputs": []
    },
    {
      "cell_type": "code",
      "source": [
        "AlexNet.compile(loss='sparse_categorical_crossentropy',optimizer=tf.optimizers.SGD(learning_rate=0.001),metrics=['accuracy'])\n",
        "AlexNet.summary()"
      ],
      "metadata": {
        "id": "R9VwV7croaHm",
        "outputId": "18cc81c9-a73d-4b0f-8f98-2fd8f82b0e55",
        "colab": {
          "base_uri": "https://localhost:8080/"
        }
      },
      "execution_count": 23,
      "outputs": [
        {
          "output_type": "stream",
          "name": "stdout",
          "text": [
            "Model: \"sequential_1\"\n",
            "_________________________________________________________________\n",
            " Layer (type)                Output Shape              Param #   \n",
            "=================================================================\n",
            " conv2d_5 (Conv2D)           (None, 55, 55, 96)        11712     \n",
            "                                                                 \n",
            " batch_normalization_5 (Batc  (None, 55, 55, 96)       384       \n",
            " hNormalization)                                                 \n",
            "                                                                 \n",
            " max_pooling2d_3 (MaxPooling  (None, 27, 27, 96)       0         \n",
            " 2D)                                                             \n",
            "                                                                 \n",
            " conv2d_6 (Conv2D)           (None, 27, 27, 256)       614656    \n",
            "                                                                 \n",
            " batch_normalization_6 (Batc  (None, 27, 27, 256)      1024      \n",
            " hNormalization)                                                 \n",
            "                                                                 \n",
            " max_pooling2d_4 (MaxPooling  (None, 13, 13, 256)      0         \n",
            " 2D)                                                             \n",
            "                                                                 \n",
            " conv2d_7 (Conv2D)           (None, 13, 13, 384)       885120    \n",
            "                                                                 \n",
            " batch_normalization_7 (Batc  (None, 13, 13, 384)      1536      \n",
            " hNormalization)                                                 \n",
            "                                                                 \n",
            " conv2d_8 (Conv2D)           (None, 13, 13, 384)       1327488   \n",
            "                                                                 \n",
            " batch_normalization_8 (Batc  (None, 13, 13, 384)      1536      \n",
            " hNormalization)                                                 \n",
            "                                                                 \n",
            " conv2d_9 (Conv2D)           (None, 13, 13, 256)       884992    \n",
            "                                                                 \n",
            " batch_normalization_9 (Batc  (None, 13, 13, 256)      1024      \n",
            " hNormalization)                                                 \n",
            "                                                                 \n",
            " max_pooling2d_5 (MaxPooling  (None, 6, 6, 256)        0         \n",
            " 2D)                                                             \n",
            "                                                                 \n",
            " flatten_1 (Flatten)         (None, 9216)              0         \n",
            "                                                                 \n",
            " dense_3 (Dense)             (None, 4096)              37752832  \n",
            "                                                                 \n",
            " dropout_2 (Dropout)         (None, 4096)              0         \n",
            "                                                                 \n",
            " dense_4 (Dense)             (None, 4096)              16781312  \n",
            "                                                                 \n",
            " dropout_3 (Dropout)         (None, 4096)              0         \n",
            "                                                                 \n",
            " dense_5 (Dense)             (None, 2)                 8194      \n",
            "                                                                 \n",
            "=================================================================\n",
            "Total params: 58,271,810\n",
            "Trainable params: 58,269,058\n",
            "Non-trainable params: 2,752\n",
            "_________________________________________________________________\n"
          ]
        }
      ]
    },
    {
      "cell_type": "code",
      "source": [
        "history=AlexNet.fit(dataset_train,epochs=50,validation_data=dataset_validation,validation_freq=1)"
      ],
      "metadata": {
        "id": "rQb5G05JoqEt",
        "outputId": "a8dd16cc-9125-4690-8504-f68d0ba95626",
        "colab": {
          "base_uri": "https://localhost:8080/"
        }
      },
      "execution_count": 24,
      "outputs": [
        {
          "output_type": "stream",
          "name": "stdout",
          "text": [
            "Epoch 1/50\n",
            "27/27 [==============================] - 4s 53ms/step - loss: 2.2695 - accuracy: 0.5903 - val_loss: 0.6905 - val_accuracy: 0.6146\n",
            "Epoch 2/50\n",
            "27/27 [==============================] - 3s 55ms/step - loss: 0.9593 - accuracy: 0.7141 - val_loss: 0.6916 - val_accuracy: 0.5417\n",
            "Epoch 3/50\n",
            "27/27 [==============================] - 3s 48ms/step - loss: 0.7312 - accuracy: 0.7488 - val_loss: 0.7213 - val_accuracy: 0.3333\n",
            "Epoch 4/50\n",
            "27/27 [==============================] - 3s 47ms/step - loss: 0.6538 - accuracy: 0.7986 - val_loss: 0.6778 - val_accuracy: 0.5938\n",
            "Epoch 5/50\n",
            "27/27 [==============================] - 3s 54ms/step - loss: 0.4590 - accuracy: 0.8206 - val_loss: 0.6490 - val_accuracy: 0.6458\n",
            "Epoch 6/50\n",
            "27/27 [==============================] - 3s 53ms/step - loss: 0.3364 - accuracy: 0.8738 - val_loss: 0.6094 - val_accuracy: 0.6771\n",
            "Epoch 7/50\n",
            "27/27 [==============================] - 3s 55ms/step - loss: 0.2239 - accuracy: 0.9132 - val_loss: 0.5837 - val_accuracy: 0.6562\n",
            "Epoch 8/50\n",
            "27/27 [==============================] - 3s 54ms/step - loss: 0.1526 - accuracy: 0.9398 - val_loss: 0.5568 - val_accuracy: 0.7292\n",
            "Epoch 9/50\n",
            "27/27 [==============================] - 3s 54ms/step - loss: 0.1342 - accuracy: 0.9433 - val_loss: 0.4801 - val_accuracy: 0.8750\n",
            "Epoch 10/50\n",
            "27/27 [==============================] - 3s 53ms/step - loss: 0.1184 - accuracy: 0.9572 - val_loss: 0.4385 - val_accuracy: 0.8333\n",
            "Epoch 11/50\n",
            "27/27 [==============================] - 3s 54ms/step - loss: 0.0967 - accuracy: 0.9606 - val_loss: 0.3807 - val_accuracy: 0.8646\n",
            "Epoch 12/50\n",
            "27/27 [==============================] - 3s 48ms/step - loss: 0.0811 - accuracy: 0.9676 - val_loss: 0.3013 - val_accuracy: 0.9167\n",
            "Epoch 13/50\n",
            "27/27 [==============================] - 3s 54ms/step - loss: 0.0766 - accuracy: 0.9676 - val_loss: 0.2353 - val_accuracy: 0.9479\n",
            "Epoch 14/50\n",
            "27/27 [==============================] - 3s 48ms/step - loss: 0.0633 - accuracy: 0.9757 - val_loss: 0.1786 - val_accuracy: 0.9688\n",
            "Epoch 15/50\n",
            "27/27 [==============================] - 3s 47ms/step - loss: 0.0372 - accuracy: 0.9896 - val_loss: 0.1583 - val_accuracy: 0.9479\n",
            "Epoch 16/50\n",
            "27/27 [==============================] - 3s 46ms/step - loss: 0.0435 - accuracy: 0.9861 - val_loss: 0.0966 - val_accuracy: 0.9792\n",
            "Epoch 17/50\n",
            "27/27 [==============================] - 3s 47ms/step - loss: 0.0326 - accuracy: 0.9907 - val_loss: 0.0911 - val_accuracy: 0.9792\n",
            "Epoch 18/50\n",
            "27/27 [==============================] - 3s 47ms/step - loss: 0.0362 - accuracy: 0.9861 - val_loss: 0.1000 - val_accuracy: 0.9688\n",
            "Epoch 19/50\n",
            "27/27 [==============================] - 3s 53ms/step - loss: 0.0322 - accuracy: 0.9873 - val_loss: 0.1353 - val_accuracy: 0.9583\n",
            "Epoch 20/50\n",
            "27/27 [==============================] - 3s 47ms/step - loss: 0.0320 - accuracy: 0.9942 - val_loss: 0.0956 - val_accuracy: 0.9688\n",
            "Epoch 21/50\n",
            "27/27 [==============================] - 3s 47ms/step - loss: 0.0219 - accuracy: 0.9954 - val_loss: 0.0169 - val_accuracy: 1.0000\n",
            "Epoch 22/50\n",
            "27/27 [==============================] - 3s 47ms/step - loss: 0.0237 - accuracy: 0.9954 - val_loss: 0.0102 - val_accuracy: 1.0000\n",
            "Epoch 23/50\n",
            "27/27 [==============================] - 3s 54ms/step - loss: 0.0243 - accuracy: 0.9896 - val_loss: 0.1130 - val_accuracy: 0.9688\n",
            "Epoch 24/50\n",
            "27/27 [==============================] - 3s 47ms/step - loss: 0.0385 - accuracy: 0.9907 - val_loss: 0.1016 - val_accuracy: 0.9688\n",
            "Epoch 25/50\n",
            "27/27 [==============================] - 3s 54ms/step - loss: 0.0176 - accuracy: 0.9954 - val_loss: 0.0997 - val_accuracy: 0.9792\n",
            "Epoch 26/50\n",
            "27/27 [==============================] - 3s 47ms/step - loss: 0.0147 - accuracy: 0.9977 - val_loss: 0.1821 - val_accuracy: 0.9688\n",
            "Epoch 27/50\n",
            "27/27 [==============================] - 3s 48ms/step - loss: 0.0156 - accuracy: 0.9954 - val_loss: 0.1088 - val_accuracy: 0.9792\n",
            "Epoch 28/50\n",
            "27/27 [==============================] - 3s 47ms/step - loss: 0.0185 - accuracy: 0.9942 - val_loss: 0.0462 - val_accuracy: 0.9896\n",
            "Epoch 29/50\n",
            "27/27 [==============================] - 3s 54ms/step - loss: 0.0147 - accuracy: 0.9954 - val_loss: 0.1623 - val_accuracy: 0.9583\n",
            "Epoch 30/50\n",
            "27/27 [==============================] - 3s 46ms/step - loss: 0.0264 - accuracy: 0.9907 - val_loss: 0.1368 - val_accuracy: 0.9583\n",
            "Epoch 31/50\n",
            "27/27 [==============================] - 3s 48ms/step - loss: 0.0201 - accuracy: 0.9942 - val_loss: 0.0736 - val_accuracy: 0.9792\n",
            "Epoch 32/50\n",
            "27/27 [==============================] - 3s 54ms/step - loss: 0.0122 - accuracy: 0.9965 - val_loss: 0.1650 - val_accuracy: 0.9583\n",
            "Epoch 33/50\n",
            "27/27 [==============================] - 3s 48ms/step - loss: 0.0056 - accuracy: 1.0000 - val_loss: 0.1218 - val_accuracy: 0.9792\n",
            "Epoch 34/50\n",
            "27/27 [==============================] - 3s 48ms/step - loss: 0.0139 - accuracy: 0.9965 - val_loss: 0.1230 - val_accuracy: 0.9792\n",
            "Epoch 35/50\n",
            "27/27 [==============================] - 3s 48ms/step - loss: 0.0085 - accuracy: 0.9988 - val_loss: 0.1129 - val_accuracy: 0.9792\n",
            "Epoch 36/50\n",
            "27/27 [==============================] - 3s 47ms/step - loss: 0.0076 - accuracy: 0.9988 - val_loss: 0.0569 - val_accuracy: 0.9896\n",
            "Epoch 37/50\n",
            "27/27 [==============================] - 3s 54ms/step - loss: 0.0108 - accuracy: 0.9977 - val_loss: 0.0689 - val_accuracy: 0.9896\n",
            "Epoch 38/50\n",
            "27/27 [==============================] - 3s 54ms/step - loss: 0.0059 - accuracy: 1.0000 - val_loss: 0.1129 - val_accuracy: 0.9688\n",
            "Epoch 39/50\n",
            "27/27 [==============================] - 3s 47ms/step - loss: 0.0088 - accuracy: 0.9965 - val_loss: 0.1079 - val_accuracy: 0.9792\n",
            "Epoch 40/50\n",
            "27/27 [==============================] - 3s 47ms/step - loss: 0.0070 - accuracy: 0.9977 - val_loss: 0.1241 - val_accuracy: 0.9792\n",
            "Epoch 41/50\n",
            "27/27 [==============================] - 3s 55ms/step - loss: 0.0055 - accuracy: 1.0000 - val_loss: 0.0554 - val_accuracy: 0.9896\n",
            "Epoch 42/50\n",
            "27/27 [==============================] - 3s 55ms/step - loss: 0.0056 - accuracy: 0.9965 - val_loss: 0.0018 - val_accuracy: 1.0000\n",
            "Epoch 43/50\n",
            "27/27 [==============================] - 3s 55ms/step - loss: 0.0071 - accuracy: 0.9977 - val_loss: 0.1639 - val_accuracy: 0.9688\n",
            "Epoch 44/50\n",
            "27/27 [==============================] - 3s 46ms/step - loss: 0.0042 - accuracy: 0.9988 - val_loss: 0.1762 - val_accuracy: 0.9688\n",
            "Epoch 45/50\n",
            "27/27 [==============================] - 3s 48ms/step - loss: 0.0057 - accuracy: 0.9988 - val_loss: 0.1057 - val_accuracy: 0.9688\n",
            "Epoch 46/50\n",
            "27/27 [==============================] - 3s 47ms/step - loss: 0.0091 - accuracy: 0.9977 - val_loss: 0.0981 - val_accuracy: 0.9792\n",
            "Epoch 47/50\n",
            "27/27 [==============================] - 3s 54ms/step - loss: 0.0122 - accuracy: 0.9954 - val_loss: 0.0760 - val_accuracy: 0.9792\n",
            "Epoch 48/50\n",
            "27/27 [==============================] - 3s 49ms/step - loss: 0.0049 - accuracy: 1.0000 - val_loss: 0.0641 - val_accuracy: 0.9792\n",
            "Epoch 49/50\n",
            "27/27 [==============================] - 3s 54ms/step - loss: 0.0082 - accuracy: 0.9977 - val_loss: 0.0540 - val_accuracy: 0.9896\n",
            "Epoch 50/50\n",
            "27/27 [==============================] - 3s 54ms/step - loss: 0.0046 - accuracy: 1.0000 - val_loss: 0.1156 - val_accuracy: 0.9792\n"
          ]
        }
      ]
    },
    {
      "cell_type": "code",
      "source": [
        "# summarize history for accuracy\n",
        "plt.plot(history.history['accuracy'])\n",
        "plt.plot(history.history['val_accuracy'])\n",
        "plt.title('training accuracy')\n",
        "plt.ylabel('accuracy')\n",
        "plt.xlabel('epoch')\n",
        "plt.legend(['train', 'validation'], loc='upper left')\n",
        "plt.show()\n",
        "# summarize history for loss\n",
        "plt.plot(history.history['loss'])\n",
        "plt.plot(history.history['val_loss'])\n",
        "plt.title('training loss')\n",
        "plt.ylabel('loss')\n",
        "plt.xlabel('epoch')\n",
        "plt.legend(['train', 'validation'], loc='upper left')\n",
        "plt.show()"
      ],
      "metadata": {
        "id": "REvrRGlDDI_Y",
        "outputId": "931f4685-9848-438a-91a7-b3a80368295c",
        "colab": {
          "base_uri": "https://localhost:8080/",
          "height": 573
        }
      },
      "execution_count": 25,
      "outputs": [
        {
          "output_type": "display_data",
          "data": {
            "text/plain": [
              "<Figure size 432x288 with 1 Axes>"
            ],
            "image/png": "[encoded data removed]"
          },
          "metadata": {
            "needs_background": "light"
          }
        },
        {
          "output_type": "display_data",
          "data": {
            "text/plain": [
              "<Figure size 432x288 with 1 Axes>"
            ],
            "image/png": "[encoded data removed]"
          },
          "metadata": {
            "needs_background": "light"
          }
        }
      ]
    },
    {
      "cell_type": "markdown",
      "source": [
        "Test the model on the test set and evaluate performance"
      ],
      "metadata": {
        "id": "b-lIum5Bo7SO"
      }
    },
    {
      "cell_type": "code",
      "source": [
        "AlexNet.evaluate(dataset_test)"
      ],
      "metadata": {
        "id": "ZUrHIr-3owd1",
        "outputId": "5fe80671-f1d8-44d3-a9d3-b4b70c1b603d",
        "colab": {
          "base_uri": "https://localhost:8080/"
        }
      },
      "execution_count": 26,
      "outputs": [
        {
          "output_type": "stream",
          "name": "stdout",
          "text": [
            "3/3 [==============================] - 0s 28ms/step - loss: 0.1204 - accuracy: 0.9792\n"
          ]
        },
        {
          "output_type": "execute_result",
          "data": {
            "text/plain": [
              "[0.12041977047920227, 0.9791666865348816]"
            ]
          },
          "metadata": {},
          "execution_count": 26
        }
      ]
    },
    {
      "cell_type": "markdown",
      "source": [
        "Produce graphs and visualisations for test data"
      ],
      "metadata": {
        "id": "Rfm_GSa5pD6l"
      }
    },
    {
      "cell_type": "code",
      "source": [
        "predictions=AlexNet.predict(dataset_test)\n",
        "target=np.array([],'int32')\n",
        "for element in dataset_test.as_numpy_iterator():\n",
        "  target=np.append(target,element[1])\n",
        "\n",
        "epoch_precision=[]\n",
        "epoch_recall=[]\n",
        "epoch_accuracy=[]\n",
        "tp=0\n",
        "tn=0\n",
        "fp=0\n",
        "fn=0\n",
        "for i in range(len(predictions)):\n",
        "  if(np.argmax(predictions[i])==1 and target[i]==1):\n",
        "    tp+=1\n",
        "  elif(np.argmax(predictions[i])==1 and target[i]==0):\n",
        "    fp+=1\n",
        "  elif(np.argmax(predictions[i])==0 and target[i]==0):\n",
        "    tn+=1\n",
        "  elif(np.argmax(predictions[i])==0 and target[i]==1):\n",
        "    fn+=1\n",
        "  if((i+1)%BATCH_SIZE==0):\n",
        "    epoch_accuracy.append((tp+tn)/(tp+fn+tn+fp))\n",
        "    epoch_precision.append((tp/(fp+tp)))\n",
        "    epoch_recall.append((tp/(fn+tp)))\n",
        "print(\"accuracy:\",epoch_accuracy)\n",
        "print(\"recall:\",epoch_recall)\n",
        "print(\"precision:\",epoch_precision)\n"
      ],
      "metadata": {
        "id": "Ft4xFVzzpEQ2",
        "outputId": "e725359e-0b59-4376-b866-9722b13c2e1f",
        "colab": {
          "base_uri": "https://localhost:8080/"
        }
      },
      "execution_count": 33,
      "outputs": [
        {
          "output_type": "stream",
          "name": "stdout",
          "text": [
            "[0 1 1 0 1 1 0 0 0 1 0 1 1 0 1 1 1 0 1 1 0 0 1 1 1 0 1 1 1 0 1 1 1 1 0 0 1\n",
            " 0 1 0 1 1 1 0 0 1 1 0 0 1 1 1 0 1 0 0 1 1 0 0 1 0 1 0 1 1 0 0 0 1 0 1 0 1\n",
            " 1 1 0 0 0 1 1 1 0 0 0 1 0 1 1 1 0 1 1 0 1 0]\n",
            "accuracy: [0.59375, 0.5625, 0.5208333333333334]\n",
            "recall: [0.65, 0.6216216216216216, 0.6296296296296297]\n",
            "precision: [0.6842105263157895, 0.6216216216216216, 0.5666666666666667]\n"
          ]
        }
      ]
    }
  ]
}