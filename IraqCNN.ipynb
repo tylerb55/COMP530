{
  "nbformat": 4,
  "nbformat_minor": 0,
  "metadata": {
    "colab": {
      "name": "IraqCNN.ipynb",
      "provenance": [],
      "include_colab_link": true
    },
    "kernelspec": {
      "name": "python3",
      "display_name": "Python 3"
    },
    "language_info": {
      "name": "python"
    },
    "accelerator": "GPU"
  },
  "cells": [
    {
      "cell_type": "markdown",
      "metadata": {
        "id": "view-in-github",
        "colab_type": "text"
      },
      "source": [
        "<a href=\"https://colab.research.google.com/github/tylerb55/COMP530/blob/main/IraqCNN.ipynb\" target=\"_parent\"><img src=\"https://colab.research.google.com/assets/colab-badge.svg\" alt=\"Open In Colab\"/></a>"
      ]
    },
    {
      "cell_type": "code",
      "execution_count": 1,
      "metadata": {
        "id": "Fs-d1Bdgtpx5",
        "colab": {
          "base_uri": "https://localhost:8080/"
        },
        "outputId": "05ceca7c-fd7a-40d9-a9c8-9cb81b19f981"
      },
      "outputs": [
        {
          "output_type": "stream",
          "name": "stdout",
          "text": [
            "Cloning into 'COMP530'...\n",
            "remote: Enumerating objects: 1263, done.\u001b[K\n",
            "remote: Counting objects: 100% (337/337), done.\u001b[K\n",
            "remote: Compressing objects: 100% (334/334), done.\u001b[K\n",
            "remote: Total 1263 (delta 42), reused 0 (delta 0), pack-reused 926\u001b[K\n",
            "Receiving objects: 100% (1263/1263), 159.91 MiB | 20.73 MiB/s, done.\n",
            "Resolving deltas: 100% (54/54), done.\n",
            "Checking out files: 100% (1157/1157), done.\n"
          ]
        }
      ],
      "source": [
        "! git clone https://github.com/tylerb55/COMP530.git"
      ]
    },
    {
      "cell_type": "code",
      "source": [
        "! pip install --quiet --upgrade tensorflow-federated"
      ],
      "metadata": {
        "id": "3XJ7j5aM19b3",
        "outputId": "03f5f7c4-4031-4873-c5dd-a28e9fea15db",
        "colab": {
          "base_uri": "https://localhost:8080/"
        }
      },
      "execution_count": 2,
      "outputs": [
        {
          "output_type": "stream",
          "name": "stdout",
          "text": [
            "\u001b[K     |████████████████████████████████| 819 kB 7.0 MB/s \n",
            "\u001b[K     |████████████████████████████████| 4.0 MB 42.7 MB/s \n",
            "\u001b[K     |████████████████████████████████| 237 kB 53.2 MB/s \n",
            "\u001b[K     |████████████████████████████████| 65.1 MB 1.2 MB/s \n",
            "\u001b[K     |████████████████████████████████| 53 kB 2.2 MB/s \n",
            "\u001b[K     |████████████████████████████████| 121 kB 61.9 MB/s \n",
            "\u001b[K     |████████████████████████████████| 251 kB 59.4 MB/s \n",
            "\u001b[K     |████████████████████████████████| 887 kB 48.9 MB/s \n",
            "\u001b[K     |████████████████████████████████| 45 kB 4.0 MB/s \n",
            "\u001b[K     |████████████████████████████████| 462 kB 51.9 MB/s \n",
            "\u001b[K     |████████████████████████████████| 4.2 MB 32.8 MB/s \n",
            "\u001b[?25h  Building wheel for jax (setup.py) ... \u001b[?25l\u001b[?25hdone\n",
            "\u001b[31mERROR: pip's dependency resolver does not currently take into account all the packages that are installed. This behaviour is the source of the following dependency conflicts.\n",
            "spacy 2.2.4 requires tqdm<5.0.0,>=4.38.0, but you have tqdm 4.28.1 which is incompatible.\n",
            "pymc3 3.11.4 requires cachetools>=4.2.1, but you have cachetools 3.1.1 which is incompatible.\n",
            "panel 0.12.1 requires tqdm>=4.48.0, but you have tqdm 4.28.1 which is incompatible.\n",
            "fbprophet 0.7.1 requires tqdm>=4.36.1, but you have tqdm 4.28.1 which is incompatible.\n",
            "datascience 0.10.6 requires folium==0.2.1, but you have folium 0.8.3 which is incompatible.\u001b[0m\n"
          ]
        }
      ]
    },
    {
      "cell_type": "markdown",
      "source": [
        "Put in the necessary upgrades for the environment to prevent potential compatability errors in future code."
      ],
      "metadata": {
        "id": "ONKFFPF2rwdA"
      }
    },
    {
      "cell_type": "code",
      "source": [
        "! pip install nest-asyncio"
      ],
      "metadata": {
        "id": "cWOJ7_ki2WVm",
        "outputId": "c8827269-ee61-46c3-c7f7-c3939bb4add5",
        "colab": {
          "base_uri": "https://localhost:8080/"
        }
      },
      "execution_count": 3,
      "outputs": [
        {
          "output_type": "stream",
          "name": "stdout",
          "text": [
            "Requirement already satisfied: nest-asyncio in /usr/local/lib/python3.7/dist-packages (1.5.5)\n"
          ]
        }
      ]
    },
    {
      "cell_type": "code",
      "source": [
        "import numpy as np\n",
        "import pandas as pd\n",
        "import collections\n",
        "import matplotlib.image as img\n",
        "import matplotlib.pyplot as plt\n",
        "import tensorflow as tf\n",
        "import tensorflow_federated as tff\n",
        "import tensorflow_datasets as tfds\n",
        "import nest_asyncio as na"
      ],
      "metadata": {
        "id": "3Qy255tab2M9"
      },
      "execution_count": 4,
      "outputs": []
    },
    {
      "cell_type": "markdown",
      "source": [
        "# **Preprocessing the input data**"
      ],
      "metadata": {
        "id": "bipnVBCiiaKz"
      }
    },
    {
      "cell_type": "code",
      "source": [
        "#Have a play around with number of clients and batch size and see how they affect the model\n",
        "NUM_CLIENTS=5 \n",
        "NUM_EPOCHS=100\n",
        "BATCH_SIZE=20\n",
        "SHUFFLE_BUFFER=100\n",
        "PREFETCH_BUFFER=10\n",
        "\n",
        "def preprocess(dataset):\n",
        "\n",
        "  def format_batch(element):\n",
        "    \"\"\"flatten the pixels in a batch and return the features as an 'OrderedDict'\"\"\"\n",
        "    tf.image.per_image_standardization(element['image'])\n",
        "    return collections.OrderedDict(\n",
        "        x=tf.image.resize(element['image'],(227,227)),\n",
        "        y=tf.reshape(element['label'],[-1,1])\n",
        "    )\n",
        "  return dataset.repeat(NUM_EPOCHS).shuffle(SHUFFLE_BUFFER, seed=1).batch(BATCH_SIZE).map(format_batch).prefetch(PREFETCH_BUFFER)\n"
      ],
      "metadata": {
        "id": "WMVR8MkPy4_A"
      },
      "execution_count": 5,
      "outputs": []
    },
    {
      "cell_type": "markdown",
      "source": [
        "maybe store the dataset in cache memory to speed up training instead of loading off disk. (dataset.cache())"
      ],
      "metadata": {
        "id": "CxyyOpjFyxTN"
      }
    },
    {
      "cell_type": "markdown",
      "source": [
        "# **Image Directory to Dataset**"
      ],
      "metadata": {
        "id": "7jEJ-8Fvq84w"
      }
    },
    {
      "cell_type": "code",
      "source": [
        "def Train_Test_Set(directory_name):\n",
        "  \"\"\"a function to load the images in a large directory into a tensorflow dataset object\n",
        "  the data is split 90:10 in training:validation. The dataset is shuffled before splitting\n",
        "  and the images are formatted to 512x512 pixels and grayscale(one color channel and the values range from 0 to 255)\"\"\"\n",
        "  dataset_train=tf.keras.preprocessing.image_dataset_from_directory('/content/COMP530/'+directory_name,\n",
        "                                                                    labels='inferred',\n",
        "                                                                    label_mode='int',\n",
        "                                                                    class_names=['NormalCases','cancercases'],\n",
        "                                                                    color_mode='grayscale',\n",
        "                                                                    image_size=(512,512),\n",
        "                                                                    shuffle=True,\n",
        "                                                                    seed=305,\n",
        "                                                                    validation_split=0.1,\n",
        "                                                                    subset='training',\n",
        "                                                                    batch_size=None\n",
        "                                                                    )\n",
        "\n",
        "  dataset_test=tf.keras.preprocessing.image_dataset_from_directory('/content/COMP530/'+directory_name,\n",
        "                                                                    labels='inferred',\n",
        "                                                                    label_mode='int',\n",
        "                                                                    class_names=['NormalCases','cancercases'],\n",
        "                                                                    color_mode='grayscale',\n",
        "                                                                    image_size=(512,512),\n",
        "                                                                    shuffle=True,\n",
        "                                                                    seed=305,\n",
        "                                                                    validation_split=0.1,\n",
        "                                                                    subset='validation',\n",
        "                                                                    batch_size=None\n",
        "                                                                    )\n",
        "\n",
        "  return dataset_train,dataset_test\n"
      ],
      "metadata": {
        "id": "F2rUedBbjZ5k"
      },
      "execution_count": 6,
      "outputs": []
    },
    {
      "cell_type": "markdown",
      "source": [
        "# **Federated Dataset Preparation**"
      ],
      "metadata": {
        "id": "lRn4zAl81T7S"
      }
    },
    {
      "cell_type": "code",
      "source": [
        "def federated_training_set(Dataset,clients):\n",
        "  \"\"\"\n",
        "  args:\n",
        "  Dataset - the dataset object to be passed into the function and separated between the clients in the simulation\n",
        "  clients - the number of clients for the dataset to have come from in the simulated environment\n",
        "  return:\n",
        "  dataset_by_client - the original dataset federated between the number of clients. \n",
        "  each client is labelled by their client id, in a dictionary. each id points to an individual dataset object\n",
        "  \"\"\"\n",
        "  image_count=tf.data.experimental.cardinality(Dataset).numpy()\n",
        "  image_per_set=int(np.floor(image_count/clients))\n",
        "\n",
        "  client_train_dataset=collections.OrderedDict()\n",
        "  Dataset=tfds.as_numpy(Dataset)\n",
        "  count=0\n",
        "  client_num=1\n",
        "  y=[]\n",
        "  x=[]\n",
        "  \"\"\"this code snippet assigns particular training examples to each client. In this example they have been evenly distributed\n",
        "  hetrogeneity of federated data could be explored by randomly assigning a clients to each training example.\n",
        "  This would result in some clients having more than enough training data locally and some  and some suffering from data\n",
        "  paucity locally. A greater reflection of real life struggles when implementing federated learning.\"\"\"\n",
        "  for image in Dataset:\n",
        "    count+=1\n",
        "    y.append(image[1])\n",
        "    x.append(image[0])\n",
        "    if(count==image_per_set):\n",
        "      x=np.asarray(x,dtype=np.float32)\n",
        "      y=np.asarray(y,dtype=np.int32)\n",
        "      data=collections.OrderedDict((('label', y), ('image', x)))\n",
        "      client_train_dataset[\"client_\"+str(client_num)]=data\n",
        "      count=0\n",
        "      client_num+=1\n",
        "      y=[]\n",
        "      x=[]\n",
        "\n",
        "  federated_dataset=tff.simulation.datasets.TestClientData(client_train_dataset)\n",
        "  return federated_dataset\n",
        "    \n",
        "dataset_1_train, dataset_1_test=Train_Test_Set(\"Dataset1\")\n",
        "federated_dataset=federated_training_set(dataset_1_train,NUM_CLIENTS)\n",
        "dataset_by_client=[]\n",
        "for i in range(len(federated_dataset.client_ids)):\n",
        "  client_dataset = federated_dataset.create_tf_dataset_for_client(federated_dataset.client_ids[i])\n",
        "  dataset_by_client.append(client_dataset)\n"
      ],
      "metadata": {
        "id": "px1Y77HO1rxA",
        "outputId": "281b4976-a48d-446b-95e7-c67e45f7e178",
        "colab": {
          "base_uri": "https://localhost:8080/"
        }
      },
      "execution_count": 7,
      "outputs": [
        {
          "output_type": "stream",
          "name": "stdout",
          "text": [
            "Found 1097 files belonging to 2 classes.\n",
            "Using 988 files for training.\n",
            "Found 1097 files belonging to 2 classes.\n",
            "Using 109 files for validation.\n"
          ]
        }
      ]
    },
    {
      "cell_type": "markdown",
      "source": [
        "# **CNN 1**"
      ],
      "metadata": {
        "id": "SGsH2WGv1him"
      }
    },
    {
      "cell_type": "code",
      "source": [
        "#Be sure to include a rescaling layer at the start of the CNN model. This will scale the pixel values from 0-255 to 0-1 which is much easier for the cnn to interpret\n",
        "#layers.Rescaling(1./255, input_shape=(-1,262144))\n",
        "class_names=dataset_1_train.class_names"
      ],
      "metadata": {
        "id": "7RhAcBAB0fB6"
      },
      "execution_count": 8,
      "outputs": []
    },
    {
      "cell_type": "markdown",
      "source": [
        "# **AlexNet CNN**"
      ],
      "metadata": {
        "id": "XRl2MWvTMvEz"
      }
    },
    {
      "cell_type": "code",
      "source": [
        "def AlexNetPreprocess(image,label):\n",
        "  image = tf.image.per_image_standardization(image)\n",
        "  # Resize images from 512x512 to 227x227\n",
        "  image = tf.image.resize(image, (227,227))\n",
        "  return image, label\n",
        "\n",
        "dataset_1_train=dataset_1_train.map(AlexNetPreprocess).batch(batch_size=32,drop_remainder=True)\n",
        "dataset_1_test=dataset_1_test.map(AlexNetPreprocess).batch(batch_size=32,drop_remainder=True)"
      ],
      "metadata": {
        "id": "2VphxNlwgPIM"
      },
      "execution_count": 9,
      "outputs": []
    },
    {
      "cell_type": "code",
      "source": [
        "def AlexNet_model():\n",
        "   return tf.keras.models.Sequential([\n",
        "                                      tf.keras.layers.Conv2D(filters=96,kernel_size=(11,11),strides=(4,4),activation='relu',input_shape=(227,227,1)),\n",
        "                                      tf.keras.layers.BatchNormalization(),\n",
        "                                      tf.keras.layers.MaxPool2D(pool_size=(3,3),strides=(2,2)),\n",
        "                                      tf.keras.layers.Conv2D(filters=256,kernel_size=(5,5),strides=(1,1),activation='relu',padding='same'),\n",
        "                                      tf.keras.layers.BatchNormalization(),\n",
        "                                      tf.keras.layers.MaxPool2D(pool_size=(3,3),strides=(2,2)),\n",
        "                                      tf.keras.layers.Conv2D(filters=384,kernel_size=(3,3),strides=(1,1),activation='relu',padding='same'),\n",
        "                                      tf.keras.layers.BatchNormalization(),\n",
        "                                      tf.keras.layers.Conv2D(filters=384,kernel_size=(3,3),strides=(1,1),activation='relu',padding='same'),\n",
        "                                      tf.keras.layers.BatchNormalization(),\n",
        "                                      tf.keras.layers.Conv2D(filters=256,kernel_size=(3,3),strides=(1,1),activation='relu',padding='same'),\n",
        "                                      tf.keras.layers.BatchNormalization(),\n",
        "                                      tf.keras.layers.MaxPool2D(pool_size=(3,3),strides=(2,2)),\n",
        "                                      tf.keras.layers.Flatten(),\n",
        "                                      tf.keras.layers.Dense(4096,activation='relu'),\n",
        "                                      tf.keras.layers.Dropout(0.5),\n",
        "                                      tf.keras.layers.Dense(4096,activation='relu'),\n",
        "                                      tf.keras.layers.Dropout(0.5),\n",
        "                                      tf.keras.layers.Dense(10,activation='softmax')\n",
        "])\n",
        "\n",
        "AlexNet = AlexNet_model()"
      ],
      "metadata": {
        "id": "QsuW25bzM5m2"
      },
      "execution_count": 10,
      "outputs": []
    },
    {
      "cell_type": "code",
      "source": [
        "AlexNet.compile(loss='sparse_categorical_crossentropy',optimizer=tf.optimizers.SGD(learning_rate=0.001),metrics=['accuracy'])\n",
        "AlexNet.summary()"
      ],
      "metadata": {
        "colab": {
          "base_uri": "https://localhost:8080/"
        },
        "id": "MxS7z3wgSnzB",
        "outputId": "c770a955-495d-4f46-c793-6105ffd4ee11"
      },
      "execution_count": 11,
      "outputs": [
        {
          "output_type": "stream",
          "name": "stdout",
          "text": [
            "Model: \"sequential\"\n",
            "_________________________________________________________________\n",
            " Layer (type)                Output Shape              Param #   \n",
            "=================================================================\n",
            " conv2d (Conv2D)             (None, 55, 55, 96)        11712     \n",
            "                                                                 \n",
            " batch_normalization (BatchN  (None, 55, 55, 96)       384       \n",
            " ormalization)                                                   \n",
            "                                                                 \n",
            " max_pooling2d (MaxPooling2D  (None, 27, 27, 96)       0         \n",
            " )                                                               \n",
            "                                                                 \n",
            " conv2d_1 (Conv2D)           (None, 27, 27, 256)       614656    \n",
            "                                                                 \n",
            " batch_normalization_1 (Batc  (None, 27, 27, 256)      1024      \n",
            " hNormalization)                                                 \n",
            "                                                                 \n",
            " max_pooling2d_1 (MaxPooling  (None, 13, 13, 256)      0         \n",
            " 2D)                                                             \n",
            "                                                                 \n",
            " conv2d_2 (Conv2D)           (None, 13, 13, 384)       885120    \n",
            "                                                                 \n",
            " batch_normalization_2 (Batc  (None, 13, 13, 384)      1536      \n",
            " hNormalization)                                                 \n",
            "                                                                 \n",
            " conv2d_3 (Conv2D)           (None, 13, 13, 384)       1327488   \n",
            "                                                                 \n",
            " batch_normalization_3 (Batc  (None, 13, 13, 384)      1536      \n",
            " hNormalization)                                                 \n",
            "                                                                 \n",
            " conv2d_4 (Conv2D)           (None, 13, 13, 256)       884992    \n",
            "                                                                 \n",
            " batch_normalization_4 (Batc  (None, 13, 13, 256)      1024      \n",
            " hNormalization)                                                 \n",
            "                                                                 \n",
            " max_pooling2d_2 (MaxPooling  (None, 6, 6, 256)        0         \n",
            " 2D)                                                             \n",
            "                                                                 \n",
            " flatten (Flatten)           (None, 9216)              0         \n",
            "                                                                 \n",
            " dense (Dense)               (None, 4096)              37752832  \n",
            "                                                                 \n",
            " dropout (Dropout)           (None, 4096)              0         \n",
            "                                                                 \n",
            " dense_1 (Dense)             (None, 4096)              16781312  \n",
            "                                                                 \n",
            " dropout_1 (Dropout)         (None, 4096)              0         \n",
            "                                                                 \n",
            " dense_2 (Dense)             (None, 10)                40970     \n",
            "                                                                 \n",
            "=================================================================\n",
            "Total params: 58,304,586\n",
            "Trainable params: 58,301,834\n",
            "Non-trainable params: 2,752\n",
            "_________________________________________________________________\n"
          ]
        }
      ]
    },
    {
      "cell_type": "code",
      "source": [
        "AlexNet.fit(dataset_1_train,epochs=50,validation_data=dataset_1_test,validation_freq=1)"
      ],
      "metadata": {
        "id": "domOYopGURao",
        "outputId": "2f86a8a0-77d9-4ed3-ed86-08c67761a71a",
        "colab": {
          "base_uri": "https://localhost:8080/"
        }
      },
      "execution_count": null,
      "outputs": [
        {
          "output_type": "stream",
          "name": "stdout",
          "text": [
            "Epoch 1/50\n",
            "30/30 [==============================] - 149s 5s/step - loss: 2.5892 - accuracy: 0.5615 - val_loss: 2.1652 - val_accuracy: 0.5104\n",
            "Epoch 2/50\n",
            "29/30 [============================>.] - ETA: 4s - loss: 0.7955 - accuracy: 0.7252"
          ]
        }
      ]
    },
    {
      "cell_type": "markdown",
      "source": [
        "# **Federated Environment**"
      ],
      "metadata": {
        "id": "2-31ffCr-17I"
      }
    },
    {
      "cell_type": "code",
      "source": [
        "def make_federated_data(client_data,client_ids):\n",
        "  return[\n",
        "         preprocess(client_data.create_tf_dataset_for_client(x))\n",
        "         for x in client_ids         \n",
        "  ]\n",
        "preprocessed_dataset=preprocess(dataset_by_client[0])\n",
        "federated_train_data = make_federated_data(federated_dataset, federated_dataset.client_ids)"
      ],
      "metadata": {
        "id": "ErDJysWs9JGL"
      },
      "execution_count": null,
      "outputs": []
    },
    {
      "cell_type": "code",
      "source": [
        "def federated_model():\n",
        "  AlexNet_Fed=AlexNet_model()\n",
        "  return tff.learning.from_keras_model(\n",
        "      AlexNet_Fed,\n",
        "      input_spec=preprocessed_dataset.element_spec,\n",
        "      loss=tf.keras.losses.SparseCategoricalCrossentropy(),\n",
        "      metrics=[tf.keras.metrics.CategoricalAccuracy()])\n",
        "  \n",
        "print(federated_model().input_spec)"
      ],
      "metadata": {
        "id": "2PyflamP_AeP"
      },
      "execution_count": null,
      "outputs": []
    },
    {
      "cell_type": "code",
      "source": [
        "iterative_process = tff.learning.build_federated_averaging_process(\n",
        "    federated_model,\n",
        "    client_optimizer_fn=lambda: tf.keras.optimizers.SGD(learning_rate=0.02),\n",
        "    server_optimizer_fn=lambda: tf.keras.optimizers.SGD(learning_rate=1.0))"
      ],
      "metadata": {
        "id": "Onu7NHDeVLV2"
      },
      "execution_count": null,
      "outputs": []
    },
    {
      "cell_type": "code",
      "source": [
        "na.apply()\n",
        "state=iterative_process.initialize()\n",
        "NUM_ROUNDS=10\n",
        "for round_num in range(1, NUM_ROUNDS):\n",
        "  state, metrics = iterative_process.next(state, federated_train_data)\n",
        "  print('round {:2d}, metrics={}'.format(round_num, metrics))"
      ],
      "metadata": {
        "id": "Pq7QrXfUXr7a"
      },
      "execution_count": null,
      "outputs": []
    },
    {
      "cell_type": "markdown",
      "source": [
        "# **Evaluation**"
      ],
      "metadata": {
        "id": "HWOhSbHG-uVn"
      }
    },
    {
      "cell_type": "markdown",
      "source": [
        "# **Example Image**"
      ],
      "metadata": {
        "id": "jj3tXB8KqWFa"
      }
    },
    {
      "cell_type": "code",
      "source": [
        "image = \"/content/COMP530/Dataset1/NormalCases/Normal case (1).jpg\"\n",
        "plotimg=img.imread(image)\n",
        "plot=plt.imshow(plotimg)\n",
        "plt.show()"
      ],
      "metadata": {
        "id": "MVG99V8G09XM"
      },
      "execution_count": null,
      "outputs": []
    }
  ]
}