{
  "nbformat": 4,
  "nbformat_minor": 0,
  "metadata": {
    "colab": {
      "name": "IraqCNN.ipynb",
      "provenance": [],
      "include_colab_link": true
    },
    "kernelspec": {
      "name": "python3",
      "display_name": "Python 3"
    },
    "language_info": {
      "name": "python"
    }
  },
  "cells": [
    {
      "cell_type": "markdown",
      "metadata": {
        "id": "view-in-github",
        "colab_type": "text"
      },
      "source": [
        "<a href=\"https://colab.research.google.com/github/tylerb55/COMP530/blob/main/IraqCNN.ipynb\" target=\"_parent\"><img src=\"https://colab.research.google.com/assets/colab-badge.svg\" alt=\"Open In Colab\"/></a>"
      ]
    },
    {
      "cell_type": "code",
      "execution_count": 26,
      "metadata": {
        "id": "Fs-d1Bdgtpx5",
        "colab": {
          "base_uri": "https://localhost:8080/"
        },
        "outputId": "58e38a25-974a-4053-8d87-fe680de693f1"
      },
      "outputs": [
        {
          "output_type": "stream",
          "name": "stdout",
          "text": [
            "fatal: destination path 'COMP530' already exists and is not an empty directory.\n"
          ]
        }
      ],
      "source": [
        "! git clone https://github.com/tylerb55/COMP530.git"
      ]
    },
    {
      "cell_type": "code",
      "source": [
        "! pip install --quiet --upgrade tensorflow-federated"
      ],
      "metadata": {
        "id": "3XJ7j5aM19b3"
      },
      "execution_count": 27,
      "outputs": []
    },
    {
      "cell_type": "markdown",
      "source": [
        "Put in the necessary upgrades for the environment to prevent potential compatability errors in future code."
      ],
      "metadata": {
        "id": "ONKFFPF2rwdA"
      }
    },
    {
      "cell_type": "code",
      "source": [
        "! pip install --quiet --upgrade nest-asyncio"
      ],
      "metadata": {
        "id": "cWOJ7_ki2WVm"
      },
      "execution_count": 28,
      "outputs": []
    },
    {
      "cell_type": "code",
      "source": [
        "import numpy as np\n",
        "import pandas as pd\n",
        "import collections\n",
        "import matplotlib.image as img\n",
        "import matplotlib.pyplot as plt\n",
        "import tensorflow as tf\n",
        "import tensorflow_federated as tff\n",
        "import tensorflow_datasets as tfds\n",
        "import nest_asyncio as na"
      ],
      "metadata": {
        "id": "3Qy255tab2M9"
      },
      "execution_count": 29,
      "outputs": []
    },
    {
      "cell_type": "markdown",
      "source": [
        "# **Preprocessing the input data**"
      ],
      "metadata": {
        "id": "bipnVBCiiaKz"
      }
    },
    {
      "cell_type": "code",
      "source": [
        "#Have a play around with number of clients and batch size and see how they affect the model\n",
        "NUM_CLIENTS=5 \n",
        "NUM_EPOCHS=100\n",
        "BATCH_SIZE=20\n",
        "SHUFFLE_BUFFER=100\n",
        "PREFETCH_BUFFER=10\n",
        "\n",
        "def preprocess(dataset):\n",
        "\n",
        "  def format_batch(element):\n",
        "    \"\"\"flatten the pixels in a batch and return the features as an 'OrderedDict'\"\"\"\n",
        "    return collections.OrderedDict(\n",
        "        x=tf.reshape(element['image'],[-1,262144]),\n",
        "        y=tf.reshape(element['label'],[-1,1])#the shape of x may change as we may utilise a smaller image than 512x512 pixels\n",
        "    )\n",
        "    return dataset.repeat(NUM_EPOCHS).shuffle(SHUFFLE_BUFFER, seed=1).batch(BATCH_SIZE).map(format_batch).prefetch(PREFETCH_BUFFER)\n"
      ],
      "metadata": {
        "id": "WMVR8MkPy4_A"
      },
      "execution_count": 30,
      "outputs": []
    },
    {
      "cell_type": "markdown",
      "source": [
        "maybe store the dataset in cache memory to speed up training instead of loading off disk. (dataset.cache())"
      ],
      "metadata": {
        "id": "CxyyOpjFyxTN"
      }
    },
    {
      "cell_type": "markdown",
      "source": [
        "# **Image Directory to Dataset**"
      ],
      "metadata": {
        "id": "7jEJ-8Fvq84w"
      }
    },
    {
      "cell_type": "code",
      "source": [
        "def Train_Test_Set(directory_name):\n",
        "  \"\"\"a function to load the images in a large directory into a tensorflow dataset object\n",
        "  the data is split 90:10 in training:validation. The dataset is shuffled before splitting\n",
        "  and the images are formatted to 512x512 pixels and grayscale(one color channel and the values range from 0 to 255)\"\"\"\n",
        "  dataset_train=tf.keras.preprocessing.image_dataset_from_directory('/content/COMP530/'+directory_name,\n",
        "                                                                    labels='inferred',\n",
        "                                                                    label_mode='int',\n",
        "                                                                    class_names=['NormalCases','cancercases'],\n",
        "                                                                    color_mode='grayscale',\n",
        "                                                                    image_size=(512,512),\n",
        "                                                                    shuffle=True,\n",
        "                                                                    seed=305,\n",
        "                                                                    validation_split=0.1,\n",
        "                                                                    subset='training',\n",
        "                                                                    batch_size=32\n",
        "                                                                    )\n",
        "\n",
        "  dataset_test=tf.keras.preprocessing.image_dataset_from_directory('/content/COMP530/'+directory_name,\n",
        "                                                                    labels='inferred',\n",
        "                                                                    label_mode='int',\n",
        "                                                                    class_names=['NormalCases','cancercases'],\n",
        "                                                                    color_mode='grayscale',\n",
        "                                                                    image_size=(512,512),\n",
        "                                                                    shuffle=True,\n",
        "                                                                    seed=305,\n",
        "                                                                    validation_split=0.1,\n",
        "                                                                    subset='validation',\n",
        "                                                                    batch_size=32\n",
        "                                                                    )\n",
        "\n",
        "  return dataset_train,dataset_test\n"
      ],
      "metadata": {
        "id": "F2rUedBbjZ5k"
      },
      "execution_count": 31,
      "outputs": []
    },
    {
      "cell_type": "markdown",
      "source": [
        "# **Federated Dataset Preparation**"
      ],
      "metadata": {
        "id": "lRn4zAl81T7S"
      }
    },
    {
      "cell_type": "code",
      "source": [
        "def federated_training_set(Dataset,clients):\n",
        "  \"\"\"\n",
        "  args:\n",
        "  Dataset - the dataset object to be passed into the function and separated between the clients in the simulation\n",
        "  clients - the number of clients for the dataset to have come from in the simulated environment\n",
        "  return:\n",
        "  dataset_by_client - the original dataset federated between the number of clients. \n",
        "  each client is labelled by their client id, in a dictionary. each id points to an individual dataset object\n",
        "  \"\"\"\n",
        "  image_count=tf.data.experimental.cardinality(Dataset).numpy()\n",
        "  image_per_set=int(np.floor(image_count/clients))\n",
        "\n",
        "  client_train_dataset=collections.OrderedDict()\n",
        "  Dataset=tfds.as_numpy(Dataset)\n",
        "  count=0\n",
        "  client_num=1\n",
        "  y=[]\n",
        "  x=[]\n",
        "  \"\"\"this code snippet assigns particular training examples to each client. In this example they have been evenly distributed\n",
        "  hetrogeneity of federated data could be explored by randomly assigning a clients to each training example.\n",
        "  This would result in some clients having more than enough training data locally and some  and some suffering from data\n",
        "  paucity locally. A greater reflection of real life struggles when implementing federated learning.\"\"\"\n",
        "  for image in Dataset:\n",
        "    count+=1\n",
        "    y.append(image[1])\n",
        "    x.append(image[0])\n",
        "    if(count==image_per_set):\n",
        "      x=np.asarray(x,dtype=np.float32)\n",
        "      y=np.asarray(y,dtype=np.int32)\n",
        "      data=collections.OrderedDict((('label', y), ('image', x)))\n",
        "      client_train_dataset[\"client_\"+str(client_num)]=data\n",
        "      count=0\n",
        "      client_num+=1\n",
        "      y=[]\n",
        "      x=[]\n",
        "\n",
        "  federated_dataset=tff.simulation.datasets.TestClientData(client_train_dataset)\n",
        "\n",
        "  dataset_by_client=[]\n",
        "  for i in range(len(federated_dataset.client_ids)):\n",
        "    dataset_by_client.append(preprocess(federated_dataset.create_tf_dataset_for_client(federated_dataset.client_ids[i])))\n",
        "\n",
        "\n",
        "  return dataset_by_client\n",
        "    \n",
        "dataset_1_train, dataset_1_test=Train_Test_Set(\"Dataset1\")\n",
        "federated_dataset_1=federated_training_set(dataset_1_train,NUM_CLIENTS)"
      ],
      "metadata": {
        "id": "px1Y77HO1rxA",
        "outputId": "5eb6bb48-b7e4-4058-83fc-c741fde29666",
        "colab": {
          "base_uri": "https://localhost:8080/"
        }
      },
      "execution_count": 32,
      "outputs": [
        {
          "output_type": "stream",
          "name": "stdout",
          "text": [
            "Found 1097 files belonging to 2 classes.\n",
            "Using 988 files for training.\n",
            "Found 1097 files belonging to 2 classes.\n",
            "Using 109 files for validation.\n"
          ]
        }
      ]
    },
    {
      "cell_type": "markdown",
      "source": [
        "# **CNN 1**"
      ],
      "metadata": {
        "id": "SGsH2WGv1him"
      }
    },
    {
      "cell_type": "code",
      "source": [
        "#Be sure to include a rescaling layer at the start of the CNN model. This will scale the pixel values from 0-255 to 0-1 which is much easier for the cnn to interpret\n",
        "#layers.Rescaling(1./255, input_shape=(-1,262144))\n",
        "class_names=dataset_1_train.class_names"
      ],
      "metadata": {
        "id": "7RhAcBAB0fB6"
      },
      "execution_count": 33,
      "outputs": []
    },
    {
      "cell_type": "markdown",
      "source": [
        "# **AlexNet CNN**"
      ],
      "metadata": {
        "id": "XRl2MWvTMvEz"
      }
    },
    {
      "cell_type": "code",
      "source": [
        "def AlexNetPreprocess(image,label):\n",
        "  image = tf.image.per_image_standardization(image)\n",
        "  # Resize images from 512x512 to 227x227\n",
        "  image = tf.image.resize(image, (227,227))\n",
        "  return image, label\n",
        "\n",
        "dataset_1_train=dataset_1_train.map(AlexNetPreprocess)"
      ],
      "metadata": {
        "id": "2VphxNlwgPIM"
      },
      "execution_count": 34,
      "outputs": []
    },
    {
      "cell_type": "code",
      "source": [
        "AlexNet = tf.keras.models.Sequential([\n",
        "                                      tf.keras.layers.Conv2D(filters=96,kernel_size=(11,11),strides=(4,4),activation='relu',input_shape=(227,227,1)),\n",
        "                                      tf.keras.layers.BatchNormalization(),\n",
        "                                      tf.keras.layers.MaxPool2D(pool_size=(3,3),strides=(2,2)),\n",
        "                                      tf.keras.layers.Conv2D(filters=256,kernel_size=(5,5),strides=(1,1),activation='relu',padding='same'),\n",
        "                                      tf.keras.layers.BatchNormalization(),\n",
        "                                      tf.keras.layers.MaxPool2D(pool_size=(3,3),strides=(2,2)),\n",
        "                                      tf.keras.layers.Conv2D(filters=384,kernel_size=(3,3),strides=(1,1),activation='relu',padding='same'),\n",
        "                                      tf.keras.layers.BatchNormalization(),\n",
        "                                      tf.keras.layers.Conv2D(filters=384,kernel_size=(3,3),strides=(1,1),activation='relu',padding='same'),\n",
        "                                      tf.keras.layers.BatchNormalization(),\n",
        "                                      tf.keras.layers.Conv2D(filters=256,kernel_size=(3,3),strides=(1,1),activation='relu',padding='same'),\n",
        "                                      tf.keras.layers.BatchNormalization(),\n",
        "                                      tf.keras.layers.MaxPool2D(pool_size=(3,3),strides=(2,2)),\n",
        "                                      tf.keras.layers.Flatten(),\n",
        "                                      tf.keras.layers.Dense(4096,activation='relu'),\n",
        "                                      tf.keras.layers.Dropout(0.5),\n",
        "                                      tf.keras.layers.Dense(4096,activation='relu'),\n",
        "                                      tf.keras.layers.Dropout(0.5),\n",
        "                                      tf.keras.layers.Dense(10,activation='softmax')\n",
        "])"
      ],
      "metadata": {
        "id": "QsuW25bzM5m2"
      },
      "execution_count": 38,
      "outputs": []
    },
    {
      "cell_type": "code",
      "source": [
        "AlexNet.compile(loss='sparse_categorical_crossentropy',optimizer=tf.optimizers.SGD(learning_rate=0.001),metrics=['accuracy'])\n",
        "AlexNet.summary()"
      ],
      "metadata": {
        "colab": {
          "base_uri": "https://localhost:8080/"
        },
        "id": "MxS7z3wgSnzB",
        "outputId": "2b3ae496-dbe0-476d-db36-8d3f447e96cf"
      },
      "execution_count": 36,
      "outputs": [
        {
          "output_type": "stream",
          "name": "stdout",
          "text": [
            "Model: \"sequential_5\"\n",
            "_________________________________________________________________\n",
            " Layer (type)                Output Shape              Param #   \n",
            "=================================================================\n",
            " conv2d_25 (Conv2D)          (None, 126, 126, 96)      11712     \n",
            "                                                                 \n",
            " batch_normalization_25 (Bat  (None, 126, 126, 96)     384       \n",
            " chNormalization)                                                \n",
            "                                                                 \n",
            " max_pooling2d_15 (MaxPoolin  (None, 62, 62, 96)       0         \n",
            " g2D)                                                            \n",
            "                                                                 \n",
            " conv2d_26 (Conv2D)          (None, 62, 62, 256)       614656    \n",
            "                                                                 \n",
            " batch_normalization_26 (Bat  (None, 62, 62, 256)      1024      \n",
            " chNormalization)                                                \n",
            "                                                                 \n",
            " max_pooling2d_16 (MaxPoolin  (None, 30, 30, 256)      0         \n",
            " g2D)                                                            \n",
            "                                                                 \n",
            " conv2d_27 (Conv2D)          (None, 30, 30, 384)       885120    \n",
            "                                                                 \n",
            " batch_normalization_27 (Bat  (None, 30, 30, 384)      1536      \n",
            " chNormalization)                                                \n",
            "                                                                 \n",
            " conv2d_28 (Conv2D)          (None, 30, 30, 384)       1327488   \n",
            "                                                                 \n",
            " batch_normalization_28 (Bat  (None, 30, 30, 384)      1536      \n",
            " chNormalization)                                                \n",
            "                                                                 \n",
            " conv2d_29 (Conv2D)          (None, 30, 30, 256)       884992    \n",
            "                                                                 \n",
            " batch_normalization_29 (Bat  (None, 30, 30, 256)      1024      \n",
            " chNormalization)                                                \n",
            "                                                                 \n",
            " max_pooling2d_17 (MaxPoolin  (None, 14, 14, 256)      0         \n",
            " g2D)                                                            \n",
            "                                                                 \n",
            " flatten_5 (Flatten)         (None, 50176)             0         \n",
            "                                                                 \n",
            " dense_15 (Dense)            (None, 4096)              205524992 \n",
            "                                                                 \n",
            " dropout_10 (Dropout)        (None, 4096)              0         \n",
            "                                                                 \n",
            " dense_16 (Dense)            (None, 4096)              16781312  \n",
            "                                                                 \n",
            " dropout_11 (Dropout)        (None, 4096)              0         \n",
            "                                                                 \n",
            " dense_17 (Dense)            (None, 10)                40970     \n",
            "                                                                 \n",
            "=================================================================\n",
            "Total params: 226,076,746\n",
            "Trainable params: 226,073,994\n",
            "Non-trainable params: 2,752\n",
            "_________________________________________________________________\n"
          ]
        }
      ]
    },
    {
      "cell_type": "code",
      "source": [
        "AlexNet.fit(dataset_1_train,epochs=50,validation_data=dataset_1_test,validation_freq=1)"
      ],
      "metadata": {
        "id": "domOYopGURao",
        "outputId": "0ca055e4-8a81-4262-dde7-82adb4290ce6",
        "colab": {
          "base_uri": "https://localhost:8080/",
          "height": 588
        }
      },
      "execution_count": 37,
      "outputs": [
        {
          "output_type": "stream",
          "name": "stdout",
          "text": [
            "Epoch 1/50\n"
          ]
        },
        {
          "output_type": "error",
          "ename": "ValueError",
          "evalue": "ignored",
          "traceback": [
            "\u001b[0;31m---------------------------------------------------------------------------\u001b[0m",
            "\u001b[0;31mValueError\u001b[0m                                Traceback (most recent call last)",
            "\u001b[0;32m<ipython-input-37-acd719dd05f5>\u001b[0m in \u001b[0;36m<module>\u001b[0;34m()\u001b[0m\n\u001b[0;32m----> 1\u001b[0;31m \u001b[0mAlexNet\u001b[0m\u001b[0;34m.\u001b[0m\u001b[0mfit\u001b[0m\u001b[0;34m(\u001b[0m\u001b[0mdataset_1_train\u001b[0m\u001b[0;34m,\u001b[0m\u001b[0mepochs\u001b[0m\u001b[0;34m=\u001b[0m\u001b[0;36m50\u001b[0m\u001b[0;34m,\u001b[0m\u001b[0mvalidation_data\u001b[0m\u001b[0;34m=\u001b[0m\u001b[0mdataset_1_test\u001b[0m\u001b[0;34m,\u001b[0m\u001b[0mvalidation_freq\u001b[0m\u001b[0;34m=\u001b[0m\u001b[0;36m1\u001b[0m\u001b[0;34m)\u001b[0m\u001b[0;34m\u001b[0m\u001b[0;34m\u001b[0m\u001b[0m\n\u001b[0m",
            "\u001b[0;32m/usr/local/lib/python3.7/dist-packages/keras/utils/traceback_utils.py\u001b[0m in \u001b[0;36merror_handler\u001b[0;34m(*args, **kwargs)\u001b[0m\n\u001b[1;32m     65\u001b[0m     \u001b[0;32mexcept\u001b[0m \u001b[0mException\u001b[0m \u001b[0;32mas\u001b[0m \u001b[0me\u001b[0m\u001b[0;34m:\u001b[0m  \u001b[0;31m# pylint: disable=broad-except\u001b[0m\u001b[0;34m\u001b[0m\u001b[0;34m\u001b[0m\u001b[0m\n\u001b[1;32m     66\u001b[0m       \u001b[0mfiltered_tb\u001b[0m \u001b[0;34m=\u001b[0m \u001b[0m_process_traceback_frames\u001b[0m\u001b[0;34m(\u001b[0m\u001b[0me\u001b[0m\u001b[0;34m.\u001b[0m\u001b[0m__traceback__\u001b[0m\u001b[0;34m)\u001b[0m\u001b[0;34m\u001b[0m\u001b[0;34m\u001b[0m\u001b[0m\n\u001b[0;32m---> 67\u001b[0;31m       \u001b[0;32mraise\u001b[0m \u001b[0me\u001b[0m\u001b[0;34m.\u001b[0m\u001b[0mwith_traceback\u001b[0m\u001b[0;34m(\u001b[0m\u001b[0mfiltered_tb\u001b[0m\u001b[0;34m)\u001b[0m \u001b[0;32mfrom\u001b[0m \u001b[0;32mNone\u001b[0m\u001b[0;34m\u001b[0m\u001b[0;34m\u001b[0m\u001b[0m\n\u001b[0m\u001b[1;32m     68\u001b[0m     \u001b[0;32mfinally\u001b[0m\u001b[0;34m:\u001b[0m\u001b[0;34m\u001b[0m\u001b[0;34m\u001b[0m\u001b[0m\n\u001b[1;32m     69\u001b[0m       \u001b[0;32mdel\u001b[0m \u001b[0mfiltered_tb\u001b[0m\u001b[0;34m\u001b[0m\u001b[0;34m\u001b[0m\u001b[0m\n",
            "\u001b[0;32m/usr/local/lib/python3.7/dist-packages/tensorflow/python/framework/func_graph.py\u001b[0m in \u001b[0;36mautograph_handler\u001b[0;34m(*args, **kwargs)\u001b[0m\n\u001b[1;32m   1145\u001b[0m           \u001b[0;32mexcept\u001b[0m \u001b[0mException\u001b[0m \u001b[0;32mas\u001b[0m \u001b[0me\u001b[0m\u001b[0;34m:\u001b[0m  \u001b[0;31m# pylint:disable=broad-except\u001b[0m\u001b[0;34m\u001b[0m\u001b[0;34m\u001b[0m\u001b[0m\n\u001b[1;32m   1146\u001b[0m             \u001b[0;32mif\u001b[0m \u001b[0mhasattr\u001b[0m\u001b[0;34m(\u001b[0m\u001b[0me\u001b[0m\u001b[0;34m,\u001b[0m \u001b[0;34m\"ag_error_metadata\"\u001b[0m\u001b[0;34m)\u001b[0m\u001b[0;34m:\u001b[0m\u001b[0;34m\u001b[0m\u001b[0;34m\u001b[0m\u001b[0m\n\u001b[0;32m-> 1147\u001b[0;31m               \u001b[0;32mraise\u001b[0m \u001b[0me\u001b[0m\u001b[0;34m.\u001b[0m\u001b[0mag_error_metadata\u001b[0m\u001b[0;34m.\u001b[0m\u001b[0mto_exception\u001b[0m\u001b[0;34m(\u001b[0m\u001b[0me\u001b[0m\u001b[0;34m)\u001b[0m\u001b[0;34m\u001b[0m\u001b[0;34m\u001b[0m\u001b[0m\n\u001b[0m\u001b[1;32m   1148\u001b[0m             \u001b[0;32melse\u001b[0m\u001b[0;34m:\u001b[0m\u001b[0;34m\u001b[0m\u001b[0;34m\u001b[0m\u001b[0m\n\u001b[1;32m   1149\u001b[0m               \u001b[0;32mraise\u001b[0m\u001b[0;34m\u001b[0m\u001b[0;34m\u001b[0m\u001b[0m\n",
            "\u001b[0;31mValueError\u001b[0m: in user code:\n\n    File \"/usr/local/lib/python3.7/dist-packages/keras/engine/training.py\", line 1021, in train_function  *\n        return step_function(self, iterator)\n    File \"/usr/local/lib/python3.7/dist-packages/keras/engine/training.py\", line 1010, in step_function  **\n        outputs = model.distribute_strategy.run(run_step, args=(data,))\n    File \"/usr/local/lib/python3.7/dist-packages/keras/engine/training.py\", line 1000, in run_step  **\n        outputs = model.train_step(data)\n    File \"/usr/local/lib/python3.7/dist-packages/keras/engine/training.py\", line 859, in train_step\n        y_pred = self(x, training=True)\n    File \"/usr/local/lib/python3.7/dist-packages/keras/utils/traceback_utils.py\", line 67, in error_handler\n        raise e.with_traceback(filtered_tb) from None\n    File \"/usr/local/lib/python3.7/dist-packages/keras/engine/input_spec.py\", line 264, in assert_input_compatibility\n        raise ValueError(f'Input {input_index} of layer \"{layer_name}\" is '\n\n    ValueError: Input 0 of layer \"sequential_5\" is incompatible with the layer: expected shape=(None, 512, 512, 1), found shape=(None, 227, 227, 1)\n"
          ]
        }
      ]
    },
    {
      "cell_type": "markdown",
      "source": [
        "# **Example Image**"
      ],
      "metadata": {
        "id": "jj3tXB8KqWFa"
      }
    },
    {
      "cell_type": "code",
      "source": [
        "image = \"/content/COMP530/Dataset1/NormalCases/Normal case (1).jpg\"\n",
        "plotimg=img.imread(image)\n",
        "plot=plt.imshow(plotimg)\n",
        "plt.show()"
      ],
      "metadata": {
        "id": "MVG99V8G09XM"
      },
      "execution_count": null,
      "outputs": []
    }
  ]
}