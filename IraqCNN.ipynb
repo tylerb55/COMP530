{
  "nbformat": 4,
  "nbformat_minor": 0,
  "metadata": {
    "colab": {
      "name": "IraqCNN.ipynb",
      "provenance": [],
      "include_colab_link": true
    },
    "kernelspec": {
      "name": "python3",
      "display_name": "Python 3"
    },
    "language_info": {
      "name": "python"
    },
    "accelerator": "GPU"
  },
  "cells": [
    {
      "cell_type": "markdown",
      "metadata": {
        "id": "view-in-github",
        "colab_type": "text"
      },
      "source": [
        "<a href=\"https://colab.research.google.com/github/tylerb55/COMP530/blob/main/IraqCNN.ipynb\" target=\"_parent\"><img src=\"https://colab.research.google.com/assets/colab-badge.svg\" alt=\"Open In Colab\"/></a>"
      ]
    },
    {
      "cell_type": "code",
      "execution_count": 1,
      "metadata": {
        "id": "Fs-d1Bdgtpx5",
        "colab": {
          "base_uri": "https://localhost:8080/"
        },
        "outputId": "872c17e2-caad-49cb-f96d-19062fb9060e"
      },
      "outputs": [
        {
          "output_type": "stream",
          "name": "stdout",
          "text": [
            "Cloning into 'COMP530'...\n",
            "remote: Enumerating objects: 1254, done.\u001b[K\n",
            "remote: Counting objects: 100% (328/328), done.\u001b[K\n",
            "remote: Compressing objects: 100% (325/325), done.\u001b[K\n",
            "remote: Total 1254 (delta 36), reused 0 (delta 0), pack-reused 926\u001b[K\n",
            "Receiving objects: 100% (1254/1254), 159.90 MiB | 17.52 MiB/s, done.\n",
            "Resolving deltas: 100% (48/48), done.\n",
            "Checking out files: 100% (1157/1157), done.\n"
          ]
        }
      ],
      "source": [
        "! git clone https://github.com/tylerb55/COMP530.git"
      ]
    },
    {
      "cell_type": "code",
      "source": [
        "! pip install --quiet --upgrade tensorflow-federated"
      ],
      "metadata": {
        "id": "3XJ7j5aM19b3",
        "outputId": "69c827d2-2614-4d5d-ff4f-f39a20b9b0c0",
        "colab": {
          "base_uri": "https://localhost:8080/"
        }
      },
      "execution_count": 2,
      "outputs": [
        {
          "output_type": "stream",
          "name": "stdout",
          "text": [
            "\u001b[K     |████████████████████████████████| 819 kB 5.5 MB/s \n",
            "\u001b[K     |████████████████████████████████| 65.1 MB 110 kB/s \n",
            "\u001b[K     |████████████████████████████████| 53 kB 1.7 MB/s \n",
            "\u001b[K     |████████████████████████████████| 4.0 MB 34.9 MB/s \n",
            "\u001b[K     |████████████████████████████████| 45 kB 3.3 MB/s \n",
            "\u001b[K     |████████████████████████████████| 121 kB 47.5 MB/s \n",
            "\u001b[K     |████████████████████████████████| 251 kB 48.4 MB/s \n",
            "\u001b[K     |████████████████████████████████| 887 kB 42.5 MB/s \n",
            "\u001b[K     |████████████████████████████████| 237 kB 47.4 MB/s \n",
            "\u001b[K     |████████████████████████████████| 462 kB 31.5 MB/s \n",
            "\u001b[K     |████████████████████████████████| 4.2 MB 664 kB/s \n",
            "\u001b[?25h  Building wheel for jax (setup.py) ... \u001b[?25l\u001b[?25hdone\n",
            "\u001b[31mERROR: pip's dependency resolver does not currently take into account all the packages that are installed. This behaviour is the source of the following dependency conflicts.\n",
            "spacy 2.2.4 requires tqdm<5.0.0,>=4.38.0, but you have tqdm 4.28.1 which is incompatible.\n",
            "pymc3 3.11.4 requires cachetools>=4.2.1, but you have cachetools 3.1.1 which is incompatible.\n",
            "panel 0.12.1 requires tqdm>=4.48.0, but you have tqdm 4.28.1 which is incompatible.\n",
            "fbprophet 0.7.1 requires tqdm>=4.36.1, but you have tqdm 4.28.1 which is incompatible.\n",
            "datascience 0.10.6 requires folium==0.2.1, but you have folium 0.8.3 which is incompatible.\u001b[0m\n"
          ]
        }
      ]
    },
    {
      "cell_type": "markdown",
      "source": [
        "Put in the necessary upgrades for the environment to prevent potential compatability errors in future code."
      ],
      "metadata": {
        "id": "ONKFFPF2rwdA"
      }
    },
    {
      "cell_type": "code",
      "source": [
        "! pip install nest-asyncio"
      ],
      "metadata": {
        "id": "cWOJ7_ki2WVm",
        "outputId": "eef02e00-88f2-429c-d3a7-676466c6da0f",
        "colab": {
          "base_uri": "https://localhost:8080/"
        }
      },
      "execution_count": 16,
      "outputs": [
        {
          "output_type": "stream",
          "name": "stdout",
          "text": [
            "Requirement already satisfied: nest-asyncio in /usr/local/lib/python3.7/dist-packages (1.5.5)\n"
          ]
        }
      ]
    },
    {
      "cell_type": "code",
      "source": [
        "import numpy as np\n",
        "import pandas as pd\n",
        "import collections\n",
        "import matplotlib.image as img\n",
        "import matplotlib.pyplot as plt\n",
        "import tensorflow as tf\n",
        "import tensorflow_federated as tff\n",
        "import tensorflow_datasets as tfds\n",
        "import nest_asyncio as na"
      ],
      "metadata": {
        "id": "3Qy255tab2M9"
      },
      "execution_count": 4,
      "outputs": []
    },
    {
      "cell_type": "markdown",
      "source": [
        "# **Preprocessing the input data**"
      ],
      "metadata": {
        "id": "bipnVBCiiaKz"
      }
    },
    {
      "cell_type": "code",
      "source": [
        "#Have a play around with number of clients and batch size and see how they affect the model\n",
        "NUM_CLIENTS=5 \n",
        "NUM_EPOCHS=100\n",
        "BATCH_SIZE=20\n",
        "SHUFFLE_BUFFER=100\n",
        "PREFETCH_BUFFER=10\n",
        "\n",
        "def preprocess(dataset):\n",
        "\n",
        "  def format_batch(element):\n",
        "    \"\"\"flatten the pixels in a batch and return the features as an 'OrderedDict'\"\"\"\n",
        "    return collections.OrderedDict(\n",
        "        x=tf.reshape(element['image'],[-1,262144]),\n",
        "        y=tf.reshape(element['label'],[-1,1])#the shape of x may change as we may utilise a smaller image than 512x512 pixels\n",
        "    )\n",
        "    return dataset.repeat(NUM_EPOCHS).shuffle(SHUFFLE_BUFFER, seed=1).batch(BATCH_SIZE).map(format_batch).prefetch(PREFETCH_BUFFER)\n"
      ],
      "metadata": {
        "id": "WMVR8MkPy4_A"
      },
      "execution_count": 5,
      "outputs": []
    },
    {
      "cell_type": "markdown",
      "source": [
        "maybe store the dataset in cache memory to speed up training instead of loading off disk. (dataset.cache())"
      ],
      "metadata": {
        "id": "CxyyOpjFyxTN"
      }
    },
    {
      "cell_type": "markdown",
      "source": [
        "# **Image Directory to Dataset**"
      ],
      "metadata": {
        "id": "7jEJ-8Fvq84w"
      }
    },
    {
      "cell_type": "code",
      "source": [
        "def Train_Test_Set(directory_name):\n",
        "  \"\"\"a function to load the images in a large directory into a tensorflow dataset object\n",
        "  the data is split 90:10 in training:validation. The dataset is shuffled before splitting\n",
        "  and the images are formatted to 512x512 pixels and grayscale(one color channel and the values range from 0 to 255)\"\"\"\n",
        "  dataset_train=tf.keras.preprocessing.image_dataset_from_directory('/content/COMP530/'+directory_name,\n",
        "                                                                    labels='inferred',\n",
        "                                                                    label_mode='int',\n",
        "                                                                    class_names=['NormalCases','cancercases'],\n",
        "                                                                    color_mode='grayscale',\n",
        "                                                                    image_size=(512,512),\n",
        "                                                                    shuffle=True,\n",
        "                                                                    seed=305,\n",
        "                                                                    validation_split=0.1,\n",
        "                                                                    subset='training',\n",
        "                                                                    batch_size=None\n",
        "                                                                    )\n",
        "\n",
        "  dataset_test=tf.keras.preprocessing.image_dataset_from_directory('/content/COMP530/'+directory_name,\n",
        "                                                                    labels='inferred',\n",
        "                                                                    label_mode='int',\n",
        "                                                                    class_names=['NormalCases','cancercases'],\n",
        "                                                                    color_mode='grayscale',\n",
        "                                                                    image_size=(512,512),\n",
        "                                                                    shuffle=True,\n",
        "                                                                    seed=305,\n",
        "                                                                    validation_split=0.1,\n",
        "                                                                    subset='validation',\n",
        "                                                                    batch_size=None\n",
        "                                                                    )\n",
        "\n",
        "  return dataset_train,dataset_test\n"
      ],
      "metadata": {
        "id": "F2rUedBbjZ5k"
      },
      "execution_count": 6,
      "outputs": []
    },
    {
      "cell_type": "markdown",
      "source": [
        "# **Federated Dataset Preparation**"
      ],
      "metadata": {
        "id": "lRn4zAl81T7S"
      }
    },
    {
      "cell_type": "code",
      "source": [
        "def federated_training_set(Dataset,clients):\n",
        "  \"\"\"\n",
        "  args:\n",
        "  Dataset - the dataset object to be passed into the function and separated between the clients in the simulation\n",
        "  clients - the number of clients for the dataset to have come from in the simulated environment\n",
        "  return:\n",
        "  dataset_by_client - the original dataset federated between the number of clients. \n",
        "  each client is labelled by their client id, in a dictionary. each id points to an individual dataset object\n",
        "  \"\"\"\n",
        "  image_count=tf.data.experimental.cardinality(Dataset).numpy()\n",
        "  image_per_set=int(np.floor(image_count/clients))\n",
        "\n",
        "  client_train_dataset=collections.OrderedDict()\n",
        "  Dataset=tfds.as_numpy(Dataset)\n",
        "  count=0\n",
        "  client_num=1\n",
        "  y=[]\n",
        "  x=[]\n",
        "  \"\"\"this code snippet assigns particular training examples to each client. In this example they have been evenly distributed\n",
        "  hetrogeneity of federated data could be explored by randomly assigning a clients to each training example.\n",
        "  This would result in some clients having more than enough training data locally and some  and some suffering from data\n",
        "  paucity locally. A greater reflection of real life struggles when implementing federated learning.\"\"\"\n",
        "  for image in Dataset:\n",
        "    count+=1\n",
        "    y.append(image[1])\n",
        "    x.append(image[0])\n",
        "    if(count==image_per_set):\n",
        "      x=np.asarray(x,dtype=np.float32)\n",
        "      y=np.asarray(y,dtype=np.int32)\n",
        "      data=collections.OrderedDict((('label', y), ('image', x)))\n",
        "      client_train_dataset[\"client_\"+str(client_num)]=data\n",
        "      count=0\n",
        "      client_num+=1\n",
        "      y=[]\n",
        "      x=[]\n",
        "\n",
        "  federated_dataset=tff.simulation.datasets.TestClientData(client_train_dataset)\n",
        "\n",
        "  dataset_by_client=[]\n",
        "  for i in range(len(federated_dataset.client_ids)):\n",
        "    dataset_by_client.append(preprocess(federated_dataset.create_tf_dataset_for_client(federated_dataset.client_ids[i])))\n",
        "\n",
        "\n",
        "  return dataset_by_client\n",
        "    \n",
        "dataset_1_train, dataset_1_test=Train_Test_Set(\"Dataset1\")\n",
        "federated_dataset_1=federated_training_set(dataset_1_train,NUM_CLIENTS)"
      ],
      "metadata": {
        "id": "px1Y77HO1rxA",
        "outputId": "33a339ba-27ef-41b5-9238-5d752f1d8c55",
        "colab": {
          "base_uri": "https://localhost:8080/"
        }
      },
      "execution_count": 7,
      "outputs": [
        {
          "output_type": "stream",
          "name": "stdout",
          "text": [
            "Found 1097 files belonging to 2 classes.\n",
            "Using 988 files for training.\n",
            "Found 1097 files belonging to 2 classes.\n",
            "Using 109 files for validation.\n"
          ]
        }
      ]
    },
    {
      "cell_type": "markdown",
      "source": [
        "# **CNN 1**"
      ],
      "metadata": {
        "id": "SGsH2WGv1him"
      }
    },
    {
      "cell_type": "code",
      "source": [
        "#Be sure to include a rescaling layer at the start of the CNN model. This will scale the pixel values from 0-255 to 0-1 which is much easier for the cnn to interpret\n",
        "#layers.Rescaling(1./255, input_shape=(-1,262144))\n",
        "class_names=dataset_1_train.class_names"
      ],
      "metadata": {
        "id": "7RhAcBAB0fB6"
      },
      "execution_count": 8,
      "outputs": []
    },
    {
      "cell_type": "markdown",
      "source": [
        "# **AlexNet CNN**"
      ],
      "metadata": {
        "id": "XRl2MWvTMvEz"
      }
    },
    {
      "cell_type": "code",
      "source": [
        "def AlexNetPreprocess(image,label):\n",
        "  image = tf.image.per_image_standardization(image)\n",
        "  # Resize images from 512x512 to 227x227\n",
        "  image = tf.image.resize(image, (227,227))\n",
        "  return image, label\n",
        "\n",
        "dataset_1_train=dataset_1_train.map(AlexNetPreprocess).batch(batch_size=32,drop_remainder=True)\n",
        "dataset_1_test=dataset_1_test.map(AlexNetPreprocess).batch(batch_size=32,drop_remainder=True)"
      ],
      "metadata": {
        "id": "2VphxNlwgPIM"
      },
      "execution_count": 9,
      "outputs": []
    },
    {
      "cell_type": "code",
      "source": [
        "def AlexNet_model():\n",
        "   return tf.keras.models.Sequential([\n",
        "                                      tf.keras.layers.Conv2D(filters=96,kernel_size=(11,11),strides=(4,4),activation='relu',input_shape=(227,227,1)),\n",
        "                                      tf.keras.layers.BatchNormalization(),\n",
        "                                      tf.keras.layers.MaxPool2D(pool_size=(3,3),strides=(2,2)),\n",
        "                                      tf.keras.layers.Conv2D(filters=256,kernel_size=(5,5),strides=(1,1),activation='relu',padding='same'),\n",
        "                                      tf.keras.layers.BatchNormalization(),\n",
        "                                      tf.keras.layers.MaxPool2D(pool_size=(3,3),strides=(2,2)),\n",
        "                                      tf.keras.layers.Conv2D(filters=384,kernel_size=(3,3),strides=(1,1),activation='relu',padding='same'),\n",
        "                                      tf.keras.layers.BatchNormalization(),\n",
        "                                      tf.keras.layers.Conv2D(filters=384,kernel_size=(3,3),strides=(1,1),activation='relu',padding='same'),\n",
        "                                      tf.keras.layers.BatchNormalization(),\n",
        "                                      tf.keras.layers.Conv2D(filters=256,kernel_size=(3,3),strides=(1,1),activation='relu',padding='same'),\n",
        "                                      tf.keras.layers.BatchNormalization(),\n",
        "                                      tf.keras.layers.MaxPool2D(pool_size=(3,3),strides=(2,2)),\n",
        "                                      tf.keras.layers.Flatten(),\n",
        "                                      tf.keras.layers.Dense(4096,activation='relu'),\n",
        "                                      tf.keras.layers.Dropout(0.5),\n",
        "                                      tf.keras.layers.Dense(4096,activation='relu'),\n",
        "                                      tf.keras.layers.Dropout(0.5),\n",
        "                                      tf.keras.layers.Dense(10,activation='softmax')\n",
        "])\n",
        "\n",
        "AlexNet = AlexNet_model()"
      ],
      "metadata": {
        "id": "QsuW25bzM5m2"
      },
      "execution_count": 10,
      "outputs": []
    },
    {
      "cell_type": "code",
      "source": [
        "AlexNet.compile(loss='sparse_categorical_crossentropy',optimizer=tf.optimizers.SGD(learning_rate=0.001),metrics=['accuracy'])\n",
        "AlexNet.summary()"
      ],
      "metadata": {
        "colab": {
          "base_uri": "https://localhost:8080/"
        },
        "id": "MxS7z3wgSnzB",
        "outputId": "ff054ef1-44ef-4616-fd64-5efc77afbc6e"
      },
      "execution_count": 11,
      "outputs": [
        {
          "output_type": "stream",
          "name": "stdout",
          "text": [
            "Model: \"sequential\"\n",
            "_________________________________________________________________\n",
            " Layer (type)                Output Shape              Param #   \n",
            "=================================================================\n",
            " conv2d (Conv2D)             (None, 55, 55, 96)        11712     \n",
            "                                                                 \n",
            " batch_normalization (BatchN  (None, 55, 55, 96)       384       \n",
            " ormalization)                                                   \n",
            "                                                                 \n",
            " max_pooling2d (MaxPooling2D  (None, 27, 27, 96)       0         \n",
            " )                                                               \n",
            "                                                                 \n",
            " conv2d_1 (Conv2D)           (None, 27, 27, 256)       614656    \n",
            "                                                                 \n",
            " batch_normalization_1 (Batc  (None, 27, 27, 256)      1024      \n",
            " hNormalization)                                                 \n",
            "                                                                 \n",
            " max_pooling2d_1 (MaxPooling  (None, 13, 13, 256)      0         \n",
            " 2D)                                                             \n",
            "                                                                 \n",
            " conv2d_2 (Conv2D)           (None, 13, 13, 384)       885120    \n",
            "                                                                 \n",
            " batch_normalization_2 (Batc  (None, 13, 13, 384)      1536      \n",
            " hNormalization)                                                 \n",
            "                                                                 \n",
            " conv2d_3 (Conv2D)           (None, 13, 13, 384)       1327488   \n",
            "                                                                 \n",
            " batch_normalization_3 (Batc  (None, 13, 13, 384)      1536      \n",
            " hNormalization)                                                 \n",
            "                                                                 \n",
            " conv2d_4 (Conv2D)           (None, 13, 13, 256)       884992    \n",
            "                                                                 \n",
            " batch_normalization_4 (Batc  (None, 13, 13, 256)      1024      \n",
            " hNormalization)                                                 \n",
            "                                                                 \n",
            " max_pooling2d_2 (MaxPooling  (None, 6, 6, 256)        0         \n",
            " 2D)                                                             \n",
            "                                                                 \n",
            " flatten (Flatten)           (None, 9216)              0         \n",
            "                                                                 \n",
            " dense (Dense)               (None, 4096)              37752832  \n",
            "                                                                 \n",
            " dropout (Dropout)           (None, 4096)              0         \n",
            "                                                                 \n",
            " dense_1 (Dense)             (None, 4096)              16781312  \n",
            "                                                                 \n",
            " dropout_1 (Dropout)         (None, 4096)              0         \n",
            "                                                                 \n",
            " dense_2 (Dense)             (None, 10)                40970     \n",
            "                                                                 \n",
            "=================================================================\n",
            "Total params: 58,304,586\n",
            "Trainable params: 58,301,834\n",
            "Non-trainable params: 2,752\n",
            "_________________________________________________________________\n"
          ]
        }
      ]
    },
    {
      "cell_type": "code",
      "source": [
        "AlexNet.fit(dataset_1_train,epochs=50,validation_data=dataset_1_test,validation_freq=1)"
      ],
      "metadata": {
        "id": "domOYopGURao",
        "outputId": "03229e05-c4a7-4fb7-ebbf-b8ed58dc2cbd",
        "colab": {
          "base_uri": "https://localhost:8080/"
        }
      },
      "execution_count": 12,
      "outputs": [
        {
          "output_type": "stream",
          "name": "stdout",
          "text": [
            "Epoch 1/50\n",
            "30/30 [==============================] - 26s 193ms/step - loss: 2.3265 - accuracy: 0.5958 - val_loss: 2.2153 - val_accuracy: 0.1875\n",
            "Epoch 2/50\n",
            "30/30 [==============================] - 6s 109ms/step - loss: 1.0458 - accuracy: 0.6906 - val_loss: 2.0784 - val_accuracy: 0.0521\n",
            "Epoch 3/50\n",
            "30/30 [==============================] - 5s 117ms/step - loss: 0.8265 - accuracy: 0.7417 - val_loss: 1.8478 - val_accuracy: 0.3125\n",
            "Epoch 4/50\n",
            "30/30 [==============================] - 5s 107ms/step - loss: 0.5149 - accuracy: 0.8177 - val_loss: 1.6226 - val_accuracy: 0.6458\n",
            "Epoch 5/50\n",
            "30/30 [==============================] - 5s 107ms/step - loss: 0.3530 - accuracy: 0.8698 - val_loss: 1.3485 - val_accuracy: 0.6667\n",
            "Epoch 6/50\n",
            "30/30 [==============================] - 7s 117ms/step - loss: 0.2983 - accuracy: 0.8781 - val_loss: 1.1146 - val_accuracy: 0.6250\n",
            "Epoch 7/50\n",
            "30/30 [==============================] - 5s 107ms/step - loss: 0.2112 - accuracy: 0.9135 - val_loss: 0.9311 - val_accuracy: 0.6354\n",
            "Epoch 8/50\n",
            "30/30 [==============================] - 5s 117ms/step - loss: 0.2108 - accuracy: 0.9208 - val_loss: 0.7335 - val_accuracy: 0.6771\n",
            "Epoch 9/50\n",
            "30/30 [==============================] - 5s 118ms/step - loss: 0.1280 - accuracy: 0.9479 - val_loss: 0.5386 - val_accuracy: 0.8438\n",
            "Epoch 10/50\n",
            "30/30 [==============================] - 5s 106ms/step - loss: 0.1190 - accuracy: 0.9469 - val_loss: 0.4873 - val_accuracy: 0.7812\n",
            "Epoch 11/50\n",
            "30/30 [==============================] - 5s 107ms/step - loss: 0.1016 - accuracy: 0.9594 - val_loss: 0.3766 - val_accuracy: 0.8125\n",
            "Epoch 12/50\n",
            "30/30 [==============================] - 5s 117ms/step - loss: 0.0921 - accuracy: 0.9656 - val_loss: 0.2368 - val_accuracy: 0.8958\n",
            "Epoch 13/50\n",
            "30/30 [==============================] - 5s 107ms/step - loss: 0.0679 - accuracy: 0.9729 - val_loss: 0.1896 - val_accuracy: 0.9583\n",
            "Epoch 14/50\n",
            "30/30 [==============================] - 5s 106ms/step - loss: 0.0644 - accuracy: 0.9781 - val_loss: 0.1360 - val_accuracy: 0.9688\n",
            "Epoch 15/50\n",
            "30/30 [==============================] - 5s 108ms/step - loss: 0.0673 - accuracy: 0.9802 - val_loss: 0.1321 - val_accuracy: 0.9583\n",
            "Epoch 16/50\n",
            "30/30 [==============================] - 5s 116ms/step - loss: 0.0346 - accuracy: 0.9917 - val_loss: 0.0572 - val_accuracy: 0.9688\n",
            "Epoch 17/50\n",
            "30/30 [==============================] - 6s 117ms/step - loss: 0.0417 - accuracy: 0.9844 - val_loss: 0.0677 - val_accuracy: 0.9792\n",
            "Epoch 18/50\n",
            "30/30 [==============================] - 5s 106ms/step - loss: 0.0357 - accuracy: 0.9906 - val_loss: 0.0778 - val_accuracy: 0.9792\n",
            "Epoch 19/50\n",
            "30/30 [==============================] - 5s 117ms/step - loss: 0.0325 - accuracy: 0.9917 - val_loss: 0.0635 - val_accuracy: 0.9792\n",
            "Epoch 20/50\n",
            "30/30 [==============================] - 6s 117ms/step - loss: 0.0353 - accuracy: 0.9865 - val_loss: 0.0888 - val_accuracy: 0.9792\n",
            "Epoch 21/50\n",
            "30/30 [==============================] - 5s 110ms/step - loss: 0.0320 - accuracy: 0.9906 - val_loss: 0.1002 - val_accuracy: 0.9792\n",
            "Epoch 22/50\n",
            "30/30 [==============================] - 5s 107ms/step - loss: 0.0255 - accuracy: 0.9927 - val_loss: 0.1219 - val_accuracy: 0.9688\n",
            "Epoch 23/50\n",
            "30/30 [==============================] - 5s 117ms/step - loss: 0.0199 - accuracy: 0.9917 - val_loss: 0.0440 - val_accuracy: 0.9896\n",
            "Epoch 24/50\n",
            "30/30 [==============================] - 5s 117ms/step - loss: 0.0227 - accuracy: 0.9948 - val_loss: 0.0494 - val_accuracy: 0.9896\n",
            "Epoch 25/50\n",
            "30/30 [==============================] - 5s 108ms/step - loss: 0.0219 - accuracy: 0.9937 - val_loss: 0.0600 - val_accuracy: 0.9896\n",
            "Epoch 26/50\n",
            "30/30 [==============================] - 5s 118ms/step - loss: 0.0104 - accuracy: 0.9979 - val_loss: 0.1023 - val_accuracy: 0.9792\n",
            "Epoch 27/50\n",
            "30/30 [==============================] - 5s 117ms/step - loss: 0.0154 - accuracy: 0.9958 - val_loss: 0.0674 - val_accuracy: 0.9792\n",
            "Epoch 28/50\n",
            "30/30 [==============================] - 5s 116ms/step - loss: 0.0121 - accuracy: 0.9979 - val_loss: 0.0866 - val_accuracy: 0.9792\n",
            "Epoch 29/50\n",
            "30/30 [==============================] - 5s 108ms/step - loss: 0.0143 - accuracy: 0.9969 - val_loss: 0.1238 - val_accuracy: 0.9792\n",
            "Epoch 30/50\n",
            "30/30 [==============================] - 5s 117ms/step - loss: 0.0098 - accuracy: 0.9979 - val_loss: 0.0804 - val_accuracy: 0.9792\n",
            "Epoch 31/50\n",
            "30/30 [==============================] - 5s 117ms/step - loss: 0.0174 - accuracy: 0.9969 - val_loss: 0.0940 - val_accuracy: 0.9792\n",
            "Epoch 32/50\n",
            "30/30 [==============================] - 5s 107ms/step - loss: 0.0139 - accuracy: 0.9958 - val_loss: 0.1041 - val_accuracy: 0.9792\n",
            "Epoch 33/50\n",
            "30/30 [==============================] - 5s 118ms/step - loss: 0.0131 - accuracy: 0.9969 - val_loss: 0.0704 - val_accuracy: 0.9792\n",
            "Epoch 34/50\n",
            "30/30 [==============================] - 5s 117ms/step - loss: 0.0112 - accuracy: 0.9958 - val_loss: 0.0342 - val_accuracy: 0.9896\n",
            "Epoch 35/50\n",
            "30/30 [==============================] - 5s 107ms/step - loss: 0.0160 - accuracy: 0.9979 - val_loss: 0.0405 - val_accuracy: 0.9896\n",
            "Epoch 36/50\n",
            "30/30 [==============================] - 6s 117ms/step - loss: 0.0110 - accuracy: 0.9969 - val_loss: 0.0748 - val_accuracy: 0.9792\n",
            "Epoch 37/50\n",
            "30/30 [==============================] - 5s 108ms/step - loss: 0.0136 - accuracy: 0.9937 - val_loss: 0.0308 - val_accuracy: 0.9896\n",
            "Epoch 38/50\n",
            "30/30 [==============================] - 5s 108ms/step - loss: 0.0117 - accuracy: 0.9969 - val_loss: 0.0191 - val_accuracy: 0.9896\n",
            "Epoch 39/50\n",
            "30/30 [==============================] - 5s 117ms/step - loss: 0.0102 - accuracy: 0.9948 - val_loss: 0.0843 - val_accuracy: 0.9792\n",
            "Epoch 40/50\n",
            "30/30 [==============================] - 5s 110ms/step - loss: 0.0055 - accuracy: 1.0000 - val_loss: 0.0854 - val_accuracy: 0.9792\n",
            "Epoch 41/50\n",
            "30/30 [==============================] - 6s 117ms/step - loss: 0.0036 - accuracy: 1.0000 - val_loss: 0.0813 - val_accuracy: 0.9792\n",
            "Epoch 42/50\n",
            "30/30 [==============================] - 5s 108ms/step - loss: 0.0128 - accuracy: 0.9958 - val_loss: 0.1211 - val_accuracy: 0.9792\n",
            "Epoch 43/50\n",
            "30/30 [==============================] - 6s 117ms/step - loss: 0.0071 - accuracy: 0.9990 - val_loss: 0.0820 - val_accuracy: 0.9792\n",
            "Epoch 44/50\n",
            "30/30 [==============================] - 5s 117ms/step - loss: 0.0060 - accuracy: 0.9990 - val_loss: 0.0883 - val_accuracy: 0.9792\n",
            "Epoch 45/50\n",
            "30/30 [==============================] - 6s 116ms/step - loss: 0.0045 - accuracy: 0.9990 - val_loss: 0.0807 - val_accuracy: 0.9792\n",
            "Epoch 46/50\n",
            "30/30 [==============================] - 6s 119ms/step - loss: 0.0071 - accuracy: 0.9979 - val_loss: 0.1114 - val_accuracy: 0.9792\n",
            "Epoch 47/50\n",
            "30/30 [==============================] - 5s 117ms/step - loss: 0.0030 - accuracy: 1.0000 - val_loss: 0.0353 - val_accuracy: 0.9896\n",
            "Epoch 48/50\n",
            "30/30 [==============================] - 5s 107ms/step - loss: 0.0109 - accuracy: 0.9990 - val_loss: 0.1068 - val_accuracy: 0.9792\n",
            "Epoch 49/50\n",
            "30/30 [==============================] - 5s 107ms/step - loss: 0.0072 - accuracy: 0.9979 - val_loss: 0.0712 - val_accuracy: 0.9792\n",
            "Epoch 50/50\n",
            "30/30 [==============================] - 5s 106ms/step - loss: 0.0048 - accuracy: 0.9979 - val_loss: 0.0854 - val_accuracy: 0.9792\n"
          ]
        },
        {
          "output_type": "execute_result",
          "data": {
            "text/plain": [
              "<keras.callbacks.History at 0x7fdbefb1cf90>"
            ]
          },
          "metadata": {},
          "execution_count": 12
        }
      ]
    },
    {
      "cell_type": "markdown",
      "source": [
        "# **Federated Environment**"
      ],
      "metadata": {
        "id": "2-31ffCr-17I"
      }
    },
    {
      "cell_type": "code",
      "source": [
        "def make_federated_data(client_data,client_ids):\n",
        "  return[\n",
        "         preprocess(client_data.create_tf_dataset_for_client(x))\n",
        "         for x in client_ids         \n",
        "  ]"
      ],
      "metadata": {
        "id": "ErDJysWs9JGL"
      },
      "execution_count": null,
      "outputs": []
    },
    {
      "cell_type": "code",
      "source": [
        "def federated_model():\n",
        "  AlexNet_Fed=AlexNet_model()\n",
        "  return tff.learning.from_keras_model(\n",
        "      AlexNet_Fed,\n",
        "      input_spec=dataset_1_train.element_spec,\n",
        "      loss=tf.keras.losses.SparseCategoricalCrossentropy(),\n",
        "      metrics=[tf.keras.metrics.CategoricalAccuracy()]\n",
        "  )"
      ],
      "metadata": {
        "id": "2PyflamP_AeP"
      },
      "execution_count": 13,
      "outputs": []
    },
    {
      "cell_type": "code",
      "source": [
        "iterative_process = tff.learning.build_federated_averaging_process(\n",
        "    federated_model,\n",
        "    client_optimizer_fn=lambda: tf.keras.optimizers.SGD(learning_rate=0.02),\n",
        "    server_optimizer_fn=lambda: tf.keras.optimizers.SGD(learning_rate=1.0))"
      ],
      "metadata": {
        "id": "Onu7NHDeVLV2",
        "outputId": "23807be1-e2ca-463f-8c83-70acb2828c20",
        "colab": {
          "base_uri": "https://localhost:8080/"
        }
      },
      "execution_count": 14,
      "outputs": [
        {
          "output_type": "stream",
          "name": "stdout",
          "text": [
            "WARNING:tensorflow:From /usr/local/lib/python3.7/dist-packages/keras/layers/normalization/batch_normalization.py:532: _colocate_with (from tensorflow.python.framework.ops) is deprecated and will be removed in a future version.\n",
            "Instructions for updating:\n",
            "Colocations handled automatically by placer.\n"
          ]
        },
        {
          "output_type": "stream",
          "name": "stderr",
          "text": [
            "/usr/local/lib/python3.7/dist-packages/tensorflow_federated/python/learning/keras_utils.py:196: UserWarning: Batch Normalization contains non-trainable variables that won't be updated during the training. Consider using Group Normalization instead.\n",
            "  'instead.', UserWarning)\n",
            "/usr/local/lib/python3.7/dist-packages/tensorflow/python/autograph/impl/api.py:371: UserWarning: Batch Normalization contains non-trainable variables that won't be updated during the training. Consider using Group Normalization instead.\n",
            "  return py_builtins.overload_of(f)(*args)\n"
          ]
        }
      ]
    },
    {
      "cell_type": "code",
      "source": [
        "na.apply()\n",
        "state=iterative_process.initialize()\n",
        "NUM_ROUNDS=10\n",
        "for round_num in range(1, NUM_ROUNDS):\n",
        "  state, metrics = iterative_process.next(state, AlexNetPreprocess(federated_dataset_1)\n",
        "  print('round {:2d}, metrics={}'.format(round_num, metrics))"
      ],
      "metadata": {
        "id": "Pq7QrXfUXr7a",
        "outputId": "8a01bebe-1c85-4459-c771-b07fc300e5ed",
        "colab": {
          "base_uri": "https://localhost:8080/",
          "height": 217
        }
      },
      "execution_count": 19,
      "outputs": [
        {
          "output_type": "error",
          "ename": "AttributeError",
          "evalue": "ignored",
          "traceback": [
            "\u001b[0;31m---------------------------------------------------------------------------\u001b[0m",
            "\u001b[0;31mAttributeError\u001b[0m                            Traceback (most recent call last)",
            "\u001b[0;32m<ipython-input-19-115badad5a47>\u001b[0m in \u001b[0;36m<module>\u001b[0;34m()\u001b[0m\n\u001b[1;32m      3\u001b[0m \u001b[0mNUM_ROUNDS\u001b[0m\u001b[0;34m=\u001b[0m\u001b[0;36m10\u001b[0m\u001b[0;34m\u001b[0m\u001b[0;34m\u001b[0m\u001b[0m\n\u001b[1;32m      4\u001b[0m \u001b[0;32mfor\u001b[0m \u001b[0mround_num\u001b[0m \u001b[0;32min\u001b[0m \u001b[0mrange\u001b[0m\u001b[0;34m(\u001b[0m\u001b[0;36m1\u001b[0m\u001b[0;34m,\u001b[0m \u001b[0mNUM_ROUNDS\u001b[0m\u001b[0;34m)\u001b[0m\u001b[0;34m:\u001b[0m\u001b[0;34m\u001b[0m\u001b[0;34m\u001b[0m\u001b[0m\n\u001b[0;32m----> 5\u001b[0;31m   \u001b[0mstate\u001b[0m\u001b[0;34m,\u001b[0m \u001b[0mmetrics\u001b[0m \u001b[0;34m=\u001b[0m \u001b[0miterative_process\u001b[0m\u001b[0;34m.\u001b[0m\u001b[0mnext\u001b[0m\u001b[0;34m(\u001b[0m\u001b[0mstate\u001b[0m\u001b[0;34m,\u001b[0m \u001b[0mfederated_dataset_1\u001b[0m\u001b[0;34m.\u001b[0m\u001b[0mmap\u001b[0m\u001b[0;34m(\u001b[0m\u001b[0mAlexNetPreprocess\u001b[0m\u001b[0;34m)\u001b[0m\u001b[0;34m)\u001b[0m\u001b[0;34m\u001b[0m\u001b[0;34m\u001b[0m\u001b[0m\n\u001b[0m\u001b[1;32m      6\u001b[0m   \u001b[0mprint\u001b[0m\u001b[0;34m(\u001b[0m\u001b[0;34m'round {:2d}, metrics={}'\u001b[0m\u001b[0;34m.\u001b[0m\u001b[0mformat\u001b[0m\u001b[0;34m(\u001b[0m\u001b[0mround_num\u001b[0m\u001b[0;34m,\u001b[0m \u001b[0mmetrics\u001b[0m\u001b[0;34m)\u001b[0m\u001b[0;34m)\u001b[0m\u001b[0;34m\u001b[0m\u001b[0;34m\u001b[0m\u001b[0m\n",
            "\u001b[0;31mAttributeError\u001b[0m: 'list' object has no attribute 'map'"
          ]
        }
      ]
    },
    {
      "cell_type": "markdown",
      "source": [
        "# **Evaluation**"
      ],
      "metadata": {
        "id": "HWOhSbHG-uVn"
      }
    },
    {
      "cell_type": "code",
      "source": [
        "print(dataset_1_train)\n",
        "print(federated_dataset_1)"
      ],
      "metadata": {
        "id": "weeU8sNM-1f7",
        "outputId": "36c16ad6-7665-406b-dd91-8ea842505717",
        "colab": {
          "base_uri": "https://localhost:8080/"
        }
      },
      "execution_count": 23,
      "outputs": [
        {
          "output_type": "stream",
          "name": "stdout",
          "text": [
            "<BatchDataset element_spec=(TensorSpec(shape=(32, 227, 227, 1), dtype=tf.float32, name=None), TensorSpec(shape=(32,), dtype=tf.int32, name=None))>\n",
            "[None, None, None, None, None]\n"
          ]
        }
      ]
    },
    {
      "cell_type": "markdown",
      "source": [
        "# **Example Image**"
      ],
      "metadata": {
        "id": "jj3tXB8KqWFa"
      }
    },
    {
      "cell_type": "code",
      "source": [
        "image = \"/content/COMP530/Dataset1/NormalCases/Normal case (1).jpg\"\n",
        "plotimg=img.imread(image)\n",
        "plot=plt.imshow(plotimg)\n",
        "plt.show()"
      ],
      "metadata": {
        "id": "MVG99V8G09XM"
      },
      "execution_count": null,
      "outputs": []
    }
  ]
}