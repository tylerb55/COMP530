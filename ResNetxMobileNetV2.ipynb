{
  "nbformat": 4,
  "nbformat_minor": 0,
  "metadata": {
    "colab": {
      "name": "AlexNet.ipynb",
      "provenance": [],
      "authorship_tag": "ABX9TyPf04KAVqZNhEYpW3O7UUdW",
      "include_colab_link": true
    },
    "kernelspec": {
      "name": "python3",
      "display_name": "Python 3"
    },
    "language_info": {
      "name": "python"
    },
    "accelerator": "GPU"
  },
  "cells": [
    {
      "cell_type": "markdown",
      "metadata": {
        "id": "view-in-github",
        "colab_type": "text"
      },
      "source": [
        "<a href=\"https://colab.research.google.com/github/tylerb55/COMP530/blob/main/ResNetxMobileNetV2.ipynb\" target=\"_parent\"><img src=\"https://colab.research.google.com/assets/colab-badge.svg\" alt=\"Open In Colab\"/></a>"
      ]
    },
    {
      "cell_type": "code",
      "execution_count": 1,
      "metadata": {
        "id": "nsGFBvoCm86V",
        "outputId": "b50cf2fb-c47e-40c2-da6b-ef467c8df648",
        "colab": {
          "base_uri": "https://localhost:8080/"
        }
      },
      "outputs": [
        {
          "output_type": "stream",
          "name": "stdout",
          "text": [
            "fatal: destination path 'COMP530' already exists and is not an empty directory.\n"
          ]
        }
      ],
      "source": [
        "! git clone https://github.com/tylerb55/COMP530.git"
      ]
    },
    {
      "cell_type": "code",
      "source": [
        "import numpy as np\n",
        "import pandas as pd\n",
        "import collections\n",
        "import matplotlib.image as img\n",
        "import matplotlib.pyplot as plt\n",
        "import tensorflow as tf\n",
        "import tensorflow_hub as hub\n",
        "import tensorflow_datasets as tfds\n",
        "\n",
        "import PIL.Image as Image"
      ],
      "metadata": {
        "id": "gXLBlMwpnK7H"
      },
      "execution_count": 2,
      "outputs": []
    },
    {
      "cell_type": "markdown",
      "source": [
        "# **Split the train test and validation set**"
      ],
      "metadata": {
        "id": "tFQN5RyMow-F"
      }
    },
    {
      "cell_type": "code",
      "source": [
        "def Train_Validation_Test_Set(directory_name):\n",
        "  \"\"\"a function to load the images in a large directory into a tensorflow dataset object\n",
        "  the data is split 80:10:10 in training:validation:test. The dataset is shuffled before splitting\n",
        "  and the images are formatted to 512x512 pixels and grayscale(one color channel and the values range from 0 to 255)\"\"\"\n",
        "  dataset_train=tf.keras.preprocessing.image_dataset_from_directory('/content/COMP530/'+directory_name,\n",
        "                                                                    labels='inferred',\n",
        "                                                                    label_mode='int',\n",
        "                                                                    class_names=['NormalCases','cancercases'],\n",
        "                                                                    image_size=(512,512),\n",
        "                                                                    shuffle=True,\n",
        "                                                                    seed=305,\n",
        "                                                                    validation_split=0.2,\n",
        "                                                                    subset='training',\n",
        "                                                                    batch_size=None\n",
        "                                                                    )\n",
        "\n",
        "  dataset_validation=tf.keras.preprocessing.image_dataset_from_directory('/content/COMP530/'+directory_name,\n",
        "                                                                    labels='inferred',\n",
        "                                                                    label_mode='int',\n",
        "                                                                    class_names=['NormalCases','cancercases'],\n",
        "                                                                    image_size=(512,512),\n",
        "                                                                    shuffle=True,\n",
        "                                                                    seed=305,\n",
        "                                                                    validation_split=0.2,\n",
        "                                                                    subset='validation',\n",
        "                                                                    batch_size=None\n",
        "                                                                    )\n",
        "  \n",
        "  dataset_test=tf.keras.preprocessing.image_dataset_from_directory('/content/COMP530/'+directory_name,\n",
        "                                                                    labels='inferred',\n",
        "                                                                    label_mode='int',\n",
        "                                                                    class_names=['NormalCases','cancercases'],\n",
        "                                                                    image_size=(512,512),\n",
        "                                                                    shuffle=True,\n",
        "                                                                    seed=305,\n",
        "                                                                    validation_split=0.1,\n",
        "                                                                    subset='validation',\n",
        "                                                                    batch_size=None\n",
        "                                                                    )\n",
        "    \n",
        "  dataset_validation=dataset_validation.take(dataset_test.__len__())\n",
        "\n",
        "  return dataset_train,dataset_validation,dataset_test"
      ],
      "metadata": {
        "id": "0xqnACYcnK92"
      },
      "execution_count": 3,
      "outputs": []
    },
    {
      "cell_type": "code",
      "source": [
        "def ResNetPreprocess(image,label):\n",
        "  image = image/255.0\n",
        "  # Resize images from 512x512 to 224x224\n",
        "  image = tf.image.resize(image, (224,224))\n",
        "  return image, label"
      ],
      "metadata": {
        "id": "SSTkz2KVnLAu"
      },
      "execution_count": 4,
      "outputs": []
    },
    {
      "cell_type": "code",
      "source": [
        "def AlexNetPreprocess(image,label):\n",
        "  image = image/255.0\n",
        "  # Resize images from 512x512 to 224x224\n",
        "  image = tf.image.resize(image, (227,227))\n",
        "  return image, label"
      ],
      "metadata": {
        "id": "2ch-DZK_Rhyf"
      },
      "execution_count": 5,
      "outputs": []
    },
    {
      "cell_type": "code",
      "source": [
        "BATCH_SIZE=32\n",
        "\n",
        "dataset_train,dataset_validation, dataset_test=Train_Validation_Test_Set(\"Dataset1\")\n",
        "dataset_train=dataset_train.map(AlexNetPreprocess).batch(batch_size=BATCH_SIZE,drop_remainder=True)\n",
        "dataset_validation=dataset_validation.map(AlexNetPreprocess).batch(batch_size=BATCH_SIZE,drop_remainder=True)\n",
        "dataset_test=dataset_test.map(AlexNetPreprocess).batch(batch_size=BATCH_SIZE,drop_remainder=True)\n",
        "\n",
        "AUTOTUNE = tf.data.AUTOTUNE\n",
        "dataset_train = dataset_train.cache().prefetch(buffer_size=AUTOTUNE)\n",
        "dataset_validation = dataset_validation.cache().prefetch(buffer_size=AUTOTUNE)"
      ],
      "metadata": {
        "id": "dWrOz5jhR5zg",
        "outputId": "e3d93cb3-d3b1-4a1a-f4b3-931d5d64d1fe",
        "colab": {
          "base_uri": "https://localhost:8080/"
        }
      },
      "execution_count": 6,
      "outputs": [
        {
          "output_type": "stream",
          "name": "stdout",
          "text": [
            "Found 1097 files belonging to 2 classes.\n",
            "Using 878 files for training.\n",
            "Found 1097 files belonging to 2 classes.\n",
            "Using 219 files for validation.\n",
            "Found 1097 files belonging to 2 classes.\n",
            "Using 109 files for validation.\n"
          ]
        }
      ]
    },
    {
      "cell_type": "code",
      "source": [
        "BATCH_SIZE=32\n",
        "\n",
        "dataset_train,dataset_validation, dataset_test=Train_Validation_Test_Set(\"Dataset1\")\n",
        "dataset_train=dataset_train.map(ResNetPreprocess).batch(batch_size=BATCH_SIZE,drop_remainder=True)\n",
        "dataset_validation=dataset_validation.map(ResNetPreprocess).batch(batch_size=BATCH_SIZE,drop_remainder=True)\n",
        "dataset_test=dataset_test.map(ResNetPreprocess).batch(batch_size=BATCH_SIZE,drop_remainder=True)\n",
        "\n",
        "AUTOTUNE = tf.data.AUTOTUNE\n",
        "dataset_train = dataset_train.cache().prefetch(buffer_size=AUTOTUNE)\n",
        "dataset_validation = dataset_validation.cache().prefetch(buffer_size=AUTOTUNE)"
      ],
      "metadata": {
        "id": "sasC3SMInLDm",
        "colab": {
          "base_uri": "https://localhost:8080/"
        },
        "outputId": "cb6fec71-9da1-410e-ca9a-f8f95aa96a08"
      },
      "execution_count": 7,
      "outputs": [
        {
          "output_type": "stream",
          "name": "stdout",
          "text": [
            "Found 1097 files belonging to 2 classes.\n",
            "Using 878 files for training.\n",
            "Found 1097 files belonging to 2 classes.\n",
            "Using 219 files for validation.\n",
            "Found 1097 files belonging to 2 classes.\n",
            "Using 109 files for validation.\n"
          ]
        }
      ]
    },
    {
      "cell_type": "markdown",
      "source": [
        "# **mobilenet v2**"
      ],
      "metadata": {
        "id": "DIIXlp_N6oY1"
      }
    },
    {
      "cell_type": "code",
      "source": [
        "mobilenet_v2 = \"https://tfhub.dev/google/tf2-preview/mobilenet_v2/feature_vector/4\"\n",
        "feature_extractor_model = mobilenet_v2\n",
        "\n",
        "feature_extractor_layer = hub.KerasLayer(\n",
        "    feature_extractor_model,\n",
        "    input_shape=(224, 224, 3),\n",
        "    trainable=False)\n",
        "\n",
        "num_classes = 1\n",
        "\n",
        "mobilenet = tf.keras.Sequential([\n",
        "  feature_extractor_layer,\n",
        "  tf.keras.layers.Dense(num_classes)\n",
        "])\n",
        "\n",
        "mobilenet.summary()"
      ],
      "metadata": {
        "colab": {
          "base_uri": "https://localhost:8080/"
        },
        "id": "W8uDHmpND7u5",
        "outputId": "082487f3-db7b-4441-e756-0923d7e03789"
      },
      "execution_count": 8,
      "outputs": [
        {
          "output_type": "stream",
          "name": "stdout",
          "text": [
            "Model: \"sequential\"\n",
            "_________________________________________________________________\n",
            " Layer (type)                Output Shape              Param #   \n",
            "=================================================================\n",
            " keras_layer (KerasLayer)    (None, 1280)              2257984   \n",
            "                                                                 \n",
            " dense (Dense)               (None, 1)                 1281      \n",
            "                                                                 \n",
            "=================================================================\n",
            "Total params: 2,259,265\n",
            "Trainable params: 1,281\n",
            "Non-trainable params: 2,257,984\n",
            "_________________________________________________________________\n"
          ]
        }
      ]
    },
    {
      "cell_type": "code",
      "source": [
        "mobilenet.compile(\n",
        "  optimizer=tf.keras.optimizers.Adam(),\n",
        "  loss=tf.keras.losses.BinaryCrossentropy(),\n",
        "  metrics=['acc'])\n",
        "\n",
        "NUM_EPOCHS = 30\n",
        "\n",
        "history = mobilenet.fit(dataset_train,\n",
        "                    validation_data=dataset_validation,\n",
        "                    epochs=NUM_EPOCHS)"
      ],
      "metadata": {
        "colab": {
          "base_uri": "https://localhost:8080/"
        },
        "id": "Nayf5sJpGXpJ",
        "outputId": "5844840c-db30-45f0-ccdf-ed43cd8b0679"
      },
      "execution_count": 9,
      "outputs": [
        {
          "output_type": "stream",
          "name": "stdout",
          "text": [
            "Epoch 1/30\n",
            "27/27 [==============================] - 25s 124ms/step - loss: 5.5045 - acc: 0.5197 - val_loss: 1.7172 - val_acc: 0.7812\n",
            "Epoch 2/30\n",
            "27/27 [==============================] - 1s 29ms/step - loss: 1.6858 - acc: 0.7812 - val_loss: 1.2613 - val_acc: 0.8021\n",
            "Epoch 3/30\n",
            "27/27 [==============================] - 1s 28ms/step - loss: 1.5074 - acc: 0.7627 - val_loss: 1.6514 - val_acc: 0.7083\n",
            "Epoch 4/30\n",
            "27/27 [==============================] - 1s 28ms/step - loss: 1.4366 - acc: 0.7882 - val_loss: 1.7260 - val_acc: 0.8125\n",
            "Epoch 5/30\n",
            "27/27 [==============================] - 1s 28ms/step - loss: 1.3157 - acc: 0.8310 - val_loss: 1.2079 - val_acc: 0.7917\n",
            "Epoch 6/30\n",
            "27/27 [==============================] - 1s 28ms/step - loss: 1.1652 - acc: 0.8368 - val_loss: 1.1919 - val_acc: 0.8021\n",
            "Epoch 7/30\n",
            "27/27 [==============================] - 1s 28ms/step - loss: 1.0864 - acc: 0.8438 - val_loss: 1.2684 - val_acc: 0.8125\n",
            "Epoch 8/30\n",
            "27/27 [==============================] - 1s 28ms/step - loss: 1.1343 - acc: 0.8715 - val_loss: 1.2211 - val_acc: 0.8125\n",
            "Epoch 9/30\n",
            "27/27 [==============================] - 1s 28ms/step - loss: 1.2657 - acc: 0.8287 - val_loss: 1.1784 - val_acc: 0.8229\n",
            "Epoch 10/30\n",
            "27/27 [==============================] - 1s 29ms/step - loss: 1.0115 - acc: 0.8600 - val_loss: 1.7838 - val_acc: 0.8125\n",
            "Epoch 11/30\n",
            "27/27 [==============================] - 1s 28ms/step - loss: 1.5441 - acc: 0.8380 - val_loss: 5.1930 - val_acc: 0.5625\n",
            "Epoch 12/30\n",
            "27/27 [==============================] - 1s 28ms/step - loss: 4.7935 - acc: 0.5903 - val_loss: 2.5538 - val_acc: 0.7708\n",
            "Epoch 13/30\n",
            "27/27 [==============================] - 1s 28ms/step - loss: 1.9753 - acc: 0.8368 - val_loss: 2.0357 - val_acc: 0.7917\n",
            "Epoch 14/30\n",
            "27/27 [==============================] - 1s 28ms/step - loss: 2.2444 - acc: 0.8044 - val_loss: 4.6119 - val_acc: 0.6146\n",
            "Epoch 15/30\n",
            "27/27 [==============================] - 1s 28ms/step - loss: 5.2372 - acc: 0.6296 - val_loss: 5.0690 - val_acc: 0.6042\n",
            "Epoch 16/30\n",
            "27/27 [==============================] - 1s 32ms/step - loss: 4.5592 - acc: 0.6586 - val_loss: 4.0045 - val_acc: 0.7188\n",
            "Epoch 17/30\n",
            "27/27 [==============================] - 1s 37ms/step - loss: 2.1902 - acc: 0.7778 - val_loss: 2.2132 - val_acc: 0.8125\n",
            "Epoch 18/30\n",
            "27/27 [==============================] - 1s 37ms/step - loss: 1.8085 - acc: 0.8495 - val_loss: 5.7159 - val_acc: 0.5938\n",
            "Epoch 19/30\n",
            "27/27 [==============================] - 1s 38ms/step - loss: 8.6489 - acc: 0.4109 - val_loss: 9.3192 - val_acc: 0.3958\n",
            "Epoch 20/30\n",
            "27/27 [==============================] - 1s 37ms/step - loss: 8.8956 - acc: 0.4016 - val_loss: 8.8737 - val_acc: 0.4062\n",
            "Epoch 21/30\n",
            "27/27 [==============================] - 1s 42ms/step - loss: 8.1643 - acc: 0.4595 - val_loss: 7.6355 - val_acc: 0.4583\n",
            "Epoch 22/30\n",
            "27/27 [==============================] - 1s 36ms/step - loss: 7.3270 - acc: 0.4965 - val_loss: 6.6610 - val_acc: 0.5208\n",
            "Epoch 23/30\n",
            "27/27 [==============================] - 1s 38ms/step - loss: 5.6217 - acc: 0.6134 - val_loss: 4.8733 - val_acc: 0.6562\n",
            "Epoch 24/30\n",
            "27/27 [==============================] - 1s 38ms/step - loss: 4.0264 - acc: 0.7106 - val_loss: 3.7890 - val_acc: 0.7083\n",
            "Epoch 25/30\n",
            "27/27 [==============================] - 1s 40ms/step - loss: 3.8260 - acc: 0.7326 - val_loss: 3.6085 - val_acc: 0.7292\n",
            "Epoch 26/30\n",
            "27/27 [==============================] - 1s 35ms/step - loss: 3.7137 - acc: 0.7465 - val_loss: 3.4386 - val_acc: 0.7396\n",
            "Epoch 27/30\n",
            "27/27 [==============================] - 1s 37ms/step - loss: 3.6085 - acc: 0.7488 - val_loss: 3.4172 - val_acc: 0.7604\n",
            "Epoch 28/30\n",
            "27/27 [==============================] - 1s 37ms/step - loss: 3.3861 - acc: 0.7558 - val_loss: 3.5411 - val_acc: 0.7708\n",
            "Epoch 29/30\n",
            "27/27 [==============================] - 1s 40ms/step - loss: 3.0250 - acc: 0.7720 - val_loss: 3.4004 - val_acc: 0.7604\n",
            "Epoch 30/30\n",
            "27/27 [==============================] - 1s 35ms/step - loss: 2.9365 - acc: 0.7870 - val_loss: 3.2651 - val_acc: 0.7604\n"
          ]
        }
      ]
    },
    {
      "cell_type": "code",
      "source": [
        "# summarize history for accuracy\n",
        "plt.plot(history.history['acc'])\n",
        "plt.plot(history.history['val_acc'])\n",
        "plt.title('training accuracy')\n",
        "plt.ylabel('accuracy')\n",
        "plt.xlabel('epoch')\n",
        "plt.legend(['train', 'validation'], loc='upper left')\n",
        "plt.show()\n",
        "# summarize history for loss\n",
        "plt.plot(history.history['loss'])\n",
        "plt.plot(history.history['val_loss'])\n",
        "plt.title('training loss')\n",
        "plt.ylabel('loss')\n",
        "plt.xlabel('epoch')\n",
        "plt.legend(['train', 'validation'], loc='upper left')\n",
        "plt.show()"
      ],
      "metadata": {
        "colab": {
          "base_uri": "https://localhost:8080/",
          "height": 573
        },
        "id": "wznzxN5RLaQo",
        "outputId": "b1bec417-3429-491e-87eb-f8f71c70f3d7"
      },
      "execution_count": 10,
      "outputs": [
        {
          "output_type": "display_data",
          "data": {
            "text/plain": [
              "<Figure size 432x288 with 1 Axes>"
            ],
            "image/png": "[encoded data removed]"
          },
          "metadata": {
            "needs_background": "light"
          }
        },
        {
          "output_type": "display_data",
          "data": {
            "text/plain": [
              "<Figure size 432x288 with 1 Axes>"
            ],
            "image/png": "[encoded data removed]"
          },
          "metadata": {
            "needs_background": "light"
          }
        }
      ]
    },
    {
      "cell_type": "markdown",
      "source": [
        "# **Resnet 50**"
      ],
      "metadata": {
        "id": "Ducc8ja36SJO"
      }
    },
    {
      "cell_type": "code",
      "source": [
        "resnet = \"https://tfhub.dev/tensorflow/resnet_50/feature_vector/1\"\n",
        "feature_extractor_model = resnet\n",
        "\n",
        "feature_extractor_layer = hub.KerasLayer(\n",
        "    feature_extractor_model,\n",
        "    input_shape=(224, 224, 3),\n",
        "    trainable=False)\n",
        "\n",
        "num_classes = 1\n",
        "\n",
        "resnet50 = tf.keras.Sequential([\n",
        "  feature_extractor_layer,\n",
        "  tf.keras.layers.Dense(num_classes)\n",
        "])\n",
        "\n",
        "resnet50.summary()\n"
      ],
      "metadata": {
        "id": "bxJ7eTCz3wbW",
        "outputId": "ad4e8003-e8ec-41fb-8505-fc45fcdbfcba",
        "colab": {
          "base_uri": "https://localhost:8080/"
        }
      },
      "execution_count": 11,
      "outputs": [
        {
          "output_type": "stream",
          "name": "stdout",
          "text": [
            "Model: \"sequential_1\"\n",
            "_________________________________________________________________\n",
            " Layer (type)                Output Shape              Param #   \n",
            "=================================================================\n",
            " keras_layer_1 (KerasLayer)  (None, 2048)              23561152  \n",
            "                                                                 \n",
            " dense_1 (Dense)             (None, 1)                 2049      \n",
            "                                                                 \n",
            "=================================================================\n",
            "Total params: 23,563,201\n",
            "Trainable params: 2,049\n",
            "Non-trainable params: 23,561,152\n",
            "_________________________________________________________________\n"
          ]
        }
      ]
    },
    {
      "cell_type": "code",
      "source": [
        "resnet50.compile(\n",
        "  optimizer=tf.keras.optimizers.Adam(),\n",
        "  loss=tf.keras.losses.BinaryCrossentropy(),\n",
        "  metrics=['acc'])\n",
        "\n",
        "NUM_EPOCHS = 10\n",
        "\n",
        "history = resnet50.fit(dataset_train,\n",
        "                    validation_data=dataset_validation,\n",
        "                    epochs=NUM_EPOCHS)"
      ],
      "metadata": {
        "id": "Tav2GYVI5lZ_",
        "outputId": "d5cb0812-1e25-4626-af17-14279f8a5b12",
        "colab": {
          "base_uri": "https://localhost:8080/"
        }
      },
      "execution_count": 12,
      "outputs": [
        {
          "output_type": "stream",
          "name": "stdout",
          "text": [
            "Epoch 1/10\n",
            "27/27 [==============================] - 10s 98ms/step - loss: 3.0206 - acc: 0.6840 - val_loss: 2.7272 - val_acc: 0.7812\n",
            "Epoch 2/10\n",
            "27/27 [==============================] - 2s 66ms/step - loss: 2.0654 - acc: 0.7593 - val_loss: 1.8332 - val_acc: 0.7812\n",
            "Epoch 3/10\n",
            "27/27 [==============================] - 2s 65ms/step - loss: 1.9715 - acc: 0.8056 - val_loss: 2.6704 - val_acc: 0.7708\n",
            "Epoch 4/10\n",
            "27/27 [==============================] - 2s 66ms/step - loss: 1.6054 - acc: 0.8576 - val_loss: 1.8816 - val_acc: 0.8021\n",
            "Epoch 5/10\n",
            "27/27 [==============================] - 2s 66ms/step - loss: 3.2365 - acc: 0.7465 - val_loss: 2.2149 - val_acc: 0.7917\n",
            "Epoch 6/10\n",
            "27/27 [==============================] - 2s 65ms/step - loss: 1.4260 - acc: 0.8634 - val_loss: 2.0505 - val_acc: 0.8021\n",
            "Epoch 7/10\n",
            "27/27 [==============================] - 2s 65ms/step - loss: 1.5124 - acc: 0.8727 - val_loss: 1.8557 - val_acc: 0.8333\n",
            "Epoch 8/10\n",
            "27/27 [==============================] - 2s 65ms/step - loss: 1.4587 - acc: 0.8819 - val_loss: 1.7103 - val_acc: 0.8438\n",
            "Epoch 9/10\n",
            "27/27 [==============================] - 2s 65ms/step - loss: 1.4290 - acc: 0.8889 - val_loss: 1.6969 - val_acc: 0.8438\n",
            "Epoch 10/10\n",
            "27/27 [==============================] - 2s 66ms/step - loss: 2.5616 - acc: 0.7963 - val_loss: 5.9847 - val_acc: 0.5938\n"
          ]
        }
      ]
    },
    {
      "cell_type": "code",
      "source": [
        "# summarize history for accuracy\n",
        "plt.plot(history.history['acc'])\n",
        "plt.plot(history.history['val_acc'])\n",
        "plt.title('training accuracy')\n",
        "plt.ylabel('accuracy')\n",
        "plt.xlabel('epoch')\n",
        "plt.legend(['train', 'validation'], loc='upper left')\n",
        "plt.show()\n",
        "# summarize history for loss\n",
        "plt.plot(history.history['loss'])\n",
        "plt.plot(history.history['val_loss'])\n",
        "plt.title('training loss')\n",
        "plt.ylabel('loss')\n",
        "plt.xlabel('epoch')\n",
        "plt.legend(['train', 'validation'], loc='upper left')\n",
        "plt.show()"
      ],
      "metadata": {
        "id": "6SyGrKsl7cBN",
        "outputId": "35e6ae80-778c-41cf-cfb6-ba9a8594ad35",
        "colab": {
          "base_uri": "https://localhost:8080/",
          "height": 573
        }
      },
      "execution_count": 13,
      "outputs": [
        {
          "output_type": "display_data",
          "data": {
            "text/plain": [
              "<Figure size 432x288 with 1 Axes>"
            ],
            "image/png": "[encoded data removed]"
          },
          "metadata": {
            "needs_background": "light"
          }
        },
        {
          "output_type": "display_data",
          "data": {
            "text/plain": [
              "<Figure size 432x288 with 1 Axes>"
            ],
            "image/png": "[encoded data removed]"
          },
          "metadata": {
            "needs_background": "light"
          }
        }
      ]
    },
    {
      "cell_type": "markdown",
      "source": [
        "# **Alexnet**"
      ],
      "metadata": {
        "id": "undZfKvr8DGt"
      }
    },
    {
      "cell_type": "markdown",
      "source": [
        "Test the model on the test set and evaluate performance"
      ],
      "metadata": {
        "id": "b-lIum5Bo7SO"
      }
    },
    {
      "cell_type": "code",
      "source": [
        "resnet50.evaluate(dataset_test)"
      ],
      "metadata": {
        "id": "ZUrHIr-3owd1",
        "colab": {
          "base_uri": "https://localhost:8080/"
        },
        "outputId": "6a057c57-dd4b-4775-b1b6-41ddad382611"
      },
      "execution_count": 14,
      "outputs": [
        {
          "output_type": "stream",
          "name": "stdout",
          "text": [
            "3/3 [==============================] - 1s 62ms/step - loss: 5.2430 - acc: 0.6146\n"
          ]
        },
        {
          "output_type": "execute_result",
          "data": {
            "text/plain": [
              "[5.2430338859558105, 0.6145833134651184]"
            ]
          },
          "metadata": {},
          "execution_count": 14
        }
      ]
    },
    {
      "cell_type": "code",
      "source": [
        "mobilenet.evaluate(dataset_test)"
      ],
      "metadata": {
        "id": "0LFqZgM97O_d",
        "outputId": "90b8fb74-76d9-4e6d-af95-2fc95eefd767",
        "colab": {
          "base_uri": "https://localhost:8080/"
        }
      },
      "execution_count": 15,
      "outputs": [
        {
          "output_type": "stream",
          "name": "stdout",
          "text": [
            "3/3 [==============================] - 1s 43ms/step - loss: 2.6697 - acc: 0.8125\n"
          ]
        },
        {
          "output_type": "execute_result",
          "data": {
            "text/plain": [
              "[2.6696579456329346, 0.8125]"
            ]
          },
          "metadata": {},
          "execution_count": 15
        }
      ]
    }
  ]
}